{
 "cells": [
  {
   "cell_type": "markdown",
   "id": "82516c36-e16e-44a8-bf0a-b24ead30e0c6",
   "metadata": {},
   "source": [
    "## 목차\n",
    "\n",
    "- [Boolean 자료형]()\n",
    "- [비교 연산자]()\n",
    "- [논리 연산자]()\n",
    "    - [not]()\n",
    "    - [and]()\n",
    "    - [or]()\n",
    "- [if 조건문]()\n",
    "- [if~else와 elif 구문]()\n",
    "    - [else]()\n",
    "    - [elif]()\n",
    "- [False로 변환되는 값]()\n",
    "- [pass 키워드]()\n",
    "    - [raise NotImplementError]()\n",
    "- [삼항 연산자]()\n",
    "\n",
    "# Boolean 자료형\n",
    "\n",
    "- Boolean (불린, 불/Bool)\n",
    "- True(참) 또는 False(거짓) 값만 가질 수 있음\n",
    "\n",
    "# 비교 연산자\n",
    "\n",
    "|연산자|설명|\n",
    "|---|---|\n",
    "|`==`|같다|\n",
    "|`!=`|다르다|\n",
    "|`<`|작다|\n",
    "|`>`|크다|\n",
    "|`<=`|작거나 같다|\n",
    "|`>=`|크거나 같다|\n",
    "\n",
    "- 범위 비교도 가능"
   ]
  },
  {
   "cell_type": "code",
   "execution_count": 1,
   "id": "f8c391f9-48b8-4b86-9e4f-c3306f9368a9",
   "metadata": {},
   "outputs": [
    {
     "data": {
      "text/plain": [
       "True"
      ]
     },
     "execution_count": 1,
     "metadata": {},
     "output_type": "execute_result"
    }
   ],
   "source": [
    "x = 25\n",
    "10 < x < 30"
   ]
  },
  {
   "cell_type": "code",
   "execution_count": 2,
   "id": "defc4403-8087-4b76-b1ea-9ca1cf5dece8",
   "metadata": {},
   "outputs": [
    {
     "data": {
      "text/plain": [
       "False"
      ]
     },
     "execution_count": 2,
     "metadata": {},
     "output_type": "execute_result"
    }
   ],
   "source": [
    "40 < x < 60"
   ]
  },
  {
   "cell_type": "markdown",
   "id": "b38956a5-888d-4d74-bed6-60e720c82ee0",
   "metadata": {
    "tags": []
   },
   "source": [
    "# 논리 연산자\n",
    "\n",
    "|연산자|의미|설명|\n",
    "|:---:|:---:|---|\n",
    "|`not`|아니다|불을 반대로 전환한다.|\n",
    "|`and`|그리고|피연산자 두 개 모두 참일 때 True를 출력하며, 그 외는 모두 False를 출력한다|\n",
    "|`or`|또는|피연산자 두 개 중에 하나만 참이라도 True를 출력하며, 두 개가 모두 거짓일 때만 False를 출력한다|\n",
    "\n",
    "## `not`"
   ]
  },
  {
   "cell_type": "code",
   "execution_count": 3,
   "id": "835eb42a-03de-4cf1-b49a-b46346f9b9a0",
   "metadata": {},
   "outputs": [
    {
     "data": {
      "text/plain": [
       "False"
      ]
     },
     "execution_count": 3,
     "metadata": {},
     "output_type": "execute_result"
    }
   ],
   "source": [
    "not 20 < 30"
   ]
  },
  {
   "cell_type": "code",
   "execution_count": 4,
   "id": "99601ae1-a7c2-400b-b407-c0f3ebc03fdc",
   "metadata": {},
   "outputs": [
    {
     "data": {
      "text/plain": [
       "True"
      ]
     },
     "execution_count": 4,
     "metadata": {},
     "output_type": "execute_result"
    }
   ],
   "source": [
    "not 20 > 30"
   ]
  },
  {
   "cell_type": "markdown",
   "id": "23802442-8766-4b00-bc42-45724f25ac74",
   "metadata": {},
   "source": [
    "## `and`"
   ]
  },
  {
   "cell_type": "code",
   "execution_count": 5,
   "id": "14cd8761-ee76-4f22-b8b0-cbf8e6b293c4",
   "metadata": {},
   "outputs": [
    {
     "data": {
      "text/plain": [
       "False"
      ]
     },
     "execution_count": 5,
     "metadata": {},
     "output_type": "execute_result"
    }
   ],
   "source": [
    "2 == 3 and 2 != 3"
   ]
  },
  {
   "cell_type": "code",
   "execution_count": 6,
   "id": "606e3d2d-9019-4d25-a831-50c01bb217db",
   "metadata": {},
   "outputs": [
    {
     "data": {
      "text/plain": [
       "True"
      ]
     },
     "execution_count": 6,
     "metadata": {},
     "output_type": "execute_result"
    }
   ],
   "source": [
    "2 == 2 and 3 == 3"
   ]
  },
  {
   "cell_type": "markdown",
   "id": "b9d49def-0d1c-475a-9b2f-f43b3ab82647",
   "metadata": {},
   "source": [
    "## `or`"
   ]
  },
  {
   "cell_type": "code",
   "execution_count": 7,
   "id": "d7a18852-65d7-472d-8811-dc6908481f78",
   "metadata": {},
   "outputs": [
    {
     "data": {
      "text/plain": [
       "True"
      ]
     },
     "execution_count": 7,
     "metadata": {},
     "output_type": "execute_result"
    }
   ],
   "source": [
    "2 == 3 or 2 != 3"
   ]
  },
  {
   "cell_type": "code",
   "execution_count": 8,
   "id": "b97b4a40-579e-49d4-8d27-b53532e94fec",
   "metadata": {},
   "outputs": [
    {
     "data": {
      "text/plain": [
       "False"
      ]
     },
     "execution_count": 8,
     "metadata": {},
     "output_type": "execute_result"
    }
   ],
   "source": [
    "2 != 2 or 3 != 3"
   ]
  },
  {
   "cell_type": "code",
   "execution_count": 9,
   "id": "0dbfe615-b7ae-437c-8505-ca65435ef898",
   "metadata": {},
   "outputs": [
    {
     "data": {
      "text/plain": [
       "True"
      ]
     },
     "execution_count": 9,
     "metadata": {},
     "output_type": "execute_result"
    }
   ],
   "source": [
    "2 < 3 or print('True 입니다')"
   ]
  },
  {
   "cell_type": "code",
   "execution_count": 10,
   "id": "789deca5-d527-410b-a9ae-6995f646b29f",
   "metadata": {},
   "outputs": [
    {
     "name": "stdout",
     "output_type": "stream",
     "text": [
      "False 입니다\n"
     ]
    }
   ],
   "source": [
    "2 > 3 or print('False 입니다')"
   ]
  },
  {
   "cell_type": "markdown",
   "id": "f640041c-705f-4760-88bf-e615734cd27d",
   "metadata": {},
   "source": [
    "# if 조건문\n",
    "\n",
    "- 조건에 따라 코드를 실행하거나, 실행하지 않게 만들고 싶을 때 사용하는 구문\n",
    "\n",
    "        if문 작성법:\n",
    "        if [조건식] : <-- if문은 조건식 작성 후 : 를 붙여야한다\n",
    "            [참일때 실행 코드] <-- if문의 조건식이 참일때 실행되며, 4칸 들여쓰기 해야한다"
   ]
  },
  {
   "cell_type": "code",
   "execution_count": 11,
   "id": "0e4163ed-e6e4-4e8f-98b0-d2b294fd8fb9",
   "metadata": {},
   "outputs": [
    {
     "name": "stdout",
     "output_type": "stream",
     "text": [
      "hello\n",
      "done\n"
     ]
    }
   ],
   "source": [
    "if True:\n",
    "    print('hello')\n",
    "print('done')"
   ]
  },
  {
   "cell_type": "code",
   "execution_count": 12,
   "id": "c596d516-bfd8-4de9-b6b4-9d1a4669e566",
   "metadata": {},
   "outputs": [
    {
     "name": "stdout",
     "output_type": "stream",
     "text": [
      "done\n"
     ]
    }
   ],
   "source": [
    "if False:\n",
    "    print('hello')\n",
    "print('done')"
   ]
  },
  {
   "cell_type": "markdown",
   "id": "f81a7267-1a7d-44ef-8bab-5cc76e62b8ac",
   "metadata": {},
   "source": [
    "- `datatime` 모듈을 활요한 예제 코드"
   ]
  },
  {
   "cell_type": "code",
   "execution_count": 13,
   "id": "f6eb674b-4f41-4795-8eb1-8ac7685ce7e3",
   "metadata": {},
   "outputs": [
    {
     "data": {
      "text/plain": [
       "datetime.datetime(2021, 7, 17, 23, 21, 38, 655266)"
      ]
     },
     "execution_count": 13,
     "metadata": {},
     "output_type": "execute_result"
    }
   ],
   "source": [
    "# 날짜/시간과 관련된 기능을 가져온다\n",
    "import datetime\n",
    "\n",
    "# 현재 날짜/시간 구하기\n",
    "datetime.datetime.now()"
   ]
  },
  {
   "cell_type": "code",
   "execution_count": 14,
   "id": "f5ffd561-98e1-44ae-b102-307bf3729ae7",
   "metadata": {},
   "outputs": [
    {
     "name": "stdout",
     "output_type": "stream",
     "text": [
      "2021-07-17 23:21:38.681195\n"
     ]
    }
   ],
   "source": [
    "# 변수에 담기\n",
    "now = datetime.datetime.now()\n",
    "print(now)"
   ]
  },
  {
   "cell_type": "code",
   "execution_count": 15,
   "id": "a9007480-f643-4b3d-8f67-6d90f8402b3e",
   "metadata": {},
   "outputs": [
    {
     "name": "stdout",
     "output_type": "stream",
     "text": [
      "2021년 7월 17일 23시 21분 38초\n"
     ]
    }
   ],
   "source": [
    "print(\"{}년 {}월 {}일 {}시 {}분 {}초\".format(now.year, now.month, now.day, now.hour, now.minute, now.second))"
   ]
  },
  {
   "cell_type": "code",
   "execution_count": 16,
   "id": "f812f96c-c886-4b06-b5b8-c2a7ea57ac60",
   "metadata": {},
   "outputs": [
    {
     "name": "stdout",
     "output_type": "stream",
     "text": [
      "현재 시각은 23시로 오후입니다\n"
     ]
    }
   ],
   "source": [
    "# 오전 / 오후 구분하기\n",
    "if now.hour < 12:\n",
    "    print(\"현재 시각은 {}시로 오전입니다\".format(now.hour))\n",
    "if now.hour >= 12:\n",
    "    print(\"현재 시각은 {}시로 오후입니다\".format(now.hour))"
   ]
  },
  {
   "cell_type": "markdown",
   "id": "6baa0714-85ab-4a61-bee3-0e663edb8344",
   "metadata": {},
   "source": [
    "# if~else와 elif 구문\n",
    "\n",
    "## else\n",
    "        \n",
    "        if [조건]:\n",
    "            [조건이 참일 때 실행 코드]\n",
    "        else:\n",
    "            [앞의 조건을 제외한 나머지 경우일때 실행 코드]\n",
    "\n"
   ]
  },
  {
   "cell_type": "code",
   "execution_count": 17,
   "id": "c729eaab-151d-41eb-ac6f-3b8cf70cade2",
   "metadata": {},
   "outputs": [
    {
     "name": "stdout",
     "output_type": "stream",
     "text": [
      "2<3: True\n"
     ]
    }
   ],
   "source": [
    "if 2 < 3:\n",
    "    print(\"2<3:\", True)\n",
    "else:\n",
    "    print(\"else\")"
   ]
  },
  {
   "cell_type": "code",
   "execution_count": 18,
   "id": "a756c051-68a4-49e7-bc07-15efb07eda7a",
   "metadata": {},
   "outputs": [
    {
     "name": "stdout",
     "output_type": "stream",
     "text": [
      "else\n"
     ]
    }
   ],
   "source": [
    "if 2 > 3:\n",
    "    print(\"2<3:\", True)\n",
    "else:\n",
    "    print(\"else\")"
   ]
  },
  {
   "cell_type": "markdown",
   "id": "fcfd2339-555d-4d28-8c2c-fc7aee422bd5",
   "metadata": {},
   "source": [
    "## elif\n",
    "\n",
    "        if [조건]:\n",
    "            [조건이 참일 때 실행 코드]\n",
    "        elif [조건]:\n",
    "            [앞의 조건이 거짓이고 현재 elif의 조건이 참일 떄 실행 코드]\n",
    "        ...\n",
    "        elif [저건]: \n",
    "        ...\n",
    "        else:\n",
    "            [앞의 조건을 제외한 나머지 경우일때 실행 코드]"
   ]
  },
  {
   "cell_type": "code",
   "execution_count": 19,
   "id": "09a1e5d4-3950-43b9-b75a-bdc6772db060",
   "metadata": {},
   "outputs": [
    {
     "name": "stdout",
     "output_type": "stream",
     "text": [
      "elif 2<3 True\n"
     ]
    }
   ],
   "source": [
    "if 2 > 3:\n",
    "    print(\"if 2>3:\", True)\n",
    "elif 2 < 3:\n",
    "    print(\"elif 2<3\", True)\n",
    "else:\n",
    "    print(\"else\")"
   ]
  },
  {
   "cell_type": "markdown",
   "id": "845c1c1b-ec9d-4090-9797-003863209d75",
   "metadata": {},
   "source": [
    "# False로 변환되는 값\n",
    "\n",
    "- 0 -> False\n",
    "- \"\" -> False\n"
   ]
  },
  {
   "cell_type": "code",
   "execution_count": 20,
   "id": "14cb2f74-53c7-4b4e-b942-76dd757e07f5",
   "metadata": {},
   "outputs": [
    {
     "name": "stdout",
     "output_type": "stream",
     "text": [
      "False\n"
     ]
    }
   ],
   "source": [
    "if 0:\n",
    "    print(True)\n",
    "else:\n",
    "    print(False)"
   ]
  },
  {
   "cell_type": "code",
   "execution_count": 21,
   "id": "4b2a6559-dfed-4695-846e-b7cd097dbe75",
   "metadata": {},
   "outputs": [
    {
     "name": "stdout",
     "output_type": "stream",
     "text": [
      "False\n"
     ]
    }
   ],
   "source": [
    "if \"\":\n",
    "    print(True)\n",
    "else:\n",
    "    print(False)"
   ]
  },
  {
   "cell_type": "markdown",
   "id": "a3f62f73-cd30-4525-873c-fda6ad42c997",
   "metadata": {},
   "source": [
    "# pass 키워드\n",
    "\n",
    "- 파이썬은 다른 프로그래밍 언어와 다르게 if문 다음 들여쓰기 후 실행코드 작성을 해야 if 구문이 성립되기 때문에 if문 사이에 어떤 내용이라도 넣어줘야한다\n",
    "- `0`을 넣어도 되지만 가독성이 떨어지기 때문에 `pass`를 사용하면 좋다\n",
    "- 만일 if문 사이에 아무 내용이 없다면 '들여쓰기가 잘못되어 있다'라는 의미의 `IdentationError` 예외가 발생한다."
   ]
  },
  {
   "cell_type": "code",
   "execution_count": 22,
   "id": "4bbe2054-08cd-4d4a-b823-dd5d2b0972da",
   "metadata": {},
   "outputs": [
    {
     "ename": "IndentationError",
     "evalue": "expected an indented block (Temp/ipykernel_29004/2405201019.py, line 3)",
     "output_type": "error",
     "traceback": [
      "\u001b[1;36m  File \u001b[1;32m\"C:\\Users\\dlals\\AppData\\Local\\Temp/ipykernel_29004/2405201019.py\"\u001b[1;36m, line \u001b[1;32m3\u001b[0m\n\u001b[1;33m    else:\u001b[0m\n\u001b[1;37m    ^\u001b[0m\n\u001b[1;31mIndentationError\u001b[0m\u001b[1;31m:\u001b[0m expected an indented block\n"
     ]
    }
   ],
   "source": [
    "# Error\n",
    "if 0:\n",
    "else:"
   ]
  },
  {
   "cell_type": "code",
   "execution_count": null,
   "id": "08321728-3af9-49eb-86b9-8892f7235335",
   "metadata": {},
   "outputs": [],
   "source": [
    "if 0:\n",
    "    # 아직 미구현 상태입니다.\n",
    "    pass\n",
    "else:\n",
    "    # 아직 미구현 상태입니다.\n",
    "    pass\n",
    "print(\"done\")"
   ]
  },
  {
   "cell_type": "markdown",
   "id": "09aa4ef7-1c6d-4780-b6dc-6f7eaba5a3d2",
   "metadata": {},
   "source": [
    "## raise NotImplementError\n",
    "\n",
    "- `raise` 키워드와 미구현 상태를 표현하는 `NotImplementedError` 를 조합해서 오류를 강제로 발생시킬 수 있다."
   ]
  },
  {
   "cell_type": "code",
   "execution_count": 23,
   "id": "9352a4c8-a9c2-493f-942d-30cde6250273",
   "metadata": {},
   "outputs": [
    {
     "ename": "NotImplementedError",
     "evalue": "",
     "output_type": "error",
     "traceback": [
      "\u001b[1;31m---------------------------------------------------------------------------\u001b[0m",
      "\u001b[1;31mNotImplementedError\u001b[0m                       Traceback (most recent call last)",
      "\u001b[1;32m~\\AppData\\Local\\Temp/ipykernel_29004/1402376938.py\u001b[0m in \u001b[0;36m<module>\u001b[1;34m\u001b[0m\n\u001b[0;32m      4\u001b[0m \u001b[1;32melse\u001b[0m\u001b[1;33m:\u001b[0m\u001b[1;33m\u001b[0m\u001b[1;33m\u001b[0m\u001b[0m\n\u001b[0;32m      5\u001b[0m     \u001b[1;31m# 아직 미구현 상태입니다.\u001b[0m\u001b[1;33m\u001b[0m\u001b[1;33m\u001b[0m\u001b[1;33m\u001b[0m\u001b[0m\n\u001b[1;32m----> 6\u001b[1;33m     \u001b[1;32mraise\u001b[0m \u001b[0mNotImplementedError\u001b[0m\u001b[1;33m\u001b[0m\u001b[1;33m\u001b[0m\u001b[0m\n\u001b[0m\u001b[0;32m      7\u001b[0m \u001b[0mprint\u001b[0m\u001b[1;33m(\u001b[0m\u001b[1;34m\"done\"\u001b[0m\u001b[1;33m)\u001b[0m\u001b[1;33m\u001b[0m\u001b[1;33m\u001b[0m\u001b[0m\n",
      "\u001b[1;31mNotImplementedError\u001b[0m: "
     ]
    }
   ],
   "source": [
    "if 0:\n",
    "    # 아직 미구현 상태입니다.\n",
    "    raise NotImplementedError\n",
    "else:\n",
    "    # 아직 미구현 상태입니다.\n",
    "    raise NotImplementedError\n",
    "print(\"done\")"
   ]
  },
  {
   "cell_type": "markdown",
   "id": "4511f5b7-f0ed-4e6b-b350-3d1d4e17c84b",
   "metadata": {},
   "source": [
    "# 삼항 연산자"
   ]
  },
  {
   "cell_type": "code",
   "execution_count": 9,
   "id": "1d531141-15a5-4423-acd4-63c95ffea61f",
   "metadata": {},
   "outputs": [
    {
     "data": {
      "text/plain": [
       "True"
      ]
     },
     "execution_count": 9,
     "metadata": {},
     "output_type": "execute_result"
    }
   ],
   "source": [
    "num = 50\n",
    "is_true = True if num <= 50 else False\n",
    "is_true"
   ]
  },
  {
   "cell_type": "code",
   "execution_count": 10,
   "id": "f33e1840-2edd-4159-8c98-a1b47385ca2d",
   "metadata": {},
   "outputs": [
    {
     "data": {
      "text/plain": [
       "False"
      ]
     },
     "execution_count": 10,
     "metadata": {},
     "output_type": "execute_result"
    }
   ],
   "source": [
    "num = 50\n",
    "is_true = True if num > 51 else False\n",
    "is_true"
   ]
  },
  {
   "cell_type": "code",
   "execution_count": 12,
   "id": "823741dd-e41a-456d-bae4-24b8c3200b7b",
   "metadata": {},
   "outputs": [
    {
     "data": {
      "text/plain": [
       "'False일때 값'"
      ]
     },
     "execution_count": 12,
     "metadata": {},
     "output_type": "execute_result"
    }
   ],
   "source": [
    "num = \"True일때 값\" if is_true else \"False일때 값\"\n",
    "num"
   ]
  }
 ],
 "metadata": {
  "kernelspec": {
   "display_name": "Python 3 (ipykernel)",
   "language": "python",
   "name": "python3"
  },
  "language_info": {
   "codemirror_mode": {
    "name": "ipython",
    "version": 3
   },
   "file_extension": ".py",
   "mimetype": "text/x-python",
   "name": "python",
   "nbconvert_exporter": "python",
   "pygments_lexer": "ipython3",
   "version": "3.9.6"
  }
 },
 "nbformat": 4,
 "nbformat_minor": 5
}

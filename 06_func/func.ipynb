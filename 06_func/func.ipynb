{
 "cells": [
  {
   "cell_type": "markdown",
   "id": "5339bd8f-c712-422d-8733-d05a784b46bb",
   "metadata": {},
   "source": [
    "## 목차\n",
    "\n",
    "- [1. 함수 생성과 호출]()\n",
    "    - [1) 함수 생성 기본]()\n",
    "    - [2) 일반 매개변수]()\n",
    "\t- [3) 일반 매개변수 예외]()\n",
    "\t- [4) 가변 매개변수]()\n",
    "\t- [5) 기본 매개변수]()\n",
    "\t- [6) 가변 매개변수와 기본 매개변수 정의 순서]()\n",
    "\t- [7) 키워드 매개변수]()\n",
    "\t- [8) 리턴]()\n",
    "- [2. 함수 활용]()\n",
    "    - [1) 재귀 함수]()\n",
    "        - [1-1) 팩토리얼 구하기]()\n",
    "        - [1-2) 파보니치 수열]()\n",
    "            - [간단한 파보나치 수열 함수 만들기]()\n",
    "            - [global 키워드를 활용한 파보나치 수열 함수]()\n",
    "            - [메모화를 통한 속도 향상]()\n",
    "- [3. 함수 고급]()\n",
    "    - [1) 튜플]()\n",
    "        - [1-1) 리스트와 튜플의 특이한 사용]()\n",
    "        - [1-2) 괄호가 없는 튜플]()\n",
    "        - [1-3) 변수의 값을 교환하는 튜플]()\n",
    "        - [1-4) 튜플과 함수: 여러 개의 값 리턴하기]()\n",
    "        - [1-5) 튜플을 리턴하는 함수의 예]()\n",
    "    - [2) 람다]()\n",
    "        - [2-1) 함수의 매개변수로 함수 전달]()\n",
    "        - [2-2) filter() 함수와 map() 함수]()\n",
    "        - [2-3) 람다의 개념]()\n",
    "    - [3) 파일 처리]()\n",
    "        - [3-1) 파일 열고 닫기]()\n",
    "        - [3-2) with 키워드]()\n",
    "        - [3-3) 텍스트 읽기]()\n",
    "- [4. 제너레이터]()\n",
    "\n",
    "# 1. 함수 생성과 호출\n",
    "\n",
    "---\n",
    "\n",
    "함수는 한마디로 '코드의 집합'이다.  \n",
    "\n",
    "## 1) 함수 생성 기본\n",
    "\n",
    "        def 함수 이름():\n",
    "            문장\n"
   ]
  },
  {
   "cell_type": "code",
   "execution_count": 4,
   "id": "d945b06a-59d8-4916-bcae-0cf4cf29f55a",
   "metadata": {},
   "outputs": [],
   "source": [
    "def print_hello_3_times():\n",
    "    print(\"안녕하세요\")\n",
    "    print(\"안녕하세요\")\n",
    "    print(\"안녕하세요\")"
   ]
  },
  {
   "cell_type": "code",
   "execution_count": 5,
   "id": "7327c299-acb7-463f-8ddc-625222cc930a",
   "metadata": {},
   "outputs": [
    {
     "name": "stdout",
     "output_type": "stream",
     "text": [
      "안녕하세요\n",
      "안녕하세요\n",
      "안녕하세요\n"
     ]
    }
   ],
   "source": [
    "print_hello_3_times()"
   ]
  },
  {
   "cell_type": "markdown",
   "id": "74207f4c-899f-4454-8a9b-ec0faf8277f7",
   "metadata": {},
   "source": [
    "## 2) 일반 매개변수\n",
    "\n",
    "매개변수란 함수의 괄호 안에 들어가는 자료형들을 의미한다.\n",
    "\n",
    "        def 함수 이름(매개변수, 매개변수, ...):\n",
    "            문장"
   ]
  },
  {
   "cell_type": "code",
   "execution_count": 7,
   "id": "ed552b27-aec8-4d83-b2a4-138f0631067f",
   "metadata": {},
   "outputs": [],
   "source": [
    "def print_n_times(value, n):\n",
    "    for i in range(n):\n",
    "        print(value)"
   ]
  },
  {
   "cell_type": "code",
   "execution_count": 8,
   "id": "0b09fa64-5b0d-4a26-9aad-6a872617ce67",
   "metadata": {},
   "outputs": [
    {
     "name": "stdout",
     "output_type": "stream",
     "text": [
      "Hello\n",
      "Hello\n",
      "Hello\n"
     ]
    }
   ],
   "source": [
    "print_n_times(\"Hello\", 3)"
   ]
  },
  {
   "cell_type": "markdown",
   "id": "833655a4-9f48-459f-9bf1-575e7f9d5cbb",
   "metadata": {},
   "source": [
    "## 3) 일반 매개변수 예외\n",
    "\n",
    "- 매개변수를 작성된 함수의 매개변수보다 더 적게 넣었을 때"
   ]
  },
  {
   "cell_type": "code",
   "execution_count": 20,
   "id": "7be0a1dd-1e42-4955-a95e-a69c6a9b86e9",
   "metadata": {},
   "outputs": [],
   "source": [
    "def print_n_times(value, n): # 매개변수 2개 정의\n",
    "    print(value) # 함수 내용은 n을 사용하지 않음"
   ]
  },
  {
   "cell_type": "code",
   "execution_count": 24,
   "id": "ac8446d9-2caa-41d8-b85c-4d181b7d8a13",
   "metadata": {},
   "outputs": [
    {
     "ename": "TypeError",
     "evalue": "print_n_times() missing 1 required positional argument: 'n'",
     "output_type": "error",
     "traceback": [
      "\u001b[1;31m---------------------------------------------------------------------------\u001b[0m",
      "\u001b[1;31mTypeError\u001b[0m                                 Traceback (most recent call last)",
      "\u001b[1;32m~\\AppData\\Local\\Temp/ipykernel_45976/3596027030.py\u001b[0m in \u001b[0;36m<module>\u001b[1;34m\u001b[0m\n\u001b[1;32m----> 1\u001b[1;33m \u001b[0mprint_n_times\u001b[0m\u001b[1;33m(\u001b[0m\u001b[1;34m\"Hello\"\u001b[0m\u001b[1;33m)\u001b[0m \u001b[1;31m# 매개변수 하나를 넣고 함수 호출\u001b[0m\u001b[1;33m\u001b[0m\u001b[1;33m\u001b[0m\u001b[0m\n\u001b[0m",
      "\u001b[1;31mTypeError\u001b[0m: print_n_times() missing 1 required positional argument: 'n'"
     ]
    }
   ],
   "source": [
    "print_n_times(\"Hello\") # 매개변수 하나를 넣고 함수 호출"
   ]
  },
  {
   "cell_type": "markdown",
   "id": "f4164d73-2283-43b2-89c4-6f45396cdfce",
   "metadata": {},
   "source": [
    "> TypeError : 호출한 함수의 매개변수와 정의된 매개변수의 개수가 맞지 않을 때 발생\n",
    "\n",
    "- 매개변수를 작성된 함수의 매개변수보다 더 많이 넣을 때"
   ]
  },
  {
   "cell_type": "code",
   "execution_count": 22,
   "id": "e42a9d96-6aca-4200-8700-420c356ff6ba",
   "metadata": {},
   "outputs": [],
   "source": [
    "def print_n_times(value, n): # 매개변수 2개 정의\n",
    "    for i in range(n): # 함수 내용에 n을 사용\n",
    "        print(value)"
   ]
  },
  {
   "cell_type": "code",
   "execution_count": 23,
   "id": "40d2a736-d155-4266-838c-e580acaa8505",
   "metadata": {},
   "outputs": [
    {
     "ename": "TypeError",
     "evalue": "print_n_times() takes 2 positional arguments but 3 were given",
     "output_type": "error",
     "traceback": [
      "\u001b[1;31m---------------------------------------------------------------------------\u001b[0m",
      "\u001b[1;31mTypeError\u001b[0m                                 Traceback (most recent call last)",
      "\u001b[1;32m~\\AppData\\Local\\Temp/ipykernel_45976/242126661.py\u001b[0m in \u001b[0;36m<module>\u001b[1;34m\u001b[0m\n\u001b[1;32m----> 1\u001b[1;33m \u001b[0mprint_n_times\u001b[0m\u001b[1;33m(\u001b[0m\u001b[1;34m\"Hello\"\u001b[0m\u001b[1;33m,\u001b[0m \u001b[1;36m3\u001b[0m\u001b[1;33m,\u001b[0m \u001b[1;36m5\u001b[0m\u001b[1;33m)\u001b[0m\u001b[1;33m\u001b[0m\u001b[1;33m\u001b[0m\u001b[0m\n\u001b[0m",
      "\u001b[1;31mTypeError\u001b[0m: print_n_times() takes 2 positional arguments but 3 were given"
     ]
    }
   ],
   "source": [
    "print_n_times(\"Hello\", 3, 5) # 매개변수 3개를 넣고 함수 호출"
   ]
  },
  {
   "cell_type": "markdown",
   "id": "4c24b600-332f-48d7-a726-3e0997e18719",
   "metadata": {},
   "source": [
    "> TypeError : 호출한 함수의 매개변수와 정의된 매개변수의 개수가 맍지 않을 때 발생\n",
    "\n",
    "## 4) 가변 매개변수\n",
    "\n",
    "[3)매개 변수 예외]()에서 볼 수 있드시 함수에 정의된 매개변수의 갯수에 맞게 호출할 때도 같은 갯수의 매개변수를 넣어줘야 한다.  \n",
    "하지만 함수 생성시 매개변수를 정의할때 가변적으로 받겠다는 매개변수를 받겠다고 명시할 수 있다.\n",
    "\n",
    "        def 함수 이름(매개변수, 매개변수, ..., *가변 매개변수):\n",
    "            문장\n",
    "\n",
    "- 제약사항\n",
    "    - 가변 매개변수 뒤에는 일반 매개변수가 올 수 없다.\n",
    "    - 가변 매개변수는 하나만 사용할 수 있다.\n",
    "\n"
   ]
  },
  {
   "cell_type": "code",
   "execution_count": 26,
   "id": "83e8fb77-0ecb-4cc2-a8b6-f0ab7c803957",
   "metadata": {},
   "outputs": [],
   "source": [
    "def print_n_times(n, *values):\n",
    "    # n번 반복\n",
    "    for i in range(n):\n",
    "        # values는 리스트 처럼 활용\n",
    "        for value in values:\n",
    "            print(value)\n",
    "        print()"
   ]
  },
  {
   "cell_type": "code",
   "execution_count": 27,
   "id": "ead73695-b959-4c1a-958e-8b3fb4785d3b",
   "metadata": {},
   "outputs": [
    {
     "name": "stdout",
     "output_type": "stream",
     "text": [
      "Hello\n",
      "안녕하세요\n",
      "NiHao\n",
      "\n",
      "Hello\n",
      "안녕하세요\n",
      "NiHao\n",
      "\n"
     ]
    }
   ],
   "source": [
    "print_n_times(2, \"Hello\", \"안녕하세요\", \"NiHao\")"
   ]
  },
  {
   "cell_type": "markdown",
   "id": "dc3dd7f3-f268-49f6-88cc-00694272b077",
   "metadata": {},
   "source": [
    "## 기본 매개변수\n",
    "\n",
    "**기본 매개변수**란 `매개변수=값` 형태의 매개변수르 의미한다.  \n",
    "`값`은 해당 매개변수를 입력하지 않았을 경우 매개변수에 설정되는 기본값이다.\n",
    "\n",
    "- 제약사항\n",
    "    - 기본 매개변수 뒤에는 일반 매개변수가 올 수 없다."
   ]
  },
  {
   "cell_type": "code",
   "execution_count": 28,
   "id": "aab04b2c-1923-419f-ba06-1d6025c151d4",
   "metadata": {},
   "outputs": [],
   "source": [
    "def print_n_times(value, n=2):\n",
    "    # n번 반복\n",
    "    for i in range(n):\n",
    "        print(value)"
   ]
  },
  {
   "cell_type": "code",
   "execution_count": 32,
   "id": "e5bf24cb-be8c-4dbf-9e66-e34f14a69c09",
   "metadata": {},
   "outputs": [
    {
     "name": "stdout",
     "output_type": "stream",
     "text": [
      "안녕\n",
      "안녕\n"
     ]
    }
   ],
   "source": [
    "print_n_times(\"안녕\")"
   ]
  },
  {
   "cell_type": "markdown",
   "id": "2ab461af-3591-46a6-9932-46ecd2f8a576",
   "metadata": {},
   "source": [
    "## 6) 가변 매개변수와 기본 매개변수 정의 순서\n",
    "\n",
    "- 기본 매개변수, 가변 매개변수 순"
   ]
  },
  {
   "cell_type": "code",
   "execution_count": 35,
   "id": "50850f3d-acd6-4a99-b67c-d2888eb55ebe",
   "metadata": {},
   "outputs": [],
   "source": [
    "def print_n_times(n=2, *values):\n",
    "    print(n) # n값 출력\n",
    "    # n번 반복\n",
    "    for i in range(n):\n",
    "        # values는 리스트 처럼 활용\n",
    "        for value in values:\n",
    "            print(value)\n",
    "        print()"
   ]
  },
  {
   "cell_type": "code",
   "execution_count": 36,
   "id": "eb0b6435-b866-424d-8a60-83098104b2b5",
   "metadata": {},
   "outputs": [
    {
     "name": "stdout",
     "output_type": "stream",
     "text": [
      "안녕하세요\n"
     ]
    },
    {
     "ename": "TypeError",
     "evalue": "'str' object cannot be interpreted as an integer",
     "output_type": "error",
     "traceback": [
      "\u001b[1;31m---------------------------------------------------------------------------\u001b[0m",
      "\u001b[1;31mTypeError\u001b[0m                                 Traceback (most recent call last)",
      "\u001b[1;32m~\\AppData\\Local\\Temp/ipykernel_45976/430572771.py\u001b[0m in \u001b[0;36m<module>\u001b[1;34m\u001b[0m\n\u001b[1;32m----> 1\u001b[1;33m \u001b[0mprint_n_times\u001b[0m\u001b[1;33m(\u001b[0m\u001b[1;34m\"안녕하세요\"\u001b[0m\u001b[1;33m,\u001b[0m \u001b[1;34m\"즐거운\"\u001b[0m\u001b[1;33m,\u001b[0m \u001b[1;34m\"파이썬 프로그래밍\"\u001b[0m\u001b[1;33m)\u001b[0m\u001b[1;33m\u001b[0m\u001b[1;33m\u001b[0m\u001b[0m\n\u001b[0m",
      "\u001b[1;32m~\\AppData\\Local\\Temp/ipykernel_45976/4290240842.py\u001b[0m in \u001b[0;36mprint_n_times\u001b[1;34m(n, *values)\u001b[0m\n\u001b[0;32m      2\u001b[0m     \u001b[0mprint\u001b[0m\u001b[1;33m(\u001b[0m\u001b[0mn\u001b[0m\u001b[1;33m)\u001b[0m \u001b[1;31m# n값 출력\u001b[0m\u001b[1;33m\u001b[0m\u001b[1;33m\u001b[0m\u001b[0m\n\u001b[0;32m      3\u001b[0m     \u001b[1;31m# n번 반복\u001b[0m\u001b[1;33m\u001b[0m\u001b[1;33m\u001b[0m\u001b[1;33m\u001b[0m\u001b[0m\n\u001b[1;32m----> 4\u001b[1;33m     \u001b[1;32mfor\u001b[0m \u001b[0mi\u001b[0m \u001b[1;32min\u001b[0m \u001b[0mrange\u001b[0m\u001b[1;33m(\u001b[0m\u001b[0mn\u001b[0m\u001b[1;33m)\u001b[0m\u001b[1;33m:\u001b[0m\u001b[1;33m\u001b[0m\u001b[1;33m\u001b[0m\u001b[0m\n\u001b[0m\u001b[0;32m      5\u001b[0m         \u001b[1;31m# values는 리스트 처럼 활용\u001b[0m\u001b[1;33m\u001b[0m\u001b[1;33m\u001b[0m\u001b[1;33m\u001b[0m\u001b[0m\n\u001b[0;32m      6\u001b[0m         \u001b[1;32mfor\u001b[0m \u001b[0mvalue\u001b[0m \u001b[1;32min\u001b[0m \u001b[0mvalues\u001b[0m\u001b[1;33m:\u001b[0m\u001b[1;33m\u001b[0m\u001b[1;33m\u001b[0m\u001b[0m\n",
      "\u001b[1;31mTypeError\u001b[0m: 'str' object cannot be interpreted as an integer"
     ]
    }
   ],
   "source": [
    "print_n_times(\"안녕하세요\", \"즐거운\", \"파이썬 프로그래밍\")"
   ]
  },
  {
   "cell_type": "markdown",
   "id": "36c94a3b-cb0c-4139-90d8-0f9cd6f33a37",
   "metadata": {},
   "source": [
    "> 결과 : 함수 호출 결과를 보면 `print(n)`이 실행된 것을 보아 컴파일에러는 발생하지 않았고 함수가 정상적으로 실행됐음을 알 수 있다.  \n",
    "> 하지만 매개변수 `n`의 값이 기본값인 `2`로 설정되지 않고 호출할때 첫번째 매개변수로 넣어준 `'안녕하세요'` 문자열이 들어가면서  \n",
    "> 실행중 `TypeError`가 발생한 것을 보아  \n",
    "> **기본 매개변수는 가변 매개변수 앞에 써도 의미가 없다**는 것을 알 수 있다."
   ]
  },
  {
   "cell_type": "markdown",
   "id": "514622d4-4d4f-409d-aa52-8db1422506f5",
   "metadata": {},
   "source": [
    "- 가변 매개변수, 기본 매개변수 순"
   ]
  },
  {
   "cell_type": "code",
   "execution_count": 37,
   "id": "eb061704-025d-472e-ba22-58969aa54e68",
   "metadata": {},
   "outputs": [],
   "source": [
    "def print_n_times(*values, n=2):\n",
    "    print(n) # n값 출력\n",
    "    # n번 반복\n",
    "    for i in range(n):\n",
    "        # values는 리스트 처럼 활용\n",
    "        for value in values:\n",
    "            print(value)\n",
    "        print()"
   ]
  },
  {
   "cell_type": "code",
   "execution_count": 38,
   "id": "7e640ead-81e5-42fe-ae5a-d6f1d9506cfd",
   "metadata": {},
   "outputs": [
    {
     "name": "stdout",
     "output_type": "stream",
     "text": [
      "2\n",
      "안녕하세요\n",
      "즐거운\n",
      "파이썬 프로그래밍\n",
      "\n",
      "안녕하세요\n",
      "즐거운\n",
      "파이썬 프로그래밍\n",
      "\n"
     ]
    }
   ],
   "source": [
    "print_n_times(\"안녕하세요\", \"즐거운\", \"파이썬 프로그래밍\") # 첫번쩨 호출"
   ]
  },
  {
   "cell_type": "code",
   "execution_count": 41,
   "id": "821ba6d1-b734-4dc6-ae64-2a5538358d66",
   "metadata": {},
   "outputs": [
    {
     "name": "stdout",
     "output_type": "stream",
     "text": [
      "2\n",
      "안녕하세요\n",
      "즐거운\n",
      "파이썬 프로그래밍\n",
      "1\n",
      "\n",
      "안녕하세요\n",
      "즐거운\n",
      "파이썬 프로그래밍\n",
      "1\n",
      "\n"
     ]
    }
   ],
   "source": [
    "print_n_times(\"안녕하세요\", \"즐거운\", \"파이썬 프로그래밍\", 1) # 두번째 호출"
   ]
  },
  {
   "cell_type": "markdown",
   "id": "b05584f2-3a4f-44a9-8750-ac28971e6b4d",
   "metadata": {},
   "source": [
    "> 첫번째 호출 결과 : `n`의 값이 기본값으로 잘 들어가 출력됐음을 확인할 수 있고, 가변 매개변수 결과도 제대로 나왔음을 확인할 수 있다.  \n",
    "> 두번째 호출 결과 : 첫번째 호출 결과로 인해서 파이썬이 가변 매개변수와 기본 매개변수를 잘 나누어서 대입 했다 생각하고  \n",
    "> 매개변수 `n` 자리에 `1`을 선언하고 호출했음에도 예상했던 결과가 나오지 않았다.  \n",
    "> 즉, **기본 매개변수보다 가변 매개변수가 우선시됨**을 알 수 있다."
   ]
  },
  {
   "cell_type": "markdown",
   "id": "1d5ece97-9f05-4d92-9dad-13ae2280740b",
   "metadata": {},
   "source": [
    "## 7) 키워드 매개변수\n",
    "\n",
    "**키워드 매개변수**란 함수에 정의된 기본 매개변수 식별자를 함수 호출할때 그 식별자와 그 식별자의 값을 명시하는 것을 의미한다.\n",
    "\n",
    "        def 함수이름(..., 매개변수=값, ...):\n",
    "             문장\n",
    "             \n",
    "        # 함수 호출\n",
    "        함수이름(..., 매개변수=값, ...) \n",
    "\n",
    "앞서 [6) 가변 매개변수와 기본 매개변수 정의 순서]()에서 알 수 있었드시 가변 매개변수와 기본 매개변수를 같이 쓰는것은 부적합하다.  \n",
    "하지만 키워드 매개변수를 사용한다면 가변 매개변수와 기본 매개변수를 같이 사용이 가능하다."
   ]
  },
  {
   "cell_type": "code",
   "execution_count": 42,
   "id": "eaa40c51-e64a-4e59-98a9-fa7af72ccf51",
   "metadata": {},
   "outputs": [],
   "source": [
    "def print_n_times(*values, n=2):\n",
    "    print(n) # n값 출력\n",
    "    # n번 반복\n",
    "    for i in range(n):\n",
    "        # values는 리스트 처럼 활용\n",
    "        for value in values:\n",
    "            print(value)\n",
    "        print()"
   ]
  },
  {
   "cell_type": "code",
   "execution_count": 45,
   "id": "afa81690-0800-455f-bf68-b5265a8352ba",
   "metadata": {},
   "outputs": [
    {
     "name": "stdout",
     "output_type": "stream",
     "text": [
      "1\n",
      "안녕하세요\n",
      "즐거운\n",
      "파이썬 프로그래밍\n",
      "\n"
     ]
    }
   ],
   "source": [
    "print_n_times(\"안녕하세요\", \"즐거운\", \"파이썬 프로그래밍\", n=1) # 함수의 매개변수 식별자인 n과 그 값을 명시함"
   ]
  },
  {
   "cell_type": "code",
   "execution_count": 46,
   "id": "f3039bf5-914e-4391-96ff-b63870277bb1",
   "metadata": {},
   "outputs": [],
   "source": [
    "# a의 모든 숫자를 더하고 b와 c를 곱하여 출력하는 함수\n",
    "def add_next_times(*a, b=1, c=10):\n",
    "    sum = 0;\n",
    "    for v in a:\n",
    "        sum += v\n",
    "    print(sum * b * c)"
   ]
  },
  {
   "cell_type": "code",
   "execution_count": 47,
   "id": "895a42ea-b1fd-4bfe-a251-a928ee84002f",
   "metadata": {},
   "outputs": [
    {
     "name": "stdout",
     "output_type": "stream",
     "text": [
      "20\n"
     ]
    }
   ],
   "source": [
    "add_next_times(10, 10, c=1)"
   ]
  },
  {
   "cell_type": "code",
   "execution_count": 49,
   "id": "12d348fb-49b4-4fa3-90ca-7b865d06b19b",
   "metadata": {},
   "outputs": [
    {
     "name": "stdout",
     "output_type": "stream",
     "text": [
      "60\n"
     ]
    }
   ],
   "source": [
    "add_next_times(5, 5, b=2, c=3)"
   ]
  },
  {
   "cell_type": "code",
   "execution_count": 50,
   "id": "1eb49dba-5b2c-4cf7-9207-839c84d26daa",
   "metadata": {},
   "outputs": [
    {
     "name": "stdout",
     "output_type": "stream",
     "text": [
      "200\n"
     ]
    }
   ],
   "source": [
    "add_next_times(5, 5, b=2)"
   ]
  },
  {
   "cell_type": "markdown",
   "id": "9f8b3294-eb1a-4a45-abf2-b48775f32d44",
   "metadata": {},
   "source": [
    "## 8) 리턴\n",
    "\n",
    "- 자료와 함께 리턴"
   ]
  },
  {
   "cell_type": "code",
   "execution_count": 51,
   "id": "6c03cc1c-8bf7-4e1c-956f-c3b1bd5dd667",
   "metadata": {},
   "outputs": [],
   "source": [
    "# a, b를 더한 값을 리턴하는 함수\n",
    "def return_sum(a, b):\n",
    "    return a+b"
   ]
  },
  {
   "cell_type": "code",
   "execution_count": 52,
   "id": "048de3bf-2493-4820-9d64-46b9a4e1db27",
   "metadata": {},
   "outputs": [
    {
     "data": {
      "text/plain": [
       "5"
      ]
     },
     "execution_count": 52,
     "metadata": {},
     "output_type": "execute_result"
    }
   ],
   "source": [
    "val = return_sum(2, 3)\n",
    "val"
   ]
  },
  {
   "cell_type": "markdown",
   "id": "5d34eb23-0cb3-42dc-82e8-e2e986651e47",
   "metadata": {},
   "source": [
    "- 아무것도 리턴하지 않기"
   ]
  },
  {
   "cell_type": "code",
   "execution_count": 85,
   "id": "dfed22eb-5c65-458b-b16b-a812ff297429",
   "metadata": {},
   "outputs": [],
   "source": [
    "def return_none():\n",
    "    print(\"return_none()\")"
   ]
  },
  {
   "cell_type": "code",
   "execution_count": 86,
   "id": "8cbd2fa7-ebde-4c63-9201-63d34cbfe0d0",
   "metadata": {},
   "outputs": [
    {
     "name": "stdout",
     "output_type": "stream",
     "text": [
      "return_none()\n",
      "None\n"
     ]
    }
   ],
   "source": [
    "val = return_none()\n",
    "print(val)"
   ]
  },
  {
   "cell_type": "markdown",
   "id": "6c213172-3e9d-4fd8-9236-aaf935d21090",
   "metadata": {},
   "source": [
    "# 2. 함수 활용\n",
    "\n",
    "---\n",
    "\n",
    "## 1) 재귀 함수\n",
    "\n",
    "재귀(recursion) 함수란 자기 자신을 호출하는 함수를 재귀 함수라고 한다.\n",
    "\n",
    "### 1-1) 팩토리얼 구하기\n",
    "\n",
    "- '팩토리얼' for 반복문으로 구현하기\n"
   ]
  },
  {
   "cell_type": "code",
   "execution_count": 87,
   "id": "454a560b-22d7-41fe-bcb6-bdd6d0e0c1c9",
   "metadata": {},
   "outputs": [],
   "source": [
    "def factorial(n):\n",
    "    output = 1;\n",
    "    for i in range(1, n+1):\n",
    "        output*=i\n",
    "    return output"
   ]
  },
  {
   "cell_type": "code",
   "execution_count": 93,
   "id": "18d1f86a-33c8-41e5-bc40-3eea86cf52e2",
   "metadata": {},
   "outputs": [
    {
     "name": "stdout",
     "output_type": "stream",
     "text": [
      "1!: 1\n",
      "2!: 2\n",
      "3!: 6\n",
      "4!: 24\n",
      "5!: 120\n"
     ]
    }
   ],
   "source": [
    "print(\"1!: {}\".format(factorial(1)))\n",
    "print(\"2!: {}\".format(factorial(2)))\n",
    "print(\"3!: {}\".format(factorial(3)))\n",
    "print(\"4!: {}\".format(factorial(4)))\n",
    "print(\"5!: {}\".format(factorial(5)))"
   ]
  },
  {
   "cell_type": "markdown",
   "id": "180fd464-4113-4eb4-b95e-200784316b87",
   "metadata": {},
   "source": [
    "> 팩토리얼이란: n!의 n부터 1까지의 곱을 말한다.  \n",
    "> 식: n! = n * (n-1) * (n-2) * ... * 1"
   ]
  },
  {
   "cell_type": "markdown",
   "id": "16d6663a-7d17-48b1-a1a2-4909cd3172f7",
   "metadata": {},
   "source": [
    "- '팩토리얼' 재귀 함수로 구현하기"
   ]
  },
  {
   "cell_type": "code",
   "execution_count": 103,
   "id": "7ae8d31c-77c9-40d3-b925-408682ff9595",
   "metadata": {},
   "outputs": [],
   "source": [
    "def factorial(n):\n",
    "    if n == 1:\n",
    "        return n\n",
    "    return n * factorial(n-1)"
   ]
  },
  {
   "cell_type": "code",
   "execution_count": 106,
   "id": "83d04aec-3a6f-4419-86dd-e89c6e14ec76",
   "metadata": {},
   "outputs": [
    {
     "name": "stdout",
     "output_type": "stream",
     "text": [
      "1!: 1\n",
      "2!: 2\n",
      "3!: 6\n",
      "4!: 24\n",
      "5!: 120\n"
     ]
    }
   ],
   "source": [
    "print(\"1!: {}\".format(factorial(1)))\n",
    "print(\"2!: {}\".format(factorial(2)))\n",
    "print(\"3!: {}\".format(factorial(3)))\n",
    "print(\"4!: {}\".format(factorial(4)))\n",
    "print(\"5!: {}\".format(factorial(5)))"
   ]
  },
  {
   "cell_type": "markdown",
   "id": "5dffef24-9c3f-4d9a-975d-7f325b0427de",
   "metadata": {},
   "source": [
    "### 1-2) 파보니치 수열\n",
    "\n",
    "파보니치 수열은 '토끼는 어떠한 속도로 번식하는가'와 같은 연구에 사용되는 수열이다.\n",
    "- [규칙]\n",
    "    - 처음에는 토끼가 한쌍만 존재한다.\n",
    "    - 두 달 이상 된 토끼는 번식할 수 있다.\n",
    "    - 번식한 토끼는 매덜 새끼를 한 쌍씩 낳는다.\n",
    "    - 토끼는 죽지 않는다고 가정한다.\n",
    "    \n",
    "즉,  \n",
    "- 1번째 수열 = 1\n",
    "- 2번째 수열 = 1\n",
    "- 3번째 수열 = 2\n",
    "- n번째 수열 = (n-1)번째 수열 + (n-2)번째 수열\n",
    "\n",
    "#### 간단한 파보나치 수열 함수 만들기"
   ]
  },
  {
   "cell_type": "code",
   "execution_count": 109,
   "id": "ac0050c7-88c3-4601-9f81-bcb14a00f41c",
   "metadata": {},
   "outputs": [],
   "source": [
    "def fibonacci(n):\n",
    "    if n == 1:\n",
    "        return 1\n",
    "    if n == 2:\n",
    "        return 1\n",
    "    if n == 3:\n",
    "        return 2\n",
    "    else:\n",
    "        return fibonacci(n - 1) + fibonacci(n - 2)"
   ]
  },
  {
   "cell_type": "code",
   "execution_count": 116,
   "id": "c52f8475-769f-40d5-bb55-42ec494321ea",
   "metadata": {},
   "outputs": [
    {
     "name": "stdout",
     "output_type": "stream",
     "text": [
      "fibonacci(1):  1\n",
      "fibonacci(2):  1\n",
      "fibonacci(3):  2\n",
      "fibonacci(4):  3\n",
      "fibonacci(5):  5\n"
     ]
    }
   ],
   "source": [
    "print(\"fibonacci(1): \", fibonacci(1))\n",
    "print(\"fibonacci(2): \", fibonacci(2))\n",
    "print(\"fibonacci(3): \", fibonacci(3))\n",
    "print(\"fibonacci(4): \", fibonacci(4))\n",
    "print(\"fibonacci(5): \", fibonacci(5))"
   ]
  },
  {
   "cell_type": "code",
   "execution_count": 117,
   "id": "d2670494-9b7a-43ad-8a3b-913db1387479",
   "metadata": {},
   "outputs": [
    {
     "name": "stdout",
     "output_type": "stream",
     "text": [
      "fibonacci(40):  102334155\n"
     ]
    }
   ],
   "source": [
    "print(\"fibonacci(40): \", fibonacci(40))"
   ]
  },
  {
   "cell_type": "markdown",
   "id": "2177dcf3-eae2-4e0c-a96d-3d95bb81d388",
   "metadata": {},
   "source": [
    "> 결과: 35부터 리턴 시간이 굉장히 오래 걸린다.  \n",
    "> 그 이유는 위의 파보나치 수열 코드는 한 번 구했던 값이라도 처음부터 다시 계산해야 하기 때문이다.  \n",
    "> 즉, **코드 효율이 좋지 않음. 수정 필요**\n",
    "\n",
    "#### global 키워드를 활용한 파보나치 수열 함수"
   ]
  },
  {
   "cell_type": "code",
   "execution_count": 121,
   "id": "aa524e1d-3039-4141-8ee8-8941d2a2dee9",
   "metadata": {},
   "outputs": [],
   "source": [
    "counter = 0\n",
    "def fibonacci(n):\n",
    "    global counter\n",
    "    counter += 1\n",
    "    if n == 1:\n",
    "        return 1\n",
    "    if n == 2:\n",
    "        return 1\n",
    "    else:\n",
    "        return fibonacci(n-1) + fibonacci(n-2)"
   ]
  },
  {
   "cell_type": "code",
   "execution_count": 123,
   "id": "710097d5-0855-443f-bd9e-e64223ff4844",
   "metadata": {},
   "outputs": [
    {
     "name": "stdout",
     "output_type": "stream",
     "text": [
      "102334155\n"
     ]
    }
   ],
   "source": [
    "print(fibonacci(40))"
   ]
  },
  {
   "cell_type": "markdown",
   "id": "2a0a667f-ab0a-4f21-9c01-931751f50732",
   "metadata": {},
   "source": [
    "파이썬은 내부에서 함수 외부에 있는 변수를 참조(reference)하지 못한다.  \n",
    "그렇기 때문에 함수 외부의 변수를 참조하기 위해서는 `global 키워드`를 사용한다.  \n",
    "\n",
    "        global 변수 이름\n",
    "        \n",
    "만일, global 키워드를 통해 변수를 참조해서 접근하지 않으면 `UnboundLocalError` 예외가 발생한다."
   ]
  },
  {
   "cell_type": "markdown",
   "id": "69c3c954-6694-4fba-b65e-7de8d0f68b54",
   "metadata": {},
   "source": [
    "#### 메모화를 통한 속도 향상\n",
    "\n",
    "재귀 함수의 문제는 경우에 따라서 기하급수적으로 많이 반복한다는 문제가 있다.  \n",
    "이러한 문제를 해결하기 위해서 메모화(memorization)를 한다.  \n",
    "(현재 파보니치 수열 코드에서는 같은 값을 한 번만 계산하도록 코드를 수정한다.)"
   ]
  },
  {
   "cell_type": "code",
   "execution_count": 135,
   "id": "f8d01896-91b4-4ad3-8df4-4dff652d6e97",
   "metadata": {},
   "outputs": [],
   "source": [
    "# 메모 변수를 선언한다.\n",
    "dictionary = {\n",
    "    1: 1,\n",
    "    2: 1\n",
    "}\n",
    "\n",
    "# 함수 선언\n",
    "def fibonacci(n):\n",
    "    if n in dictionary:\n",
    "        # 메모가 되어 있으면 메모된 값을 리턴\n",
    "        return dictionary[n]\n",
    "    else:\n",
    "        # 메모가 되어 있지 않으면 값을 구함\n",
    "        output = fibonacci(n -1) + fibonacci(n -2)\n",
    "        dictionary[n] = output\n",
    "        return output"
   ]
  },
  {
   "cell_type": "code",
   "execution_count": 136,
   "id": "339b29c1-2396-4f8b-88e1-b37acf6a875f",
   "metadata": {},
   "outputs": [
    {
     "name": "stdout",
     "output_type": "stream",
     "text": [
      "fibonacci(10):  55\n",
      "{1: 1, 2: 1, 3: 2, 4: 3, 5: 5, 6: 8, 7: 13, 8: 21, 9: 34, 10: 55}\n",
      "fibonacci(20):  6765\n",
      "{1: 1, 2: 1, 3: 2, 4: 3, 5: 5, 6: 8, 7: 13, 8: 21, 9: 34, 10: 55, 11: 89, 12: 144, 13: 233, 14: 377, 15: 610, 16: 987, 17: 1597, 18: 2584, 19: 4181, 20: 6765}\n",
      "fibonacci(30):  832040\n",
      "{1: 1, 2: 1, 3: 2, 4: 3, 5: 5, 6: 8, 7: 13, 8: 21, 9: 34, 10: 55, 11: 89, 12: 144, 13: 233, 14: 377, 15: 610, 16: 987, 17: 1597, 18: 2584, 19: 4181, 20: 6765, 21: 10946, 22: 17711, 23: 28657, 24: 46368, 25: 75025, 26: 121393, 27: 196418, 28: 317811, 29: 514229, 30: 832040}\n",
      "fibonacci(40):  102334155\n",
      "{1: 1, 2: 1, 3: 2, 4: 3, 5: 5, 6: 8, 7: 13, 8: 21, 9: 34, 10: 55, 11: 89, 12: 144, 13: 233, 14: 377, 15: 610, 16: 987, 17: 1597, 18: 2584, 19: 4181, 20: 6765, 21: 10946, 22: 17711, 23: 28657, 24: 46368, 25: 75025, 26: 121393, 27: 196418, 28: 317811, 29: 514229, 30: 832040, 31: 1346269, 32: 2178309, 33: 3524578, 34: 5702887, 35: 9227465, 36: 14930352, 37: 24157817, 38: 39088169, 39: 63245986, 40: 102334155}\n"
     ]
    }
   ],
   "source": [
    "print(\"fibonacci(10): \", fibonacci(10))\n",
    "print(dictionary)\n",
    "print(\"fibonacci(20): \", fibonacci(20))\n",
    "print(dictionary)\n",
    "print(\"fibonacci(30): \", fibonacci(30))\n",
    "print(dictionary)\n",
    "print(\"fibonacci(40): \", fibonacci(40))\n",
    "print(dictionary)"
   ]
  },
  {
   "cell_type": "markdown",
   "id": "30f44611-de81-4954-ae80-b049207291da",
   "metadata": {},
   "source": [
    "> 설명: 위의 코드는 딕셔너리를 사용해서 한 번 계산한 값을 저장한다. 이를 **메모**(memo)한다고 표현한다.  \n",
    "> 딕셔너리에 값이 메모되어 있으면 처리를 수행하지 않고 곧바로 메모된 값을 돌려주면서 코드의 속도를 빠르게 향상시킨다.  \n",
    "> 이렇게 메모화를 사용하면 실행 후 곧바로 결과를 출력할 정도로 속도가 빨라진다."
   ]
  },
  {
   "cell_type": "markdown",
   "id": "0966c43f-1f8b-42a5-baef-dd5b6bccbf38",
   "metadata": {},
   "source": [
    "# 3. 함수 고급\n",
    "\n",
    "---\n",
    "\n",
    "- 튜플 : 함수와 함께 많이 사용되는 리스트와 비슷한 자료형으로, 리스트와 다른 점은 한 번 결정된 요소는 바꿀 수 없다는 것  \n",
    "- 람다 : 매개변수로 함수를 전달하기 위해 함수 구문을 작성하는 것이 번거롭고, 코드 공간 낭비라는 생각이 들 때 함수를 간단하고 쉽게 선언하는 방법\n",
    "\n",
    "## 1) 튜플\n",
    "\n",
    "튜플(tuple)은 리스트와 비슷한 자료형이다. 리스트와 다른 점은 한 번 결정된 요소를 바꿀 수 없다는 것이다.  \n",
    "일반적으로 튜플은 함수와 함께 많이 사용되는 자료형이다.\n",
    "\n",
    "        튜플 생성 방법  \n",
    "        (데이터, 데이터, 데이터, ...)\n",
    "        "
   ]
  },
  {
   "cell_type": "code",
   "execution_count": 137,
   "id": "b2423520-a42d-48db-a75b-552ec71a9bd4",
   "metadata": {},
   "outputs": [],
   "source": [
    "tuple_test = (10, 20, 30)"
   ]
  },
  {
   "cell_type": "code",
   "execution_count": 139,
   "id": "8ab36cd2-b0a8-4f34-a3b0-ab9c3d220954",
   "metadata": {},
   "outputs": [
    {
     "name": "stdout",
     "output_type": "stream",
     "text": [
      "(10, 20, 30) <class 'tuple'>\n",
      "10\n",
      "20\n",
      "30\n"
     ]
    }
   ],
   "source": [
    "print(tuple_test, type(tuple_test))\n",
    "print(tuple_test[0])\n",
    "print(tuple_test[1])\n",
    "print(tuple_test[2])"
   ]
  },
  {
   "cell_type": "markdown",
   "id": "d6d4d993-c18d-4795-b13e-5f1e74a69ef4",
   "metadata": {},
   "source": [
    "- 튜플은 내부 요소 변경이 불가능하다."
   ]
  },
  {
   "cell_type": "code",
   "execution_count": 140,
   "id": "fc10a06a-cb31-4575-9456-5afca09a66af",
   "metadata": {},
   "outputs": [
    {
     "ename": "TypeError",
     "evalue": "'tuple' object does not support item assignment",
     "output_type": "error",
     "traceback": [
      "\u001b[1;31m---------------------------------------------------------------------------\u001b[0m",
      "\u001b[1;31mTypeError\u001b[0m                                 Traceback (most recent call last)",
      "\u001b[1;32m~\\AppData\\Local\\Temp/ipykernel_45976/3163717661.py\u001b[0m in \u001b[0;36m<module>\u001b[1;34m\u001b[0m\n\u001b[1;32m----> 1\u001b[1;33m \u001b[0mtuple_test\u001b[0m\u001b[1;33m[\u001b[0m\u001b[1;36m0\u001b[0m\u001b[1;33m]\u001b[0m \u001b[1;33m=\u001b[0m \u001b[1;36m11\u001b[0m\u001b[1;33m\u001b[0m\u001b[1;33m\u001b[0m\u001b[0m\n\u001b[0m",
      "\u001b[1;31mTypeError\u001b[0m: 'tuple' object does not support item assignment"
     ]
    }
   ],
   "source": [
    "tuple_test[0] = 11"
   ]
  },
  {
   "cell_type": "markdown",
   "id": "b5003204-0fb1-480b-b7fa-cb52d228855b",
   "metadata": {},
   "source": [
    "- 요소를 하나만 가지는 튜플\n",
    "\n",
    "요소를 하나만 가지는 리스트는 다음과 같은 형태로 생성한다.  \n",
    "`[273]`  \n",
    "요소를 하나만 가지는 튜플은 다음과 같은 형태로 생성한다.  \n",
    "`(273)` X  \n",
    "`(273, )` O\n",
    "\n",
    "> 머신러닝 등을 하다 보면 이처럼 요소를  하나만 가지는 튜플을 많이 사용하므로, 깜박 앚기 쉬운 내용이니 반드시 기억하자!\n",
    "\n",
    "### 1-1) 리스트와 튜플의 특이한 사용"
   ]
  },
  {
   "cell_type": "code",
   "execution_count": 146,
   "id": "2fafe8b2-dccf-4480-934c-35cbc88e2698",
   "metadata": {},
   "outputs": [
    {
     "name": "stdout",
     "output_type": "stream",
     "text": [
      "a: 10\n",
      "b: 20\n",
      "c: 10\n",
      "d: 20\n"
     ]
    }
   ],
   "source": [
    "[a, b] = [10, 20]\n",
    "(c, d) = (10, 20)\n",
    "\n",
    "print(\"a:\", a)\n",
    "print(\"b:\", b)\n",
    "print(\"c:\", c)\n",
    "print(\"d:\", d)"
   ]
  },
  {
   "cell_type": "markdown",
   "id": "06aacc9c-04be-4221-a55b-12f26fb8bcac",
   "metadata": {},
   "source": [
    "### 1-2) 괄호가 없는 튜플"
   ]
  },
  {
   "cell_type": "code",
   "execution_count": 147,
   "id": "77012264-38be-4dba-a27a-44c96982b1ad",
   "metadata": {},
   "outputs": [
    {
     "name": "stdout",
     "output_type": "stream",
     "text": [
      "(10, 20, 30, 40) <class 'tuple'>\n",
      "a: 10\n",
      "b: 20\n",
      "c: 30\n"
     ]
    }
   ],
   "source": [
    "# 괄호가 없는 튜플\n",
    "tuple_test = 10, 20, 30, 40\n",
    "print(tuple_test, type(tuple_test))\n",
    "\n",
    "# 괄호가 없는 튜플 활용\n",
    "a, b, c = 10, 20, 30\n",
    "print(\"a:\", a)\n",
    "print(\"b:\", b)\n",
    "print(\"c:\", c)"
   ]
  },
  {
   "cell_type": "markdown",
   "id": "71a12203-8105-46d1-bed1-18dd49916ca6",
   "metadata": {},
   "source": [
    "### 1-3) 변수의 값을 교환하는 튜플"
   ]
  },
  {
   "cell_type": "code",
   "execution_count": 148,
   "id": "9017dc24-34c4-4a2f-94ae-a6ee4173ef0e",
   "metadata": {},
   "outputs": [
    {
     "name": "stdout",
     "output_type": "stream",
     "text": [
      "# 교환 전 값\n",
      "a: 10\n",
      "b: 20\n",
      "# 교환 후 값\n",
      "a: 20\n",
      "b: 10\n"
     ]
    }
   ],
   "source": [
    "a, b = 10, 20\n",
    "\n",
    "print(\"# 교환 전 값\")\n",
    "print(\"a:\", a)\n",
    "print(\"b:\", b)\n",
    "\n",
    "a, b = b, a\n",
    "print(\"# 교환 후 값\")\n",
    "print(\"a:\", a)\n",
    "print(\"b:\", b)"
   ]
  },
  {
   "cell_type": "markdown",
   "id": "174804a8-0be8-49c6-9690-1c36830256eb",
   "metadata": {},
   "source": [
    "### 1-4) 튜플과 함수: 여러 개의 값 리턴하기"
   ]
  },
  {
   "cell_type": "code",
   "execution_count": 151,
   "id": "497968dd-d7e9-427f-8a89-50cc78bad32f",
   "metadata": {},
   "outputs": [
    {
     "name": "stdout",
     "output_type": "stream",
     "text": [
      "(10, 20)\n",
      "a: 10\n",
      "b: 20\n"
     ]
    }
   ],
   "source": [
    "def test():\n",
    "    return (10, 20)\n",
    "\n",
    "val = test()\n",
    "print(val)\n",
    "\n",
    "(a, b) = test()\n",
    "print(\"a:\", a)\n",
    "print(\"b:\", b)"
   ]
  },
  {
   "cell_type": "markdown",
   "id": "c61ad079-8bc1-41d3-97a7-4af91340499b",
   "metadata": {},
   "source": [
    "### 1-5) 튜플을 리턴하는 함수의 예"
   ]
  },
  {
   "cell_type": "code",
   "execution_count": 153,
   "id": "576d6f4e-47c9-40a8-83bb-3cb7ed051ed3",
   "metadata": {},
   "outputs": [
    {
     "name": "stdout",
     "output_type": "stream",
     "text": [
      "0번째 요소는 1입니다.\n",
      "1번째 요소는 2입니다.\n",
      "2번째 요소는 3입니다.\n",
      "3번째 요소는 4입니다.\n",
      "4번째 요소는 5입니다.\n"
     ]
    }
   ],
   "source": [
    "for i, value in enumerate([1, 2, 3, 4, 5]):\n",
    "    print(\"{}번째 요소는 {}입니다.\".format(i, value))"
   ]
  },
  {
   "cell_type": "markdown",
   "id": "3a9871fc-4f7a-467a-8d42-edaf54a2b9bc",
   "metadata": {},
   "source": [
    "`enumerate()` for 반복문을 사용할때 `i, value` 는 `(i, value)` 형태의 튜플에서 괄호를 제거한 것이다.\n",
    "\n",
    "> Remind : eumerate() 함수는 리스트를 매개변수로 넣을 경우 인덱스와 값을 쌍으로 사용해 반복문을 돌릴 수 있게 해주는 함수이다."
   ]
  },
  {
   "cell_type": "code",
   "execution_count": 156,
   "id": "67454e1a-49bf-4be9-8ede-85770002171c",
   "metadata": {},
   "outputs": [
    {
     "name": "stdout",
     "output_type": "stream",
     "text": [
      "A key의 값은 a 입니다.\n",
      "B key의 값은 b 입니다.\n",
      "C key의 값은 c 입니다.\n"
     ]
    }
   ],
   "source": [
    "for key, value in {\"A\": \"a\", \"B\": \"b\", \"C\": \"c\"}.items():\n",
    "    print(\"{} key의 값은 {} 입니다.\".format(key, value))"
   ]
  },
  {
   "cell_type": "markdown",
   "id": "a4e8ba46-b53f-44f5-9c1f-7852252cd48b",
   "metadata": {},
   "source": [
    "`items()` for 반복문을 사용할때 `key, value` 는 `(key, value)` 형태의 튜플에서 괄호를 제거한 것이다.\n",
    "> Remind: items() 함수는 키와 쌍으로 사용해 반복문을 돌릴 수 있게 해주는 딕셔너리 함수이다."
   ]
  },
  {
   "cell_type": "code",
   "execution_count": 160,
   "id": "94fd17d0-a20f-44d5-baa8-f854d3a0e134",
   "metadata": {},
   "outputs": [
    {
     "name": "stdout",
     "output_type": "stream",
     "text": [
      "(2, 17) <class 'tuple'>\n",
      "x: 2\n",
      "y: 17\n"
     ]
    }
   ],
   "source": [
    "a, b = 97, 40\n",
    "res = divmod(a, b)\n",
    "print(res, type(res))\n",
    "\n",
    "x, y = divmod(a, b)\n",
    "print(\"x:\",x)\n",
    "print(\"y:\",y)"
   ]
  },
  {
   "cell_type": "markdown",
   "id": "295d520a-c51a-4eca-b609-9a1a9bedc807",
   "metadata": {},
   "source": [
    "몫과 나머지를 구하는 `divmod()` 함수도 튜플을 리턴하는 대표적인 함수이다."
   ]
  },
  {
   "cell_type": "markdown",
   "id": "59500b64-e8bb-4042-9fc0-e023fa799cbe",
   "metadata": {},
   "source": [
    "## 2) 람다\n",
    "\n",
    "요즘 프로그래밍 언어에서는 함수라능 '기능'을 매개변수로 전달하는 코드를 많이 사용한다.  \n",
    "그리고 이런 코드를 조금 더 효율적으로 작성할 수 있도록 파이썬은 람다(lambda)라는 기능을 제공한다.\n",
    "\n",
    "### 2-1) 함수의 매개변수로 함수 전달"
   ]
  },
  {
   "cell_type": "code",
   "execution_count": 161,
   "id": "0822d130-e1c2-40b3-8722-65e74799a41c",
   "metadata": {},
   "outputs": [
    {
     "name": "stdout",
     "output_type": "stream",
     "text": [
      "Hello\n",
      "Hello\n",
      "Hello\n",
      "Hello\n",
      "Hello\n",
      "Hello\n",
      "Hello\n",
      "Hello\n",
      "Hello\n",
      "Hello\n"
     ]
    }
   ],
   "source": [
    "# 매개변수로 받은 함수를 10번 호출하는 함수\n",
    "def call_10_times(func):\n",
    "    for i in range(10):\n",
    "        func()\n",
    "\n",
    "# 간단한 출력하는 함수\n",
    "def print_hello():\n",
    "    print(\"Hello\")\n",
    "\n",
    "# 함수 호출\n",
    "call_10_times(print_hello) # <- print_hello 함수가 매개변수로 전달됨"
   ]
  },
  {
   "cell_type": "markdown",
   "id": "ade087dd-7402-4871-90c9-a3178e7bf9fa",
   "metadata": {},
   "source": [
    "### 2-2) filter() 함수와 map() 함수\n",
    "\n",
    "- `map()` 함수는 리스트의 요소를 함수에 넣고 리턴된 값으로 새로운 리스트를 구성해 주는 함수이다.\n",
    "    - `map(함수, 리스트)`\n",
    "\n",
    "- `filter()` 함수는 리스트의 요소를 함수에 넣고 리턴된 값이 True인 것으로, 새로운 리스트를 구성해 주는 함수이다.\n",
    "    - `filter(함수, 리스트)`\n"
   ]
  },
  {
   "cell_type": "code",
   "execution_count": 171,
   "id": "46acdd3f-ef97-4a21-a681-3a45ae0074b9",
   "metadata": {},
   "outputs": [
    {
     "name": "stdout",
     "output_type": "stream",
     "text": [
      "# map() 함수 실행 결과:\n",
      "<map object at 0x000001F0B5C72E80>\n",
      "[1, 4, 9, 16, 25]\n",
      "# filter() 함수 실행 결과\n",
      "<filter object at 0x000001F0B5C72610>\n",
      "[1, 2]\n"
     ]
    }
   ],
   "source": [
    "# 함수 선언\n",
    "def power(item):\n",
    "    return item * item\n",
    "def under_3(item):\n",
    "    return item < 3\n",
    "\n",
    "# 변수 선언\n",
    "list_input_a = [1, 2, 3, 4, 5]\n",
    "\n",
    "# map()\n",
    "output_a = map(power, list_input_a)\n",
    "print(\"# map() 함수 실행 결과:\")\n",
    "print(output_a)\n",
    "print(list(output_a))\n",
    "\n",
    "# filter()\n",
    "output_b = filter(under_3, list_input_a)\n",
    "print(\"# filter() 함수 실행 결과\")\n",
    "print(output_b)\n",
    "print(list(output_b))"
   ]
  },
  {
   "cell_type": "markdown",
   "id": "f096ca42-e3f0-485b-a2af-f33c9944ec23",
   "metadata": {},
   "source": [
    "위의 코드의 결과로 `map()`은 `<map object>`로 `filter()`은 `<filter object>`가 나오는데, 이를 `제너레이터(generator)`라고 부른다.  "
   ]
  },
  {
   "cell_type": "markdown",
   "id": "0338562a-3ba4-40f6-9d4d-5de4645bdce0",
   "metadata": {},
   "source": [
    "### 2-3) 람다의 개념\n",
    "\n",
    "람다(lambda)는 간단한 함수를 쉽게 선언하는 방법이다.\n",
    "\n",
    "        lambda 매개변수 : 리턴값"
   ]
  },
  {
   "cell_type": "code",
   "execution_count": 173,
   "id": "b91f5ad6-64a2-41e1-9523-4d9319f420b3",
   "metadata": {},
   "outputs": [
    {
     "name": "stdout",
     "output_type": "stream",
     "text": [
      "# map() 함수 실행 결과:\n",
      "<map object at 0x000001F0B5C72850>\n",
      "[1, 4, 9, 16, 25]\n",
      "# filter() 함수 실행 결과\n",
      "<filter object at 0x000001F0B5C72B50>\n",
      "[1, 2]\n"
     ]
    }
   ],
   "source": [
    "# 함수 선언\n",
    "power = lambda item: item * item\n",
    "under_3 = lambda item: item < 3\n",
    "\n",
    "# 변수 선언\n",
    "list_input_a = [1, 2, 3, 4, 5]\n",
    "\n",
    "# map()\n",
    "output_a = map(power, list_input_a)\n",
    "print(\"# map() 함수 실행 결과:\")\n",
    "print(output_a)\n",
    "print(list(output_a))\n",
    "\n",
    "# filter()\n",
    "output_b = filter(under_3, list_input_a)\n",
    "print(\"# filter() 함수 실행 결과\")\n",
    "print(output_b)\n",
    "print(list(output_b))"
   ]
  },
  {
   "cell_type": "code",
   "execution_count": 174,
   "id": "c0c55b9f-b349-4d8d-8e1d-0847b92355a9",
   "metadata": {},
   "outputs": [
    {
     "name": "stdout",
     "output_type": "stream",
     "text": [
      "# map() 함수 실행 결과:\n",
      "<map object at 0x000001F0B5C72A90>\n",
      "[1, 4, 9, 16, 25]\n",
      "# filter() 함수 실행 결과\n",
      "<filter object at 0x000001F0B5C72B80>\n",
      "[1, 2]\n"
     ]
    }
   ],
   "source": [
    "# 변수 선언\n",
    "list_input_a = [1, 2, 3, 4, 5]\n",
    "\n",
    "# map()\n",
    "output_a = map(lambda item: item * item, list_input_a)\n",
    "print(\"# map() 함수 실행 결과:\")\n",
    "print(output_a)\n",
    "print(list(output_a))\n",
    "\n",
    "# filter()\n",
    "output_b = filter(lambda item: item < 3, list_input_a)\n",
    "print(\"# filter() 함수 실행 결과\")\n",
    "print(output_b)\n",
    "print(list(output_b))"
   ]
  },
  {
   "cell_type": "markdown",
   "id": "b51734b4-1eab-46ca-8898-af84abe7c72a",
   "metadata": {},
   "source": [
    "## 3) 파일 처리\n",
    "\n",
    "파일관 관련된 처리를 하는 표준 함수가 기본으로 제공된다.  \n",
    "파일은 크게 텍스트 파일과 바이너리 파일로 나뉘는데, 여기서는 텍스트 파일과 관련된 내용만 알아본다.\n",
    "\n",
    "- 파일 처리 순서: 파일 열기 (open) -> 파일 읽기 (read) / 파일 쓰기 (write)\n",
    "\n",
    "### 3-1) 파일 열고 닫기\n",
    "\n",
    "파일을 열 때는 `open()` 함수를 사용한다.\n",
    "\n",
    "        파일 객체 = open(문자열:파일경로, 문자열:읽기모드)\n",
    "        \n",
    "- `open()` 함수의 첫 번째 매개변수에는 파일 경로(path)를 입력하고, 두 번째 매개변수에는 모드(mode)를 지정한다.\n",
    "\n",
    "|모드|설명|\n",
    "|---|---|\n",
    "|`w`|write 모드(새로 쓰기 모드)|\n",
    "|`a`|append 모드(뒤에 이어서 쓰기 모드)|\n",
    "|`r`|read 모드(읽기 모드)|\n",
    "\n",
    "파일을 닫을 때는 `close()` 함수를 사용한다."
   ]
  },
  {
   "cell_type": "code",
   "execution_count": 176,
   "id": "02062431-1163-4751-981d-0f0ad1331db6",
   "metadata": {},
   "outputs": [],
   "source": [
    "# 파일을 연다.\n",
    "file = open(\"./test.txt\", \"w\")\n",
    "\n",
    "# 파일에 텍스트를 쓴다.\n",
    "file.write(\"Hello ! :D\")\n",
    "\n",
    "# 파일을 닫는다.\n",
    "file.close()"
   ]
  },
  {
   "cell_type": "markdown",
   "id": "5ff2e6fc-2207-4af9-8bc8-b14f43de5391",
   "metadata": {},
   "source": [
    "### 3-2) with 키워드\n",
    "\n",
    "프로그램이 길어지면 `open()` 함수와 `close()` 함수 사이에 많은 코드가 들어간다.  \n",
    "파일을 열고 닫지 않는 실수를 방지하기 위해 `with 키워드`라는 기능이 있다.\n",
    "\n",
    "        with open(문자열:파일경로, 문자열:모드) as 객체:\n",
    "            문장"
   ]
  },
  {
   "cell_type": "code",
   "execution_count": 177,
   "id": "dc814b0e-ef84-4a0c-9228-542c67016d13",
   "metadata": {},
   "outputs": [],
   "source": [
    "# 파일을 연다.\n",
    "with open(\"./test.txt\", \"w\") as file:\n",
    "    # 파일에 텍스트를 쓴다.\n",
    "    file.write(\"Hello ! :D\")    \n",
    "\n",
    "# with 구문이 완료되면 자동으로 파일이 닫힌다."
   ]
  },
  {
   "cell_type": "markdown",
   "id": "fafbcf75-1c31-479f-ae3c-3af600a00c2d",
   "metadata": {},
   "source": [
    "> 스트림: 프로그램이 외부 파일, 외부 네트워크 등과 통신할 때는 데이터가 흐르는 길을 만들어야 한다. 이를 스트림(Stream)이라 한다.  \n",
    "> open() 함수를 정확하게 설명하면 프로그램에서 파일이 흐르는 길을 만드는 것이고, close() 함수는 프로그램에서 파일로 흐르는 길을 닫는 것이다.  \n",
    ">   \n",
    "> with 키워드는 이러한 스트림을 열고 닫는 실수를 줄이고자 만들어진 구문이다. 이는 네트워크로 흐르는 길을 열고 닫을 때도 사용한다."
   ]
  },
  {
   "cell_type": "markdown",
   "id": "d596d4f7-da4d-4117-b27b-76fe0602c688",
   "metadata": {},
   "source": [
    "### 3-3) 텍스트 읽기\n",
    "\n",
    "파일을 읽을 때는 `read()` 함수를 사용한다.\n",
    "\n",
    "        파일객체.read()\n",
    "        \n",
    "파일을 열고 파일 객체의 read() 함수를 호출하기만 하면 내부에 있는 데이터를 모두 읽어 출력한다."
   ]
  },
  {
   "cell_type": "code",
   "execution_count": 178,
   "id": "376cf9cc-6e17-434b-a739-92aaf8b2a522",
   "metadata": {},
   "outputs": [
    {
     "name": "stdout",
     "output_type": "stream",
     "text": [
      "Hello ! :D\n"
     ]
    }
   ],
   "source": [
    "with open(\"./sheet.txt\", \"r\") as file: # 읽기 모드로 변경\n",
    "    # 파일을 읽고 출력\n",
    "    contents = file.read()\n",
    "print(contents)"
   ]
  },
  {
   "cell_type": "markdown",
   "id": "e91bf61d-a2d1-441c-b619-51cf6241284d",
   "metadata": {},
   "source": [
    "### 3-4) 텍스트 한 줄씩 읽기\n",
    "\n",
    "- 랜던하게 1000명의 키와 몸무게 만들기"
   ]
  },
  {
   "cell_type": "code",
   "execution_count": 180,
   "id": "3b11ec0f-2965-44dd-9486-00ffaa79450d",
   "metadata": {},
   "outputs": [],
   "source": [
    "# 랜덤한 숫자를 만들기 위해 모듈을 가져온다.\n",
    "import random\n",
    "\n",
    "# 간단한 한글 리스트 생성\n",
    "hanguls = list(\"가나다라마바사아자차카타파하\")\n",
    "# 파일을 쓰기 모드로 변경\n",
    "with open(\"./test.txt\", \"w\") as file:\n",
    "    for i in range(1000):\n",
    "        # 랜덤한 값으로 변수를 생성\n",
    "        name = random.choice(hanguls) + random.choice(hanguls)\n",
    "        weight = random.randrange(40, 100)\n",
    "        height = random.randrange(140, 200)\n",
    "        # 텍스트를 쓴다.\n",
    "        file.write(\"{}, {}, {}\\n\".format(name, weight, height))"
   ]
  },
  {
   "cell_type": "markdown",
   "id": "45fbba30-efd4-453d-91a8-296c50b29ab5",
   "metadata": {},
   "source": [
    "- 반복문으로 파일 한 줄씩 읽기"
   ]
  },
  {
   "cell_type": "code",
   "execution_count": 184,
   "id": "fd7d290c-668b-40c0-899e-603a53babbf9",
   "metadata": {
    "tags": []
   },
   "outputs": [],
   "source": [
    "  with open(\"./test.txt\", \"r\") as file:\n",
    "    for line in file:\n",
    "        # 변수를 선언한다\n",
    "        (name, weight, height) = line.strip().split(\", \")\n",
    "        \n",
    "        # 데이터가 문제없는지 확인. 문제가 있으면 지나감\n",
    "        if (not name) or (not weight) or (not height):\n",
    "            continue\n",
    "        # 결과를 계산\n",
    "        bmi = int(weight) / ((int(height) / 100) **2)\n",
    "        result = \"\"\n",
    "        if 25 <= bmi:\n",
    "            result = \"과체중\"\n",
    "        elif 18.5 <= bmi:\n",
    "            result = \"정상 체중\"\n",
    "        else:\n",
    "            result = \"저체중\"\n",
    "        \n",
    "        # 출력\n",
    "#         print('\\n'.join([\n",
    "#             \"이름: {}\",\n",
    "#             \"몸무게: {}\",\n",
    "#             \"키: {}\",\n",
    "#             \"BMI: {}\",\n",
    "#             \"결과: {}\",\n",
    "#         ]).format(name, weight, height, bmi, result))\n",
    "#         print()"
   ]
  },
  {
   "cell_type": "markdown",
   "id": "1bd34eea-2f3d-436b-86ad-e666e8d3c4ab",
   "metadata": {},
   "source": [
    "- 한 줄씩 내용 복사하기"
   ]
  },
  {
   "cell_type": "code",
   "execution_count": 185,
   "id": "d7d5c29c-908b-429b-9e82-7c44fa0f7a75",
   "metadata": {},
   "outputs": [],
   "source": [
    "with open(\"./sample.txt\", \"r\") as r_file:\n",
    "    with open(\"./test.txt\", \"w\") as w_file:\n",
    "        for line in r_file:\n",
    "            w_file.writelines(line)"
   ]
  },
  {
   "cell_type": "markdown",
   "id": "aaf95314-7a83-49af-b1a9-6d68a701e3ee",
   "metadata": {},
   "source": [
    "## 4. 제너레이터\n",
    "\n",
    "제너레이터(generator)는 파이썬의 특수한 문법 구조이다.  \n",
    "제너레이터는 이터레이터를 직접 만들 때 사용하는 코드로 함수 내부에 `yield 키워드`를  \n",
    "사용하면 해당 함수는 제너레이터 함수가 되며, 일반 함수와는 달리 함수를 호출해도 함수 내부의 코드가 실행되지 않는다."
   ]
  },
  {
   "cell_type": "code",
   "execution_count": 187,
   "id": "6d1f8653-bf79-4cda-b867-fbc60f4fc796",
   "metadata": {},
   "outputs": [
    {
     "name": "stdout",
     "output_type": "stream",
     "text": [
      "A 지점 통과\n",
      "B 지점 통과\n",
      "<generator object test at 0x000001F0B69D9890>\n"
     ]
    }
   ],
   "source": [
    "# 함수 선언\n",
    "def test():\n",
    "    print(\"함수가 호출됨\")\n",
    "    yield \"test\"\n",
    "\n",
    "# 함수를 호출\n",
    "print(\"A 지점 통과\")\n",
    "test()\n",
    "\n",
    "print(\"B 지점 통과\")\n",
    "test()\n",
    "print(test())"
   ]
  },
  {
   "cell_type": "markdown",
   "id": "4e38b963-ed4a-4631-8856-cd4edffc81c8",
   "metadata": {},
   "source": [
    "위의 코드의 결과와 같이 제너레이터 함수는 실제로 함수를 실행하지 않고 제너레이터만을 리턴한다.  \n",
    "제너레이터 객체는 `next()` 함수를 사용해 함수 내부의 코드를 실행한다. 이때 `yield 키워드` 부분까지만 실행되며,  \n",
    "`next()` 함수의 리턴값으로 yield 키워드 뒤에 입력한 값이 추출된다."
   ]
  },
  {
   "cell_type": "code",
   "execution_count": 188,
   "id": "308a13af-3345-4fe5-9166-9e0ca82dc1c3",
   "metadata": {},
   "outputs": [
    {
     "name": "stdout",
     "output_type": "stream",
     "text": [
      "pass D\n",
      "pass A\n",
      "1\n",
      "pass E\n",
      "pass B\n",
      "2\n",
      "pass F\n",
      "pass C\n"
     ]
    },
    {
     "ename": "StopIteration",
     "evalue": "",
     "output_type": "error",
     "traceback": [
      "\u001b[1;31m---------------------------------------------------------------------------\u001b[0m",
      "\u001b[1;31mStopIteration\u001b[0m                             Traceback (most recent call last)",
      "\u001b[1;32m~\\AppData\\Local\\Temp/ipykernel_45976/3199506796.py\u001b[0m in \u001b[0;36m<module>\u001b[1;34m\u001b[0m\n\u001b[0;32m     18\u001b[0m \u001b[0mprint\u001b[0m\u001b[1;33m(\u001b[0m\u001b[0mb\u001b[0m\u001b[1;33m)\u001b[0m\u001b[1;33m\u001b[0m\u001b[1;33m\u001b[0m\u001b[0m\n\u001b[0;32m     19\u001b[0m \u001b[0mprint\u001b[0m\u001b[1;33m(\u001b[0m\u001b[1;34m\"pass F\"\u001b[0m\u001b[1;33m)\u001b[0m\u001b[1;33m\u001b[0m\u001b[1;33m\u001b[0m\u001b[0m\n\u001b[1;32m---> 20\u001b[1;33m \u001b[0mc\u001b[0m \u001b[1;33m=\u001b[0m \u001b[0mnext\u001b[0m\u001b[1;33m(\u001b[0m\u001b[0moutput\u001b[0m\u001b[1;33m)\u001b[0m\u001b[1;33m\u001b[0m\u001b[1;33m\u001b[0m\u001b[0m\n\u001b[0m\u001b[0;32m     21\u001b[0m \u001b[0mprint\u001b[0m\u001b[1;33m(\u001b[0m\u001b[0mc\u001b[0m\u001b[1;33m)\u001b[0m\u001b[1;33m\u001b[0m\u001b[1;33m\u001b[0m\u001b[0m\n\u001b[0;32m     22\u001b[0m \u001b[1;31m# 한 번 더 실행\u001b[0m\u001b[1;33m\u001b[0m\u001b[1;33m\u001b[0m\u001b[1;33m\u001b[0m\u001b[0m\n",
      "\u001b[1;31mStopIteration\u001b[0m: "
     ]
    }
   ],
   "source": [
    "# 함수 선언\n",
    "def test():\n",
    "    print(\"pass A\")\n",
    "    yield 1\n",
    "    print(\"pass B\")\n",
    "    yield 2 \n",
    "    print(\"pass C\")\n",
    "\n",
    "# 함수 호출 \n",
    "output = test()\n",
    "\n",
    "# next() 함수 호출\n",
    "print(\"pass D\")\n",
    "a = next(output)\n",
    "print(a)\n",
    "print(\"pass E\")\n",
    "b = next(output)\n",
    "print(b)\n",
    "print(\"pass F\")\n",
    "c = next(output)\n",
    "print(c)\n",
    "# 한 번 더 실행\n",
    "next(output)"
   ]
  },
  {
   "cell_type": "markdown",
   "id": "7e5ec89f-6d6f-463a-b7fd-543663273531",
   "metadata": {},
   "source": [
    "마지막 결과를 보면 `next()` 함수를 호출한 이후 yield 키워드를 만나지 못하고 함수가 끝나면 `StopIteration` 예외가 발생한다.  \n",
    "이렇게 제너레이터 객체는 **함수의 코드를 조금씩 실행하여 메모리의 효율성을 높인다.**  \n",
    "제너레이터 객체와 이터레이터 객체는 완전히 같지는 않지만, 기본적인 단계에서는 거의 비슷하다고 봐도 무방하다."
   ]
  }
 ],
 "metadata": {
  "kernelspec": {
   "display_name": "Python 3 (ipykernel)",
   "language": "python",
   "name": "python3"
  },
  "language_info": {
   "codemirror_mode": {
    "name": "ipython",
    "version": 3
   },
   "file_extension": ".py",
   "mimetype": "text/x-python",
   "name": "python",
   "nbconvert_exporter": "python",
   "pygments_lexer": "ipython3",
   "version": "3.9.6"
  }
 },
 "nbformat": 4,
 "nbformat_minor": 5
}

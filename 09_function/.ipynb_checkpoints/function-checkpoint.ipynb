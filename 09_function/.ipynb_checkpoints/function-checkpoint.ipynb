{
 "cells": [
  {
   "cell_type": "markdown",
   "id": "aa8ab8a6-7af0-45b4-b17a-cc7515747892",
   "metadata": {},
   "source": [
    "# 함수 분석 정리\n",
    "\n",
    "- [1. 함수 기본 생성]()\n",
    "  - [def 키워드]()\n",
    "- [2. 일반 매개변수]()\n",
    "- [3. 키워드 매개변수]()\n",
    "- [4. 가변 매개변수]()\n",
    "  - [*arguments]()\n",
    "  - [*kwarguments]()\n",
    "- [5. 매개변수 혼합]()\n",
    "\n",
    "# 1. 함수 기본 생성\n",
    "\n",
    "---\n",
    "\n",
    "## `def 키워드`\n",
    "\n",
    "```\n",
    "def 함수명():\n",
    "    함수 호출시 실행할 코드\n",
    "```"
   ]
  },
  {
   "cell_type": "code",
   "execution_count": 1,
   "id": "02ced3d1-16e6-48bf-b420-c880172ac765",
   "metadata": {},
   "outputs": [
    {
     "name": "stdout",
     "output_type": "stream",
     "text": [
      "function call\n"
     ]
    }
   ],
   "source": [
    "def func():\n",
    "    print(\"function call\")\n",
    "\n",
    "func()"
   ]
  },
  {
   "cell_type": "markdown",
   "id": "b5e07e76-a849-4d92-a56d-0e28659aa14a",
   "metadata": {},
   "source": [
    "# 2. 일반 매개변수\n",
    "\n",
    "---\n",
    "\n",
    "```\n",
    "def 함수명(매개변수, 매개변수, 매개변수, ...):\n",
    "```"
   ]
  },
  {
   "cell_type": "code",
   "execution_count": 2,
   "id": "11b653b3-7faf-4191-96ec-645bd126c0b7",
   "metadata": {},
   "outputs": [
    {
     "name": "stdout",
     "output_type": "stream",
     "text": [
      "1 2 3 4\n"
     ]
    }
   ],
   "source": [
    "def func(a, b, c, d):\n",
    "    print(a, b, c, d)\n",
    "    \n",
    "func(1, 2, 3, 4)"
   ]
  },
  {
   "cell_type": "markdown",
   "id": "e0d21a33-3992-441e-8d88-0cf79e6cfb4f",
   "metadata": {},
   "source": [
    "- 만일 매개변수 갯수가 맞지 않으면 예외가 발생함"
   ]
  },
  {
   "cell_type": "code",
   "execution_count": 3,
   "id": "90bdb324-e603-40a3-ba20-e69f946a79f8",
   "metadata": {},
   "outputs": [
    {
     "ename": "TypeError",
     "evalue": "func() missing 1 required positional argument: 'd'",
     "output_type": "error",
     "traceback": [
      "\u001b[1;31m---------------------------------------------------------------------------\u001b[0m",
      "\u001b[1;31mTypeError\u001b[0m                                 Traceback (most recent call last)",
      "\u001b[1;32m~\\AppData\\Local\\Temp/ipykernel_37728/3736737661.py\u001b[0m in \u001b[0;36m<module>\u001b[1;34m\u001b[0m\n\u001b[0;32m      2\u001b[0m     \u001b[0mprint\u001b[0m\u001b[1;33m(\u001b[0m\u001b[0ma\u001b[0m\u001b[1;33m,\u001b[0m \u001b[0mb\u001b[0m\u001b[1;33m,\u001b[0m \u001b[0mc\u001b[0m\u001b[1;33m,\u001b[0m \u001b[0md\u001b[0m\u001b[1;33m)\u001b[0m\u001b[1;33m\u001b[0m\u001b[1;33m\u001b[0m\u001b[0m\n\u001b[0;32m      3\u001b[0m \u001b[1;33m\u001b[0m\u001b[0m\n\u001b[1;32m----> 4\u001b[1;33m \u001b[0mfunc\u001b[0m\u001b[1;33m(\u001b[0m\u001b[1;36m1\u001b[0m\u001b[1;33m,\u001b[0m \u001b[1;36m2\u001b[0m\u001b[1;33m,\u001b[0m \u001b[1;36m3\u001b[0m\u001b[1;33m)\u001b[0m\u001b[1;33m\u001b[0m\u001b[1;33m\u001b[0m\u001b[0m\n\u001b[0m",
      "\u001b[1;31mTypeError\u001b[0m: func() missing 1 required positional argument: 'd'"
     ]
    }
   ],
   "source": [
    "def func(a, b, c, d):\n",
    "    print(a, b, c, d)\n",
    "    \n",
    "func(1, 2, 3)"
   ]
  },
  {
   "cell_type": "markdown",
   "id": "d4d0189a-a501-4755-b68f-8f5a199d1ce2",
   "metadata": {},
   "source": [
    "# 3. 키워드 매개변수\n",
    "\n",
    "---\n",
    "\n",
    "```\n",
    "def 함수명(매개변수=값, 매개변수=값, 매개변수=값, ...):\n",
    "```"
   ]
  },
  {
   "cell_type": "code",
   "execution_count": 95,
   "id": "744443fa-acc2-4646-85b5-274e505309d4",
   "metadata": {},
   "outputs": [
    {
     "name": "stdout",
     "output_type": "stream",
     "text": [
      "1 2 3 4\n"
     ]
    }
   ],
   "source": [
    "def func(a, b, c, d):\n",
    "    print(a, b, c, d)\n",
    "\n",
    "func(b=2, a=1, d=4, c=3)"
   ]
  },
  {
   "cell_type": "code",
   "execution_count": 97,
   "id": "ac59c7b7-86d0-4457-90aa-799c4b6f5ed0",
   "metadata": {},
   "outputs": [
    {
     "name": "stdout",
     "output_type": "stream",
     "text": [
      "1 2 3 4\n"
     ]
    }
   ],
   "source": [
    "def func(a=1, b=2, c=3, d=4):\n",
    "    print(a, b, c, d)\n",
    "\n",
    "func()"
   ]
  },
  {
   "cell_type": "code",
   "execution_count": 99,
   "id": "23658254-7069-4644-9071-bfe2b090d904",
   "metadata": {},
   "outputs": [
    {
     "name": "stdout",
     "output_type": "stream",
     "text": [
      "1 2 3 10\n"
     ]
    }
   ],
   "source": [
    "def func(a, b, c=3, d=4):\n",
    "    print(a, b, c, d)\n",
    "\n",
    "func(1, 2, d=10)"
   ]
  },
  {
   "cell_type": "markdown",
   "id": "47e4d085-0785-44bd-a077-b2761efc517b",
   "metadata": {},
   "source": [
    "- 키워드 매개변수는 일반매개변수 앞에 올 수 없다"
   ]
  },
  {
   "cell_type": "code",
   "execution_count": 100,
   "id": "3678ba46-1261-404e-a8bf-15503909fe7c",
   "metadata": {},
   "outputs": [
    {
     "ename": "SyntaxError",
     "evalue": "non-default argument follows default argument (Temp/ipykernel_37728/4077365899.py, line 1)",
     "output_type": "error",
     "traceback": [
      "\u001b[1;36m  File \u001b[1;32m\"C:\\Users\\dlals\\AppData\\Local\\Temp/ipykernel_37728/4077365899.py\"\u001b[1;36m, line \u001b[1;32m1\u001b[0m\n\u001b[1;33m    def func(a=1, b=2, c, d):\u001b[0m\n\u001b[1;37m                          ^\u001b[0m\n\u001b[1;31mSyntaxError\u001b[0m\u001b[1;31m:\u001b[0m non-default argument follows default argument\n"
     ]
    }
   ],
   "source": [
    "def func(a=1, b=2, c, d):\n",
    "    print(a, b, c, d)\n",
    "\n",
    "func(1, 2)"
   ]
  },
  {
   "cell_type": "code",
   "execution_count": 104,
   "id": "2c01425a-48f5-4893-9138-4ae65f9be8ae",
   "metadata": {},
   "outputs": [
    {
     "ename": "SyntaxError",
     "evalue": "non-default argument follows default argument (Temp/ipykernel_37728/106452073.py, line 1)",
     "output_type": "error",
     "traceback": [
      "\u001b[1;36m  File \u001b[1;32m\"C:\\Users\\dlals\\AppData\\Local\\Temp/ipykernel_37728/106452073.py\"\u001b[1;36m, line \u001b[1;32m1\u001b[0m\n\u001b[1;33m    def func(a=1, b=2, c, d):\u001b[0m\n\u001b[1;37m                          ^\u001b[0m\n\u001b[1;31mSyntaxError\u001b[0m\u001b[1;31m:\u001b[0m non-default argument follows default argument\n"
     ]
    }
   ],
   "source": [
    "def func(a=1, b=2, c, d):\n",
    "    print(a, b, c, d)\n",
    "\n",
    "func(c=3, d=4)"
   ]
  },
  {
   "cell_type": "code",
   "execution_count": 106,
   "id": "76337643-2860-454e-b7d1-2c215cfaf901",
   "metadata": {},
   "outputs": [
    {
     "ename": "SyntaxError",
     "evalue": "non-default argument follows default argument (Temp/ipykernel_37728/2698130138.py, line 1)",
     "output_type": "error",
     "traceback": [
      "\u001b[1;36m  File \u001b[1;32m\"C:\\Users\\dlals\\AppData\\Local\\Temp/ipykernel_37728/2698130138.py\"\u001b[1;36m, line \u001b[1;32m1\u001b[0m\n\u001b[1;33m    def func(a, b, c=3, d):\u001b[0m\n\u001b[1;37m                         ^\u001b[0m\n\u001b[1;31mSyntaxError\u001b[0m\u001b[1;31m:\u001b[0m non-default argument follows default argument\n"
     ]
    }
   ],
   "source": [
    "def func(a, b, c=3, d):\n",
    "    print(a, b, c, d)\n",
    "\n",
    "func(a=1, b=2, d=4)"
   ]
  },
  {
   "cell_type": "markdown",
   "id": "42d5597e-2373-4f67-87c4-7c5167ff8ca0",
   "metadata": {},
   "source": [
    "# 4. 가변 매개변수\n",
    "\n",
    "---\n",
    "\n",
    "##  `*arguments`\n",
    "\n",
    "여러개의 매개변수를 튜플 자료형으로 받거나 넘겨줄때 쓰임\n"
   ]
  },
  {
   "cell_type": "code",
   "execution_count": 19,
   "id": "5b09f9d4-ca42-4402-b417-27144c23ccee",
   "metadata": {},
   "outputs": [
    {
     "name": "stdout",
     "output_type": "stream",
     "text": [
      "arr id: 2261210869632\n",
      "True\n",
      "type: <class 'tuple'>, values: ([1, 2, 3, 4, 5], 'A', 'B')\n",
      "id: 2261210869632\n",
      "[1000, 2, 3, 4, 5]\n"
     ]
    }
   ],
   "source": [
    "def func(*params):\n",
    "    global arr\n",
    "    print(arr is params[0])\n",
    "    print(f\"type: {type(params)}, values: {params}\")\n",
    "    print(f\"id: {id(params[0])}\")\n",
    "    params[0][0] = 1000\n",
    "\n",
    "arr = [1, 2, 3, 4, 5]\n",
    "print(f\"arr id: {id(arr)}\")\n",
    "func(arr, \"A\", \"B\")\n",
    "print(arr)"
   ]
  },
  {
   "cell_type": "markdown",
   "id": "85fda96a-313f-4ce0-948d-b09accb38c04",
   "metadata": {},
   "source": [
    "- 다양한 *arguments 활용 예제"
   ]
  },
  {
   "cell_type": "code",
   "execution_count": 18,
   "id": "8069916e-f45d-4cb6-b52d-170230a0b5a8",
   "metadata": {},
   "outputs": [
    {
     "name": "stdout",
     "output_type": "stream",
     "text": [
      "1 2 3 4\n"
     ]
    }
   ],
   "source": [
    "def func(a, b, c, d):\n",
    "    print(a, b, c, d)\n",
    "\n",
    "arr = [1, 2, 3, 4]\n",
    "func(*arr)"
   ]
  },
  {
   "cell_type": "code",
   "execution_count": 21,
   "id": "e7510f55-7e36-4cb1-85d5-1e0c3d5093da",
   "metadata": {},
   "outputs": [
    {
     "name": "stdout",
     "output_type": "stream",
     "text": [
      "(1, 2, 3, 4, 'A', 'B')\n"
     ]
    }
   ],
   "source": [
    "def func(*params):\n",
    "    print(params)\n",
    "    \n",
    "arr = [1, 2, 3, 4, \"A\", \"B\"]\n",
    "func(*arr)"
   ]
  },
  {
   "cell_type": "markdown",
   "id": "e737d6d1-bbe4-426d-b4ed-9643fafb3210",
   "metadata": {},
   "source": [
    "## `**kwarguments`\n",
    "\n",
    "여러개의 키워드 매개변수들을 키값 형태의 딕셔너리 자료형으로 넘겨받을때 쓰임"
   ]
  },
  {
   "cell_type": "code",
   "execution_count": 107,
   "id": "43347c3d-388c-477e-811d-fd649a04b98d",
   "metadata": {
    "jupyter": {
     "source_hidden": true
    },
    "tags": []
   },
   "outputs": [
    {
     "name": "stdout",
     "output_type": "stream",
     "text": [
      "arr id: 2261211974080\n",
      "False\n",
      "type: <class 'dict'>, values: {'a': 1, 'b': 2, 'c': 3}\n",
      "id: 2261210755648\n",
      "{'a': 1000, 'b': 2000, 'c': 3}\n",
      "{'a': 1, 'b': 2, 'c': 3}\n"
     ]
    }
   ],
   "source": [
    "def func(**params):\n",
    "    global dic\n",
    "    print(dic is params)\n",
    "    print(f\"type: {type(params)}, values: {params}\")\n",
    "    print(f\"id: {id(params)}\")\n",
    "    params.update(a=1000, b=2000)\n",
    "    print(params)\n",
    "\n",
    "dic = {\n",
    "    \"a\": 1,\n",
    "    \"b\": 2,\n",
    "    \"c\": 3\n",
    "}\n",
    "print(f\"arr id: {id(dic)}\")\n",
    "func(**dic)\n",
    "print(dic)"
   ]
  },
  {
   "cell_type": "code",
   "execution_count": 74,
   "id": "0ce8cb9c-889b-4d23-8ef0-ddd003b9d6ca",
   "metadata": {},
   "outputs": [
    {
     "name": "stdout",
     "output_type": "stream",
     "text": [
      "{'a': 'AAA', 'b': 'AAA', 'c': 'AAA'}\n",
      "{'a': 1, 'b': 2, 'c': 3}\n"
     ]
    }
   ],
   "source": [
    "def func(**params):\n",
    "    for k, v in params.items():\n",
    "        params[k] = \"AAA\"\n",
    "    print(params)\n",
    "\n",
    "dic = {\n",
    "    \"a\": 1,\n",
    "    \"b\": 2,\n",
    "    \"c\": 3\n",
    "}\n",
    "func(**dic)\n",
    "print(dic)"
   ]
  },
  {
   "cell_type": "code",
   "execution_count": 44,
   "id": "d8568564-4bb9-40a1-a2c7-e70a78b7aaf6",
   "metadata": {},
   "outputs": [
    {
     "name": "stdout",
     "output_type": "stream",
     "text": [
      "{'a': 2, 'b': 3, 'c': 4}\n"
     ]
    }
   ],
   "source": [
    "def func(**params):\n",
    "    print(params)\n",
    "\n",
    "func(a=2, b=3, c=4)"
   ]
  },
  {
   "cell_type": "markdown",
   "id": "1e627e37-8f12-4bb4-87bf-fc648b91a4a3",
   "metadata": {},
   "source": [
    "# 5. 매개변수 혼합\n",
    "\n",
    "---\n",
    "\n",
    "가변매개변수의 *과 **은 각각 하나만 정의가 가능하다. (2개이상 에러발생)"
   ]
  },
  {
   "cell_type": "code",
   "execution_count": 84,
   "id": "65c3170a-9320-4793-ab5c-4c8abce4750f",
   "metadata": {},
   "outputs": [],
   "source": [
    "def func(a, b=\"B\", *tuples, **params):\n",
    "    print(a, b, tuples, params, sep=\"\\n\")"
   ]
  },
  {
   "cell_type": "code",
   "execution_count": 85,
   "id": "9aa0592c-597c-4a9a-a4b3-faa0655e2e19",
   "metadata": {},
   "outputs": [
    {
     "name": "stdout",
     "output_type": "stream",
     "text": [
      "1\n",
      "2\n",
      "(3, 4, 5, 6, 7, 8)\n",
      "{}\n"
     ]
    }
   ],
   "source": [
    "func(1, 2, 3, 4, 5, 6, 7, 8)"
   ]
  },
  {
   "cell_type": "code",
   "execution_count": 87,
   "id": "6c1a194b-1287-40ef-ab9e-cc944b93c75a",
   "metadata": {},
   "outputs": [
    {
     "name": "stdout",
     "output_type": "stream",
     "text": [
      "1\n",
      "2\n",
      "(3, 4, 5, 6, 7, 8)\n",
      "{'c': 30, 'd': 40, 'e': 50}\n"
     ]
    }
   ],
   "source": [
    "func(1, 2, 3, 4, 5, 6, 7, 8, c=30, d=40, e=50)"
   ]
  },
  {
   "cell_type": "code",
   "execution_count": 93,
   "id": "0eb40541-9182-4f70-a37b-91ecca7d96b3",
   "metadata": {},
   "outputs": [
    {
     "name": "stdout",
     "output_type": "stream",
     "text": [
      "1\n",
      "2\n",
      "(3, 4, 5, 6, 7, 8)\n",
      "{'c': 30, 'd': 40, 'e': 50}\n"
     ]
    }
   ],
   "source": [
    "func(1, 2, *[3, 4, 5, 6, 7, 8], c=30, d=40, e=50)"
   ]
  }
 ],
 "metadata": {
  "kernelspec": {
   "display_name": "Python 3 (ipykernel)",
   "language": "python",
   "name": "python3"
  },
  "language_info": {
   "codemirror_mode": {
    "name": "ipython",
    "version": 3
   },
   "file_extension": ".py",
   "mimetype": "text/x-python",
   "name": "python",
   "nbconvert_exporter": "python",
   "pygments_lexer": "ipython3",
   "version": "3.9.6"
  }
 },
 "nbformat": 4,
 "nbformat_minor": 5
}

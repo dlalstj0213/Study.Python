{
 "cells": [
  {
   "cell_type": "markdown",
   "id": "890bd472-0d65-445e-a801-26dadbc79896",
   "metadata": {},
   "source": [
    "# 리스트 분석 정리\n",
    "\n",
    "## 목차\n",
    "\n",
    "- [1. 리스트의 다양한 생성 방법]()\n",
    "  - [초기 선언]()\n",
    "  - [`list()`]()\n",
    "  - [리스트 내포]()\n",
    "- [2. 리스트 추가 함수]()\n",
    "  - [`append()` : 요소 추가]()\n",
    "  - [`extend()` : 리스트 확장]()\n",
    "  - [`insert()` : 특정 인덱스에 요소 추가]()\n",
    "- [3. 리스트 요소 제거]()\n",
    "  - [`del 키워드` : 특정 인덱스의 요소 제거]()\n",
    "  - [`pop()` : 특정 인덱스의 요소 제거]()\n",
    "  - [`remove()` : 값으로 제거]()\n",
    "  - [`clear()` : 모든 요소 제거]()\n",
    "- [4. 리스트 내부 확인]()\n",
    "  - [`in 키워드`]()\n",
    "  - [`not in 키워드`]()\n",
    "- [5. 리스트 정렬]()\n",
    "  - [`sort()` : 리스트 내장 정렬 함수]()  \n",
    "- [6. 리스트 요소 갯수]()\n",
    "  - [`count()` : 요소 특정 값의 갯수 세기]()\n",
    "- [7. `min()`, `max()`, `sum()`]()\n",
    "  - [`min()` : 리스트 요소의 최소값 구하기]()\n",
    "  - [`max()` : 리스트 요소의 최대값 구하기]()\n",
    "  - [`sum()` : 리스트 요소의 합계 구하기]()\n",
    "  - [`map()` : 리턴된 값으로 새로운 리스트를 구성]()\n",
    "  - [`filter()` : 리턴된 값이 True인 것으로 새로운 리스트를 구성]()\n",
    "- [8. 얕은 복사(shallow copy)와 깊은 복사(deep copy)]()\n",
    "  - [변수 간 대입 (전체 참조)]()\n",
    "  - [슬라이싱으로 복사 (얕은 복사)]()\n",
    "  - [`copy()` (얕은 복사)]()\n",
    "  - [copy 모듈의 `copy()` (얕은 복사)]()\n",
    "  - [copy 모듈의 `deepcopy()` (깊은 복사)]()\n",
    "\n",
    "# 1. 리스트의 다양한 생성 방법\n",
    "\n",
    "---\n",
    "\n",
    "## 초기 선언"
   ]
  },
  {
   "cell_type": "code",
   "execution_count": 2,
   "id": "f293ffb8-9edb-4061-9536-ac783c58c1a3",
   "metadata": {},
   "outputs": [
    {
     "data": {
      "text/plain": [
       "[1, 2, 'A', 3, 'B']"
      ]
     },
     "execution_count": 2,
     "metadata": {},
     "output_type": "execute_result"
    }
   ],
   "source": [
    "arr = [1, 2, \"A\", 3, \"B\"]\n",
    "arr"
   ]
  },
  {
   "cell_type": "markdown",
   "id": "3d2cc712-2b37-4bf3-a767-17174a6dbef5",
   "metadata": {},
   "source": [
    "## `list()`"
   ]
  },
  {
   "cell_type": "code",
   "execution_count": 3,
   "id": "6f8fcacc-09ba-419c-8642-8369c33305c0",
   "metadata": {},
   "outputs": [
    {
     "data": {
      "text/plain": [
       "[1, 2, 'A', 3, 'B']"
      ]
     },
     "execution_count": 3,
     "metadata": {},
     "output_type": "execute_result"
    }
   ],
   "source": [
    "arr = list([1, 2, \"A\", 3, \"B\"])\n",
    "arr"
   ]
  },
  {
   "cell_type": "code",
   "execution_count": 37,
   "id": "902f01cd-b788-4b1b-af88-2deb96d1fa2b",
   "metadata": {},
   "outputs": [
    {
     "data": {
      "text/plain": [
       "[]"
      ]
     },
     "execution_count": 37,
     "metadata": {},
     "output_type": "execute_result"
    }
   ],
   "source": [
    "arr = list()\n",
    "arr"
   ]
  },
  {
   "cell_type": "markdown",
   "id": "14b86a79-ba59-4abd-9865-bec76aa77c27",
   "metadata": {},
   "source": [
    "## 리스트 내포\n",
    "\n",
    "- 반복문"
   ]
  },
  {
   "cell_type": "code",
   "execution_count": 7,
   "id": "9aeb1547-efa0-4a1a-89c8-7bbaacbba76a",
   "metadata": {},
   "outputs": [
    {
     "data": {
      "text/plain": [
       "[0, 1, 2, 3, 4, 5, 6, 7, 8, 9]"
      ]
     },
     "execution_count": 7,
     "metadata": {},
     "output_type": "execute_result"
    }
   ],
   "source": [
    "arr = [i for i in range(10)]\n",
    "arr"
   ]
  },
  {
   "cell_type": "markdown",
   "id": "3aba84e8-4b97-4edf-8aaf-56fcde4dffcc",
   "metadata": {},
   "source": [
    "- 반복문 + 조건문"
   ]
  },
  {
   "cell_type": "code",
   "execution_count": 10,
   "id": "4fadb884-afd8-416d-8060-e0c85070ee19",
   "metadata": {},
   "outputs": [
    {
     "data": {
      "text/plain": [
       "[1, 3, 5, 7, 9]"
      ]
     },
     "execution_count": 10,
     "metadata": {},
     "output_type": "execute_result"
    }
   ],
   "source": [
    "arr = [i for i in range(10) if i % 2]\n",
    "arr"
   ]
  },
  {
   "cell_type": "code",
   "execution_count": 16,
   "id": "d0dc8290-50cd-4af2-b142-f6d02e90d337",
   "metadata": {},
   "outputs": [
    {
     "data": {
      "text/plain": [
       "[0, '홀수', 2, '홀수', 4, '홀수', 6, '홀수', 8, '홀수']"
      ]
     },
     "execution_count": 16,
     "metadata": {},
     "output_type": "execute_result"
    }
   ],
   "source": [
    "arr = [i if i % 2==0 else \"홀수\" for i in range(10)]\n",
    "arr"
   ]
  },
  {
   "cell_type": "markdown",
   "id": "f74f6f40-2ad2-4e8d-b211-815ed8dd9ef5",
   "metadata": {},
   "source": [
    "- 반복 + 조건문 여러번\n",
    "\n",
    "> 리스트 내포에서 for가 여러 개일 때 처리 순서는 뒤에서 앞으로 순이다."
   ]
  },
  {
   "cell_type": "code",
   "execution_count": 19,
   "id": "47028e47-6188-4e03-9ffd-a67daf3028ca",
   "metadata": {},
   "outputs": [
    {
     "name": "stdout",
     "output_type": "stream",
     "text": [
      "arr1 : [2, 3, 4, 5, 6, 7, 8, 9]\n",
      "arr2 : [1, 2, 3, 4, 5, 6, 7, 8, 9]\n"
     ]
    }
   ],
   "source": [
    "arr1 = [i for i in range(2, 10)]\n",
    "arr2 = [j for j in range(1, 10)]\n",
    "print(\"arr1 : {}\".format(arr1))\n",
    "print(\"arr2 : {}\".format(arr2))"
   ]
  },
  {
   "cell_type": "code",
   "execution_count": 22,
   "id": "968d09ff-d48c-494e-9162-7401e8ee90e4",
   "metadata": {},
   "outputs": [
    {
     "name": "stdout",
     "output_type": "stream",
     "text": [
      "[2, 4, 6, 8, 10, 12, 14, 16, 18, 3, 6, 9, 12, 15, 18, 21, 24, 27, 4, 8, 12, 16, 20, 24, 28, 32, 36, 5, 10, 15, 20, 25, 30, 35, 40, 45, 6, 12, 18, 24, 30, 36, 42, 48, 54, 7, 14, 21, 28, 35, 42, 49, 56, 63, 8, 16, 24, 32, 40, 48, 56, 64, 72, 9, 18, 27, 36, 45, 54, 63, 72, 81]\n"
     ]
    }
   ],
   "source": [
    "# 2~9 까지의 구구단\n",
    "arr = [i * j for i in range(2, 10) for j in range(1, 10)]\n",
    "print(arr)"
   ]
  },
  {
   "cell_type": "code",
   "execution_count": 25,
   "id": "abbbe67e-4b8b-4d3d-8aed-0b4d0b32a549",
   "metadata": {},
   "outputs": [
    {
     "name": "stdout",
     "output_type": "stream",
     "text": [
      "['2*1=2', '2*2=4', '2*3=6', '2*4=8', '2*5=10', '2*6=12', '2*7=14', '2*8=16', '2*9=18', '3*1=3', '3*2=6', '3*3=9', '3*4=12', '3*5=15', '3*6=18', '3*7=21', '3*8=24', '3*9=27', '4*1=4', '4*2=8', '4*3=12', '4*4=16', '4*5=20', '4*6=24', '4*7=28', '4*8=32', '4*9=36', '5*1=5', '5*2=10', '5*3=15', '5*4=20', '5*5=25', '5*6=30', '5*7=35', '5*8=40', '5*9=45', '6*1=6', '6*2=12', '6*3=18', '6*4=24', '6*5=30', '6*6=36', '6*7=42', '6*8=48', '6*9=54', '7*1=7', '7*2=14', '7*3=21', '7*4=28', '7*5=35', '7*6=42', '7*7=49', '7*8=56', '7*9=63', '8*1=8', '8*2=16', '8*3=24', '8*4=32', '8*5=40', '8*6=48', '8*7=56', '8*8=64', '8*9=72', '9*1=9', '9*2=18', '9*3=27', '9*4=36', '9*5=45', '9*6=54', '9*7=63', '9*8=72', '9*9=81']\n"
     ]
    }
   ],
   "source": [
    "arr = [\"{}*{}={}\".format(i, j, i*j) for i in range(2, 10) for j in range(1, 10)]\n",
    "print(arr)"
   ]
  },
  {
   "cell_type": "code",
   "execution_count": 27,
   "id": "b1c581fd-766a-4e20-bd43-44d56d16bc61",
   "metadata": {},
   "outputs": [
    {
     "name": "stdout",
     "output_type": "stream",
     "text": [
      "['2*1=2', '2*2=4', '2*3=6', '2*4=8', '2*5=10', '2*6=12', '2*7=14', '2*8=16', '2*9=18']\n"
     ]
    }
   ],
   "source": [
    "arr = [\"{}*{}={}\".format(i, j, i*j) for i in range(2, 10) for j in range(1, 10) if i==2]\n",
    "print(arr)"
   ]
  },
  {
   "cell_type": "code",
   "execution_count": 29,
   "id": "7dc1906a-cd7e-468c-901a-c53088fa9abf",
   "metadata": {},
   "outputs": [
    {
     "name": "stdout",
     "output_type": "stream",
     "text": [
      "['3*1=3', '3*3=9', '3*5=15', '3*7=21', '3*9=27', '5*1=5', '5*3=15', '5*5=25', '5*7=35', '5*9=45', '7*1=7', '7*3=21', '7*5=35', '7*7=49', '7*9=63', '9*1=9', '9*3=27', '9*5=45', '9*7=63', '9*9=81']\n"
     ]
    }
   ],
   "source": [
    "arr = [\"{}*{}={}\".format(i, j, i*j) for i in range(2, 10) for j in range(1, 10) if (i*j) % 2 == 1]\n",
    "print(arr)"
   ]
  },
  {
   "cell_type": "markdown",
   "id": "79c7426a-0582-4bdb-8b6a-0a2e1ba4b6cc",
   "metadata": {},
   "source": [
    "# 2. 리스트 추가 함수\n",
    "\n",
    "---\n",
    "\n",
    "## `append()` : 요소 추가\n",
    "\n",
    "```\n",
    "리스트명.append(값)\n",
    "리스트명.append(리스트)\n",
    "```\n"
   ]
  },
  {
   "cell_type": "code",
   "execution_count": 30,
   "id": "781ffb56-e731-45d4-a05f-160116ec1760",
   "metadata": {},
   "outputs": [
    {
     "data": {
      "text/plain": [
       "[1, 2, 3, 4, 5, 6]"
      ]
     },
     "execution_count": 30,
     "metadata": {},
     "output_type": "execute_result"
    }
   ],
   "source": [
    "arr = [1, 2, 3, 4, 5]\n",
    "arr.append(6)\n",
    "arr"
   ]
  },
  {
   "cell_type": "code",
   "execution_count": 50,
   "id": "20743f3d-314a-4122-ac72-f7e68e13c969",
   "metadata": {},
   "outputs": [
    {
     "ename": "TypeError",
     "evalue": "list.append() takes exactly one argument (4 given)",
     "output_type": "error",
     "traceback": [
      "\u001b[1;31m---------------------------------------------------------------------------\u001b[0m",
      "\u001b[1;31mTypeError\u001b[0m                                 Traceback (most recent call last)",
      "\u001b[1;32m~\\AppData\\Local\\Temp/ipykernel_22176/878454701.py\u001b[0m in \u001b[0;36m<module>\u001b[1;34m\u001b[0m\n\u001b[0;32m      1\u001b[0m \u001b[0marr\u001b[0m \u001b[1;33m=\u001b[0m \u001b[1;33m[\u001b[0m\u001b[1;36m1\u001b[0m\u001b[1;33m,\u001b[0m \u001b[1;36m2\u001b[0m\u001b[1;33m,\u001b[0m \u001b[1;36m3\u001b[0m\u001b[1;33m,\u001b[0m \u001b[1;36m4\u001b[0m\u001b[1;33m,\u001b[0m \u001b[1;36m5\u001b[0m\u001b[1;33m]\u001b[0m\u001b[1;33m\u001b[0m\u001b[1;33m\u001b[0m\u001b[0m\n\u001b[1;32m----> 2\u001b[1;33m \u001b[0marr\u001b[0m\u001b[1;33m.\u001b[0m\u001b[0mappend\u001b[0m\u001b[1;33m(\u001b[0m\u001b[1;36m6\u001b[0m\u001b[1;33m,\u001b[0m \u001b[1;36m7\u001b[0m\u001b[1;33m,\u001b[0m \u001b[1;36m8\u001b[0m\u001b[1;33m,\u001b[0m \u001b[1;36m9\u001b[0m\u001b[1;33m)\u001b[0m \u001b[1;31m# 오류: append() 함수의 파라미터는 리스트 또는 값을 넣는다.\u001b[0m\u001b[1;33m\u001b[0m\u001b[1;33m\u001b[0m\u001b[0m\n\u001b[0m\u001b[0;32m      3\u001b[0m \u001b[0marr\u001b[0m\u001b[1;33m\u001b[0m\u001b[1;33m\u001b[0m\u001b[0m\n",
      "\u001b[1;31mTypeError\u001b[0m: list.append() takes exactly one argument (4 given)"
     ]
    }
   ],
   "source": [
    "arr = [1, 2, 3, 4, 5]\n",
    "arr.append(6, 7, 8, 9) # 오류: append() 함수의 파라미터는 리스트 또는 값을 넣는다.\n",
    "arr"
   ]
  },
  {
   "cell_type": "code",
   "execution_count": 38,
   "id": "7d32029e-a452-4f9a-b82d-9ad263e1c01b",
   "metadata": {},
   "outputs": [
    {
     "data": {
      "text/plain": [
       "[1, 2, 3, 4, 5, [6, 7, 8, 9]]"
      ]
     },
     "execution_count": 38,
     "metadata": {},
     "output_type": "execute_result"
    }
   ],
   "source": [
    "arr = [1, 2, 3, 4, 5]\n",
    "arr.append([6, 7, 8, 9])\n",
    "arr"
   ]
  },
  {
   "cell_type": "code",
   "execution_count": 43,
   "id": "6d10b4d8-02dc-4fe3-8d18-ae288b3fa994",
   "metadata": {},
   "outputs": [
    {
     "data": {
      "text/plain": [
       "[[]]"
      ]
     },
     "execution_count": 43,
     "metadata": {},
     "output_type": "execute_result"
    }
   ],
   "source": [
    "arr = []\n",
    "arr.append([])\n",
    "arr"
   ]
  },
  {
   "cell_type": "markdown",
   "id": "697178c4-dadf-4cb1-ac01-9350e974cf84",
   "metadata": {},
   "source": [
    "## `extend()` : 리스트 확장\n",
    "\n",
    "```\n",
    "리스트명.extend(리스트)\n",
    "```"
   ]
  },
  {
   "cell_type": "code",
   "execution_count": 46,
   "id": "3ca4d7e7-f73e-4ec4-881a-5c0c97434307",
   "metadata": {},
   "outputs": [
    {
     "data": {
      "text/plain": [
       "[1, 2, 3, 4, 5, 6, 7, 8, 9]"
      ]
     },
     "execution_count": 46,
     "metadata": {},
     "output_type": "execute_result"
    }
   ],
   "source": [
    "arr = [1, 2, 3, 4, 5]\n",
    "arr.extend([6, 7, 8, 9])\n",
    "arr"
   ]
  },
  {
   "cell_type": "code",
   "execution_count": 49,
   "id": "e255fccf-8266-4778-9eb9-e6a4d4b9ff2d",
   "metadata": {},
   "outputs": [
    {
     "ename": "TypeError",
     "evalue": "'int' object is not iterable",
     "output_type": "error",
     "traceback": [
      "\u001b[1;31m---------------------------------------------------------------------------\u001b[0m",
      "\u001b[1;31mTypeError\u001b[0m                                 Traceback (most recent call last)",
      "\u001b[1;32m~\\AppData\\Local\\Temp/ipykernel_22176/2366271450.py\u001b[0m in \u001b[0;36m<module>\u001b[1;34m\u001b[0m\n\u001b[0;32m      1\u001b[0m \u001b[0marr\u001b[0m \u001b[1;33m=\u001b[0m \u001b[1;33m[\u001b[0m\u001b[1;36m1\u001b[0m\u001b[1;33m,\u001b[0m \u001b[1;36m2\u001b[0m\u001b[1;33m,\u001b[0m \u001b[1;36m3\u001b[0m\u001b[1;33m,\u001b[0m \u001b[1;36m4\u001b[0m\u001b[1;33m,\u001b[0m \u001b[1;36m5\u001b[0m\u001b[1;33m]\u001b[0m\u001b[1;33m\u001b[0m\u001b[1;33m\u001b[0m\u001b[0m\n\u001b[1;32m----> 2\u001b[1;33m \u001b[0marr\u001b[0m\u001b[1;33m.\u001b[0m\u001b[0mextend\u001b[0m\u001b[1;33m(\u001b[0m\u001b[1;36m1\u001b[0m\u001b[1;33m)\u001b[0m  \u001b[1;31m# 오류: extend() 함수 파라미터는 리스트 타입잉 와야한다.\u001b[0m\u001b[1;33m\u001b[0m\u001b[1;33m\u001b[0m\u001b[0m\n\u001b[0m\u001b[0;32m      3\u001b[0m \u001b[0marr\u001b[0m\u001b[1;33m\u001b[0m\u001b[1;33m\u001b[0m\u001b[0m\n",
      "\u001b[1;31mTypeError\u001b[0m: 'int' object is not iterable"
     ]
    }
   ],
   "source": [
    "arr = [1, 2, 3, 4, 5]\n",
    "arr.extend(1)  # 오류: extend() 함수 파라미터는 리스트 타입잉 와야한다.\n",
    "arr"
   ]
  },
  {
   "cell_type": "markdown",
   "id": "7d17461a-2e15-43fa-b712-71f2f062d9cd",
   "metadata": {},
   "source": [
    "## `insert()` :  특정 인덱스에 요소 추가\n",
    "\n",
    "```\n",
    "리스트명.insert(인덱스, 값)\n",
    "리스트명.insert(인덱스, 리스트)\n",
    "```"
   ]
  },
  {
   "cell_type": "code",
   "execution_count": 52,
   "id": "95d5cb22-d353-4038-92a4-62d3e4c39b73",
   "metadata": {},
   "outputs": [
    {
     "data": {
      "text/plain": [
       "[1, 10, 2, 3, 4, 5]"
      ]
     },
     "execution_count": 52,
     "metadata": {},
     "output_type": "execute_result"
    }
   ],
   "source": [
    "arr = [1, 2, 3, 4, 5]\n",
    "arr.insert(1, 10)\n",
    "arr"
   ]
  },
  {
   "cell_type": "code",
   "execution_count": 55,
   "id": "65b14ae3-6e97-4cdc-918f-c8b0a7e64b68",
   "metadata": {},
   "outputs": [
    {
     "data": {
      "text/plain": [
       "[1, 2, 3, 4, 5, 10]"
      ]
     },
     "execution_count": 55,
     "metadata": {},
     "output_type": "execute_result"
    }
   ],
   "source": [
    "arr = [1, 2, 3, 4, 5]\n",
    "arr.insert(10, 10) # 해당 인덱스가 존재하지 않으면 마지막 인덱스 뒤에 추가됨\n",
    "arr"
   ]
  },
  {
   "cell_type": "code",
   "execution_count": 57,
   "id": "76ada291-dfbe-4bca-aef8-a2b73c031ba1",
   "metadata": {},
   "outputs": [
    {
     "data": {
      "text/plain": [
       "[1, [1, 2, 3], 2, 3, 4, 5]"
      ]
     },
     "execution_count": 57,
     "metadata": {},
     "output_type": "execute_result"
    }
   ],
   "source": [
    "arr = [1, 2, 3, 4, 5]\n",
    "arr.insert(1, [1, 2, 3])\n",
    "arr"
   ]
  },
  {
   "cell_type": "markdown",
   "id": "9c85d82e-f24e-4848-8fa5-5632e67b0609",
   "metadata": {},
   "source": [
    "# 3. 리스트 요소 제거\n",
    "\n",
    "---\n",
    "\n",
    "## `del 키워드` : 특정 인덱스의 요소 제거\n",
    "\n",
    "```\n",
    "del 리스트변수[인덱스]\n",
    "```"
   ]
  },
  {
   "cell_type": "code",
   "execution_count": 61,
   "id": "5b2e01c3-6941-4406-8008-250747a4b409",
   "metadata": {},
   "outputs": [
    {
     "data": {
      "text/plain": [
       "[1, 3, 4, 5]"
      ]
     },
     "execution_count": 61,
     "metadata": {},
     "output_type": "execute_result"
    }
   ],
   "source": [
    "arr = [1, 2, 3, 4, 5]\n",
    "del arr[1]\n",
    "arr"
   ]
  },
  {
   "cell_type": "code",
   "execution_count": 62,
   "id": "1723e04e-104f-4b50-bf57-bd1f23542e30",
   "metadata": {},
   "outputs": [
    {
     "data": {
      "text/plain": [
       "[1, 4, 5]"
      ]
     },
     "execution_count": 62,
     "metadata": {},
     "output_type": "execute_result"
    }
   ],
   "source": [
    "arr = [1, 2, 3, 4, 5]\n",
    "del arr[1:3]\n",
    "arr"
   ]
  },
  {
   "cell_type": "code",
   "execution_count": 63,
   "id": "66579af0-6bef-4e7b-a08c-0f907bed3c21",
   "metadata": {},
   "outputs": [
    {
     "data": {
      "text/plain": [
       "[4, 5]"
      ]
     },
     "execution_count": 63,
     "metadata": {},
     "output_type": "execute_result"
    }
   ],
   "source": [
    "arr = [1, 2, 3, 4, 5]\n",
    "del arr[:3]\n",
    "arr"
   ]
  },
  {
   "cell_type": "code",
   "execution_count": 64,
   "id": "7c1850ad-e8a8-4574-b4f8-580dff842f50",
   "metadata": {},
   "outputs": [
    {
     "data": {
      "text/plain": [
       "[]"
      ]
     },
     "execution_count": 64,
     "metadata": {},
     "output_type": "execute_result"
    }
   ],
   "source": [
    "arr = [1, 2, 3, 4, 5]\n",
    "del arr[0:]\n",
    "arr"
   ]
  },
  {
   "cell_type": "code",
   "execution_count": 65,
   "id": "41b185d6-d8be-40a3-9165-7c4c6f09313b",
   "metadata": {},
   "outputs": [
    {
     "data": {
      "text/plain": [
       "[]"
      ]
     },
     "execution_count": 65,
     "metadata": {},
     "output_type": "execute_result"
    }
   ],
   "source": [
    "arr = [1, 2, 3, 4, 5]\n",
    "del arr[:]\n",
    "arr"
   ]
  },
  {
   "cell_type": "code",
   "execution_count": 70,
   "id": "47ebe4a0-19a3-45b4-bfa0-49de575bfb73",
   "metadata": {},
   "outputs": [
    {
     "data": {
      "text/plain": [
       "[4, 5]"
      ]
     },
     "execution_count": 70,
     "metadata": {},
     "output_type": "execute_result"
    }
   ],
   "source": [
    "arr = [1, 2, 3, 4, 5]\n",
    "del arr[:-2]\n",
    "arr"
   ]
  },
  {
   "cell_type": "code",
   "execution_count": 71,
   "id": "7e48611d-2ca9-49f5-b177-87101a9f6370",
   "metadata": {},
   "outputs": [
    {
     "data": {
      "text/plain": [
       "[1, 2, 4, 5]"
      ]
     },
     "execution_count": 71,
     "metadata": {},
     "output_type": "execute_result"
    }
   ],
   "source": [
    "arr = [1, 2, 3, 4, 5]\n",
    "del arr[2:-2]\n",
    "arr"
   ]
  },
  {
   "cell_type": "code",
   "execution_count": 72,
   "id": "6dbc282b-e5d8-4f8e-96ff-4c721c2f6f2f",
   "metadata": {},
   "outputs": [
    {
     "data": {
      "text/plain": [
       "[1, 2, 4, 5]"
      ]
     },
     "execution_count": 72,
     "metadata": {},
     "output_type": "execute_result"
    }
   ],
   "source": [
    "arr = [1, 2, 3, 4, 5]\n",
    "del arr[2:3]\n",
    "arr"
   ]
  },
  {
   "cell_type": "markdown",
   "id": "0f1e2cf9-7d7d-4640-8a2d-dcae92dbe008",
   "metadata": {},
   "source": [
    "## `pop()` : 특정 인덱스의 요소 제거\n",
    "\n",
    "```\n",
    "리스트명.pop(인덱스)\n",
    "```\n",
    "\n",
    "- pop() 과 del 의 차이점 : \n",
    "    - pop()은 매개변수를 입력하지 않으면 마지막 요소를 제거\n",
    "    - 또한 pop()은 제거한 요소를 리턴한다."
   ]
  },
  {
   "cell_type": "code",
   "execution_count": 74,
   "id": "c9605209-0f47-43ac-94dd-db4e455d497f",
   "metadata": {},
   "outputs": [
    {
     "data": {
      "text/plain": [
       "[1, 2, 3, 4]"
      ]
     },
     "execution_count": 74,
     "metadata": {},
     "output_type": "execute_result"
    }
   ],
   "source": [
    "arr = [1, 2, 3, 4, 5]\n",
    "arr.pop()\n",
    "arr"
   ]
  },
  {
   "cell_type": "code",
   "execution_count": 75,
   "id": "fbfd029f-5ffc-4b64-b110-ea27606e3370",
   "metadata": {},
   "outputs": [
    {
     "data": {
      "text/plain": [
       "5"
      ]
     },
     "execution_count": 75,
     "metadata": {},
     "output_type": "execute_result"
    }
   ],
   "source": [
    "arr = [1, 2, 3, 4, 5]\n",
    "num = arr.pop()\n",
    "num"
   ]
  },
  {
   "cell_type": "code",
   "execution_count": 77,
   "id": "28b02b94-2b87-430e-b166-6d4c481bcc2c",
   "metadata": {},
   "outputs": [
    {
     "data": {
      "text/plain": [
       "[1, 3, 4, 5]"
      ]
     },
     "execution_count": 77,
     "metadata": {},
     "output_type": "execute_result"
    }
   ],
   "source": [
    "arr = [1, 2, 3, 4, 5]\n",
    "arr.pop(1)\n",
    "arr"
   ]
  },
  {
   "cell_type": "code",
   "execution_count": 80,
   "id": "b1f6da06-8e9f-45bb-9e92-27a185efef77",
   "metadata": {},
   "outputs": [
    {
     "ename": "IndexError",
     "evalue": "pop index out of range",
     "output_type": "error",
     "traceback": [
      "\u001b[1;31m---------------------------------------------------------------------------\u001b[0m",
      "\u001b[1;31mIndexError\u001b[0m                                Traceback (most recent call last)",
      "\u001b[1;32m~\\AppData\\Local\\Temp/ipykernel_22176/3336484154.py\u001b[0m in \u001b[0;36m<module>\u001b[1;34m\u001b[0m\n\u001b[0;32m      1\u001b[0m \u001b[0marr\u001b[0m \u001b[1;33m=\u001b[0m \u001b[1;33m[\u001b[0m\u001b[1;36m1\u001b[0m\u001b[1;33m,\u001b[0m \u001b[1;36m2\u001b[0m\u001b[1;33m,\u001b[0m \u001b[1;36m3\u001b[0m\u001b[1;33m,\u001b[0m \u001b[1;36m4\u001b[0m\u001b[1;33m,\u001b[0m \u001b[1;36m5\u001b[0m\u001b[1;33m]\u001b[0m\u001b[1;33m\u001b[0m\u001b[1;33m\u001b[0m\u001b[0m\n\u001b[1;32m----> 2\u001b[1;33m \u001b[0marr\u001b[0m\u001b[1;33m.\u001b[0m\u001b[0mpop\u001b[0m\u001b[1;33m(\u001b[0m\u001b[1;36m10\u001b[0m\u001b[1;33m)\u001b[0m \u001b[1;31m# 존재하지 않은 인덱스 값을 넣으면 예외가 발생\u001b[0m\u001b[1;33m\u001b[0m\u001b[1;33m\u001b[0m\u001b[0m\n\u001b[0m\u001b[0;32m      3\u001b[0m \u001b[0marr\u001b[0m\u001b[1;33m\u001b[0m\u001b[1;33m\u001b[0m\u001b[0m\n",
      "\u001b[1;31mIndexError\u001b[0m: pop index out of range"
     ]
    }
   ],
   "source": [
    "arr = [1, 2, 3, 4, 5]\n",
    "arr.pop(10) # 존재하지 않은 인덱스 값을 넣으면 예외가 발생\n",
    "arr"
   ]
  },
  {
   "cell_type": "markdown",
   "id": "f56d0708-22ff-4396-87dc-736e248c9f3c",
   "metadata": {},
   "source": [
    "## `remove()` : 값으로 제거\n",
    "\n",
    "```\n",
    "리스트변수.remove(값)\n",
    "```"
   ]
  },
  {
   "cell_type": "code",
   "execution_count": 82,
   "id": "ab9f8bd8-5bbf-4660-9b03-7eb95fa6f871",
   "metadata": {},
   "outputs": [
    {
     "data": {
      "text/plain": [
       "[1, 2, 4, 5]"
      ]
     },
     "execution_count": 82,
     "metadata": {},
     "output_type": "execute_result"
    }
   ],
   "source": [
    "arr = [1, 2, 3, 4, 5]\n",
    "arr.remove(3)\n",
    "arr"
   ]
  },
  {
   "cell_type": "code",
   "execution_count": 84,
   "id": "e9c2339f-dbf9-4943-9c24-c650a67a707b",
   "metadata": {},
   "outputs": [
    {
     "ename": "ValueError",
     "evalue": "list.remove(x): x not in list",
     "output_type": "error",
     "traceback": [
      "\u001b[1;31m---------------------------------------------------------------------------\u001b[0m",
      "\u001b[1;31mValueError\u001b[0m                                Traceback (most recent call last)",
      "\u001b[1;32m~\\AppData\\Local\\Temp/ipykernel_22176/2943523824.py\u001b[0m in \u001b[0;36m<module>\u001b[1;34m\u001b[0m\n\u001b[0;32m      1\u001b[0m \u001b[0marr\u001b[0m \u001b[1;33m=\u001b[0m \u001b[1;33m[\u001b[0m\u001b[1;36m1\u001b[0m\u001b[1;33m,\u001b[0m \u001b[1;36m2\u001b[0m\u001b[1;33m,\u001b[0m \u001b[1;36m3\u001b[0m\u001b[1;33m,\u001b[0m \u001b[1;36m4\u001b[0m\u001b[1;33m,\u001b[0m \u001b[1;36m5\u001b[0m\u001b[1;33m]\u001b[0m\u001b[1;33m\u001b[0m\u001b[1;33m\u001b[0m\u001b[0m\n\u001b[1;32m----> 2\u001b[1;33m \u001b[0marr\u001b[0m\u001b[1;33m.\u001b[0m\u001b[0mremove\u001b[0m\u001b[1;33m(\u001b[0m\u001b[1;36m10\u001b[0m\u001b[1;33m)\u001b[0m \u001b[1;31m# 해당하는 값이 없으면 예외가 발생\u001b[0m\u001b[1;33m\u001b[0m\u001b[1;33m\u001b[0m\u001b[0m\n\u001b[0m\u001b[0;32m      3\u001b[0m \u001b[0marr\u001b[0m\u001b[1;33m\u001b[0m\u001b[1;33m\u001b[0m\u001b[0m\n",
      "\u001b[1;31mValueError\u001b[0m: list.remove(x): x not in list"
     ]
    }
   ],
   "source": [
    "arr = [1, 2, 3, 4, 5]\n",
    "arr.remove(10) # 해당하는 값이 없으면 예외가 발생 \n",
    "arr"
   ]
  },
  {
   "cell_type": "markdown",
   "id": "6a4f02c8-be21-4e75-a953-fc184f4b30e4",
   "metadata": {},
   "source": [
    "## clear() : 모든 요소 제거\n",
    "\n",
    "```\n",
    "리스트명.clear()\n",
    "```"
   ]
  },
  {
   "cell_type": "code",
   "execution_count": 85,
   "id": "2ab3b6c4-cbb0-419f-a8f4-6ea54a15f917",
   "metadata": {},
   "outputs": [
    {
     "data": {
      "text/plain": [
       "[]"
      ]
     },
     "execution_count": 85,
     "metadata": {},
     "output_type": "execute_result"
    }
   ],
   "source": [
    "arr = [1, 2, 3, 4, 5]\n",
    "arr.clear()\n",
    "arr"
   ]
  },
  {
   "cell_type": "markdown",
   "id": "df93b214-714d-4dc4-bba2-2af9ccc3c606",
   "metadata": {},
   "source": [
    "# 4. 리스트 내부 확인\n",
    "\n",
    "---\n",
    "\n",
    "## `in 키워드`"
   ]
  },
  {
   "cell_type": "code",
   "execution_count": 86,
   "id": "d0a78358-81a5-429a-bb09-ff3dd7628ebd",
   "metadata": {},
   "outputs": [
    {
     "name": "stdout",
     "output_type": "stream",
     "text": [
      "True\n",
      "False\n"
     ]
    }
   ],
   "source": [
    "arr = [1, 2, 3, 4, 5]\n",
    "print(2 in arr)\n",
    "print(7 in arr)"
   ]
  },
  {
   "cell_type": "code",
   "execution_count": 87,
   "id": "3b75ddcb-e235-42ff-9049-b541329d0361",
   "metadata": {},
   "outputs": [
    {
     "name": "stdout",
     "output_type": "stream",
     "text": [
      "True\n",
      "True\n"
     ]
    }
   ],
   "source": [
    "arr = [1, 2, \"A\", \"B\", 5]\n",
    "print(\"A\" in arr)\n",
    "print(5 in arr)"
   ]
  },
  {
   "cell_type": "markdown",
   "id": "16cbd79b-a655-4596-8406-9505143c8ca5",
   "metadata": {},
   "source": [
    "## `not in 키워드`"
   ]
  },
  {
   "cell_type": "code",
   "execution_count": 88,
   "id": "daae23d3-2e43-42ec-b8ec-751e7690473f",
   "metadata": {},
   "outputs": [
    {
     "name": "stdout",
     "output_type": "stream",
     "text": [
      "False\n",
      "True\n"
     ]
    }
   ],
   "source": [
    "arr = [1, 2, 3, 4, 5]\n",
    "print(2 not in arr)\n",
    "print(7 not in arr)"
   ]
  },
  {
   "cell_type": "code",
   "execution_count": 89,
   "id": "3cd486ae-7d39-4b9b-9c86-7314cf61a129",
   "metadata": {},
   "outputs": [
    {
     "name": "stdout",
     "output_type": "stream",
     "text": [
      "False\n",
      "False\n"
     ]
    }
   ],
   "source": [
    "arr = [1, 2, \"A\", \"B\", 5]\n",
    "print(\"A\" not in arr)\n",
    "print(5 not in arr)"
   ]
  },
  {
   "cell_type": "markdown",
   "id": "552ebc1d-fa49-49f7-970e-8ad8349d12d7",
   "metadata": {},
   "source": [
    "# 5. 리스트 정렬\n",
    "\n",
    "---\n",
    "\n",
    "## `sort()` : 리스트 내장 정렬 함수\n",
    "\n",
    "```\n",
    "리스트변수.sort(reverse: bool) \n",
    "# reverse : False = 정순, 오름차순 (default)\n",
    "# reverse : True = 역순, 내림차순\n",
    "```\n",
    "\n",
    "- 오름차순 (reverse = False)"
   ]
  },
  {
   "cell_type": "code",
   "execution_count": 91,
   "id": "e8b1255f-76ab-4ce0-a9fc-4803a6bb34da",
   "metadata": {},
   "outputs": [
    {
     "data": {
      "text/plain": [
       "[1, 2, 3, 6, 6, 8, 8, 10]"
      ]
     },
     "execution_count": 91,
     "metadata": {},
     "output_type": "execute_result"
    }
   ],
   "source": [
    "arr = [6, 3, 1, 2, 10, 6, 8, 8]\n",
    "arr.sort()\n",
    "arr"
   ]
  },
  {
   "cell_type": "code",
   "execution_count": 93,
   "id": "7764b83c-9648-40d0-b7ed-69c87fa92373",
   "metadata": {},
   "outputs": [
    {
     "data": {
      "text/plain": [
       "[1, 2, 3, 6, 6, 8, 8, 10]"
      ]
     },
     "execution_count": 93,
     "metadata": {},
     "output_type": "execute_result"
    }
   ],
   "source": [
    "arr = [6, 3, 1, 2, 10, 6, 8, 8]\n",
    "arr.sort(reverse=False)\n",
    "arr"
   ]
  },
  {
   "cell_type": "markdown",
   "id": "ad83d1c8-3094-4a78-b6d5-21e339d0baa6",
   "metadata": {},
   "source": [
    "- 내림차순 (reverse = True)"
   ]
  },
  {
   "cell_type": "code",
   "execution_count": 94,
   "id": "18f6104a-b97f-4170-a924-9a8a690b893d",
   "metadata": {},
   "outputs": [
    {
     "data": {
      "text/plain": [
       "[10, 8, 8, 6, 6, 3, 2, 1]"
      ]
     },
     "execution_count": 94,
     "metadata": {},
     "output_type": "execute_result"
    }
   ],
   "source": [
    "arr = [6, 3, 1, 2, 10, 6, 8, 8]\n",
    "arr.sort(reverse=True)\n",
    "arr"
   ]
  },
  {
   "cell_type": "markdown",
   "id": "150e68e5-37b6-4bc9-b7c3-41785a616fbd",
   "metadata": {},
   "source": [
    "# 6. 리스트 요소 갯수\n",
    "\n",
    "---\n",
    "\n",
    "## `count()` : 요소 특정 값의 갯수 세기\n",
    "\n",
    "```\n",
    "리스트명.count(값)\n",
    "```"
   ]
  },
  {
   "cell_type": "code",
   "execution_count": 96,
   "id": "f9931d9c-afb2-4a55-aba2-7f91e60591bd",
   "metadata": {},
   "outputs": [
    {
     "data": {
      "text/plain": [
       "2"
      ]
     },
     "execution_count": 96,
     "metadata": {},
     "output_type": "execute_result"
    }
   ],
   "source": [
    "arr = [1, 2, 2, 3, 3, 3]\n",
    "arr.count(2)"
   ]
  },
  {
   "cell_type": "code",
   "execution_count": 98,
   "id": "e9f1b61a-8e0f-4081-97d8-539029c9d25b",
   "metadata": {},
   "outputs": [
    {
     "data": {
      "text/plain": [
       "3"
      ]
     },
     "execution_count": 98,
     "metadata": {},
     "output_type": "execute_result"
    }
   ],
   "source": [
    "arr = [\"A\", 1, 2, \"A\", 3, 4, \"A\"]\n",
    "arr.count(\"A\")"
   ]
  },
  {
   "cell_type": "code",
   "execution_count": 100,
   "id": "aa41dab3-b7a8-44c7-8f54-9ffdb81cb6d2",
   "metadata": {
    "tags": []
   },
   "outputs": [
    {
     "data": {
      "text/plain": [
       "0"
      ]
     },
     "execution_count": 100,
     "metadata": {},
     "output_type": "execute_result"
    }
   ],
   "source": [
    "arr = [\"B\", 1, 2, \"B\", 3, 4, \"B\"]\n",
    "arr.count(\"A\")"
   ]
  },
  {
   "cell_type": "markdown",
   "id": "1c08f8db-5b8b-45e2-842a-f5f8469aee8f",
   "metadata": {},
   "source": [
    "# 7. `min()`, `max()`, `sum()`, `map()`, `filter()`\n",
    "\n",
    "---\n",
    "\n",
    "## `min()` : 리스트 요소의 최소값 구하기"
   ]
  },
  {
   "cell_type": "code",
   "execution_count": 139,
   "id": "9791f4ed-52bf-4293-a469-55a4735bec5c",
   "metadata": {},
   "outputs": [
    {
     "data": {
      "text/plain": [
       "1"
      ]
     },
     "execution_count": 139,
     "metadata": {},
     "output_type": "execute_result"
    }
   ],
   "source": [
    "arr = [3, 4, 1, 2, 5]\n",
    "min(arr)"
   ]
  },
  {
   "cell_type": "code",
   "execution_count": 141,
   "id": "c494b040-495a-47c1-a011-ed80abe17fc8",
   "metadata": {},
   "outputs": [
    {
     "data": {
      "text/plain": [
       "'a'"
      ]
     },
     "execution_count": 141,
     "metadata": {},
     "output_type": "execute_result"
    }
   ],
   "source": [
    "arr = [\"b\", \"a\", \"c\", \"d\"]\n",
    "min(arr)"
   ]
  },
  {
   "cell_type": "markdown",
   "id": "ef003895-e131-49d4-803d-5e98fe8f48f1",
   "metadata": {},
   "source": [
    "## `max()` : 리스트 요소의 최대값 구하기"
   ]
  },
  {
   "cell_type": "code",
   "execution_count": 142,
   "id": "f601957e-d94d-42ee-b271-2f69f2e689f6",
   "metadata": {},
   "outputs": [
    {
     "data": {
      "text/plain": [
       "5"
      ]
     },
     "execution_count": 142,
     "metadata": {},
     "output_type": "execute_result"
    }
   ],
   "source": [
    "arr = [3, 4, 1, 2, 5]\n",
    "max(arr)"
   ]
  },
  {
   "cell_type": "code",
   "execution_count": 143,
   "id": "0fadfb89-db03-4528-bf71-6333d3a47a4f",
   "metadata": {},
   "outputs": [
    {
     "data": {
      "text/plain": [
       "'d'"
      ]
     },
     "execution_count": 143,
     "metadata": {},
     "output_type": "execute_result"
    }
   ],
   "source": [
    "arr = [\"b\", \"a\", \"c\", \"d\"]\n",
    "max(arr)"
   ]
  },
  {
   "cell_type": "markdown",
   "id": "4c63ba7e-0876-4c65-b3ba-1458674f6db0",
   "metadata": {},
   "source": [
    "## `sum()` : 리스트 요소의 합계 구하기"
   ]
  },
  {
   "cell_type": "code",
   "execution_count": 144,
   "id": "62b55e55-7d65-4696-8c70-64eaa247abac",
   "metadata": {
    "tags": []
   },
   "outputs": [
    {
     "data": {
      "text/plain": [
       "15"
      ]
     },
     "execution_count": 144,
     "metadata": {},
     "output_type": "execute_result"
    }
   ],
   "source": [
    "arr = [1, 2, 3, 4, 5]\n",
    "sum(arr)"
   ]
  },
  {
   "cell_type": "code",
   "execution_count": 149,
   "id": "cdcb8295-db5e-4d5e-b3d7-117826feac1e",
   "metadata": {},
   "outputs": [
    {
     "data": {
      "text/plain": [
       "3.505"
      ]
     },
     "execution_count": 149,
     "metadata": {},
     "output_type": "execute_result"
    }
   ],
   "source": [
    "arr = [0.505, 0.5, 1.0, 1.5]\n",
    "sum(arr)"
   ]
  },
  {
   "cell_type": "code",
   "execution_count": 155,
   "id": "58840a87-f860-4472-a84b-0bf86eda7fa2",
   "metadata": {},
   "outputs": [
    {
     "data": {
      "text/plain": [
       "13.004999999999999"
      ]
     },
     "execution_count": 155,
     "metadata": {},
     "output_type": "execute_result"
    }
   ],
   "source": [
    "arr = [1, 2, 1.505, 2.5, 1, 5]\n",
    "sum(arr)"
   ]
  },
  {
   "cell_type": "markdown",
   "id": "c7e2b1cb-6820-46d1-aac0-a6846056725a",
   "metadata": {},
   "source": [
    "#### !!!!!!!!!!!!!!!!!!!!!!!!!!!! 왜 오차가 생기지??? !!!!!!!!!!!!!!!!!!!!!!!!!!!!"
   ]
  },
  {
   "cell_type": "markdown",
   "id": "e67cfcbb-1bb4-4b6c-83c1-ec23b842518f",
   "metadata": {},
   "source": [
    "## `map()` : 리턴된 값으로 새로운 리스트를 구성\n",
    "\n",
    "```\n",
    "변수 = map(함수, 리스트명)\n",
    "```\n",
    "\n",
    "- 함수 활용"
   ]
  },
  {
   "cell_type": "code",
   "execution_count": 166,
   "id": "4cd386cc-de3e-4004-bb12-dd9d4b49294e",
   "metadata": {},
   "outputs": [
    {
     "name": "stdout",
     "output_type": "stream",
     "text": [
      "[10, 11, 20, 21, 30, 31, 40, 41, 50, 51]\n",
      "['짝수', '홀수', '짝수', '홀수', '짝수', '홀수', '짝수', '홀수', '짝수', '홀수']\n",
      ">>> 원본자료 파괴하지 않음\n"
     ]
    }
   ],
   "source": [
    "def even_and_odd(num):\n",
    "    return \"짝수\" if num % 2 == 0 else \"홀수\"\n",
    "\n",
    "arr = [10, 11, 20, 21, 30, 31, 40, 41, 50, 51]\n",
    "\n",
    "val = map(even_and_odd, arr)\n",
    "print(arr)\n",
    "print(list(val))\n",
    "print(\">>> 원본자료 파괴하지 않음\")"
   ]
  },
  {
   "cell_type": "markdown",
   "id": "21d75be4-f5bd-4f08-bb5b-6c0c1c1e2de7",
   "metadata": {},
   "source": [
    "- 람다 활용"
   ]
  },
  {
   "cell_type": "code",
   "execution_count": 167,
   "id": "0d436833-0d9c-4200-a393-a1ba52d0f3e1",
   "metadata": {},
   "outputs": [
    {
     "name": "stdout",
     "output_type": "stream",
     "text": [
      "[10, 11, 20, 21, 30, 31, 40, 41, 50, 51]\n",
      "['짝수', '홀수', '짝수', '홀수', '짝수', '홀수', '짝수', '홀수', '짝수', '홀수']\n",
      ">>> 원본자료 파괴하지 않음\n"
     ]
    }
   ],
   "source": [
    "arr = [10, 11, 20, 21, 30, 31, 40, 41, 50, 51]\n",
    "\n",
    "val = map(lambda num : \"짝수\" if num % 2 == 0 else \"홀수\", arr)\n",
    "print(arr)\n",
    "print(list(val))\n",
    "print(\">>> 원본자료 파괴하지 않음\")"
   ]
  },
  {
   "cell_type": "markdown",
   "id": "0f35ae38-a67b-40f1-a9e6-44b0e583096a",
   "metadata": {},
   "source": [
    "## `filter()` : 리턴된 값이 True인 것으로 새로운 리스트를 구성\n",
    "\n",
    "```\n",
    "변수 = filter(함수, 리스트명)\n",
    "```\n",
    "\n",
    "- 함수 활용"
   ]
  },
  {
   "cell_type": "code",
   "execution_count": 170,
   "id": "443ed334-2eb6-4933-a3f5-c606e4bff43c",
   "metadata": {},
   "outputs": [
    {
     "name": "stdout",
     "output_type": "stream",
     "text": [
      "[10, 11, 20, 21, 30, 31, 40, 41, 50, 51]\n",
      "[10, 20, 30, 40, 50]\n",
      ">>> 원본자료 파괴하지 않음\n"
     ]
    }
   ],
   "source": [
    "def even(num):\n",
    "    return num % 2 == 0\n",
    "\n",
    "arr = [10, 11, 20, 21, 30, 31, 40, 41, 50, 51]\n",
    "\n",
    "val = filter(even, arr)\n",
    "print(arr)\n",
    "print(list(val))\n",
    "print(\">>> 원본자료 파괴하지 않음\")"
   ]
  },
  {
   "cell_type": "markdown",
   "id": "d19fae44-963e-4d64-a375-94c3ebb2cde5",
   "metadata": {},
   "source": [
    "- 람다 활용"
   ]
  },
  {
   "cell_type": "code",
   "execution_count": 171,
   "id": "75935eba-855a-466c-a500-9f6c5b4a1a5d",
   "metadata": {},
   "outputs": [
    {
     "name": "stdout",
     "output_type": "stream",
     "text": [
      "[10, 11, 20, 21, 30, 31, 40, 41, 50, 51]\n",
      "[11, 21, 31, 41, 51]\n",
      ">>> 원본자료 파괴하지 않음\n"
     ]
    }
   ],
   "source": [
    "val = filter(lambda num : num % 2 == 1, arr)\n",
    "print(arr)\n",
    "print(list(val))\n",
    "print(\">>> 원본자료 파괴하지 않음\")"
   ]
  },
  {
   "cell_type": "markdown",
   "id": "58c5e8e9-6a8e-436e-9ece-cdc98485e1d4",
   "metadata": {},
   "source": [
    "# 8. 얕은 복사(shallow copy)와 깊은 복사(deep copy)\n",
    "\n",
    "---\n",
    "\n",
    "> 참고: `==` 와 `is` 차이점  \n",
    "> `==`는 비교 변수 또는 자료들 끼리의 값이 같은지의 여부를 비교, 값이 같으면 True  \n",
    "> `is`는 비교 변수 또는 자료들의 객체가 같은 객체인지의 여부를 비교, 같은 객체이면 True"
   ]
  },
  {
   "cell_type": "markdown",
   "id": "92d88a77-6f56-4edf-9bdc-a2704b710ae1",
   "metadata": {},
   "source": [
    "## 변수 간 대입 (전체 참조)\n",
    "\n",
    "```\n",
    "변수 = 리스트변수\n",
    "```"
   ]
  },
  {
   "cell_type": "code",
   "execution_count": 133,
   "id": "fb71b8fa-d0b3-4746-ae0a-0d68878bba48",
   "metadata": {},
   "outputs": [
    {
     "name": "stdout",
     "output_type": "stream",
     "text": [
      "*** : 중점적으로 결과를 봐야할 곳\n",
      ">>> 두 변수의 값 출력 >>>\n",
      "arr: [1, 2, ['A', 'B'], 4, 5]\n",
      "arr_copy: [1, 2, ['A', 'B'], 4, 5]\n",
      "*** arr == arr_copy : True\n",
      "\n",
      ">>> 두 변수의 메모리 주소 확인 >>>\n",
      "id(arr) : 2226207203712\n",
      "id(arr_copy) : 2226207203712\n",
      "*** 2226207203712 == 2226207203712 : True\n",
      "\n",
      ">>> 같은 객체인지 확인 >>>\n",
      "*** arr is arr_copy : True\n",
      "*** arr[2] is arr_copy[2] : True\n",
      "\n",
      ">>> 값을 변경하여 원본 자료의 변경 여부 확인 >>>\n",
      "arr_copy[0] = 100\n",
      "arr_copy[2][0] = \"AAAA\"\n",
      "arr_copy: [100, 2, ['AAAA', 'B'], 4, 5]\n",
      "arr: [100, 2, ['AAAA', 'B'], 4, 5]\n",
      "*** arr == arr_copy : True\n",
      "\n",
      ">>> 결과: 모든 것을 참조, 깊은 복사도 얕은 복사도 아님\n"
     ]
    }
   ],
   "source": [
    "print(\"*** : 중점적으로 결과를 봐야할 곳\")\n",
    "arr = [1, 2, [\"A\", \"B\"], 4, 5]\n",
    "arr_copy = arr\n",
    "print(\">>> 두 변수의 값 출력 >>>\")\n",
    "print(\"arr:\", arr)\n",
    "print(\"arr_copy:\", arr_copy) \n",
    "print(\"*** arr == arr_copy :\", arr == arr_copy) # 복사가 잘 되었는지 확인\n",
    "\n",
    "print(\"\\n>>> 두 변수의 메모리 주소 확인 >>>\")\n",
    "print(\"id(arr) :\", id(arr)) # arr의 메모리 주소 확인 \n",
    "print(\"id(arr_copy) :\", id(arr_copy))  # arr_copy의 메모리 주소 확인\n",
    "print(\"*** {} == {} : {}\".format(id(arr), id(arr_copy), id(arr) == id(arr_copy)))\n",
    "\n",
    "print(\"\\n>>> 같은 객체인지 확인 >>>\")\n",
    "print(\"*** arr is arr_copy :\", arr is arr_copy)\n",
    "print(\"*** arr[2] is arr_copy[2] :\", arr[2] is arr_copy[2])\n",
    "\n",
    "print(\"\\n>>> 값을 변경하여 원본 자료의 변경 여부 확인 >>>\")\n",
    "arr_copy[0] = 100\n",
    "arr_copy[2][0] = \"AAAA\"\n",
    "print(\"\\n\".join([\n",
    "    'arr_copy[0] = 100',\n",
    "    'arr_copy[2][0] = \"AAAA\"'\n",
    "]))\n",
    "print(\"arr_copy:\", arr_copy) \n",
    "print(\"arr:\", arr)\n",
    "print(\"*** arr == arr_copy :\", arr == arr_copy)\n",
    "\n",
    "print(\"\\n>>> 결과: 모든 것을 참조, 깊은 복사도 얕은 복사도 아님\")"
   ]
  },
  {
   "cell_type": "markdown",
   "id": "24bdb532-1061-49d8-960e-c1dab0cadc1f",
   "metadata": {},
   "source": [
    "## 슬라이싱으로 복사 (얕은 복사)\n",
    "\n",
    "```\n",
    "변수 = 리스트변수[:]\n",
    "```"
   ]
  },
  {
   "cell_type": "code",
   "execution_count": 131,
   "id": "f049cd72-72db-4c8a-b668-5f29b3c30fd2",
   "metadata": {},
   "outputs": [
    {
     "name": "stdout",
     "output_type": "stream",
     "text": [
      "*** : 중점적으로 결과를 봐야할 곳\n",
      ">>> 두 변수의 값 출력 >>>\n",
      "arr: [1, 2, ['A', 'B'], 4, 5]\n",
      "arr_copy: [1, 2, ['A', 'B'], 4, 5]\n",
      "*** arr == arr_copy : True\n",
      "\n",
      ">>> 두 변수의 메모리 주소 확인 >>>\n",
      "id(arr) : 2226207184064\n",
      "id(arr_copy) : 2226207309312\n",
      "*** 2226207184064 == 2226207309312 : False\n",
      "\n",
      ">>> 같은 객체인지 확인 >>>\n",
      "*** arr is arr_copy : False\n",
      "*** arr[2] is arr_copy[2] : True\n",
      "\n",
      ">>> 값을 변경하여 원본 자료의 변경 여부 확인 >>>\n",
      "arr_copy[0] = 100\n",
      "arr_copy[2][0] = \"AAAA\"\n",
      "arr_copy: [100, 2, ['AAAA', 'B'], 4, 5]\n",
      "arr: [1, 2, ['AAAA', 'B'], 4, 5]\n",
      "*** arr == arr_copy : False\n",
      "\n",
      ">>> 결과: 얕은 복사\n"
     ]
    }
   ],
   "source": [
    "print(\"*** : 중점적으로 결과를 봐야할 곳\")\n",
    "arr = [1, 2, [\"A\", \"B\"], 4, 5]\n",
    "arr_copy = arr[:]\n",
    "print(\">>> 두 변수의 값 출력 >>>\")\n",
    "print(\"arr:\", arr)\n",
    "print(\"arr_copy:\", arr_copy) \n",
    "print(\"*** arr == arr_copy :\", arr == arr_copy) # 복사가 잘 되었는지 확인\n",
    "\n",
    "print(\"\\n>>> 두 변수의 메모리 주소 확인 >>>\")\n",
    "print(\"id(arr) :\", id(arr)) # arr의 메모리 주소 확인 \n",
    "print(\"id(arr_copy) :\", id(arr_copy))  # arr_copy의 메모리 주소 확인\n",
    "print(\"*** {} == {} : {}\".format(id(arr), id(arr_copy), id(arr) == id(arr_copy)))\n",
    "\n",
    "print(\"\\n>>> 같은 객체인지 확인 >>>\")\n",
    "print(\"*** arr is arr_copy :\", arr is arr_copy)\n",
    "print(\"*** arr[2] is arr_copy[2] :\", arr[2] is arr_copy[2])\n",
    "\n",
    "print(\"\\n>>> 값을 변경하여 원본 자료의 변경 여부 확인 >>>\")\n",
    "arr_copy[0] = 100\n",
    "arr_copy[2][0] = \"AAAA\"\n",
    "print(\"\\n\".join([\n",
    "    'arr_copy[0] = 100',\n",
    "    'arr_copy[2][0] = \"AAAA\"'\n",
    "]))\n",
    "print(\"arr_copy:\", arr_copy) \n",
    "print(\"arr:\", arr)\n",
    "print(\"*** arr == arr_copy :\", arr == arr_copy)\n",
    "\n",
    "print(\"\\n>>> 결과: 얕은 복사\")"
   ]
  },
  {
   "cell_type": "markdown",
   "id": "0a621a75-8101-49d2-aa37-30bcab9e8b34",
   "metadata": {},
   "source": [
    "## `copy()` (얕은 복사)\n",
    "\n",
    "```\n",
    "변수 = 리스트변수.copy()\n",
    "```"
   ]
  },
  {
   "cell_type": "code",
   "execution_count": 135,
   "id": "4cddefa2-935e-411f-b620-469b4dc87f28",
   "metadata": {},
   "outputs": [
    {
     "name": "stdout",
     "output_type": "stream",
     "text": [
      "*** : 중점적으로 결과를 봐야할 곳\n",
      ">>> 두 변수의 값 출력 >>>\n",
      "arr: [1, 2, ['A', 'B'], 4, 5]\n",
      "arr_copy: [1, 2, ['A', 'B'], 4, 5]\n",
      "*** arr == arr_copy : True\n",
      "\n",
      ">>> 두 변수의 메모리 주소 확인 >>>\n",
      "id(arr) : 2226207237632\n",
      "id(arr_copy) : 2226205508032\n",
      "*** 2226207237632 == 2226205508032 : False\n",
      "\n",
      ">>> 같은 객체인지 확인 >>>\n",
      "*** arr is arr_copy : False\n",
      "*** arr[2] is arr_copy[2] : True\n",
      "\n",
      ">>> 값을 변경하여 원본 자료의 변경 여부 확인 >>>\n",
      "arr_copy[0] = 100\n",
      "arr_copy[2][0] = \"AAAA\"\n",
      "arr_copy: [100, 2, ['AAAA', 'B'], 4, 5]\n",
      "arr: [1, 2, ['AAAA', 'B'], 4, 5]\n",
      "*** arr == arr_copy : False\n",
      "\n",
      ">>> 결과: 얕은 복사\n"
     ]
    }
   ],
   "source": [
    "print(\"*** : 중점적으로 결과를 봐야할 곳\")\n",
    "arr = [1, 2, [\"A\", \"B\"], 4, 5]\n",
    "arr_copy = arr.copy()\n",
    "print(\">>> 두 변수의 값 출력 >>>\")\n",
    "print(\"arr:\", arr)\n",
    "print(\"arr_copy:\", arr_copy) \n",
    "print(\"*** arr == arr_copy :\", arr == arr_copy) # 복사가 잘 되었는지 확인\n",
    "\n",
    "print(\"\\n>>> 두 변수의 메모리 주소 확인 >>>\")\n",
    "print(\"id(arr) :\", id(arr)) # arr의 메모리 주소 확인 \n",
    "print(\"id(arr_copy) :\", id(arr_copy))  # arr_copy의 메모리 주소 확인\n",
    "print(\"*** {} == {} : {}\".format(id(arr), id(arr_copy), id(arr) == id(arr_copy)))\n",
    "\n",
    "print(\"\\n>>> 같은 객체인지 확인 >>>\")\n",
    "print(\"*** arr is arr_copy :\", arr is arr_copy)\n",
    "print(\"*** arr[2] is arr_copy[2] :\", arr[2] is arr_copy[2])\n",
    "\n",
    "print(\"\\n>>> 값을 변경하여 원본 자료의 변경 여부 확인 >>>\")\n",
    "arr_copy[0] = 100\n",
    "arr_copy[2][0] = \"AAAA\"\n",
    "print(\"\\n\".join([\n",
    "    'arr_copy[0] = 100',\n",
    "    'arr_copy[2][0] = \"AAAA\"'\n",
    "]))\n",
    "print(\"arr_copy:\", arr_copy) \n",
    "print(\"arr:\", arr)\n",
    "print(\"*** arr == arr_copy :\", arr == arr_copy)\n",
    "\n",
    "print(\"\\n>>> 결과: 얕은 복사\")"
   ]
  },
  {
   "cell_type": "markdown",
   "id": "b7946a9b-52be-4dfc-92ca-190f3f343fae",
   "metadata": {},
   "source": [
    "## copy 모듈의 `copy()` (얕은 복사)\n",
    "\n",
    "```\n",
    "import copy\n",
    "\n",
    "변수 = copy.copy(리스트변수)\n",
    "```"
   ]
  },
  {
   "cell_type": "code",
   "execution_count": 136,
   "id": "0fc7acb9-1515-4456-a957-7db769c4f258",
   "metadata": {},
   "outputs": [
    {
     "name": "stdout",
     "output_type": "stream",
     "text": [
      "*** : 중점적으로 결과를 봐야할 곳\n",
      ">>> 두 변수의 값 출력 >>>\n",
      "arr: [1, 2, ['A', 'B'], 4, 5]\n",
      "arr_copy: [1, 2, ['A', 'B'], 4, 5]\n",
      "*** arr == arr_copy : True\n",
      "\n",
      ">>> 두 변수의 메모리 주소 확인 >>>\n",
      "id(arr) : 2226207260096\n",
      "id(arr_copy) : 2226207257728\n",
      "*** 2226207260096 == 2226207257728 : False\n",
      "\n",
      ">>> 같은 객체인지 확인 >>>\n",
      "*** arr is arr_copy : False\n",
      "*** arr[2] is arr_copy[2] : True\n",
      "\n",
      ">>> 값을 변경하여 원본 자료의 변경 여부 확인 >>>\n",
      "arr_copy[0] = 100\n",
      "arr_copy[2][0] = \"AAAA\"\n",
      "arr_copy: [100, 2, ['AAAA', 'B'], 4, 5]\n",
      "arr: [1, 2, ['AAAA', 'B'], 4, 5]\n",
      "*** arr == arr_copy : False\n",
      "\n",
      ">>> 결과: 얕은 복사\n"
     ]
    }
   ],
   "source": [
    "import copy\n",
    "\n",
    "print(\"*** : 중점적으로 결과를 봐야할 곳\")\n",
    "arr = [1, 2, [\"A\", \"B\"], 4, 5]\n",
    "arr_copy = copy.copy(arr)\n",
    "print(\">>> 두 변수의 값 출력 >>>\")\n",
    "print(\"arr:\", arr)\n",
    "print(\"arr_copy:\", arr_copy) \n",
    "print(\"*** arr == arr_copy :\", arr == arr_copy) # 복사가 잘 되었는지 확인\n",
    "\n",
    "print(\"\\n>>> 두 변수의 메모리 주소 확인 >>>\")\n",
    "print(\"id(arr) :\", id(arr)) # arr의 메모리 주소 확인 \n",
    "print(\"id(arr_copy) :\", id(arr_copy))  # arr_copy의 메모리 주소 확인\n",
    "print(\"*** {} == {} : {}\".format(id(arr), id(arr_copy), id(arr) == id(arr_copy)))\n",
    "\n",
    "print(\"\\n>>> 같은 객체인지 확인 >>>\")\n",
    "print(\"*** arr is arr_copy :\", arr is arr_copy)\n",
    "print(\"*** arr[2] is arr_copy[2] :\", arr[2] is arr_copy[2])\n",
    "\n",
    "print(\"\\n>>> 값을 변경하여 원본 자료의 변경 여부 확인 >>>\")\n",
    "arr_copy[0] = 100\n",
    "arr_copy[2][0] = \"AAAA\"\n",
    "print(\"\\n\".join([\n",
    "    'arr_copy[0] = 100',\n",
    "    'arr_copy[2][0] = \"AAAA\"'\n",
    "]))\n",
    "print(\"arr_copy:\", arr_copy) \n",
    "print(\"arr:\", arr)\n",
    "print(\"*** arr == arr_copy :\", arr == arr_copy)\n",
    "\n",
    "print(\"\\n>>> 결과: 얕은 복사\")"
   ]
  },
  {
   "cell_type": "markdown",
   "id": "62ca129d-389e-43b6-a834-184d2217659f",
   "metadata": {},
   "source": [
    "## copy 모듈의 `deepcopy()` (깊은 복사)\n",
    "\n",
    "```\n",
    "import copy\n",
    "\n",
    "변수 = copy.deepcopy(리스트변수)\n",
    "```\n",
    "\n",
    "깊은 복사란 내부에 객체들까지 모두 새롭게 복사되는 것이다."
   ]
  },
  {
   "cell_type": "code",
   "execution_count": 138,
   "id": "b32144fc-3a7a-4ea9-93b9-1f1fc496e9b1",
   "metadata": {},
   "outputs": [
    {
     "name": "stdout",
     "output_type": "stream",
     "text": [
      "*** : 중점적으로 결과를 봐야할 곳\n",
      ">>> 두 변수의 값 출력 >>>\n",
      "arr: [1, 2, ['A', 'B'], 4, 5]\n",
      "arr_copy: [1, 2, ['A', 'B'], 4, 5]\n",
      "*** arr == arr_copy : True\n",
      "\n",
      ">>> 두 변수의 메모리 주소 확인 >>>\n",
      "id(arr) : 2226207305792\n",
      "id(arr_copy) : 2226207308224\n",
      "*** 2226207305792 == 2226207308224 : False\n",
      "\n",
      ">>> 같은 객체인지 확인 >>>\n",
      "*** arr is arr_copy : False\n",
      "*** arr[2] is arr_copy[2] : False\n",
      "\n",
      ">>> 값을 변경하여 원본 자료의 변경 여부 확인 >>>\n",
      "arr_copy[0] = 100\n",
      "arr_copy[2][0] = \"AAAA\"\n",
      "arr_copy: [100, 2, ['AAAA', 'B'], 4, 5]\n",
      "arr: [1, 2, ['A', 'B'], 4, 5]\n",
      "*** arr == arr_copy : False\n",
      "\n",
      ">>> 결과: 깊은 복사\n"
     ]
    }
   ],
   "source": [
    "import copy\n",
    "\n",
    "print(\"*** : 중점적으로 결과를 봐야할 곳\")\n",
    "arr = [1, 2, [\"A\", \"B\"], 4, 5]\n",
    "arr_copy = copy.deepcopy(arr)\n",
    "print(\">>> 두 변수의 값 출력 >>>\")\n",
    "print(\"arr:\", arr)\n",
    "print(\"arr_copy:\", arr_copy) \n",
    "print(\"*** arr == arr_copy :\", arr == arr_copy) # 복사가 잘 되었는지 확인\n",
    "\n",
    "print(\"\\n>>> 두 변수의 메모리 주소 확인 >>>\")\n",
    "print(\"id(arr) :\", id(arr)) # arr의 메모리 주소 확인 \n",
    "print(\"id(arr_copy) :\", id(arr_copy))  # arr_copy의 메모리 주소 확인\n",
    "print(\"*** {} == {} : {}\".format(id(arr), id(arr_copy), id(arr) == id(arr_copy)))\n",
    "\n",
    "print(\"\\n>>> 같은 객체인지 확인 >>>\")\n",
    "print(\"*** arr is arr_copy :\", arr is arr_copy)\n",
    "print(\"*** arr[2] is arr_copy[2] :\", arr[2] is arr_copy[2])\n",
    "\n",
    "print(\"\\n>>> 값을 변경하여 원본 자료의 변경 여부 확인 >>>\")\n",
    "arr_copy[0] = 100\n",
    "arr_copy[2][0] = \"AAAA\"\n",
    "print(\"\\n\".join([\n",
    "    'arr_copy[0] = 100',\n",
    "    'arr_copy[2][0] = \"AAAA\"'\n",
    "]))\n",
    "print(\"arr_copy:\", arr_copy) \n",
    "print(\"arr:\", arr)\n",
    "print(\"*** arr == arr_copy :\", arr == arr_copy)\n",
    "\n",
    "print(\"\\n>>> 결과: 깊은 복사\")"
   ]
  }
 ],
 "metadata": {
  "kernelspec": {
   "display_name": "Python 3 (ipykernel)",
   "language": "python",
   "name": "python3"
  },
  "language_info": {
   "codemirror_mode": {
    "name": "ipython",
    "version": 3
   },
   "file_extension": ".py",
   "mimetype": "text/x-python",
   "name": "python",
   "nbconvert_exporter": "python",
   "pygments_lexer": "ipython3",
   "version": "3.9.6"
  }
 },
 "nbformat": 4,
 "nbformat_minor": 5
}

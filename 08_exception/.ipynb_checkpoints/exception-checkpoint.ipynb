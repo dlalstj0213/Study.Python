{
 "cells": [
  {
   "cell_type": "markdown",
   "id": "3d0225a6-309d-496a-b960-e216db876610",
   "metadata": {},
   "source": [
    "## 목차\n",
    "\n",
    "- [1. 오류의 종류]()\n",
    "  - [1) 구문 오류(syntax error)]()\n",
    "  - [2) 예외(exception) / 런타임 오류(runtime error)]()\n",
    "- [2. 기본 예외 처리]()\n",
    "  - [1) 조건문으로 예외 처리하기]()\n",
    "  - [2) try except 구문]()\n",
    "    - [2-1) try except 구문과 pass 키워드 조합]()\n",
    "  - [3) try except else 구문]()\n",
    "  - [4) finally 구문]()\n",
    "  - [5) try 조합 제약사항]()\n",
    "- [3. 예외 객체]()\n",
    "- [4. 예외 구분과 예외 객체]()\n",
    "- [5. raise 구문]()\n",
    "\n",
    "\n",
    "# 1. 오류의 종류\n",
    "\n",
    "---\n",
    "\n",
    "## 1) 구문 오류(syntax error)\n",
    "\n",
    "프로그램 실행 전에 발생하는 오류"
   ]
  },
  {
   "cell_type": "code",
   "execution_count": 1,
   "id": "7b5eba6b-6e6e-4b72-a3ef-9024434504d3",
   "metadata": {},
   "outputs": [
    {
     "ename": "SyntaxError",
     "evalue": "EOL while scanning string literal (Temp/ipykernel_23136/513248851.py, line 2)",
     "output_type": "error",
     "traceback": [
      "\u001b[1;36m  File \u001b[1;32m\"C:\\Users\\dlals\\AppData\\Local\\Temp/ipykernel_23136/513248851.py\"\u001b[1;36m, line \u001b[1;32m2\u001b[0m\n\u001b[1;33m    print(\"# 예외 강제 발생)\u001b[0m\n\u001b[1;37m                      ^\u001b[0m\n\u001b[1;31mSyntaxError\u001b[0m\u001b[1;31m:\u001b[0m EOL while scanning string literal\n"
     ]
    }
   ],
   "source": [
    "print(\"# 프로그램 RUN\")\n",
    "print(\"# 예외 강제 발생)"
   ]
  },
  {
   "cell_type": "markdown",
   "id": "d8cde0d4-9d37-4553-a8b0-000c1b9d164a",
   "metadata": {},
   "source": [
    "## 2) 예외(exception) / 런타임 오류(runtime error)\n",
    "\n",
    "프로그램 실행 중에 발생하는 오류"
   ]
  },
  {
   "cell_type": "code",
   "execution_count": 2,
   "id": "2c081190-0e36-4dca-ad0b-362e342c9b31",
   "metadata": {},
   "outputs": [
    {
     "name": "stdout",
     "output_type": "stream",
     "text": [
      "# 프로그램 RUN\n"
     ]
    },
    {
     "ename": "NameError",
     "evalue": "name 'arr' is not defined",
     "output_type": "error",
     "traceback": [
      "\u001b[1;31m---------------------------------------------------------------------------\u001b[0m",
      "\u001b[1;31mNameError\u001b[0m                                 Traceback (most recent call last)",
      "\u001b[1;32m~\\AppData\\Local\\Temp/ipykernel_23136/1535839547.py\u001b[0m in \u001b[0;36m<module>\u001b[1;34m\u001b[0m\n\u001b[0;32m      2\u001b[0m \u001b[1;33m\u001b[0m\u001b[0m\n\u001b[0;32m      3\u001b[0m \u001b[1;31m# 강제 예외 발생\u001b[0m\u001b[1;33m\u001b[0m\u001b[1;33m\u001b[0m\u001b[1;33m\u001b[0m\u001b[0m\n\u001b[1;32m----> 4\u001b[1;33m \u001b[0marr\u001b[0m\u001b[1;33m[\u001b[0m\u001b[1;36m100\u001b[0m\u001b[1;33m]\u001b[0m\u001b[1;33m\u001b[0m\u001b[1;33m\u001b[0m\u001b[0m\n\u001b[0m",
      "\u001b[1;31mNameError\u001b[0m: name 'arr' is not defined"
     ]
    }
   ],
   "source": [
    "print(\"# 프로그램 RUN\")\n",
    "\n",
    "# 강제 예외 발생\n",
    "arr[100]"
   ]
  },
  {
   "cell_type": "markdown",
   "id": "0013ec56-6431-4c6f-9bc1-7f7ad9ca4129",
   "metadata": {},
   "source": [
    "# 2. 기본 예외 처리\n",
    "\n",
    "예외를 해결하는 모든 것을 예외 처리(exception handling)라고 부른다.\n",
    "\n",
    "예외를 처리 하는 두 가지 방법\n",
    "- 조건문을 사용\n",
    "- try 구문을 사용\n",
    "\n",
    "## 1) 조건문으로 예외 처리하기"
   ]
  },
  {
   "cell_type": "code",
   "execution_count": 4,
   "id": "330a8329-a5df-4d86-ba22-7f63746a6285",
   "metadata": {},
   "outputs": [
    {
     "name": "stdin",
     "output_type": "stream",
     "text": [
      "정수 입력>  한글입력\n"
     ]
    },
    {
     "name": "stdout",
     "output_type": "stream",
     "text": [
      "정수를 입력하지 않았음\n"
     ]
    }
   ],
   "source": [
    "# 숫자 입력받기\n",
    "user_input = input(\"정수 입력> \")\n",
    "\n",
    "# 사용자 입력이 숫자로만 구성되어 있을때\n",
    "if user_input.isdigit():\n",
    "    # 숫자 변환\n",
    "    num = int(user_input)\n",
    "    \n",
    "    # 출력\n",
    "    print(\"num * num =\", num * num)\n",
    "else:\n",
    "    print(\"정수를 입력하지 않았음\")"
   ]
  },
  {
   "cell_type": "markdown",
   "id": "f5913117-1a75-49ba-90a0-cc887e10513e",
   "metadata": {},
   "source": [
    "## 2) try except 구문\n",
    "\n",
    "```\n",
    "try:\n",
    "    예외가 발생할 가능성이 있는 코드\n",
    "except:\n",
    "    예외가 발생했을 때 실행할 코드\n",
    "```"
   ]
  },
  {
   "cell_type": "code",
   "execution_count": 5,
   "id": "a77d2633-316e-4dbc-86ba-35a476a3506c",
   "metadata": {},
   "outputs": [
    {
     "name": "stdin",
     "output_type": "stream",
     "text": [
      "정수 입력>  Eng 입력\n"
     ]
    },
    {
     "name": "stdout",
     "output_type": "stream",
     "text": [
      "정수를 입력하지 않았음\n"
     ]
    }
   ],
   "source": [
    "# try except 구문 처리\n",
    "try:\n",
    "    # 숫자 입력받기\n",
    "    user_input = input(\"정수 입력> \")\n",
    "\n",
    "    num = int(user_input)\n",
    "    print(\"num * num =\", num * num)\n",
    "except:\n",
    "    print(\"정수를 입력하지 않았음\")"
   ]
  },
  {
   "cell_type": "markdown",
   "id": "dd6174c8-bd67-4b03-b263-488d49e0bcba",
   "metadata": {},
   "source": [
    "### 2-1) try except 구문과 pass 키워드 조합\n",
    "\n",
    "```\n",
    "try:\n",
    "    예외가 발생할 가능성이 있는 코드\n",
    "except:\n",
    "    pass\n",
    "```"
   ]
  },
  {
   "cell_type": "code",
   "execution_count": 7,
   "id": "efc819bd-5040-4683-b8c7-76cdcdf8cf8f",
   "metadata": {},
   "outputs": [
    {
     "name": "stdout",
     "output_type": "stream",
     "text": [
      "arr = [1, 2, 3, 'A', 'B']\n",
      "arr_num = [1, 2, 3]\n"
     ]
    }
   ],
   "source": [
    "arr = [1, 2, 3, \"A\", \"B\"]\n",
    "\n",
    "arr_num = []\n",
    "for val in arr:\n",
    "    # 숫자로 변환해서 리스트에 추가\n",
    "    try:\n",
    "        int(val)\n",
    "        arr_num.append(val)\n",
    "    except:\n",
    "        pass\n",
    "\n",
    "# 출력\n",
    "print(\"arr =\", arr)\n",
    "print(\"arr_num =\", arr_num)"
   ]
  },
  {
   "cell_type": "markdown",
   "id": "f836d858-8af2-4d7b-bbde-76c249525dcf",
   "metadata": {},
   "source": [
    "## 3) try except else 구문\n",
    "\n",
    "try except 구문 뒤에 else 구문을 붙여 사용하면 '예외가 발생하지 않았을 때 실행할 코드'를 지정할 수 있다.\n",
    "\n",
    "```\n",
    "try:\n",
    "    예외가 발생할 가능성이 있는 코드\n",
    "except:\n",
    "    예외가 발생했을 때 실행할 코드\n",
    "else:\n",
    "    예외가 발생하지 않았을 때 실행할 코드\n",
    "```"
   ]
  },
  {
   "cell_type": "code",
   "execution_count": 10,
   "id": "11331a23-6fca-40c1-95ff-c4d962766a6e",
   "metadata": {},
   "outputs": [
    {
     "name": "stdin",
     "output_type": "stream",
     "text": [
      "정수 입력>  15\n"
     ]
    },
    {
     "name": "stdout",
     "output_type": "stream",
     "text": [
      "입력한 수 * 10 = 150\n"
     ]
    }
   ],
   "source": [
    "try:\n",
    "    val = int(input(\"정수 입력> \"))\n",
    "except:\n",
    "    print(\"정수를 입력하지 않았음\")\n",
    "else:\n",
    "    print(\"입력한 수 * 10 =\", val * 10)"
   ]
  },
  {
   "cell_type": "markdown",
   "id": "3d4d105c-4716-4795-9010-a67db6b14df0",
   "metadata": {},
   "source": [
    "## 4) finally 구문\n",
    "\n",
    "finally 구문은 예외가 발생하든 발생하지 않든 무조건 실행할 때 사용하는 코드\n",
    "\n",
    "```\n",
    "try:\n",
    "    예외가 발생할 가능성이 있는 코드\n",
    "except:\n",
    "    예외가 발생했을 때 실행할 코드\n",
    "else:\n",
    "    예외가 발생하지 않았을 때 실행할 코드\n",
    "finally:\n",
    "    무조건 실행할 코드\n",
    "```"
   ]
  },
  {
   "cell_type": "code",
   "execution_count": 11,
   "id": "c910b035-301e-4991-a322-322b2f754e38",
   "metadata": {},
   "outputs": [
    {
     "name": "stdin",
     "output_type": "stream",
     "text": [
      "정수 입력>  ABCD\n"
     ]
    },
    {
     "name": "stdout",
     "output_type": "stream",
     "text": [
      "정수를 입력하지 않았음\n",
      "프로그램 END\n"
     ]
    }
   ],
   "source": [
    "try:\n",
    "    val = int(input(\"정수 입력> \"))\n",
    "except:\n",
    "    print(\"정수를 입력하지 않았음\")\n",
    "else:\n",
    "    print(\"입력한 수 * 10 =\", val * 10)\n",
    "finally:\n",
    "    print(\"프로그램 END\")"
   ]
  },
  {
   "cell_type": "markdown",
   "id": "a4a19731-bedf-420b-a80c-752dec9c78bb",
   "metadata": {},
   "source": [
    "## 5) try 조합 제약사항\n",
    "\n",
    "- try 구문은 단독 사용할 수 없다. 반드시 except 구문 또는 finally 구문과 함께 사용해야한다.\n",
    "- else 구문은 반드시 except 구문 뒤에 사용\n",
    "- try + except\n",
    "- try + except + else\n",
    "- try + except + finally\n",
    "- try + except else + finally\n",
    "- try + finally"
   ]
  },
  {
   "cell_type": "markdown",
   "id": "e0076cb9-a941-4d31-8adc-b2fbf88f0b1c",
   "metadata": {},
   "source": [
    "# 3. 예외 객체\n",
    "\n",
    "```\n",
    "try:\n",
    "    예외가 발생할 가능성이 있는 코드\n",
    "except 예외의 종류 as 예외 객체를 활용할 변수 이름:\n",
    "    예외가 발생했을 때 실행할 코드\n",
    "```"
   ]
  },
  {
   "cell_type": "code",
   "execution_count": 12,
   "id": "02f6d944-8aa4-423e-864d-498b1dd27c82",
   "metadata": {},
   "outputs": [
    {
     "name": "stdin",
     "output_type": "stream",
     "text": [
      "정수 입력> 가나다\n"
     ]
    },
    {
     "name": "stdout",
     "output_type": "stream",
     "text": [
      "type(e) <class 'ValueError'>\n",
      "Exception: invalid literal for int() with base 10: '가나다'\n"
     ]
    }
   ],
   "source": [
    "try:\n",
    "    val = int(input(\"정수 입력>\"))\n",
    "    print(\"입력한 수 * 10 =\", val * 10)\n",
    "except Exception as e:\n",
    "    print(\"type(e)\", type(e))\n",
    "    print(\"Exception:\", e)"
   ]
  },
  {
   "cell_type": "markdown",
   "id": "91b6a9ee-4578-406e-8012-7500b83674b3",
   "metadata": {},
   "source": [
    "# 4. 예외 구분과 예외 객체\n",
    "\n",
    "```\n",
    "try:\n",
    "    ....\n",
    "except 예외의 종류: <- 예외 구분\n",
    "    ....\n",
    "except 예외의 종류 as 변수: <- 예외 구분과 예외 객체\n",
    "    ....\n",
    "```"
   ]
  },
  {
   "cell_type": "code",
   "execution_count": 35,
   "id": "906f3b23-8449-4254-a3b9-5ae3f4095577",
   "metadata": {},
   "outputs": [
    {
     "name": "stdout",
     "output_type": "stream",
     "text": [
      "정수가 아닌 문자열 발견\n",
      "정수가 아닌 문자열 발견\n",
      "정수가 아닌 문자열 발견\n",
      "list index out of range\n",
      "[1, 0, 2, 0, 3, 0, -1]\n"
     ]
    }
   ],
   "source": [
    "arr = [1, \"A\", 2, \"B\", 3, \"C\", 4]\n",
    "input_arr = [0, 1, 2, 3, 4, 5, 10]\n",
    "for idx in range(len(input_arr)):\n",
    "    try:\n",
    "        num = int(arr[input_arr[idx]])\n",
    "    except ValueError:\n",
    "        print(\"정수가 아닌 문자열 발견\")\n",
    "        num = 0\n",
    "    except IndexError as ie:\n",
    "        print(ie)\n",
    "        num = -1\n",
    "    except Exception as e:\n",
    "        print(e)\n",
    "        num = \"E\"\n",
    "    finally:\n",
    "        arr[idx] = num\n",
    "print(arr)"
   ]
  },
  {
   "cell_type": "markdown",
   "id": "90a27da4-0093-4a6e-a78e-dcd0d217479b",
   "metadata": {},
   "source": [
    "# 5. raise 구문\n",
    "\n",
    "```\n",
    "raise 예외 객체\n",
    "```"
   ]
  },
  {
   "cell_type": "code",
   "execution_count": 41,
   "id": "0570de0c-7e69-4654-b8fd-24f9c4b6dbe0",
   "metadata": {},
   "outputs": [
    {
     "name": "stdin",
     "output_type": "stream",
     "text": [
      "정수 입력>  -1\n"
     ]
    },
    {
     "ename": "NotImplementedError",
     "evalue": "Warning!! change your code immediately",
     "output_type": "error",
     "traceback": [
      "\u001b[1;31m---------------------------------------------------------------------------\u001b[0m",
      "\u001b[1;31mNotImplementedError\u001b[0m                       Traceback (most recent call last)",
      "\u001b[1;32m~\\AppData\\Local\\Temp/ipykernel_23136/243772284.py\u001b[0m in \u001b[0;36m<module>\u001b[1;34m\u001b[0m\n\u001b[0;32m      3\u001b[0m     \u001b[1;32mraise\u001b[0m \u001b[0mNotImplementedError\u001b[0m\u001b[1;33m(\u001b[0m\u001b[1;34m'please finish your code later'\u001b[0m\u001b[1;33m)\u001b[0m\u001b[1;33m\u001b[0m\u001b[1;33m\u001b[0m\u001b[0m\n\u001b[0;32m      4\u001b[0m \u001b[1;32melse\u001b[0m\u001b[1;33m:\u001b[0m\u001b[1;33m\u001b[0m\u001b[1;33m\u001b[0m\u001b[0m\n\u001b[1;32m----> 5\u001b[1;33m     \u001b[1;32mraise\u001b[0m \u001b[0mNotImplementedError\u001b[0m\u001b[1;33m(\u001b[0m\u001b[1;34m'Warning!! change your code immediately'\u001b[0m\u001b[1;33m)\u001b[0m\u001b[1;33m\u001b[0m\u001b[1;33m\u001b[0m\u001b[0m\n\u001b[0m",
      "\u001b[1;31mNotImplementedError\u001b[0m: Warning!! change your code immediately"
     ]
    }
   ],
   "source": [
    "num = int(input(\"정수 입력> \"))\n",
    "if num > 0:\n",
    "    raise NotImplementedError('please finish your code later')\n",
    "else:\n",
    "    raise NotImplementedError('Warning!! change your code immediately')"
   ]
  }
 ],
 "metadata": {
  "kernelspec": {
   "display_name": "Python 3 (ipykernel)",
   "language": "python",
   "name": "python3"
  },
  "language_info": {
   "codemirror_mode": {
    "name": "ipython",
    "version": 3
   },
   "file_extension": ".py",
   "mimetype": "text/x-python",
   "name": "python",
   "nbconvert_exporter": "python",
   "pygments_lexer": "ipython3",
   "version": "3.9.6"
  }
 },
 "nbformat": 4,
 "nbformat_minor": 5
}

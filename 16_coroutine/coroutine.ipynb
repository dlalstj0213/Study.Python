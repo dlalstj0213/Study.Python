{
 "cells": [
  {
   "cell_type": "markdown",
   "source": [
    "# 코루틴 사용\r\n",
    "\r\n",
    "- [1. 코루틴에 값 보내기]()\r\n",
    "- [2. 코루틴 바깥으로 값 전달하기]()\r\n",
    "  - [제너레이터와 코루틴의 차이점]()\r\n",
    "- [3. 코루틴을 종료하고 예외 처리하기]()\r\n",
    "  - [GeneratorExit 예외 처리하기]()\r\n",
    "  - [코루틴 안에서 예외 발생시키기]()\r\n",
    "- [4. 하위 코루틴의 반환값 가져오기]()\r\n",
    "\r\n",
    "# 1. 코루틴에 값 보내기\r\n",
    "\r\n",
    "---\r\n",
    "\r\n",
    "- 코루틴은 제너레이터의 특별한 형태이다.\r\n",
    "- 제너레이터는 yield로 값을 발생시켰지만 코루틴은 yield로 값을 받아올 수 있다.\r\n",
    "- 코루틴에 값을 보내면서 코드를 실행할 때는 `send()` 함수를 사용한다.\r\n",
    "- `send()` 함수가 보낸 값을 받아오려면 `(yeild)` 형식으로 yield를 괄호로 묶어준 뒤 변수를 저장한다."
   ],
   "metadata": {}
  },
  {
   "cell_type": "code",
   "execution_count": 10,
   "source": [
    "def print_num_coroutine():\r\n",
    "    print('RUN Coroutine')\r\n",
    "    while True:       # 코루틴을 계속 유지하기 위해 무한 루프 사용\r\n",
    "        print('STOP Before yield')\r\n",
    "        x = (yield)   # 코루틴 바깥에서 값을 받아옴, yield 키워드를 괄호로 묶어줘야 함\r\n",
    "        print(x)      # x 받아온 값 출력\r\n",
    "\r\n",
    "co = print_num_coroutine()  # 코루틴 객체 생성\r\n",
    "\r\n",
    "# 코루틴의 코드를 최초로 실행한 뒤 메인 루틴으로 돌아옴\r\n",
    "next(co)    # 코루틴 안의 yield까지 코드 실행 (최초 실행)\r\n",
    "\r\n",
    "# send()로 값을 보내고 코루틴의 yield까지의 코드가 끝나면 다시 메인 루틴으로 돌아옴\r\n",
    "print('Ready to send(1)')\r\n",
    "co.send(1)  # 코루틴에 숫자 1을 보냄\r\n",
    "print('Ready to send(2)')\r\n",
    "co.send(2)  # 코루틴에 숫자 2을 보냄\r\n",
    "print('Ready to send(3)')\r\n",
    "co.send(3)  # 코루틴에 숫자 3을 보냄\r\n",
    "print('Back to Main Routine')"
   ],
   "outputs": [
    {
     "output_type": "stream",
     "name": "stdout",
     "text": [
      "RUN Coroutine\n",
      "STOP Before yield\n",
      "Ready to send(1)\n",
      "1\n",
      "STOP Before yield\n",
      "Ready to send(2)\n",
      "2\n",
      "STOP Before yield\n",
      "Ready to send(3)\n",
      "3\n",
      "STOP Before yield\n",
      "Back to Main Routine\n"
     ]
    }
   ],
   "metadata": {}
  },
  {
   "cell_type": "markdown",
   "source": [
    "# 2. 코루틴 바깥으로 값 전달하기\r\n",
    "\r\n",
    "---\r\n",
    "\r\n",
    "- `(yield 변수)` 형식으로 yield에 변수를 지정한 뒤 괄호로 묶어주면 값을 받아오면서 바깥으로 값을 전달한다"
   ],
   "metadata": {}
  },
  {
   "cell_type": "code",
   "execution_count": 8,
   "source": [
    "def sum_coroutine():\r\n",
    "    print('RUN Coroutine')\r\n",
    "    total = 0               # 코루틴의 지역 변수 선언 (이 변수는 코루틴이 종료되면 그때 코루틴과 함께 사라진다.)\r\n",
    "    while True:\r\n",
    "        x = (yield total)   # 코루틴 바깥에서 yield로 값을 받아오고 total 변수의 값을 바깥으로 전달한다.\r\n",
    "        total += x\r\n",
    "\r\n",
    "co = sum_coroutine()\r\n",
    "output = next(co)     # 코루틴 안의 yield까지 코드를 실행하고 코루틴으로부터 값을 전달 받음: 0\r\n",
    "output = co.send(1)   # 코루틴에 숫자 1을 보내고 코루틴으로부터 값을 전달 받음: 0 + 1 = 1\r\n",
    "print(output)\r\n",
    "output = co.send(2)   # 코루틴에 숫자 2을 보내고 코루틴으로부터 값을 전달 받음: 1 + 2 = 3\r\n",
    "print(output)\r\n",
    "output = co.send(3)   # 코루틴에 숫자 3을 보내고 코루틴으로부터 값을 전달 받음: 3 + 3 = 6\r\n",
    "print(output)"
   ],
   "outputs": [
    {
     "output_type": "stream",
     "name": "stdout",
     "text": [
      "RUN Coroutine\n",
      "1\n",
      "3\n",
      "6\n"
     ]
    }
   ],
   "metadata": {}
  },
  {
   "cell_type": "markdown",
   "source": [
    "## 제너레이터와 코루틴의 차이점\r\n",
    "\r\n",
    "- 제너레이터는 next 함수(`__next__` 함수)를 반복 호출하여 값을 얻어내는 방식\r\n",
    "- 코루틴은 next 함수(`__next__` 함수)를 한 번만 호출한 뒤 send로 값을 주고 받는 방식"
   ],
   "metadata": {}
  },
  {
   "cell_type": "markdown",
   "source": [
    "# 3. 코루틴을 종료하고 예외 처리하기\r\n",
    "\r\n",
    "---\r\n",
    "\r\n",
    "- 코루틴은 실행 상태를 유지하기 위해 while True: 를 사용해서 끝나지 않는 무한 루프로 동작한다.\r\n",
    "- 코루틴을 강제로 종료하고 싶다면 close 함수를 사용한다."
   ],
   "metadata": {}
  },
  {
   "cell_type": "code",
   "execution_count": 15,
   "source": [
    "def print_num_coroutine():\r\n",
    "    print('RUN Coroutine')\r\n",
    "    while True:\r\n",
    "        x = (yield)\r\n",
    "        print(x, end=' ')\r\n",
    "\r\n",
    "co = print_num_coroutine()\r\n",
    "next(co)\r\n",
    "\r\n",
    "for i in range(21):\r\n",
    "    co.send(i)\r\n",
    "\r\n",
    "co.close()  # 코루틴 종료"
   ],
   "outputs": [
    {
     "output_type": "stream",
     "name": "stdout",
     "text": [
      "RUN Coroutine\n",
      "0 1 2 3 4 5 6 7 8 9 10 11 12 13 14 15 16 17 18 19 20 "
     ]
    }
   ],
   "metadata": {}
  },
  {
   "cell_type": "markdown",
   "source": [
    "## GeneratorExit 예외 처리하기\r\n",
    "\r\n",
    "- 코루틴 객체에서 close 함수를 호출하면 코루틴이 종료될 때 GeneratorExit 예외가 발생한다.\r\n",
    "- 이 예외를 처리하면 코루틴의 종료 시점을 알 수 있다."
   ],
   "metadata": {}
  },
  {
   "cell_type": "code",
   "execution_count": 13,
   "source": [
    "def print_num_coroutine():\r\n",
    "    print('RUN Coroutine')\r\n",
    "    try:\r\n",
    "        while True:\r\n",
    "            x = (yield)\r\n",
    "            print(x, end=' ')\r\n",
    "    except GeneratorExit:   # 코루틴이 종료 될 때 GeneratorExit 예외 발생\r\n",
    "        print()\r\n",
    "        print('CLOSE Coroutine')\r\n",
    "\r\n",
    "\r\n",
    "co = print_num_coroutine()\r\n",
    "next(co)\r\n",
    "\r\n",
    "for i in range(21):\r\n",
    "    co.send(i)\r\n",
    "\r\n",
    "co.close()  # 코루틴 종료"
   ],
   "outputs": [
    {
     "output_type": "stream",
     "name": "stdout",
     "text": [
      "RUN Coroutine\n",
      "0 1 2 3 4 5 6 7 8 9 10 11 12 13 14 15 16 17 18 19 20 \n",
      "CLOSE Coroutine\n"
     ]
    }
   ],
   "metadata": {}
  },
  {
   "cell_type": "markdown",
   "source": [
    "## 코루틴 안에서 예외 발생시키기\r\n",
    "\r\n",
    "- 코루틴 안에 예외를 발생 시킬 때는 throw 함수를 사용한다.\r\n",
    "- throw는 말그대로 던지다라는 뜻으로 예외를 코루틴 안으로 던진다.\r\n",
    "- throw 함수에 지정한 에러 메시지는 except as의 변수에 들어간다.\r\n",
    "\r\n",
    "아래의 예제 코드는 코루틴에 숫자를 보내서 누적하다가 RuntimeError나 그 외 예외가 발생하면  \r\n",
    "에러 메시지를 출력하고 누적된 값을 코루틴 바깥으로 전달하는 코드이다."
   ],
   "metadata": {}
  },
  {
   "cell_type": "code",
   "execution_count": 24,
   "source": [
    "def sum_coroutine():\r\n",
    "    total = 0\r\n",
    "    try:\r\n",
    "        while True:\r\n",
    "            x = (yield)\r\n",
    "            total += x\r\n",
    "    except RuntimeError as re:\r\n",
    "        print(re)\r\n",
    "        yield total\r\n",
    "    except BaseException as be:\r\n",
    "        print(be)\r\n",
    "        yield total\r\n",
    "\r\n",
    "co = sum_coroutine()\r\n",
    "next(co)\r\n",
    "\r\n",
    "for i in range(21):\r\n",
    "    co.send(i)\r\n",
    "\r\n",
    "output = co.throw(RuntimeError, '예외로 코루틴 끝내기')\r\n",
    "print(output)\r\n",
    "\r\n",
    "co = sum_coroutine()\r\n",
    "next(co)\r\n",
    "output = co.throw(BaseException, '다른 예외 종류로 코루틴 끝내기')\r\n",
    "print(output)"
   ],
   "outputs": [
    {
     "output_type": "stream",
     "name": "stdout",
     "text": [
      "예외로 코루틴 끝내기\n",
      "210\n",
      "다른 예외 종류로 코루틴 끝내기\n",
      "0\n"
     ]
    }
   ],
   "metadata": {}
  },
  {
   "cell_type": "markdown",
   "source": [
    "# 4. 하위 코루틴의 반환값 가져오기\r\n",
    "\r\n",
    "---\r\n",
    "\r\n",
    "- yield from에 코루틴을 지정하면 해당 코루틴에서 return으로 반환한 값을 가져온다.\r\n",
    "- yield from은 파이썬 3.3이상부터 사용 가능\r\n",
    "\r\n",
    "아래의 예제 코드는 하위 코루틴에서 숫자를 누적한 뒤 합계를 yield from으로 가져오는 코드이다."
   ],
   "metadata": {}
  },
  {
   "cell_type": "code",
   "execution_count": 59,
   "source": [
    "def accumulate():\r\n",
    "    print('RUN Child Coroutine')\r\n",
    "    total = 0\r\n",
    "    try:\r\n",
    "        while True:\r\n",
    "            x = (yield)             # 부모 코루틴에서 값을 받아옴\r\n",
    "            if x is None:           # 받아온 값이 None이면\r\n",
    "                print('NONE!!')     \r\n",
    "                return total        # 합계 total을 부모 코루틴에게 반환\r\n",
    "            else:\r\n",
    "                print(f'ADD-{x}', end=\" \")\r\n",
    "                total += x\r\n",
    "    except GeneratorExit:\r\n",
    "        print()\r\n",
    "        print(\"###CLOSE Child Coroutine###\")\r\n",
    "        pass\r\n",
    "\r\n",
    "def sum_coroutine():\r\n",
    "    try:\r\n",
    "        print('RUN Parent Coroutine')\r\n",
    "        while True:\r\n",
    "            print('>>> Before Parent call Child')\r\n",
    "            total = yield from accumulate()       # 자식(하위) 코루틴에게 바깥에서 받아온 값을 넘겨주고 합계를 가져옴\r\n",
    "            print(total)\r\n",
    "    except GeneratorExit:\r\n",
    "        print(\"###CLOSE Parent Coroutine###\")\r\n",
    "        pass\r\n",
    "\r\n",
    "co = sum_coroutine()\r\n",
    "next(co)\r\n",
    "\r\n",
    "for i in range(1, 11):\r\n",
    "    co.send(i)\r\n",
    "co.send(None)\r\n",
    "\r\n",
    "for i in range(1, 11):\r\n",
    "    co.send(i)\r\n",
    "co.send(None)\r\n",
    "co.close()"
   ],
   "outputs": [
    {
     "output_type": "stream",
     "name": "stdout",
     "text": [
      "RUN Parent Coroutine\n",
      ">>> Before Parent call Child\n",
      "RUN Child Coroutine\n",
      "ADD-1 ADD-2 ADD-3 ADD-4 ADD-5 ADD-6 ADD-7 ADD-8 ADD-9 ADD-10 NONE!!\n",
      "55\n",
      ">>> Before Parent call Child\n",
      "RUN Child Coroutine\n",
      "ADD-1 ADD-2 ADD-3 ADD-4 ADD-5 ADD-6 ADD-7 ADD-8 ADD-9 ADD-10 NONE!!\n",
      "55\n",
      ">>> Before Parent call Child\n",
      "RUN Child Coroutine\n",
      "\n",
      "###CLOSE Child Coroutine###\n",
      "###CLOSE Parent Coroutine###\n"
     ]
    }
   ],
   "metadata": {}
  },
  {
   "cell_type": "markdown",
   "source": [
    "\r\n",
    "######################  \r\n",
    "위의 예제 코드에서 재밌는 점은 하위 코루틴에서 return 키워드로 통해 while문에서 벗어나면서 다시 처음 코드부터 실행된다는 점이다.  \r\n",
    "return 키워드에 대해서 공부했다면 당연한 얘기였겠지만 현재 부모 코루틴에서 하위 코루틴의 return 키워드를 통해 값을 받았기 때문에  \r\n",
    "하위 코루틴이 메모리에서 사라지졌다가 다시 재생성 된다고 생각했다.  \r\n",
    "그래서 실제로 코루틴이 종료될 때의 시점을 알 수 있게 GeneratorExit 예외 처리를 작성 해보았다.  \r\n",
    "하지만 예상과는 다르게 종료 예외 처리가 발생되지 않았음을 실행 결과를 통해 알 수 있었다.  \r\n",
    "즉, 하위 코루틴이 종료되지 않았음을 알 수 있다.  \r\n",
    "이 점을 유의하자.  \r\n",
    "######################  \r\n",
    "\r\n",
    "## 그렇다면..."
   ],
   "metadata": {}
  },
  {
   "cell_type": "markdown",
   "source": [
    "위의 결과를 통해 제너레이터, 코루틴이 종료되고 다시 실행하면 발생하는 예외인 StopIteraion 예외와 연관을 지어보자.  \r\n",
    "파이썬 3.6버전 까지는 하위 코루틴에서 값을 반환할 때는 return 대신 raise StopIteration(값) 구문으로 값을 반환했다.  \r\n",
    "하지만 StopIteration 예외는 Runtime Exception이다. 즉, 메모리에서 삭제된 후 삭제된 제너레이터 객체를 가동시키려고 할때 발생하는 것이다.  \r\n",
    "위의 예제 코드를 통해 알 수 있었듯이 하위 코루틴이 값을 반환할 때에는 메모리에서 삭제되지 않은 것을 알 수 있었고  \r\n",
    "즉, 반환할 때 raise StopIteration 구문 사용은 해당 예외 객체의 OOP 5대 원칙인 1원칙, 단일 책임 원칙에 벗어났다고 본다.  \r\n",
    "그렇기 때문에 파이썬이 return 키워드를 사용하여 값을 반환하는 것으로 수정했다고 생각된다."
   ],
   "metadata": {}
  },
  {
   "cell_type": "markdown",
   "source": [],
   "metadata": {}
  }
 ],
 "metadata": {
  "kernelspec": {
   "name": "python3",
   "display_name": "Python 3.9.6 64-bit"
  },
  "language_info": {
   "codemirror_mode": {
    "name": "ipython",
    "version": 3
   },
   "file_extension": ".py",
   "mimetype": "text/x-python",
   "name": "python",
   "nbconvert_exporter": "python",
   "pygments_lexer": "ipython3",
   "version": "3.9.6"
  },
  "interpreter": {
   "hash": "ac59ebe37160ed0dfa835113d9b8498d9f09ceb179beaac4002f036b9467c963"
  }
 },
 "nbformat": 4,
 "nbformat_minor": 5
}
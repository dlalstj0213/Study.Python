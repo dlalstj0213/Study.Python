{
 "cells": [
  {
   "cell_type": "markdown",
   "id": "8f46a5f9-dfcc-42af-b431-4d533929dd2c",
   "metadata": {},
   "source": [
    "# 제너레이터 분석 정리\n",
    "\n",
    "\n",
    "\n",
    "# 제너레이터 생성 및 호출\n",
    "\n",
    "---"
   ]
  },
  {
   "cell_type": "markdown",
   "id": "a97687bd-240b-4f96-9d9a-d9321875c6da",
   "metadata": {},
   "source": [
    "## yield"
   ]
  },
  {
   "cell_type": "code",
   "execution_count": 21,
   "id": "4ff3dbcf-9a53-4004-9f1b-84deaed8f3ff",
   "metadata": {},
   "outputs": [
    {
     "name": "stdout",
     "output_type": "stream",
     "text": [
      "<class 'generator'>\n",
      "next(x) ? 1\n",
      "next(x) ? 2\n"
     ]
    }
   ],
   "source": [
    "def gener(arr):\n",
    "    for el in arr:\n",
    "        yield el\n",
    "\n",
    "arr = [1, 2, 3, 4, 5]\n",
    "x = gener(arr)\n",
    "print(type(x))\n",
    "print(f\"next(x) ? {next(x)}\")\n",
    "print(f\"next(x) ? {next(x)}\")"
   ]
  },
  {
   "cell_type": "markdown",
   "id": "e67292ca-7d56-4265-ad25-d566ba52b623",
   "metadata": {},
   "source": [
    "## yield from"
   ]
  },
  {
   "cell_type": "code",
   "execution_count": 6,
   "id": "089572b1-9981-48c1-936e-d4cfc434473c",
   "metadata": {},
   "outputs": [
    {
     "name": "stdout",
     "output_type": "stream",
     "text": [
      "next(x) ? 1\n",
      "next(x) ? 2\n"
     ]
    }
   ],
   "source": [
    "def gener(arr):\n",
    "    yield from arr\n",
    "\n",
    "arr = [1, 2, 3, 4, 5]\n",
    "x = gener(arr)\n",
    "print(f\"next(x) ? {next(x)}\")\n",
    "print(f\"next(x) ? {next(x)}\")"
   ]
  },
  {
   "cell_type": "markdown",
   "id": "8c0177b8-f3e8-487b-bf6b-730494a5a810",
   "metadata": {},
   "source": [
    "## ()"
   ]
  },
  {
   "cell_type": "code",
   "execution_count": 7,
   "id": "034875b1-4164-4f8d-a5c7-c5ae99abcdc6",
   "metadata": {},
   "outputs": [
    {
     "name": "stdout",
     "output_type": "stream",
     "text": [
      "next(x) ? 1\n",
      "next(x) ? 2\n"
     ]
    }
   ],
   "source": [
    "arr = [1, 2, 3, 4, 5]\n",
    "x = (i for i in arr)\n",
    "print(f\"next(x) ? {next(x)}\")\n",
    "print(f\"next(x) ? {next(x)}\")"
   ]
  },
  {
   "cell_type": "markdown",
   "id": "b9761fcc-6236-4edd-8754-938a0f880d1e",
   "metadata": {},
   "source": [
    "### count + generator"
   ]
  },
  {
   "cell_type": "code",
   "execution_count": 17,
   "id": "ae920cf1-04db-4cbd-b545-6304e7b3daa3",
   "metadata": {},
   "outputs": [
    {
     "name": "stdout",
     "output_type": "stream",
     "text": [
      "next(x) ? 1\n",
      "next(x) ? 2\n",
      "x.send(None) ? 3\n"
     ]
    }
   ],
   "source": [
    "def count_plus():\n",
    "    count = 0\n",
    "    while(True):\n",
    "        count+=1\n",
    "        yield count\n",
    "x = count_plus()\n",
    "print(f\"next(x) ? {next(x)}\")\n",
    "print(f\"next(x) ? {next(x)}\")\n",
    "print(f\"x.send(None) ? {x.send(None)}\")"
   ]
  },
  {
   "cell_type": "markdown",
   "id": "b990fb0b-c678-42df-a67c-4a067e8f6ef4",
   "metadata": {},
   "source": [
    "## Next default value when the end"
   ]
  },
  {
   "cell_type": "code",
   "execution_count": 19,
   "id": "f17dde51-e2b2-4ec7-a43f-966cc2102734",
   "metadata": {},
   "outputs": [
    {
     "name": "stdout",
     "output_type": "stream",
     "text": [
      "next(x) ? 1\n",
      "next(x) ? 2\n"
     ]
    },
    {
     "ename": "StopIteration",
     "evalue": "",
     "output_type": "error",
     "traceback": [
      "\u001b[1;31m---------------------------------------------------------------------------\u001b[0m",
      "\u001b[1;31mStopIteration\u001b[0m                             Traceback (most recent call last)",
      "\u001b[1;32m~\\AppData\\Local\\Temp/ipykernel_34204/1884078230.py\u001b[0m in \u001b[0;36m<module>\u001b[1;34m\u001b[0m\n\u001b[0;32m      5\u001b[0m \u001b[0mprint\u001b[0m\u001b[1;33m(\u001b[0m\u001b[1;34mf\"next(x) ? {next(x)}\"\u001b[0m\u001b[1;33m)\u001b[0m\u001b[1;33m\u001b[0m\u001b[1;33m\u001b[0m\u001b[0m\n\u001b[0;32m      6\u001b[0m \u001b[0mprint\u001b[0m\u001b[1;33m(\u001b[0m\u001b[1;34mf\"next(x) ? {next(x)}\"\u001b[0m\u001b[1;33m)\u001b[0m\u001b[1;33m\u001b[0m\u001b[1;33m\u001b[0m\u001b[0m\n\u001b[1;32m----> 7\u001b[1;33m \u001b[0mprint\u001b[0m\u001b[1;33m(\u001b[0m\u001b[1;34mf\"next(x) ? {next(x)}\"\u001b[0m\u001b[1;33m)\u001b[0m\u001b[1;33m\u001b[0m\u001b[1;33m\u001b[0m\u001b[0m\n\u001b[0m",
      "\u001b[1;31mStopIteration\u001b[0m: "
     ]
    }
   ],
   "source": [
    "def gener(arr):\n",
    "    yield from arr\n",
    "\n",
    "x = gener([1,2])\n",
    "print(f\"next(x) ? {next(x)}\")\n",
    "print(f\"next(x) ? {next(x)}\")\n",
    "print(f\"next(x) ? {next(x)}\")"
   ]
  },
  {
   "cell_type": "code",
   "execution_count": 20,
   "id": "8e8f86f9-eb3e-456e-9cb5-b2988d60a1ee",
   "metadata": {},
   "outputs": [
    {
     "name": "stdout",
     "output_type": "stream",
     "text": [
      "next(x) ? It is the End of Generator\n"
     ]
    }
   ],
   "source": [
    "print(f\"next(x) ? {next(x, 'It is the End of Generator')}\")"
   ]
  }
 ],
 "metadata": {
  "kernelspec": {
   "display_name": "Python 3 (ipykernel)",
   "language": "python",
   "name": "python3"
  },
  "language_info": {
   "codemirror_mode": {
    "name": "ipython",
    "version": 3
   },
   "file_extension": ".py",
   "mimetype": "text/x-python",
   "name": "python",
   "nbconvert_exporter": "python",
   "pygments_lexer": "ipython3",
   "version": "3.9.6"
  }
 },
 "nbformat": 4,
 "nbformat_minor": 5
}

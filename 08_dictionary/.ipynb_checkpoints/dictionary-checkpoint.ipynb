{
 "cells": [
  {
   "cell_type": "markdown",
   "id": "2bc8948c-1f1a-4283-9779-669ee7b86e04",
   "metadata": {},
   "source": [
    "# 딕셔너리 분석 정리\n",
    "\n",
    "\n",
    "# 1. 사전, 딕셔너리 Dictionary\n",
    "\n",
    "---\n",
    "\n",
    "Dictionary는 \"키(Key) - 값(Value)\" 쌍을 요소로 갖는 컬렉션이다.  \n",
    "Dictionary는 흔히 Map 이라고도 불리우는데, 키(Key)로 신속하게 값(Value)을 찾아내는 해시테이블(Hash Table) 구조를 갖는다.\n",
    "\n",
    "파이썬에서 Dictionary는 \"dict\" 클래스로 구현되어 있다.  \n",
    "Dictionary의 키(key)는 그 값을 변경할 수 없는 Immutable 타입이어야 하며,   \n",
    "Dictionary 값(value)은 Immutable과 Mutable 모두 가능하다.  \n",
    "예를 들어, Dictionary의 키(key)로 문자열이나 Tuple은 사용될 수 있는 반면, 리스트는 키로 사용될 수 없다.\n",
    "\n",
    "# 2. 딕셔너리 생성\n",
    "\n",
    "---\n",
    "\n",
    "## `{}`, `dict()`\n",
    "\n",
    "```\n",
    "{key:value, ...}\n",
    "dict(key=value, ...)\n",
    "dict([tuple, tuple], ...)\n",
    "```"
   ]
  },
  {
   "cell_type": "code",
   "execution_count": 6,
   "id": "a6f61774-7bd8-4064-8eff-65c96b4feb09",
   "metadata": {},
   "outputs": [
    {
     "data": {
      "text/plain": [
       "{'name': 'minseo', 'age': 25}"
      ]
     },
     "execution_count": 6,
     "metadata": {},
     "output_type": "execute_result"
    }
   ],
   "source": [
    "user = {\"name\": \"minseo\", \"age\": 25}\n",
    "user"
   ]
  },
  {
   "cell_type": "code",
   "execution_count": 13,
   "id": "fbecc616-2946-4626-a2d5-9c3914754cff",
   "metadata": {},
   "outputs": [
    {
     "data": {
      "text/plain": [
       "{'name': 'minseo', 'age': 25, 'address': 'minseol@mail.com'}"
      ]
     },
     "execution_count": 13,
     "metadata": {},
     "output_type": "execute_result"
    }
   ],
   "source": [
    "user = dict(name=\"minseo\", age=25, address=\"minseol@mail.com\")\n",
    "user"
   ]
  },
  {
   "cell_type": "code",
   "execution_count": 14,
   "id": "d965eede-648f-44bf-ad90-867fb9f3ea9e",
   "metadata": {},
   "outputs": [
    {
     "data": {
      "text/plain": [
       "{'name': 'minseo', 'age': 25, 'address': 'minseol@mail.com'}"
      ]
     },
     "execution_count": 14,
     "metadata": {},
     "output_type": "execute_result"
    }
   ],
   "source": [
    "user = dict([(\"name\", \"minseo\"), (\"age\", 25)], address=\"minseol@mail.com\")\n",
    "user"
   ]
  },
  {
   "cell_type": "markdown",
   "id": "eac3e798-211f-4954-b4a9-06f092080668",
   "metadata": {},
   "source": [
    "- (복잡)딕셔너리 안에 딕셔너리, 리스트, 튜플"
   ]
  },
  {
   "cell_type": "code",
   "execution_count": 20,
   "id": "c43682d8-b599-4624-b830-903a4f4a25b4",
   "metadata": {},
   "outputs": [
    {
     "data": {
      "text/plain": [
       "{'name': 'minseo',\n",
       " 'dict': {'list': [('tuple', 'hello'), 'Hello', {'dict': 'value'}]}}"
      ]
     },
     "execution_count": 20,
     "metadata": {},
     "output_type": "execute_result"
    }
   ],
   "source": [
    "user = {\n",
    "    \"name\" : \"minseo\",\n",
    "    \"dict\" : {\n",
    "       \"list\" : [\n",
    "            (\"tuple\", \"hello\"),\n",
    "            \"Hello\",\n",
    "           {\"dict\": \"value\"}\n",
    "        ]\n",
    "    },\n",
    "}\n",
    "user"
   ]
  },
  {
   "cell_type": "markdown",
   "id": "0c2258b4-949c-4a34-b613-7db705affe4b",
   "metadata": {},
   "source": [
    "## `dict.fromkeys()`\n",
    "\n",
    "리스트와 튜플로 딕셔너리 생성  \n",
    "키 리스트로 딕셔너리를 생성하며 값은 모두 None으로 저장한다. (기본값 변경 가능)\n",
    "\n",
    "```\n",
    "dict.fromkeys(keys)\n",
    "```"
   ]
  },
  {
   "cell_type": "code",
   "execution_count": 123,
   "id": "36164d47-b89b-4486-9fe2-2b512c628a81",
   "metadata": {},
   "outputs": [
    {
     "data": {
      "text/plain": [
       "{'a': None, 'b': None, 'c': None, 'd': None}"
      ]
     },
     "execution_count": 123,
     "metadata": {},
     "output_type": "execute_result"
    }
   ],
   "source": [
    "keys = [\"a\", \"b\", \"c\", \"d\"]\n",
    "x = dict.fromkeys(keys)\n",
    "x"
   ]
  },
  {
   "cell_type": "code",
   "execution_count": 131,
   "id": "51cc0fc0-6a98-4ea8-b65e-3bda874f3352",
   "metadata": {
    "tags": []
   },
   "outputs": [
    {
     "data": {
      "text/plain": [
       "{'a': 100, 'b': 100, 'c': 100, 'd': 100}"
      ]
     },
     "execution_count": 131,
     "metadata": {},
     "output_type": "execute_result"
    }
   ],
   "source": [
    "keys = [\"a\", \"b\", \"c\", \"d\"]\n",
    "x = dict.fromkeys(keys, 100)\n",
    "x"
   ]
  },
  {
   "cell_type": "markdown",
   "id": "2e4bfdca-0462-4373-8db6-5423300de375",
   "metadata": {},
   "source": [
    "## `defaultdict()` : collections 모듈의 함수\n",
    "\n",
    "```\n",
    "example = {}\n",
    "example[\"KEY\"] # <-ERROR (KeyError)\n",
    "```\n",
    "\n",
    "딕셔너리(dict)는 위와 같이 없는 키에 접근했을 경우 에러가 발생한다.\n",
    "이러한 에러가 발생하지 않게 하기 위해 defaultdict 함수를 사용할 수 있다.\n",
    "\n",
    "`defaultdict()`는 없는 키에 접근하더라도 에러가 발생하지 않으며 기본값을 반환하고 접근한 키를 해당 딕셔너리에 추가한다.\n",
    "\n",
    "```\n",
    "from collections import defaultdict\n",
    "\n",
    "defaultdict(기본값생성함수)\n",
    "```"
   ]
  },
  {
   "cell_type": "code",
   "execution_count": 140,
   "id": "a3185f6d-0f71-4753-8ecf-8b5dafd72c85",
   "metadata": {},
   "outputs": [
    {
     "name": "stdout",
     "output_type": "stream",
     "text": [
      "0\n",
      "defaultdict(<class 'int'>, {'unknown': 0})\n",
      "True\n"
     ]
    }
   ],
   "source": [
    "from collections import defaultdict\n",
    "\n",
    "y = defaultdict(int) # int로 기본값 생성\n",
    "\n",
    "print(y[\"unknown\"]) # 에러 발생 X\n",
    "print(y)\n",
    "print(\"unknown\" in y)"
   ]
  },
  {
   "cell_type": "code",
   "execution_count": 139,
   "id": "81afa02a-ecb4-4463-9bc5-8bacce20cc0b",
   "metadata": {},
   "outputs": [
    {
     "name": "stdout",
     "output_type": "stream",
     "text": [
      "dictionary\n",
      "hello\n"
     ]
    }
   ],
   "source": [
    "from collections import defaultdict\n",
    "\n",
    "y = defaultdict(lambda: 'dictionary')\n",
    "\n",
    "print(y[\"unknown\"]) # 에러 발생 X\n",
    "y[\"unknown2\"] = \"hello\" # 에러 발생 X\n",
    "print(y.get(\"unknown2\"))"
   ]
  },
  {
   "cell_type": "markdown",
   "id": "863f6dac-83c9-4d72-97d1-24c0fc627736",
   "metadata": {},
   "source": [
    "# 3. 딕셔너리 접근\n",
    "\n",
    "---\n",
    "\n",
    "## `[]`, `get()`\n",
    "\n",
    "```\n",
    "딕셔너리명[키]\n",
    "딕셔너리명.get(키[, 기본값])\n",
    "```"
   ]
  },
  {
   "cell_type": "code",
   "execution_count": 22,
   "id": "5266ec50-b72b-4055-91fa-624d7969da9c",
   "metadata": {},
   "outputs": [
    {
     "name": "stdout",
     "output_type": "stream",
     "text": [
      "user[\"name\"] = minseo\n",
      "user.get(\"age\") = 25\n"
     ]
    }
   ],
   "source": [
    "user = {\"name\": \"minseo\", \"age\": 25}\n",
    "\n",
    "print('user[\"name\"] =', user[\"name\"])\n",
    "print('user.get(\"age\") =', user.get(\"age\"))"
   ]
  },
  {
   "cell_type": "markdown",
   "id": "8e74ae17-6cdc-4d6b-9dec-7b013fd43820",
   "metadata": {},
   "source": [
    "## `[]`과 `get()`의 차이점\n",
    "\n",
    "- `[]` 로 접근시 해당 키가 존재하지 않으면 예외가 발생"
   ]
  },
  {
   "cell_type": "code",
   "execution_count": 23,
   "id": "e06c99d1-3d72-4832-9647-6982d1e81d1c",
   "metadata": {},
   "outputs": [
    {
     "ename": "KeyError",
     "evalue": "'job'",
     "output_type": "error",
     "traceback": [
      "\u001b[1;31m---------------------------------------------------------------------------\u001b[0m",
      "\u001b[1;31mKeyError\u001b[0m                                  Traceback (most recent call last)",
      "\u001b[1;32m~\\AppData\\Local\\Temp/ipykernel_34168/3965849077.py\u001b[0m in \u001b[0;36m<module>\u001b[1;34m\u001b[0m\n\u001b[0;32m      1\u001b[0m \u001b[0muser\u001b[0m \u001b[1;33m=\u001b[0m \u001b[1;33m{\u001b[0m\u001b[1;34m\"name\"\u001b[0m\u001b[1;33m:\u001b[0m \u001b[1;34m\"minseo\"\u001b[0m\u001b[1;33m,\u001b[0m \u001b[1;34m\"age\"\u001b[0m\u001b[1;33m:\u001b[0m \u001b[1;36m25\u001b[0m\u001b[1;33m}\u001b[0m\u001b[1;33m\u001b[0m\u001b[1;33m\u001b[0m\u001b[0m\n\u001b[1;32m----> 2\u001b[1;33m \u001b[0mprint\u001b[0m\u001b[1;33m(\u001b[0m\u001b[0muser\u001b[0m\u001b[1;33m[\u001b[0m\u001b[1;34m\"job\"\u001b[0m\u001b[1;33m]\u001b[0m\u001b[1;33m)\u001b[0m\u001b[1;33m\u001b[0m\u001b[1;33m\u001b[0m\u001b[0m\n\u001b[0m",
      "\u001b[1;31mKeyError\u001b[0m: 'job'"
     ]
    }
   ],
   "source": [
    "user = {\"name\": \"minseo\", \"age\": 25}\n",
    "print(user[\"job\"])"
   ]
  },
  {
   "cell_type": "markdown",
   "id": "7684f5ba-77d9-44da-80e7-8ec958453735",
   "metadata": {},
   "source": [
    "- `get()`으로 접근시 해당 키가 존재하지 않으면 `None`을 리턴함"
   ]
  },
  {
   "cell_type": "code",
   "execution_count": 25,
   "id": "c5c8f5dd-7b0e-4841-a41b-4be6dc9e28ac",
   "metadata": {},
   "outputs": [
    {
     "name": "stdout",
     "output_type": "stream",
     "text": [
      "None\n"
     ]
    }
   ],
   "source": [
    "user = {\"name\": \"minseo\", \"age\": 25}\n",
    "print(user.get(\"job\"))"
   ]
  },
  {
   "cell_type": "markdown",
   "id": "123fb8ec-af0b-491a-8f27-a92cca1386d2",
   "metadata": {},
   "source": [
    "- `get()` 접근시 키가 없을때 기본값을 None에서 다른 자료로 변경 가능"
   ]
  },
  {
   "cell_type": "code",
   "execution_count": 52,
   "id": "16e0ab82-a93d-4531-a52b-a2979dbb8ba7",
   "metadata": {},
   "outputs": [
    {
     "name": "stdout",
     "output_type": "stream",
     "text": [
      "25\n"
     ]
    }
   ],
   "source": [
    "user = {\"name\": \"minseo\"}\n",
    "print(user.get(\"age\", 25))"
   ]
  },
  {
   "cell_type": "markdown",
   "id": "0e4fb8e3-388e-4648-b69e-e03d45f3e2a3",
   "metadata": {},
   "source": [
    "# 4. 딕셔너리 추가 / 갱신\n",
    "\n",
    "---\n",
    "\n",
    "## `[]`\n",
    "\n",
    "```\n",
    "딕셔너리명[키] = 값\n",
    "```\n",
    "\n",
    "- 추가"
   ]
  },
  {
   "cell_type": "code",
   "execution_count": 27,
   "id": "d5d9cd8e-6aec-497a-8733-dca91a5e0673",
   "metadata": {},
   "outputs": [
    {
     "name": "stdout",
     "output_type": "stream",
     "text": [
      "{'name': 'minseo', 'age': 25}\n"
     ]
    }
   ],
   "source": [
    "user = {}\n",
    "user[\"name\"] = \"minseo\"\n",
    "user[\"age\"] = 25\n",
    "print(user)"
   ]
  },
  {
   "cell_type": "markdown",
   "id": "41356bb9-ed64-4f28-b007-6c28fd4e4e3a",
   "metadata": {},
   "source": [
    "- 갱신"
   ]
  },
  {
   "cell_type": "code",
   "execution_count": 29,
   "id": "68454cd2-8a00-46cc-9f86-bfa5d15a6b2a",
   "metadata": {},
   "outputs": [
    {
     "name": "stdout",
     "output_type": "stream",
     "text": [
      "{'name': 'MINSEO', 'age': 50}\n"
     ]
    }
   ],
   "source": [
    "user = {\"name\": \"minseo\", \"age\": 25}\n",
    "user[\"name\"] = \"MINSEO\"\n",
    "user[\"age\"] = 50\n",
    "print(user)"
   ]
  },
  {
   "cell_type": "code",
   "execution_count": 32,
   "id": "fc5e1113-4a8d-41ac-ad32-344550938777",
   "metadata": {},
   "outputs": [
    {
     "name": "stdout",
     "output_type": "stream",
     "text": [
      "{'name': {'eng': 'minseo', 'kor': '민서'}, 'age': 25}\n"
     ]
    }
   ],
   "source": [
    "user = {\"name\": \"minseo\", \"age\": 25}\n",
    "user[\"name\"] = {\"eng\": \"minseo\", \"kor\": \"민서\"}\n",
    "print(user)"
   ]
  },
  {
   "cell_type": "markdown",
   "id": "3d633fe9-d064-4f70-96b2-4052dcee1fe3",
   "metadata": {},
   "source": [
    "## `setdefault()`\n",
    "\n",
    "`setdefault()`는 추가는 가능하지만 갱신을 불가능하다. 갱신시 `update()`를 사용하자\n",
    "\n",
    "```\n",
    "딕셔너리명.setdefault(키[, 값])\n",
    "```\n",
    "\n",
    "- 추가"
   ]
  },
  {
   "cell_type": "code",
   "execution_count": 44,
   "id": "1d8832d7-e6b6-4054-b78b-4f0ff0241bb7",
   "metadata": {},
   "outputs": [
    {
     "name": "stdout",
     "output_type": "stream",
     "text": [
      "{'name': 'minseo', 'age': 25}\n"
     ]
    }
   ],
   "source": [
    "user = {}\n",
    "user.setdefault(\"name\", \"minseo\")\n",
    "user.setdefault(\"age\", 25)\n",
    "print(user)"
   ]
  },
  {
   "cell_type": "code",
   "execution_count": 50,
   "id": "a45b9b49-8284-4e7c-88ff-86d6fa23b14d",
   "metadata": {},
   "outputs": [
    {
     "name": "stdout",
     "output_type": "stream",
     "text": [
      "{'name': ['minseo', '민서']}\n"
     ]
    }
   ],
   "source": [
    "user = {}\n",
    "user.setdefault(\"name\", [\"minseo\", \"민서\"])\n",
    "print(user)"
   ]
  },
  {
   "cell_type": "markdown",
   "id": "a7314cbd-12cb-49f5-8575-89cabebbf979",
   "metadata": {},
   "source": [
    "- 만일 키만 입력하면 값은 기본적으로 None 처리 된다."
   ]
  },
  {
   "cell_type": "code",
   "execution_count": 51,
   "id": "a0743bc0-2fec-4d80-8963-202cc92746e5",
   "metadata": {},
   "outputs": [
    {
     "name": "stdout",
     "output_type": "stream",
     "text": [
      "{'name': None}\n"
     ]
    }
   ],
   "source": [
    "user = {}\n",
    "user.setdefault(\"name\")\n",
    "print(user)"
   ]
  },
  {
   "cell_type": "markdown",
   "id": "a2531e60-6b30-497c-897c-21aaeabf6b42",
   "metadata": {},
   "source": [
    "- 갱신 불가능"
   ]
  },
  {
   "cell_type": "code",
   "execution_count": 53,
   "id": "2e7eaace-7a2f-457e-960c-7b55a65ef117",
   "metadata": {},
   "outputs": [
    {
     "name": "stdout",
     "output_type": "stream",
     "text": [
      "{'name': 'minseo'}\n"
     ]
    }
   ],
   "source": [
    "user = {\"name\": \"minseo\"}\n",
    "user.setdefault(\"name\", \"MINSEO\")\n",
    "print(user)"
   ]
  },
  {
   "cell_type": "markdown",
   "id": "2c593527-05c2-457e-adfe-532872b21431",
   "metadata": {},
   "source": [
    "## `update()`\n",
    "\n",
    "`update()`는 `setdefault()`와 다르게 추가, 생신이 둘다 가능하다.\n",
    "\n",
    "```\n",
    "딕셔너리명.update(키=값, ...)\n",
    "```\n",
    "\n",
    "- 추가"
   ]
  },
  {
   "cell_type": "code",
   "execution_count": 55,
   "id": "e66b36c2-bdb3-4418-8c17-b89d0b2b29de",
   "metadata": {},
   "outputs": [
    {
     "name": "stdout",
     "output_type": "stream",
     "text": [
      "{'name': 'minseo', 'age': 25}\n"
     ]
    }
   ],
   "source": [
    "user = {}\n",
    "user.update(name=\"minseo\", age=25)\n",
    "print(user)"
   ]
  },
  {
   "cell_type": "code",
   "execution_count": 64,
   "id": "2e59877d-d35b-409c-810e-d32f19f4b733",
   "metadata": {},
   "outputs": [
    {
     "data": {
      "text/plain": [
       "{1: 'a', 2: 'b'}"
      ]
     },
     "execution_count": 64,
     "metadata": {},
     "output_type": "execute_result"
    }
   ],
   "source": [
    "item = {}\n",
    "new_item = {1: \"a\", 2: \"b\"}\n",
    "item.update(new_item) # 가능\n",
    "#item.update(1=a, ...) # 불가능: update()는 키가 문자열인 경우만 파라미터로 입력할 수 있음\n",
    "item"
   ]
  },
  {
   "cell_type": "markdown",
   "id": "d21a6d4e-352b-45e8-b553-a8e820ef13e6",
   "metadata": {},
   "source": [
    "- 갱신"
   ]
  },
  {
   "cell_type": "code",
   "execution_count": 65,
   "id": "1d4ca9e5-2f04-4946-8938-f9bd4bfca270",
   "metadata": {},
   "outputs": [
    {
     "name": "stdout",
     "output_type": "stream",
     "text": [
      "{'name': 'MINSEO', 'age': 25}\n"
     ]
    }
   ],
   "source": [
    "user = {\"name\": \"minseo\", \"age\": 25}\n",
    "user.update(name=\"MINSEO\")\n",
    "print(user)"
   ]
  },
  {
   "cell_type": "code",
   "execution_count": 68,
   "id": "49598447-4cdc-4a58-a21c-bb2f4976bb4e",
   "metadata": {},
   "outputs": [
    {
     "name": "stdout",
     "output_type": "stream",
     "text": [
      "{'name': 'MINSEO', 'age': 25}\n"
     ]
    }
   ],
   "source": [
    "user = {\"name\": \"minseo\", \"age\": 25}\n",
    "user.update({\"name\": \"MINSEO\"})\n",
    "print(user)"
   ]
  },
  {
   "cell_type": "markdown",
   "id": "33a364e9-de30-4544-ad60-49d00a62a70a",
   "metadata": {},
   "source": [
    "- 리스트의 리스트로 추가/갱신"
   ]
  },
  {
   "cell_type": "code",
   "execution_count": 70,
   "id": "7443d14b-c176-4938-abbd-ef4ea1797c96",
   "metadata": {},
   "outputs": [
    {
     "name": "stdout",
     "output_type": "stream",
     "text": [
      "{'name': 'MINSEO', 'age': 25}\n"
     ]
    }
   ],
   "source": [
    "user = {\"name\": \"minseo\"}\n",
    "user.update([[\"name\", \"MINSEO\"], [\"age\", 25]])\n",
    "print(user)"
   ]
  },
  {
   "cell_type": "markdown",
   "id": "13e9d0fe-5ee9-4eaa-90ba-d84852199c84",
   "metadata": {},
   "source": [
    "- 리스트의 튜플로 추가/갱신"
   ]
  },
  {
   "cell_type": "code",
   "execution_count": 74,
   "id": "92b455f3-93ec-4af8-aace-390288717224",
   "metadata": {
    "tags": []
   },
   "outputs": [
    {
     "name": "stdout",
     "output_type": "stream",
     "text": [
      "{'name': 'MINSEO', 'age': 25}\n"
     ]
    }
   ],
   "source": [
    "user = {\"name\": \"minseo\"}\n",
    "user.update([(\"name\", \"MINSEO\"), (\"age\", 25)])\n",
    "print(user)"
   ]
  },
  {
   "cell_type": "markdown",
   "id": "3df7a4ac-8206-4b39-962c-4be4c1a18b63",
   "metadata": {},
   "source": [
    "- `zip()`으로 추가/갱신"
   ]
  },
  {
   "cell_type": "code",
   "execution_count": 77,
   "id": "50c63d82-9fab-4c72-8c7d-2bcf29f77110",
   "metadata": {},
   "outputs": [
    {
     "name": "stdout",
     "output_type": "stream",
     "text": [
      "{'name': 'MINSEO', 'age': 25}\n"
     ]
    }
   ],
   "source": [
    "user = {\"name\": \"minseo\"}\n",
    "user.update(zip([\"name\", \"age\"], [\"MINSEO\", 25]))\n",
    "print(user)"
   ]
  },
  {
   "cell_type": "markdown",
   "id": "1b84ac92-09c0-4d49-910e-e98c8705baf2",
   "metadata": {},
   "source": [
    "# 5. 딕셔너리 제거\n",
    "\n",
    "---\n",
    "\n",
    "## `del 키워드`\n",
    "\n",
    "```\n",
    "del 딕셔너리명[키]\n",
    "```"
   ]
  },
  {
   "cell_type": "code",
   "execution_count": 78,
   "id": "6ed6d95f-b48f-49ca-b0f1-4c6ea6ce2cce",
   "metadata": {},
   "outputs": [
    {
     "name": "stdout",
     "output_type": "stream",
     "text": [
      "{'age': 25}\n"
     ]
    }
   ],
   "source": [
    "user = {\"name\": \"minseo\", \"age\": 25}\n",
    "del user[\"name\"]\n",
    "print(user)"
   ]
  },
  {
   "cell_type": "markdown",
   "id": "9ac6e486-63fd-48b7-bfed-97581c0925d0",
   "metadata": {},
   "source": [
    "## `pop()`\n",
    "\n",
    "특정 키-값을 삭제 하고 삭제된 값을 반환 합니다. 만약 키 뒤에 숫자를 입력 하면 해당 키가 없을 경우 입력했던 숫자를 반환\n",
    "\n",
    "```\n",
    "딕셔너리명.pop(키[, 기본값])\n",
    "```"
   ]
  },
  {
   "cell_type": "code",
   "execution_count": 81,
   "id": "12614ce6-e224-44dd-9d05-b26a926b7974",
   "metadata": {},
   "outputs": [
    {
     "name": "stdout",
     "output_type": "stream",
     "text": [
      "user = {'name': 'minseo'}\n",
      "val = 25\n"
     ]
    }
   ],
   "source": [
    "user = {\"name\": \"minseo\", \"age\": 25}\n",
    "val = user.pop(\"age\")\n",
    "print(\"user =\", user)\n",
    "print(\"val =\", val)"
   ]
  },
  {
   "cell_type": "code",
   "execution_count": 82,
   "id": "4ab1e9ef-4fa0-48db-82c8-f47e52c045a9",
   "metadata": {},
   "outputs": [
    {
     "name": "stdout",
     "output_type": "stream",
     "text": [
      "user = {'name': 'minseo', 'age': 25}\n",
      "val = no job\n"
     ]
    }
   ],
   "source": [
    "user = {\"name\": \"minseo\", \"age\": 25}\n",
    "val = user.pop(\"job\", \"no job\")\n",
    "print(\"user =\", user)\n",
    "print(\"val =\", val)"
   ]
  },
  {
   "cell_type": "markdown",
   "id": "4bcb5a94-757a-42ae-8920-60919a05e028",
   "metadata": {},
   "source": [
    "## `popitem()`\n",
    "\n",
    "마지막 키-값 쌍 삭제 후 튜플로 반환 (Python 3.5 이하 버전에서는 마지막이 아닌 임의의 키-값을 삭제)\n",
    "\n",
    "```\n",
    "딕셔너리명.popitem()\n",
    "```"
   ]
  },
  {
   "cell_type": "code",
   "execution_count": 83,
   "id": "0a5534ad-301a-49b4-a413-55929b947b13",
   "metadata": {},
   "outputs": [
    {
     "name": "stdout",
     "output_type": "stream",
     "text": [
      "user = {'name': 'minseo'}\n",
      "val = ('age', 25)\n"
     ]
    }
   ],
   "source": [
    "user = {\"name\": \"minseo\", \"age\": 25}\n",
    "val = user.popitem()\n",
    "print(\"user =\", user)\n",
    "print(\"val =\", val)"
   ]
  },
  {
   "cell_type": "markdown",
   "id": "5fa6b8df-87d1-4804-a30a-fda39f87f7c0",
   "metadata": {},
   "source": [
    "## `clear()`\n",
    "\n",
    "딕셔너리의 모든 키-값 쌍을 삭제\n",
    "\n",
    "```\n",
    "딕셔너리명.clear()\n",
    "```"
   ]
  },
  {
   "cell_type": "code",
   "execution_count": 84,
   "id": "42b56090-a93f-4576-932e-c6ff98df1f23",
   "metadata": {},
   "outputs": [
    {
     "name": "stdout",
     "output_type": "stream",
     "text": [
      "user = {}\n",
      "val = None\n"
     ]
    }
   ],
   "source": [
    "user = {\"name\": \"minseo\", \"age\": 25}\n",
    "val = user.clear()\n",
    "print(\"user =\", user)\n",
    "print(\"val =\", val)"
   ]
  },
  {
   "cell_type": "markdown",
   "id": "14d47681-d1f9-4a7a-8835-4bc0215265fe",
   "metadata": {},
   "source": [
    "# 6. 딕셔너리 순회\n",
    "\n",
    "---\n",
    "\n",
    "## `items()`\n",
    "\n",
    "키-값 쌍을 모두 dict_items 객체 안에 리스트 튜플 형태로 가져옴\n",
    "\n",
    "```\n",
    "딕셔너리명.items()\n",
    "```"
   ]
  },
  {
   "cell_type": "code",
   "execution_count": 97,
   "id": "95355525-82f1-40c6-9041-6fb749d38755",
   "metadata": {},
   "outputs": [
    {
     "name": "stdout",
     "output_type": "stream",
     "text": [
      "dict_items([('a', 'A'), ('b', 'B'), ('c', 'C')])\n",
      "<class 'dict_items'>\n"
     ]
    }
   ],
   "source": [
    "x = {\"a\":\"A\", \"b\":\"B\", \"c\":\"C\"}\n",
    "print(x.items())\n",
    "print(type(x.items()))"
   ]
  },
  {
   "cell_type": "code",
   "execution_count": 98,
   "id": "2b384240-a608-4fe9-9f26-e8108f750a61",
   "metadata": {},
   "outputs": [
    {
     "name": "stdout",
     "output_type": "stream",
     "text": [
      "key: a, value: A\n",
      "key: b, value: B\n",
      "key: c, value: C\n"
     ]
    }
   ],
   "source": [
    "x = {\"a\":\"A\", \"b\":\"B\", \"c\":\"C\"}\n",
    "for key, value in x.items():\n",
    "    print(\"key: {}, value: {}\".format(key, value))"
   ]
  },
  {
   "cell_type": "markdown",
   "id": "dc7d8cda-27ef-44a8-ad81-82c748c9017f",
   "metadata": {},
   "source": [
    "## `keys()`\n",
    "\n",
    "키를 모두 dict_keys 객체 안에 리스트 형태로 가져옴\n",
    "\n",
    "```\n",
    "딕셔너리명.keys()\n",
    "```"
   ]
  },
  {
   "cell_type": "code",
   "execution_count": 99,
   "id": "06c2afd0-143f-4572-9b14-b4b2de72e13e",
   "metadata": {},
   "outputs": [
    {
     "name": "stdout",
     "output_type": "stream",
     "text": [
      "dict_keys(['a', 'b', 'c'])\n",
      "<class 'dict_keys'>\n"
     ]
    }
   ],
   "source": [
    "x = {\"a\":\"A\", \"b\":\"B\", \"c\":\"C\"}\n",
    "print(x.keys())\n",
    "print(type(x.keys()))"
   ]
  },
  {
   "cell_type": "code",
   "execution_count": 100,
   "id": "1cec87ff-21a6-4f87-94f2-4e7015ee7104",
   "metadata": {},
   "outputs": [
    {
     "name": "stdout",
     "output_type": "stream",
     "text": [
      "key: a\n",
      "key: b\n",
      "key: c\n"
     ]
    }
   ],
   "source": [
    "x = {\"a\":\"A\", \"b\":\"B\", \"c\":\"C\"}\n",
    "for key in x.keys():\n",
    "    print(\"key: {}\".format(key))"
   ]
  },
  {
   "cell_type": "markdown",
   "id": "54aa7589-a418-4516-b5f1-227bdb84d9a0",
   "metadata": {},
   "source": [
    "## `values()`\n",
    "\n",
    "값을 모두 dict_values 객체 안에 리스트 형태로 가져옴\n",
    "\n",
    "```\n",
    "딕셔너리명.values()\n",
    "```"
   ]
  },
  {
   "cell_type": "code",
   "execution_count": 101,
   "id": "35c4a286-8fb5-4237-ba41-70ad4a84b3f3",
   "metadata": {},
   "outputs": [
    {
     "name": "stdout",
     "output_type": "stream",
     "text": [
      "dict_values(['A', 'B', 'C'])\n",
      "<class 'dict_values'>\n"
     ]
    }
   ],
   "source": [
    "x = {\"a\":\"A\", \"b\":\"B\", \"c\":\"C\"}\n",
    "print(x.values())\n",
    "print(type(x.values()))"
   ]
  },
  {
   "cell_type": "code",
   "execution_count": 102,
   "id": "0819308d-824c-456a-a3d0-82d17edb67a4",
   "metadata": {},
   "outputs": [
    {
     "name": "stdout",
     "output_type": "stream",
     "text": [
      "value: A\n",
      "value: B\n",
      "value: C\n"
     ]
    }
   ],
   "source": [
    "x = {\"a\":\"A\", \"b\":\"B\", \"c\":\"C\"}\n",
    "for value in x.values():\n",
    "    print(\"value: {}\".format(value))"
   ]
  },
  {
   "cell_type": "markdown",
   "id": "fa0c6030-5e5f-4ee8-b24f-cbffb7688774",
   "metadata": {},
   "source": [
    "# 7. 딕셔너리 병합\n",
    "\n",
    "---\n",
    "\n",
    "## `{**} 연산자`\n",
    "\n",
    "여러 개의 사전을 합쳐야할 때는 ** 연산자를 사용하여, 중괄호 안에 합칠 사전들을 쉼표(,)로 구분하여 나열한다.\n",
    "\n",
    "```\n",
    "{**딕셔너리명, **딕셔너리명, ...}\n",
    "```"
   ]
  },
  {
   "cell_type": "code",
   "execution_count": 104,
   "id": "364055bd-279c-4b83-b7d2-b45c4fe08eed",
   "metadata": {},
   "outputs": [
    {
     "name": "stdout",
     "output_type": "stream",
     "text": [
      "{'a': 'A', 'b': 'B', 'c': 'C', 'd': 'D'}\n"
     ]
    }
   ],
   "source": [
    "x = {\"a\": \"A\", \"b\": \"B\"}\n",
    "y = {\"c\": \"C\", \"d\": \"D\"}\n",
    "xy = {**x, **y}\n",
    "print(xy)"
   ]
  },
  {
   "cell_type": "markdown",
   "id": "d95e7fd7-e144-4253-9564-c37caf1e14f5",
   "metadata": {},
   "source": [
    "## `| 연산자`\n",
    "\n",
    "Python 3.9 버전부터는 대신에 | 연산자를 사용해서 좀 더 깔끔하게 여러 개의 사전을 병합할 수 있다.\n",
    "\n",
    "```\n",
    "딕셔너리명 | 딕셔너리명 | ...\n",
    "```"
   ]
  },
  {
   "cell_type": "code",
   "execution_count": 106,
   "id": "a0ab24a7-c5f2-4c0c-a51b-177513e6568e",
   "metadata": {},
   "outputs": [
    {
     "name": "stdout",
     "output_type": "stream",
     "text": [
      "{'a': 'A', 'b': 'B', 'c': 'C', 'd': 'D'}\n"
     ]
    }
   ],
   "source": [
    "a = {\"a\": \"A\"}\n",
    "b = {\"b\": \"B\"}\n",
    "c = {\"c\": \"C\"}\n",
    "d = {\"d\": \"D\"}\n",
    "\n",
    "abcd = a | b | c | d\n",
    "print(abcd)"
   ]
  },
  {
   "cell_type": "markdown",
   "id": "66ec323b-49eb-43df-be82-1fee0baf245c",
   "metadata": {},
   "source": [
    "# 8. 딕셔너리 특정 키 존재 확인\n",
    "\n",
    "---\n",
    "\n",
    "## `in`"
   ]
  },
  {
   "cell_type": "code",
   "execution_count": 108,
   "id": "2b4f709c-a72a-4b85-a043-dea992f9b238",
   "metadata": {},
   "outputs": [
    {
     "name": "stdout",
     "output_type": "stream",
     "text": [
      "True\n",
      "True\n",
      "False\n"
     ]
    }
   ],
   "source": [
    "user = {\"name\": \"minseo\", \"age\": 25}\n",
    "print( \"name\" in user)\n",
    "print( \"age\" in user)\n",
    "print( \"job\" in user)"
   ]
  },
  {
   "cell_type": "markdown",
   "id": "a04627f9-986f-481d-b44d-73c1a78d0510",
   "metadata": {},
   "source": [
    "## `not in`"
   ]
  },
  {
   "cell_type": "code",
   "execution_count": 112,
   "id": "58b33206-dde4-4676-82b3-ef39be12f2ca",
   "metadata": {},
   "outputs": [
    {
     "name": "stdout",
     "output_type": "stream",
     "text": [
      "False\n",
      "False\n",
      "True\n"
     ]
    }
   ],
   "source": [
    "user = {\"name\": \"minseo\", \"age\": 25}\n",
    "print( \"name\" not in user)\n",
    "print( \"age\" not in user)\n",
    "print( \"job\" not in user)"
   ]
  },
  {
   "cell_type": "markdown",
   "id": "f2aa6a81-9419-4969-a51f-c915edb42bee",
   "metadata": {},
   "source": [
    "# 딕셔너리 복사\n",
    "\n",
    "---\n",
    "\n",
    "## `copy()` : 얕은 복사"
   ]
  },
  {
   "cell_type": "code",
   "execution_count": 119,
   "id": "518772a2-184c-4873-8334-013f533bf148",
   "metadata": {},
   "outputs": [
    {
     "name": "stdout",
     "output_type": "stream",
     "text": [
      "*** : 중점적으로 결과를 봐야할 곳\n",
      ">>> 두 변수의 값 출력 >>>\n",
      "dic: {'a': 1, 'b': {'num': 3}, 'c': 5}\n",
      "dic_copy: {'a': 1, 'b': {'num': 3}, 'c': 5}\n",
      "*** dic == dic_copy : True\n",
      "\n",
      ">>> 두 변수의 메모리 주소 확인 >>>\n",
      "id(dic) : 1921141665344\n",
      "id(dic_copy) : 1921142490816\n",
      "*** 1921141665344 == 1921142490816 : False\n",
      "\n",
      ">>> 같은 객체인지 확인 >>>\n",
      "*** dic is dic_copy : False\n",
      "*** dic[\"b\"] is dic_copy[\"b\"] : True\n",
      "\n",
      ">>> 값을 변경하여 원본 자료의 변경 여부 확인 >>>\n",
      "dic_copy[\"a\"] = 100\n",
      "dic_copy[\"b\"][\"num\"] = 200\n",
      "dic_copy: {'a': 100, 'b': {'num': 200}, 'c': 5}\n",
      "dic: {'a': 1, 'b': {'num': 200}, 'c': 5}\n",
      "*** dic == dic_copy : False\n",
      "\n",
      ">>> 결과: 얕은 복사\n"
     ]
    }
   ],
   "source": [
    "print(\"*** : 중점적으로 결과를 봐야할 곳\")\n",
    "dic = {\"a\": 1, \"b\": {\"num\": 3}, \"c\": 5}\n",
    "dic_copy = dic.copy()\n",
    "print(\">>> 두 변수의 값 출력 >>>\")\n",
    "print(\"dic:\", dic)\n",
    "print(\"dic_copy:\", dic_copy) \n",
    "print(\"*** dic == dic_copy :\", dic == dic_copy) # 복사가 잘 되었는지 확인\n",
    "\n",
    "print(\"\\n>>> 두 변수의 메모리 주소 확인 >>>\")\n",
    "print(\"id(dic) :\", id(dic)) # dic의 메모리 주소 확인 \n",
    "print(\"id(dic_copy) :\", id(dic_copy))  # dic_copy의 메모리 주소 확인\n",
    "print(\"*** {} == {} : {}\".format(id(dic), id(dic_copy), id(dic) == id(dic_copy)))\n",
    "\n",
    "print(\"\\n>>> 같은 객체인지 확인 >>>\")\n",
    "print(\"*** dic is dic_copy :\", dic is dic_copy)\n",
    "print('*** dic[\"b\"] is dic_copy[\"b\"] :', dic['b'] is dic_copy['b'])\n",
    "\n",
    "print(\"\\n>>> 값을 변경하여 원본 자료의 변경 여부 확인 >>>\")\n",
    "dic_copy['a'] = 100\n",
    "dic_copy['b'][\"num\"] = 200\n",
    "print(\"\\n\".join([\n",
    "    'dic_copy[\"a\"] = 100',\n",
    "    'dic_copy[\"b\"][\"num\"] = 200'\n",
    "]))\n",
    "print(\"dic_copy:\", dic_copy) \n",
    "print(\"dic:\", dic)\n",
    "print(\"*** dic == dic_copy :\", dic == dic_copy)\n",
    "\n",
    "print(\"\\n>>> 결과: 얕은 복사\")"
   ]
  },
  {
   "cell_type": "markdown",
   "id": "e82248ca-8c57-4039-a6fc-e34fbdd2f9fa",
   "metadata": {},
   "source": [
    "## `deepcopy()`"
   ]
  },
  {
   "cell_type": "code",
   "execution_count": 122,
   "id": "dd565f1e-2190-48b0-b104-475691805af5",
   "metadata": {},
   "outputs": [
    {
     "name": "stdout",
     "output_type": "stream",
     "text": [
      "*** : 중점적으로 결과를 봐야할 곳\n",
      ">>> 두 변수의 값 출력 >>>\n",
      "dic: {'a': 1, 'b': {'num': 3}, 'c': 5}\n",
      "dic_copy: {'a': 1, 'b': {'num': 3}, 'c': 5}\n",
      "*** dic == dic_copy : True\n",
      "\n",
      ">>> 두 변수의 메모리 주소 확인 >>>\n",
      "id(dic) : 1921141417344\n",
      "id(dic_copy) : 1921141418880\n",
      "*** 1921141417344 == 1921141418880 : False\n",
      "\n",
      ">>> 같은 객체인지 확인 >>>\n",
      "*** dic is dic_copy : False\n",
      "*** dic[\"b\"] is dic_copy[\"b\"] : False\n",
      "\n",
      ">>> 값을 변경하여 원본 자료의 변경 여부 확인 >>>\n",
      "dic_copy[\"a\"] = 100\n",
      "dic_copy[\"b\"][\"num\"] = 200\n",
      "dic_copy: {'a': 100, 'b': {'num': 200}, 'c': 5}\n",
      "dic: {'a': 1, 'b': {'num': 3}, 'c': 5}\n",
      "*** dic == dic_copy : False\n",
      "\n",
      ">>> 결과: 깊은 복사\n"
     ]
    }
   ],
   "source": [
    "import copy\n",
    "\n",
    "print(\"*** : 중점적으로 결과를 봐야할 곳\")\n",
    "dic = {\"a\": 1, \"b\": {\"num\": 3}, \"c\": 5}\n",
    "dic_copy = copy.deepcopy(dic)\n",
    "print(\">>> 두 변수의 값 출력 >>>\")\n",
    "print(\"dic:\", dic)\n",
    "print(\"dic_copy:\", dic_copy) \n",
    "print(\"*** dic == dic_copy :\", dic == dic_copy) # 복사가 잘 되었는지 확인\n",
    "\n",
    "print(\"\\n>>> 두 변수의 메모리 주소 확인 >>>\")\n",
    "print(\"id(dic) :\", id(dic)) # dic의 메모리 주소 확인 \n",
    "print(\"id(dic_copy) :\", id(dic_copy))  # dic_copy의 메모리 주소 확인\n",
    "print(\"*** {} == {} : {}\".format(id(dic), id(dic_copy), id(dic) == id(dic_copy)))\n",
    "\n",
    "print(\"\\n>>> 같은 객체인지 확인 >>>\")\n",
    "print(\"*** dic is dic_copy :\", dic is dic_copy)\n",
    "print('*** dic[\"b\"] is dic_copy[\"b\"] :', dic['b'] is dic_copy['b'])\n",
    "\n",
    "print(\"\\n>>> 값을 변경하여 원본 자료의 변경 여부 확인 >>>\")\n",
    "dic_copy['a'] = 100\n",
    "dic_copy['b'][\"num\"] = 200\n",
    "print(\"\\n\".join([\n",
    "    'dic_copy[\"a\"] = 100',\n",
    "    'dic_copy[\"b\"][\"num\"] = 200'\n",
    "]))\n",
    "print(\"dic_copy:\", dic_copy) \n",
    "print(\"dic:\", dic)\n",
    "print(\"*** dic == dic_copy :\", dic == dic_copy)\n",
    "\n",
    "print(\"\\n>>> 결과: 깊은 복사\")"
   ]
  }
 ],
 "metadata": {
  "kernelspec": {
   "display_name": "Python 3 (ipykernel)",
   "language": "python",
   "name": "python3"
  },
  "language_info": {
   "codemirror_mode": {
    "name": "ipython",
    "version": 3
   },
   "file_extension": ".py",
   "mimetype": "text/x-python",
   "name": "python",
   "nbconvert_exporter": "python",
   "pygments_lexer": "ipython3",
   "version": "3.9.6"
  }
 },
 "nbformat": 4,
 "nbformat_minor": 5
}

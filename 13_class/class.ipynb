{
 "cells": [
  {
   "cell_type": "markdown",
   "source": [
    "# 클래스 사용\n",
    "\n",
    "\n",
    "# 클래스 인스턴스 확인\n",
    "\n",
    "---\n",
    "\n",
    "## isinstance()\n",
    "\n",
    "isinstance(): 해당 객체가 어떤 클래스로부터 만들어졌는지 확인할 수 있는 함수\n",
    "\n",
    "사용법\n",
    "```\n",
    "isinstance(인스턴스, 클래스) # return True/False\n",
    "```"
   ],
   "metadata": {}
  },
  {
   "cell_type": "code",
   "execution_count": 1,
   "source": [
    "class Student:\r\n",
    "    def __init__(self):\r\n",
    "        pass\r\n",
    "    \r\n",
    "class Teacher:\r\n",
    "    def __init__(self):\r\n",
    "        pass"
   ],
   "outputs": [],
   "metadata": {}
  },
  {
   "cell_type": "code",
   "execution_count": 3,
   "source": [
    "student = Student()\r\n",
    "teacher = Teacher()\r\n",
    "\r\n",
    "print('isinstance(student, Student) ?', isinstance(student, Student))\r\n",
    "print('isinstance(teacher, Teacher) ?', isinstance(teacher, Teacher))\r\n",
    "print('isinstance(teacher, Student) ?', isinstance(teacher, Student))\r\n",
    "print('isinstance(student, Teacher) ?', isinstance(student, Teacher))"
   ],
   "outputs": [
    {
     "output_type": "stream",
     "name": "stdout",
     "text": [
      "isinstance(student, Student) ? True\n",
      "isinstance(teacher, Teacher) ? True\n",
      "isinstance(teacher, Student) ? False\n",
      "isinstance(student, Teacher) ? False\n"
     ]
    }
   ],
   "metadata": {}
  },
  {
   "cell_type": "markdown",
   "source": [
    "## isinstance() AND type()\r\n",
    "\r\n",
    "단순한 인스턴스 확인 방법으로 `type() ==` 구문을 통해 확인이 가능하다.  \r\n",
    "\r\n",
    "        type(student) == Student  \r\n",
    "\r\n",
    "다만 상속의 개념에서는 이 구문의 차이가 발생한다."
   ],
   "metadata": {}
  },
  {
   "cell_type": "code",
   "execution_count": 8,
   "source": [
    "class Human:\r\n",
    "    def __init__(self):\r\n",
    "        pass\r\n",
    "class Student(Human): # Human 클래스 상속\r\n",
    "    def __init__(self):\r\n",
    "        pass\r\n",
    "    \r\n",
    "student = Student()"
   ],
   "outputs": [],
   "metadata": {}
  },
  {
   "cell_type": "markdown",
   "source": [
    "위의 코드에서 Student 클래스는 Human 클래스를 상속 받고 있다.  \r\n",
    "isinstance()로 인스턴스를 확인하면 상속관계까지 확인하는 것을 알 수 있다.  \r\n",
    "isinstance()와 반대로 `type() == `구문은 상속관계를 확인하지 않는다."
   ],
   "metadata": {}
  },
  {
   "cell_type": "code",
   "execution_count": 9,
   "source": [
    "# isinstance()로 상속관계까지 확인\r\n",
    "print('isinstance(student, Human) ?', isinstance(student, Human))"
   ],
   "outputs": [
    {
     "output_type": "stream",
     "name": "stdout",
     "text": [
      "isinstance(student, Human) ? True\n"
     ]
    }
   ],
   "metadata": {}
  },
  {
   "cell_type": "code",
   "execution_count": 10,
   "source": [
    "# type() == 은 상속관계까지 확인하지 않음\r\n",
    "print('type(student) == Human ?', type(student) == Human)"
   ],
   "outputs": [
    {
     "output_type": "stream",
     "name": "stdout",
     "text": [
      "type(student) == Human ? False\n"
     ]
    }
   ],
   "metadata": {}
  },
  {
   "cell_type": "markdown",
   "source": [
    "# 특수한 이름의 메소드\n",
    "\n",
    "---\n",
    "\n",
    "클래스는 기본적으로 내장되어 있는 특수한 이름의 메소드가 존재한다.  \n",
    "예를 들어 `__init_subclass__, __le__, __ne__, __new__, ...` 등 다양하게 있다.  \n",
    "이는 파이썬이 클래스를 사용할 때 기본적으로 제공해주는 보조 기능이다.  \n",
    "그리고 이러한 메소드는 특수한 상황에 자동으로 호출되도록 만들어졌다.\n",
    "\n",
    "## `__str__`과 `str()`"
   ],
   "metadata": {}
  },
  {
   "cell_type": "code",
   "execution_count": 11,
   "source": [
    "class Student:\r\n",
    "    def __init__(self, name, score):\r\n",
    "        self.name = name\r\n",
    "        self.score = score\r\n",
    "    def __str__(self):\r\n",
    "        return '{}\\t{}'.format(self.name, self.score)\r\n",
    "\r\n",
    "students = [\r\n",
    "    Student(\"김길동\", 80),\r\n",
    "    Student(\"이길동\", 85),\r\n",
    "    Student(\"박길동\", 75),\r\n",
    "    Student(\"최길동\", 90),\r\n",
    "    Student(\"방길동\", 95),\r\n",
    "    Student(\"정길동\", 70)\r\n",
    "]"
   ],
   "outputs": [],
   "metadata": {}
  },
  {
   "cell_type": "code",
   "execution_count": 12,
   "source": [
    "print(\"이름\", \"점수\", sep=\"\\t\")\r\n",
    "for student in students:\r\n",
    "    print(str(student))"
   ],
   "outputs": [
    {
     "output_type": "stream",
     "name": "stdout",
     "text": [
      "이름\t점수\n",
      "김길동\t80\n",
      "이길동\t85\n",
      "박길동\t75\n",
      "최길동\t90\n",
      "방길동\t95\n",
      "정길동\t70\n"
     ]
    }
   ],
   "metadata": {}
  },
  {
   "cell_type": "markdown",
   "source": [
    "## 특수한 메소드: 크기 비교 함수\n",
    "\n",
    "|이름|영어|설명|\n",
    "|---|---|---|\n",
    "|`__eq__`|equal|같다|\n",
    "|`__ne__`|not equal|다르다|\n",
    "|`__gt__`|greater than|크다|\n",
    "|`__ge__`|greater than or equal|크거나 같다|\n",
    "|`__lt__`|less than|작다|\n",
    "|`__le__`|less than or equal|작거나 같다|"
   ],
   "metadata": {}
  },
  {
   "cell_type": "code",
   "execution_count": 19,
   "source": [
    "class Student:\r\n",
    "    def __init__(self, name, korean, math, english, science):\r\n",
    "        self.name = name\r\n",
    "        self.korean = korean\r\n",
    "        self.math = math\r\n",
    "        self.english = english\r\n",
    "        self.science = science\r\n",
    "    \r\n",
    "    def get_sum(self):\r\n",
    "        return self.korean + self.math + \\\r\n",
    "            self.english + self.science\r\n",
    "    \r\n",
    "    def __eq__(self, other):\r\n",
    "        return self.get_sum() == other.get_sum()\r\n",
    "    \r\n",
    "    def __ne__(self, other):\r\n",
    "        return self.get_sum() != other.get_sum()\r\n",
    "    \r\n",
    "    def __gt__(self, other):\r\n",
    "        return self.get_sum() > other.get_sum()\r\n",
    "    \r\n",
    "    def __ge__(self, other):\r\n",
    "        return self.get_sum() >= other.get_sum()\r\n",
    "    \r\n",
    "    def __lt__(self, other):\r\n",
    "        return self.get_sum() < other.get_sum()\r\n",
    "    \r\n",
    "    def __le__(self, other):\r\n",
    "        return self.get_sum() <= other.get_sum()"
   ],
   "outputs": [],
   "metadata": {}
  },
  {
   "cell_type": "code",
   "execution_count": 21,
   "source": [
    "michael = Student(\"Michael\", 80, 81, 82, 83)\r\n",
    "james = Student(\"James\", 70, 71, 72, 73)\r\n",
    "\r\n",
    "print(\"michael total ?\", michael.get_sum())\r\n",
    "print(\"james total ?\", james.get_sum())\r\n",
    "print(\"michael == james ?\", michael == james)\r\n",
    "print(\"michael != james ?\", michael != james)\r\n",
    "print(\"michael > james ?\", michael > james)\r\n",
    "print(\"michael >= james ?\", michael >= james)\r\n",
    "print(\"michael < james ?\", michael < james)\r\n",
    "print(\"michael <= james ?\", michael <= james)"
   ],
   "outputs": [
    {
     "output_type": "stream",
     "name": "stdout",
     "text": [
      "michael total ? 326\n",
      "james total ? 286\n",
      "michael == james ? False\n",
      "michael != james ? True\n",
      "michael > james ? True\n",
      "michael >= james ? True\n",
      "michael < james ? False\n",
      "michael <= james ? False\n"
     ]
    }
   ],
   "metadata": {}
  },
  {
   "cell_type": "markdown",
   "source": [
    "## Exception, isinstance(), 비교함수 활용"
   ],
   "metadata": {}
  },
  {
   "cell_type": "code",
   "execution_count": 24,
   "source": [
    "class Student:\r\n",
    "    def __init__(self, name, korean, math, english, science):\r\n",
    "        self.name = name\r\n",
    "        self.korean = korean\r\n",
    "        self.math = math\r\n",
    "        self.english = english\r\n",
    "        self.science = science\r\n",
    "    \r\n",
    "    def get_sum(self):\r\n",
    "        return self.korean + self.math + \\\r\n",
    "            self.english + self.science\r\n",
    "    \r\n",
    "    def __eq__(self, other):\r\n",
    "        if not isinstance(other, Student): # 인스턴스 확인\r\n",
    "            raise TypeError(\"Student 클래스의 인스턴스만 비교할 수 있습니다.\") # TypeError 예외 발생\r\n",
    "        return self.get_sum() == other.get_sum()"
   ],
   "outputs": [],
   "metadata": {}
  },
  {
   "cell_type": "code",
   "execution_count": 25,
   "source": [
    "student_a = Student(\"Michael\", 80, 81, 82, 83)\r\n",
    "\r\n",
    "student_a == 100"
   ],
   "outputs": [
    {
     "output_type": "error",
     "ename": "TypeError",
     "evalue": "Student 클래스의 인스턴스만 비교할 수 있습니다.",
     "traceback": [
      "\u001b[1;31m---------------------------------------------------------------------------\u001b[0m",
      "\u001b[1;31mTypeError\u001b[0m                                 Traceback (most recent call last)",
      "\u001b[1;32m~\\AppData\\Local\\Temp/ipykernel_37796/3573464191.py\u001b[0m in \u001b[0;36m<module>\u001b[1;34m\u001b[0m\n\u001b[0;32m      1\u001b[0m \u001b[0mstudent_a\u001b[0m \u001b[1;33m=\u001b[0m \u001b[0mStudent\u001b[0m\u001b[1;33m(\u001b[0m\u001b[1;34m\"Michael\"\u001b[0m\u001b[1;33m,\u001b[0m \u001b[1;36m80\u001b[0m\u001b[1;33m,\u001b[0m \u001b[1;36m81\u001b[0m\u001b[1;33m,\u001b[0m \u001b[1;36m82\u001b[0m\u001b[1;33m,\u001b[0m \u001b[1;36m83\u001b[0m\u001b[1;33m)\u001b[0m\u001b[1;33m\u001b[0m\u001b[1;33m\u001b[0m\u001b[0m\n\u001b[0;32m      2\u001b[0m \u001b[1;33m\u001b[0m\u001b[0m\n\u001b[1;32m----> 3\u001b[1;33m \u001b[0mstudent_a\u001b[0m \u001b[1;33m==\u001b[0m \u001b[1;36m100\u001b[0m\u001b[1;33m\u001b[0m\u001b[1;33m\u001b[0m\u001b[0m\n\u001b[0m",
      "\u001b[1;32m~\\AppData\\Local\\Temp/ipykernel_37796/3448494308.py\u001b[0m in \u001b[0;36m__eq__\u001b[1;34m(self, other)\u001b[0m\n\u001b[0;32m     13\u001b[0m     \u001b[1;32mdef\u001b[0m \u001b[0m__eq__\u001b[0m\u001b[1;33m(\u001b[0m\u001b[0mself\u001b[0m\u001b[1;33m,\u001b[0m \u001b[0mother\u001b[0m\u001b[1;33m)\u001b[0m\u001b[1;33m:\u001b[0m\u001b[1;33m\u001b[0m\u001b[1;33m\u001b[0m\u001b[0m\n\u001b[0;32m     14\u001b[0m         \u001b[1;32mif\u001b[0m \u001b[1;32mnot\u001b[0m \u001b[0misinstance\u001b[0m\u001b[1;33m(\u001b[0m\u001b[0mother\u001b[0m\u001b[1;33m,\u001b[0m \u001b[0mStudent\u001b[0m\u001b[1;33m)\u001b[0m\u001b[1;33m:\u001b[0m \u001b[1;31m# 인스턴스 확인\u001b[0m\u001b[1;33m\u001b[0m\u001b[1;33m\u001b[0m\u001b[0m\n\u001b[1;32m---> 15\u001b[1;33m             \u001b[1;32mraise\u001b[0m \u001b[0mTypeError\u001b[0m\u001b[1;33m(\u001b[0m\u001b[1;34m\"Student 클래스의 인스턴스만 비교할 수 있습니다.\"\u001b[0m\u001b[1;33m)\u001b[0m \u001b[1;31m# TypeError 예외 발생\u001b[0m\u001b[1;33m\u001b[0m\u001b[1;33m\u001b[0m\u001b[0m\n\u001b[0m\u001b[0;32m     16\u001b[0m         \u001b[1;32mreturn\u001b[0m \u001b[0mself\u001b[0m\u001b[1;33m.\u001b[0m\u001b[0mget_sum\u001b[0m\u001b[1;33m(\u001b[0m\u001b[1;33m)\u001b[0m \u001b[1;33m==\u001b[0m \u001b[0mother\u001b[0m\u001b[1;33m.\u001b[0m\u001b[0mget_sum\u001b[0m\u001b[1;33m(\u001b[0m\u001b[1;33m)\u001b[0m\u001b[1;33m\u001b[0m\u001b[1;33m\u001b[0m\u001b[0m\n",
      "\u001b[1;31mTypeError\u001b[0m: Student 클래스의 인스턴스만 비교할 수 있습니다."
     ]
    }
   ],
   "metadata": {}
  },
  {
   "cell_type": "markdown",
   "source": [
    "# Private 변수\r\n",
    "\r\n",
    "---\r\n",
    "\r\n",
    "클래스 내부에 변수를 private으로 만들면 외부에서 해당 변수에 접근 할 수 없다.  \r\n",
    "외부에서 private 변수를 접근하려고 할시 `AttributeError` 예외를 발생시킨다.\r\n",
    "\r\n",
    "        __<변수이름>"
   ],
   "metadata": {}
  },
  {
   "cell_type": "code",
   "execution_count": 1,
   "source": [
    "import math\r\n",
    "\r\n",
    "class Circle:\r\n",
    "    def __init__(self, radius):\r\n",
    "        self.__radius = radius\r\n",
    "    def get_circumference(self):\r\n",
    "        return 2 * math.pi * self.__radius\r\n",
    "    def get_area(self):\r\n",
    "        return math.pi * (self.__radius ** 2)"
   ],
   "outputs": [],
   "metadata": {}
  },
  {
   "cell_type": "code",
   "execution_count": 2,
   "source": [
    "# 원의 둘레와 넓이 구하기\r\n",
    "circle = Circle(10)\r\n",
    "print(\"원의 둘레 :\", circle.get_circumference())\r\n",
    "print(\"원의 넓이 :\", circle.get_area())\r\n",
    "circle.__radius"
   ],
   "outputs": [
    {
     "output_type": "stream",
     "name": "stdout",
     "text": [
      "원의 둘레 : 62.83185307179586\n",
      "원의 넓이 : 314.1592653589793\n"
     ]
    },
    {
     "output_type": "error",
     "ename": "AttributeError",
     "evalue": "'Circle' object has no attribute '__radius'",
     "traceback": [
      "\u001b[1;31m---------------------------------------------------------------------------\u001b[0m",
      "\u001b[1;31mAttributeError\u001b[0m                            Traceback (most recent call last)",
      "\u001b[1;32m~\\AppData\\Local\\Temp/ipykernel_15644/1146020685.py\u001b[0m in \u001b[0;36m<module>\u001b[1;34m\u001b[0m\n\u001b[0;32m      3\u001b[0m \u001b[0mprint\u001b[0m\u001b[1;33m(\u001b[0m\u001b[1;34m\"원의 둘레 :\"\u001b[0m\u001b[1;33m,\u001b[0m \u001b[0mcircle\u001b[0m\u001b[1;33m.\u001b[0m\u001b[0mget_circumference\u001b[0m\u001b[1;33m(\u001b[0m\u001b[1;33m)\u001b[0m\u001b[1;33m)\u001b[0m\u001b[1;33m\u001b[0m\u001b[1;33m\u001b[0m\u001b[0m\n\u001b[0;32m      4\u001b[0m \u001b[0mprint\u001b[0m\u001b[1;33m(\u001b[0m\u001b[1;34m\"원의 넓이 :\"\u001b[0m\u001b[1;33m,\u001b[0m \u001b[0mcircle\u001b[0m\u001b[1;33m.\u001b[0m\u001b[0mget_area\u001b[0m\u001b[1;33m(\u001b[0m\u001b[1;33m)\u001b[0m\u001b[1;33m)\u001b[0m\u001b[1;33m\u001b[0m\u001b[1;33m\u001b[0m\u001b[0m\n\u001b[1;32m----> 5\u001b[1;33m \u001b[0mcircle\u001b[0m\u001b[1;33m.\u001b[0m\u001b[0m__radius\u001b[0m\u001b[1;33m\u001b[0m\u001b[1;33m\u001b[0m\u001b[0m\n\u001b[0m",
      "\u001b[1;31mAttributeError\u001b[0m: 'Circle' object has no attribute '__radius'"
     ]
    }
   ],
   "metadata": {}
  },
  {
   "cell_type": "markdown",
   "source": [
    "# Getter AND Setter\r\n",
    "\r\n",
    "---\r\n",
    "\r\n",
    "## getter / setter\r\n",
    "\r\n",
    "getter와 settet는 만일 해당 private 변수를 접근하여  \r\n",
    "값을 추출(getter)하거나 값을 변경(setter)하고 싶을 때 사용되는 함수이다."
   ],
   "metadata": {}
  },
  {
   "cell_type": "code",
   "execution_count": 4,
   "source": [
    "import math\r\n",
    "\r\n",
    "class Circle:\r\n",
    "    def __init__(self, radius):\r\n",
    "        self.__radius = radius\r\n",
    "    def get_circumference(self):\r\n",
    "        return 2 * math.pi * self.__radius\r\n",
    "    def get_area(self):\r\n",
    "        return math.pi * (self.__radius ** 2)\r\n",
    "\r\n",
    "    # getter / setter 정의\r\n",
    "    def get_radius(self):\r\n",
    "        return self.__radius\r\n",
    "    def set_radius(self, value):\r\n",
    "        self.__radius =value"
   ],
   "outputs": [],
   "metadata": {}
  },
  {
   "cell_type": "code",
   "execution_count": 5,
   "source": [
    "# 원의 둘레와 넓이 구하기\r\n",
    "circle = Circle(10)\r\n",
    "print(\"원의 둘레 :\", circle.get_circumference())\r\n",
    "print(\"원의 넓이 :\", circle.get_area())\r\n",
    "print()\r\n",
    "\r\n",
    "# 간접적으로 __radius에 접근\r\n",
    "print(\"__radius 접근 :\", circle.get_radius())\r\n",
    "print()\r\n",
    "\r\n",
    "# 반지름 변경 후 둘레, 넓이 구하기\r\n",
    "circle.set_radius(2)\r\n",
    "print(\"__radius 변경 :\", circle.get_radius())\r\n",
    "print(\"원의 둘레 :\", circle.get_circumference())\r\n",
    "print(\"원의 넓이 :\", circle.get_area())"
   ],
   "outputs": [
    {
     "output_type": "stream",
     "name": "stdout",
     "text": [
      "원의 둘레 : 62.83185307179586\n",
      "원의 넓이 : 314.1592653589793\n",
      "\n",
      "__radius 접근 : 10\n",
      "\n",
      "__radius 변경 : 2\n",
      "원의 둘레 : 12.566370614359172\n",
      "원의 넓이 : 12.566370614359172\n"
     ]
    }
   ],
   "metadata": {}
  },
  {
   "cell_type": "markdown",
   "source": [
    "## 데코레이터를 사용한 getter / setter\r\n",
    "\r\n",
    "파이썬은 getter와 setter를 쉽게 만들고 사용할 수 있게 데코레이터 기능을 제공한다.\r\n",
    "\r\n",
    "        # getter\r\n",
    "        @property \r\n",
    "        \r\n",
    "        # setter\r\n",
    "        @변수이름.setter"
   ],
   "metadata": {}
  },
  {
   "cell_type": "code",
   "execution_count": 12,
   "source": [
    "import math\r\n",
    "\r\n",
    "class Circle_2:\r\n",
    "    def __init__(self, radius):\r\n",
    "        self.__radius = radius\r\n",
    "    def get_circumference(self):\r\n",
    "        return 2 * math.pi * self.__radius\r\n",
    "    def get_area(self):\r\n",
    "        return math.pi * (self.__radius ** 2)\r\n",
    "\r\n",
    "    # getter / setter 정의\r\n",
    "    @property\r\n",
    "    def radius(self):\r\n",
    "        return self.__radius\r\n",
    "    @radius.setter\r\n",
    "    def radius(self, value):\r\n",
    "        if value <= 0:\r\n",
    "            raise TypeError(\"길이는 양의 숫자여야 합니다.\")\r\n",
    "        self.__radius =value"
   ],
   "outputs": [],
   "metadata": {}
  },
  {
   "cell_type": "code",
   "execution_count": 14,
   "source": [
    "circle = Circle_2(20)\r\n",
    "print(\"원의 반지름 :\", circle.radius)\r\n",
    "circle.radius = 2\r\n",
    "print(\"변경된 원의 반지름 :\", circle.radius)\r\n",
    "\r\n",
    "print(\"\\n강제로 예외 발생\")\r\n",
    "circle.radius = -10"
   ],
   "outputs": [
    {
     "output_type": "stream",
     "name": "stdout",
     "text": [
      "원의 반지름 : 20\n",
      "변경된 원의 반지름 : 2\n",
      "\n",
      "강제로 예외 발생\n"
     ]
    },
    {
     "output_type": "error",
     "ename": "TypeError",
     "evalue": "길이는 양의 숫자여야 합니다.",
     "traceback": [
      "\u001b[1;31m---------------------------------------------------------------------------\u001b[0m",
      "\u001b[1;31mTypeError\u001b[0m                                 Traceback (most recent call last)",
      "\u001b[1;32m~\\AppData\\Local\\Temp/ipykernel_15644/3302665448.py\u001b[0m in \u001b[0;36m<module>\u001b[1;34m\u001b[0m\n\u001b[0;32m      5\u001b[0m \u001b[1;33m\u001b[0m\u001b[0m\n\u001b[0;32m      6\u001b[0m \u001b[0mprint\u001b[0m\u001b[1;33m(\u001b[0m\u001b[1;34m\"\\n강제로 예외 발생\"\u001b[0m\u001b[1;33m)\u001b[0m\u001b[1;33m\u001b[0m\u001b[1;33m\u001b[0m\u001b[0m\n\u001b[1;32m----> 7\u001b[1;33m \u001b[0mcircle\u001b[0m\u001b[1;33m.\u001b[0m\u001b[0mradius\u001b[0m \u001b[1;33m=\u001b[0m \u001b[1;33m-\u001b[0m\u001b[1;36m10\u001b[0m\u001b[1;33m\u001b[0m\u001b[1;33m\u001b[0m\u001b[0m\n\u001b[0m",
      "\u001b[1;32m~\\AppData\\Local\\Temp/ipykernel_15644/297385456.py\u001b[0m in \u001b[0;36mradius\u001b[1;34m(self, value)\u001b[0m\n\u001b[0;32m     16\u001b[0m     \u001b[1;32mdef\u001b[0m \u001b[0mradius\u001b[0m\u001b[1;33m(\u001b[0m\u001b[0mself\u001b[0m\u001b[1;33m,\u001b[0m \u001b[0mvalue\u001b[0m\u001b[1;33m)\u001b[0m\u001b[1;33m:\u001b[0m\u001b[1;33m\u001b[0m\u001b[1;33m\u001b[0m\u001b[0m\n\u001b[0;32m     17\u001b[0m         \u001b[1;32mif\u001b[0m \u001b[0mvalue\u001b[0m \u001b[1;33m<=\u001b[0m \u001b[1;36m0\u001b[0m\u001b[1;33m:\u001b[0m\u001b[1;33m\u001b[0m\u001b[1;33m\u001b[0m\u001b[0m\n\u001b[1;32m---> 18\u001b[1;33m             \u001b[1;32mraise\u001b[0m \u001b[0mTypeError\u001b[0m\u001b[1;33m(\u001b[0m\u001b[1;34m\"길이는 양의 숫자여야 합니다.\"\u001b[0m\u001b[1;33m)\u001b[0m\u001b[1;33m\u001b[0m\u001b[1;33m\u001b[0m\u001b[0m\n\u001b[0m\u001b[0;32m     19\u001b[0m         \u001b[0mself\u001b[0m\u001b[1;33m.\u001b[0m\u001b[0m__radius\u001b[0m \u001b[1;33m=\u001b[0m\u001b[0mvalue\u001b[0m\u001b[1;33m\u001b[0m\u001b[1;33m\u001b[0m\u001b[0m\n",
      "\u001b[1;31mTypeError\u001b[0m: 길이는 양의 숫자여야 합니다."
     ]
    }
   ],
   "metadata": {}
  },
  {
   "cell_type": "markdown",
   "source": [
    "# 상속\r\n",
    "\r\n",
    "---\r\n",
    "\r\n",
    "## 기본 상속\r\n",
    "\r\n",
    "기반이 되는 클래스를 부모(parent)라고 부르고,  \r\n",
    "이를 기반으로 생성된 클래스를 자식(child)이라고 부른다.  \r\n",
    "부모가 자식에게 자신의 기반을 물려주는 기능으로 '상속'이라고 부르는 것이다."
   ],
   "metadata": {}
  },
  {
   "cell_type": "code",
   "execution_count": 34,
   "source": [
    "class Parent:\r\n",
    "    def __init__(self, value):\r\n",
    "        self.value = value\r\n",
    "        print(\"Parent 클래스의 __init__() 메소드가 호출되었습니다.\")\r\n",
    "    def test(self):\r\n",
    "        print(\"Parent 클래스의 test() 메소드입니다.\")\r\n",
    "    def override(self):\r\n",
    "        print(\"Parent 클래스의 overrid() 메소드 입니다.\")\r\n",
    "class Child(Parent):\r\n",
    "    def __init__(self, value):\r\n",
    "        self.val = \"자식val\"\r\n",
    "        Parent.__init__(self, value)\r\n",
    "        print(\"Child 클래스의 __init__() 메소드가 호출되었습니다.\")\r\n",
    "    def override(self):\r\n",
    "        print(\"Child 클래스의 overrid() 메소드 입니다.\")"
   ],
   "outputs": [],
   "metadata": {}
  },
  {
   "cell_type": "code",
   "execution_count": 35,
   "source": [
    "child = Child(\"테스트\")"
   ],
   "outputs": [
    {
     "output_type": "stream",
     "name": "stdout",
     "text": [
      "Parent 클래스의 __init__() 메소드가 호출되었습니다.\n",
      "Child 클래스의 __init__() 메소드가 호출되었습니다.\n"
     ]
    }
   ],
   "metadata": {}
  },
  {
   "cell_type": "code",
   "execution_count": 36,
   "source": [
    "child.test()\r\n",
    "print(child.value)\r\n",
    "print(child.val)\r\n",
    "child.override()"
   ],
   "outputs": [
    {
     "output_type": "stream",
     "name": "stdout",
     "text": [
      "Parent 클래스의 test() 메소드입니다.\n",
      "테스트\n",
      "자식val\n",
      "Child 클래스의 overrid() 메소드 입니다.\n"
     ]
    }
   ],
   "metadata": {}
  },
  {
   "cell_type": "markdown",
   "source": [
    "## 예외 클래스 활용\r\n",
    "\r\n",
    "상속은 기종에 있는 클래스를 기반으로 조금 수정해서 내가 원하는 클래스를 만들 때 사용한다."
   ],
   "metadata": {}
  },
  {
   "cell_type": "code",
   "execution_count": 39,
   "source": [
    "class CustomException(Exception):\r\n",
    "    def __init__(self, messgae, value):\r\n",
    "        Exception.__init__(self)\r\n",
    "        self.message = messgae\r\n",
    "        self.value = value\r\n",
    "    \r\n",
    "    def __str__(self):\r\n",
    "        return self.message\r\n",
    "    \r\n",
    "    def print(self):\r\n",
    "        print(\"######  오류 정보 ######\")\r\n",
    "        print('메시지:', self.message)\r\n",
    "        print('값:', self.value)"
   ],
   "outputs": [],
   "metadata": {}
  },
  {
   "cell_type": "code",
   "execution_count": 40,
   "source": [
    "# 예외 발생\r\n",
    "try:\r\n",
    "  raise CustomException(\"딱히 이유 없음\", 273)\r\n",
    "except CustomException as e:\r\n",
    "  e.print()"
   ],
   "outputs": [
    {
     "output_type": "stream",
     "name": "stdout",
     "text": [
      "######  오류 정보 ######\n",
      "메시지: 딱히 이유 없음\n",
      "값: 273\n"
     ]
    }
   ],
   "metadata": {}
  },
  {
   "cell_type": "markdown",
   "source": [
    "# 오버라이딩\r\n",
    "\r\n",
    "---\r\n",
    "\r\n",
    "오버라이딩(Overriding)은 자식 클래스에서 같은 이름을 가지고 있는 부모 클래스의 메소드의 구현을 바꾸고 싶을 때 사용한다.  \r\n",
    "파이썬은 여러 클래스를 상속할 수 있는데, 이 때는 왼쪽부터 오른쪽 순서로 자식 계층이 이루어져서 오버라이딩이 된다."
   ],
   "metadata": {}
  },
  {
   "cell_type": "code",
   "execution_count": 1,
   "source": [
    "class Base1:\r\n",
    "    attr = \"Base1\"\r\n",
    "    \r\n",
    "    def func(self):\r\n",
    "        print(\"Base1 Function\")\r\n",
    "\r\n",
    "class Base2:\r\n",
    "    \r\n",
    "    attr = \"Base2\"\r\n",
    "    \r\n",
    "    def func(self):\r\n",
    "        print(\"Base2 Function\")\r\n",
    "    \r\n",
    "    def func2(self):\r\n",
    "        print(\"Base2 Function\")\r\n",
    "        \r\n",
    "        \r\n",
    "class Base3:\r\n",
    "    attr = \"Base3\"\r\n",
    "    \r\n",
    "    def func(self):\r\n",
    "        print(\"Base3 Function\")\r\n",
    "        \r\n",
    "    def func2(self):\r\n",
    "        print(\"Base3 Function\")\r\n",
    "        \r\n",
    "    def func3(self):\r\n",
    "        print(\"Base3 Function\")\r\n",
    "        \r\n",
    "class DerivedClassName(Base1, Base2, Base3): # 여러 클래스의 상속은 추천하지 않는다.\r\n",
    "    attr = \"child\""
   ],
   "outputs": [],
   "metadata": {}
  },
  {
   "cell_type": "code",
   "execution_count": 3,
   "source": [
    "x = DerivedClassName()\r\n",
    "x.func()\r\n",
    "x.func2()\r\n",
    "x.func3()\r\n",
    "print(x.attr)"
   ],
   "outputs": [
    {
     "output_type": "stream",
     "name": "stdout",
     "text": [
      "Base1 Function\n",
      "Base2 Function\n",
      "Base3 Function\n",
      "child\n"
     ]
    }
   ],
   "metadata": {}
  },
  {
   "cell_type": "markdown",
   "source": [
    "# 추상 메소드\r\n",
    "\r\n",
    "---\r\n",
    "\r\n",
    "추상 메서드(abstract method)라는 개념이 있다.  \r\n",
    "꼭 필요하지만 보통 상황에 따라서 구현이 달라지게 되어 지금 당장 구현하기 애매할 때 사용한다.  \r\n",
    "그리고 자신을 상속하는 자식 클래스가 구현하게 된다."
   ],
   "metadata": {}
  },
  {
   "cell_type": "code",
   "execution_count": 4,
   "source": [
    "class Computer:\r\n",
    "    def __init__(self):\r\n",
    "        self.isOn = False\r\n",
    "    \r\n",
    "    def osname(self): # 추상 메서드\r\n",
    "        raise NotImplementedError # 강제 에러 발생\r\n",
    "    \r\n",
    "    def power(self):\r\n",
    "        self.isOn = not self.isOn\r\n",
    "        print(\"컴퓨터가 켜졌습니다\" if self.isOn else \"컴퓨터가 꺼졌습니다\")\r\n",
    "        \r\n",
    "class WindowComputer(Computer):\r\n",
    "    pass"
   ],
   "outputs": [],
   "metadata": {}
  },
  {
   "cell_type": "code",
   "execution_count": 5,
   "source": [
    "mycomp = WindowComputer()\r\n",
    "mycomp.power()\r\n",
    "mycomp.power()\r\n",
    "mycomp.power()"
   ],
   "outputs": [
    {
     "output_type": "stream",
     "name": "stdout",
     "text": [
      "컴퓨터가 켜졌습니다\n",
      "컴퓨터가 꺼졌습니다\n",
      "컴퓨터가 켜졌습니다\n"
     ]
    }
   ],
   "metadata": {}
  },
  {
   "cell_type": "code",
   "execution_count": 6,
   "source": [
    "mycomp.osname()"
   ],
   "outputs": [
    {
     "output_type": "error",
     "ename": "NotImplementedError",
     "evalue": "",
     "traceback": [
      "\u001b[1;31m---------------------------------------------------------------------------\u001b[0m",
      "\u001b[1;31mNotImplementedError\u001b[0m                       Traceback (most recent call last)",
      "\u001b[1;32m~\\AppData\\Local\\Temp/ipykernel_21472/780661140.py\u001b[0m in \u001b[0;36m<module>\u001b[1;34m\u001b[0m\n\u001b[1;32m----> 1\u001b[1;33m \u001b[0mmycomp\u001b[0m\u001b[1;33m.\u001b[0m\u001b[0mosname\u001b[0m\u001b[1;33m(\u001b[0m\u001b[1;33m)\u001b[0m\u001b[1;33m\u001b[0m\u001b[1;33m\u001b[0m\u001b[0m\n\u001b[0m",
      "\u001b[1;32m~\\AppData\\Local\\Temp/ipykernel_21472/1774700444.py\u001b[0m in \u001b[0;36mosname\u001b[1;34m(self)\u001b[0m\n\u001b[0;32m      4\u001b[0m \u001b[1;33m\u001b[0m\u001b[0m\n\u001b[0;32m      5\u001b[0m     \u001b[1;32mdef\u001b[0m \u001b[0mosname\u001b[0m\u001b[1;33m(\u001b[0m\u001b[0mself\u001b[0m\u001b[1;33m)\u001b[0m\u001b[1;33m:\u001b[0m \u001b[1;31m# 추상 메서드\u001b[0m\u001b[1;33m\u001b[0m\u001b[1;33m\u001b[0m\u001b[0m\n\u001b[1;32m----> 6\u001b[1;33m         \u001b[1;32mraise\u001b[0m \u001b[0mNotImplementedError\u001b[0m \u001b[1;31m# 강제 에러 발생\u001b[0m\u001b[1;33m\u001b[0m\u001b[1;33m\u001b[0m\u001b[0m\n\u001b[0m\u001b[0;32m      7\u001b[0m \u001b[1;33m\u001b[0m\u001b[0m\n\u001b[0;32m      8\u001b[0m     \u001b[1;32mdef\u001b[0m \u001b[0mpower\u001b[0m\u001b[1;33m(\u001b[0m\u001b[0mself\u001b[0m\u001b[1;33m)\u001b[0m\u001b[1;33m:\u001b[0m\u001b[1;33m\u001b[0m\u001b[1;33m\u001b[0m\u001b[0m\n",
      "\u001b[1;31mNotImplementedError\u001b[0m: "
     ]
    }
   ],
   "metadata": {}
  },
  {
   "cell_type": "markdown",
   "source": [
    "# abc 모듈\r\n",
    "\r\n",
    "---\r\n",
    "\r\n",
    "위의 예제는 구현되지 않은 함수를 호출되는 상황에만 예외가 발생하는 것이 흠이다.  \r\n",
    "추상 메서드를 구현하지 않았다면 애초에 클래스 호출부터 예외가 발생하도록 하자  \r\n",
    "abc 모듈을 사용하면 된다. (아마도 ABstract Class, ABC라서 모듈 이름이 이렇게 지어진 듯하다)  \r\n",
    "\r\n",
    "예제 1. abc 모듈 자체 사용"
   ],
   "metadata": {}
  },
  {
   "cell_type": "code",
   "execution_count": 11,
   "source": [
    "import abc\r\n",
    "\r\n",
    "class Computer(metaclass=abc.ABCMeta):\r\n",
    "    def __init__(self):\r\n",
    "        self.isOn = False\r\n",
    "    \r\n",
    "    @abc.abstractmethod\r\n",
    "    def osname(self):\r\n",
    "        pass\r\n",
    "    \r\n",
    "    def power(self):\r\n",
    "        self.isOn = not self.isOn\r\n",
    "        print(\"컴퓨터가 켜졌습니다\" if self.isOn else \"컴퓨터가 꺼졌습니다\")\r\n",
    "        \r\n",
    "class WindowComputer(Computer):\r\n",
    "    pass"
   ],
   "outputs": [],
   "metadata": {}
  },
  {
   "cell_type": "code",
   "execution_count": 12,
   "source": [
    "mycomp = WindowComputer()"
   ],
   "outputs": [
    {
     "output_type": "error",
     "ename": "TypeError",
     "evalue": "Can't instantiate abstract class WindowComputer with abstract method osname",
     "traceback": [
      "\u001b[1;31m---------------------------------------------------------------------------\u001b[0m",
      "\u001b[1;31mTypeError\u001b[0m                                 Traceback (most recent call last)",
      "\u001b[1;32m~\\AppData\\Local\\Temp/ipykernel_21472/3499452135.py\u001b[0m in \u001b[0;36m<module>\u001b[1;34m\u001b[0m\n\u001b[1;32m----> 1\u001b[1;33m \u001b[0mmycomp\u001b[0m \u001b[1;33m=\u001b[0m \u001b[0mWindowComputer\u001b[0m\u001b[1;33m(\u001b[0m\u001b[1;33m)\u001b[0m\u001b[1;33m\u001b[0m\u001b[1;33m\u001b[0m\u001b[0m\n\u001b[0m",
      "\u001b[1;31mTypeError\u001b[0m: Can't instantiate abstract class WindowComputer with abstract method osname"
     ]
    }
   ],
   "metadata": {}
  },
  {
   "cell_type": "markdown",
   "source": [
    "예제 2. abc 모듈 중 사용하고 싶은 모듈만 활용"
   ],
   "metadata": {}
  },
  {
   "cell_type": "code",
   "execution_count": 13,
   "source": [
    "from abc import ABC, abstractmethod\r\n",
    "\r\n",
    "class Computer(ABC):\r\n",
    "    def __init__(self):\r\n",
    "        self.isOn = False\r\n",
    "\r\n",
    "    @abstractmethod\r\n",
    "    def osname(self):\r\n",
    "        pass\r\n",
    "\r\n",
    "    def power(self):\r\n",
    "        self.isOn = not self.isOn\r\n",
    "        print(\"컴퓨터가 켜졌습니다\" if self.isOn else \"컴퓨터가 꺼졌습니다\")\r\n",
    "\r\n",
    "class WindowComputer(Computer):\r\n",
    "    pass"
   ],
   "outputs": [],
   "metadata": {}
  },
  {
   "cell_type": "code",
   "execution_count": 14,
   "source": [
    "mycomp = WindowComputer()"
   ],
   "outputs": [
    {
     "output_type": "error",
     "ename": "TypeError",
     "evalue": "Can't instantiate abstract class WindowComputer with abstract method osname",
     "traceback": [
      "\u001b[1;31m---------------------------------------------------------------------------\u001b[0m",
      "\u001b[1;31mTypeError\u001b[0m                                 Traceback (most recent call last)",
      "\u001b[1;32m~\\AppData\\Local\\Temp/ipykernel_21472/3499452135.py\u001b[0m in \u001b[0;36m<module>\u001b[1;34m\u001b[0m\n\u001b[1;32m----> 1\u001b[1;33m \u001b[0mmycomp\u001b[0m \u001b[1;33m=\u001b[0m \u001b[0mWindowComputer\u001b[0m\u001b[1;33m(\u001b[0m\u001b[1;33m)\u001b[0m\u001b[1;33m\u001b[0m\u001b[1;33m\u001b[0m\u001b[0m\n\u001b[0m",
      "\u001b[1;31mTypeError\u001b[0m: Can't instantiate abstract class WindowComputer with abstract method osname"
     ]
    }
   ],
   "metadata": {}
  },
  {
   "cell_type": "markdown",
   "source": [
    "# 해당 인스턴스에 대한 메소드의 및 속성 판별\r\n",
    "\r\n",
    "---\r\n",
    "\r\n",
    "hasattr(인스턴스, \"메소드명 또는 속성명\")"
   ],
   "metadata": {}
  },
  {
   "cell_type": "code",
   "execution_count": 15,
   "source": [
    "class Student:\r\n",
    "    SCHOOL = 'HIGH SCHOOL'\r\n",
    "\r\n",
    "    def __init__(self, name):\r\n",
    "        self.name = name\r\n",
    "    \r\n",
    "    def hello(self):\r\n",
    "        print(\"hello\")"
   ],
   "outputs": [],
   "metadata": {}
  },
  {
   "cell_type": "code",
   "execution_count": 18,
   "source": [
    "student = Student('Minseo')\r\n",
    "\r\n",
    "print(hasattr(student, 'hello'))\r\n",
    "print(hasattr(student, 'name'))\r\n",
    "print(hasattr(student, 'SCHOOL'))\r\n",
    "print(hasattr(student, '__init__'))\r\n",
    "print(hasattr(student, 'grade'))"
   ],
   "outputs": [
    {
     "output_type": "stream",
     "name": "stdout",
     "text": [
      "True\n",
      "True\n",
      "True\n",
      "True\n",
      "False\n"
     ]
    }
   ],
   "metadata": {}
  },
  {
   "cell_type": "markdown",
   "source": [
    "# 연산자 오버로딩\r\n",
    "\r\n",
    "---"
   ],
   "metadata": {}
  },
  {
   "cell_type": "markdown",
   "source": [
    "객체간 연산을 도와주는 메서드들이다.\r\n",
    "\r\n",
    "- `__add__(self, other)` : 이항 + 연산자(A + B, A += B)\r\n",
    "- `__sub__(self, other)` : 이항 - 연산자(A - B, A -= B)\r\n",
    "- `__mul__(self, other)` : 이항 연산자(A B, A *= B)\r\n",
    "- `__truediv__(self, other)` : 이항 / 연산자(A / B, A /= B)\r\n",
    "- `__floordiv__(self, other)` : 이항 // 연산자(A // B, A //= B)\r\n",
    "- `__mod__(self, other)` : 이항 % 연산자(A % B, A %= B)\r\n",
    "- `__pow__(self, other)` : 이항 연산자(A B, pow(A, B))\r\n",
    "- `__lshift__(self, other)` : 이항 << 연산자(A << B, A <<= B)\r\n",
    "- `__rshift__(self, other)` : 이항 >> 연산자(A >> B, A >>= B)\r\n",
    "- `__and__(self, other)` : 이항 & 연산자(A & B, A &= B)\r\n",
    "- `__xor__(self, other)` : 이항 ^ 연산자(A ^ B, A ^= B)\r\n",
    "- `__or__(self, other)` : 이항 | 연산자(A | B, A |= B)\r\n",
    "- `__not__(self)` : 단항 ~ 연산자(~A)\r\n",
    "- `__abs__(self)` : 단항 절대값 연산자(abs(A))"
   ],
   "metadata": {}
  },
  {
   "cell_type": "code",
   "execution_count": 3,
   "source": [
    "class NumBox:\r\n",
    "    def __init__(self, num):\r\n",
    "        self.num = num\r\n",
    "\r\n",
    "n = NumBox(10)\r\n",
    "n + 10"
   ],
   "outputs": [
    {
     "output_type": "error",
     "ename": "TypeError",
     "evalue": "unsupported operand type(s) for +: 'NumBox' and 'int'",
     "traceback": [
      "\u001b[1;31m---------------------------------------------------------------------------\u001b[0m",
      "\u001b[1;31mTypeError\u001b[0m                                 Traceback (most recent call last)",
      "\u001b[1;32m~\\AppData\\Local\\Temp/ipykernel_23640/4265005153.py\u001b[0m in \u001b[0;36m<module>\u001b[1;34m\u001b[0m\n\u001b[0;32m      4\u001b[0m \u001b[1;33m\u001b[0m\u001b[0m\n\u001b[0;32m      5\u001b[0m \u001b[0mn\u001b[0m \u001b[1;33m=\u001b[0m \u001b[0mNumBox\u001b[0m\u001b[1;33m(\u001b[0m\u001b[1;36m10\u001b[0m\u001b[1;33m)\u001b[0m\u001b[1;33m\u001b[0m\u001b[1;33m\u001b[0m\u001b[0m\n\u001b[1;32m----> 6\u001b[1;33m \u001b[0mn\u001b[0m \u001b[1;33m+\u001b[0m \u001b[1;36m10\u001b[0m\u001b[1;33m\u001b[0m\u001b[1;33m\u001b[0m\u001b[0m\n\u001b[0m",
      "\u001b[1;31mTypeError\u001b[0m: unsupported operand type(s) for +: 'NumBox' and 'int'"
     ]
    }
   ],
   "metadata": {}
  },
  {
   "cell_type": "markdown",
   "source": [
    "## 연산자 오버로딩 적용"
   ],
   "metadata": {}
  },
  {
   "cell_type": "code",
   "execution_count": 4,
   "source": [
    "class NumBox:\r\n",
    "    def __init__(self, num):\r\n",
    "        self.num = num\r\n",
    "    \r\n",
    "    def __add__(self, num):\r\n",
    "        self.num += num\r\n",
    "    \r\n",
    "    def __sub__(self, num):\r\n",
    "        self.num -= num\r\n",
    "    \r\n",
    "n = NumBox(10)\r\n",
    "n + 100\r\n",
    "n - 50\r\n",
    "print(n.num)"
   ],
   "outputs": [
    {
     "output_type": "stream",
     "name": "stdout",
     "text": [
      "60\n"
     ]
    }
   ],
   "metadata": {}
  },
  {
   "cell_type": "code",
   "execution_count": 5,
   "source": [
    "# 위치를 오른쪽으로 바꾸면 에러 발생힘\r\n",
    "100 + n\r\n",
    "50 - n"
   ],
   "outputs": [
    {
     "output_type": "error",
     "ename": "TypeError",
     "evalue": "unsupported operand type(s) for +: 'int' and 'NumBox'",
     "traceback": [
      "\u001b[1;31m---------------------------------------------------------------------------\u001b[0m",
      "\u001b[1;31mTypeError\u001b[0m                                 Traceback (most recent call last)",
      "\u001b[1;32m~\\AppData\\Local\\Temp/ipykernel_23640/4291006374.py\u001b[0m in \u001b[0;36m<module>\u001b[1;34m\u001b[0m\n\u001b[0;32m      1\u001b[0m \u001b[1;31m# 위치를 오른쪽으로 바꾸면 에러 발생힘\u001b[0m\u001b[1;33m\u001b[0m\u001b[1;33m\u001b[0m\u001b[1;33m\u001b[0m\u001b[0m\n\u001b[1;32m----> 2\u001b[1;33m \u001b[1;36m100\u001b[0m \u001b[1;33m+\u001b[0m \u001b[0mn\u001b[0m\u001b[1;33m\u001b[0m\u001b[1;33m\u001b[0m\u001b[0m\n\u001b[0m\u001b[0;32m      3\u001b[0m \u001b[1;36m50\u001b[0m \u001b[1;33m-\u001b[0m \u001b[0mn\u001b[0m\u001b[1;33m\u001b[0m\u001b[1;33m\u001b[0m\u001b[0m\n",
      "\u001b[1;31mTypeError\u001b[0m: unsupported operand type(s) for +: 'int' and 'NumBox'"
     ]
    }
   ],
   "metadata": {}
  },
  {
   "cell_type": "code",
   "execution_count": 11,
   "source": [
    "class NumBox:\r\n",
    "    def __init__(self, num):\r\n",
    "        self.num = num\r\n",
    "    \r\n",
    "    def __add__(self, num):\r\n",
    "        self.num += num\r\n",
    "\r\n",
    "    def __radd__(self, num):\r\n",
    "        self.num += num\r\n",
    "\r\n",
    "    def __sub__(self, num):\r\n",
    "        self.num -= num\r\n",
    "\r\n",
    "    def __rsub__(self, num):\r\n",
    "        self.num -= num\r\n",
    "\r\n",
    "n = NumBox(10)\r\n",
    "100 + n\r\n",
    "n + 50\r\n",
    "100 - n\r\n",
    "n - 50\r\n",
    "print(n.num)"
   ],
   "outputs": [
    {
     "output_type": "stream",
     "name": "stdout",
     "text": [
      "10\n"
     ]
    }
   ],
   "metadata": {}
  }
 ],
 "metadata": {
  "interpreter": {
   "hash": "ac59ebe37160ed0dfa835113d9b8498d9f09ceb179beaac4002f036b9467c963"
  },
  "kernelspec": {
   "name": "python3",
   "display_name": "Python 3.9.6 64-bit"
  },
  "language_info": {
   "codemirror_mode": {
    "name": "ipython",
    "version": 3
   },
   "file_extension": ".py",
   "mimetype": "text/x-python",
   "name": "python",
   "nbconvert_exporter": "python",
   "pygments_lexer": "ipython3",
   "version": "3.9.6"
  }
 },
 "nbformat": 4,
 "nbformat_minor": 5
}
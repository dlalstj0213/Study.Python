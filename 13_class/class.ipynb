{
 "cells": [
  {
   "cell_type": "markdown",
   "source": [
    "# 클래스 사용\n",
    "\n",
    "\n",
    "# 클래스 인스턴스 확인\n",
    "\n",
    "---\n",
    "\n",
    "## isinstance()\n",
    "\n",
    "isinstance(): 해당 객체가 어떤 클래스로부터 만들어졌는지 확인할 수 있는 함수\n",
    "\n",
    "사용법\n",
    "```\n",
    "isinstance(인스턴스, 클래스) # return True/False\n",
    "```"
   ],
   "metadata": {}
  },
  {
   "cell_type": "code",
   "execution_count": 1,
   "source": [
    "class Student:\r\n",
    "    def __init__(self):\r\n",
    "        pass\r\n",
    "    \r\n",
    "class Teacher:\r\n",
    "    def __init__(self):\r\n",
    "        pass"
   ],
   "outputs": [],
   "metadata": {}
  },
  {
   "cell_type": "code",
   "execution_count": 3,
   "source": [
    "student = Student()\r\n",
    "teacher = Teacher()\r\n",
    "\r\n",
    "print('isinstance(student, Student) ?', isinstance(student, Student))\r\n",
    "print('isinstance(teacher, Teacher) ?', isinstance(teacher, Teacher))\r\n",
    "print('isinstance(teacher, Student) ?', isinstance(teacher, Student))\r\n",
    "print('isinstance(student, Teacher) ?', isinstance(student, Teacher))"
   ],
   "outputs": [
    {
     "output_type": "stream",
     "name": "stdout",
     "text": [
      "isinstance(student, Student) ? True\n",
      "isinstance(teacher, Teacher) ? True\n",
      "isinstance(teacher, Student) ? False\n",
      "isinstance(student, Teacher) ? False\n"
     ]
    }
   ],
   "metadata": {}
  },
  {
   "cell_type": "markdown",
   "source": [
    "## isinstance() AND type()\r\n",
    "\r\n",
    "단순한 인스턴스 확인 방법으로 `type() ==` 구문을 통해 확인이 가능하다.  \r\n",
    "\r\n",
    "        type(student) == Student  \r\n",
    "\r\n",
    "다만 상속의 개념에서는 이 구문의 차이가 발생한다."
   ],
   "metadata": {}
  },
  {
   "cell_type": "code",
   "execution_count": 8,
   "source": [
    "class Human:\r\n",
    "    def __init__(self):\r\n",
    "        pass\r\n",
    "class Student(Human): # Human 클래스 상속\r\n",
    "    def __init__(self):\r\n",
    "        pass\r\n",
    "    \r\n",
    "student = Student()"
   ],
   "outputs": [],
   "metadata": {}
  },
  {
   "cell_type": "markdown",
   "source": [
    "위의 코드에서 Student 클래스는 Human 클래스를 상속 받고 있다.  \n",
    "isinstance()로 인스턴스를 확인하면 상속관계까지 확인하는 것을 알 수 있다.  \n",
    "isinstance()와 반대로 `type() == `구문은 상속관계를 확인하지 않는다."
   ],
   "metadata": {}
  },
  {
   "cell_type": "code",
   "execution_count": 9,
   "source": [
    "# isinstance()로 상속관계까지 확인\r\n",
    "print('isinstance(student, Human) ?', isinstance(student, Human))"
   ],
   "outputs": [
    {
     "output_type": "stream",
     "name": "stdout",
     "text": [
      "isinstance(student, Human) ? True\n"
     ]
    }
   ],
   "metadata": {}
  },
  {
   "cell_type": "code",
   "execution_count": 10,
   "source": [
    "# type() == 은 상속관계까지 확인하지 않음\r\n",
    "print('type(student) == Human ?', type(student) == Human)"
   ],
   "outputs": [
    {
     "output_type": "stream",
     "name": "stdout",
     "text": [
      "type(student) == Human ? False\n"
     ]
    }
   ],
   "metadata": {}
  },
  {
   "cell_type": "markdown",
   "source": [
    "# 특수한 이름의 메소드\n",
    "\n",
    "---\n",
    "\n",
    "클래스는 기본적으로 내장되어 있는 특수한 이름의 메소드가 존재한다.  \n",
    "예를 들어 `__init_subclass__, __le__, __ne__, __new__, ...` 등 다양하게 있다.  \n",
    "이는 파이썬이 클래스를 사용할 때 기본적으로 제공해주는 보조 기능이다.  \n",
    "그리고 이러한 메소드는 특수한 상황에 자동으로 호출되도록 만들어졌다.\n",
    "\n",
    "## `__str__`과 `str()`"
   ],
   "metadata": {}
  },
  {
   "cell_type": "code",
   "execution_count": 11,
   "source": [
    "class Student:\r\n",
    "    def __init__(self, name, score):\r\n",
    "        self.name = name\r\n",
    "        self.score = score\r\n",
    "    def __str__(self):\r\n",
    "        return '{}\\t{}'.format(self.name, self.score)\r\n",
    "\r\n",
    "students = [\r\n",
    "    Student(\"김길동\", 80),\r\n",
    "    Student(\"이길동\", 85),\r\n",
    "    Student(\"박길동\", 75),\r\n",
    "    Student(\"최길동\", 90),\r\n",
    "    Student(\"방길동\", 95),\r\n",
    "    Student(\"정길동\", 70)\r\n",
    "]"
   ],
   "outputs": [],
   "metadata": {}
  },
  {
   "cell_type": "code",
   "execution_count": 12,
   "source": [
    "print(\"이름\", \"점수\", sep=\"\\t\")\r\n",
    "for student in students:\r\n",
    "    print(str(student))"
   ],
   "outputs": [
    {
     "output_type": "stream",
     "name": "stdout",
     "text": [
      "이름\t점수\n",
      "김길동\t80\n",
      "이길동\t85\n",
      "박길동\t75\n",
      "최길동\t90\n",
      "방길동\t95\n",
      "정길동\t70\n"
     ]
    }
   ],
   "metadata": {}
  },
  {
   "cell_type": "markdown",
   "source": [
    "## 특수한 메소드: 크기 비교 함수\n",
    "\n",
    "|이름|영어|설명|\n",
    "|---|---|---|\n",
    "|`__eq__`|equal|같다|\n",
    "|`__ne__`|not equal|다르다|\n",
    "|`__gt__`|greater than|크다|\n",
    "|`__ge__`|greater than or equal|크거나 같다|\n",
    "|`__lt__`|less than|작다|\n",
    "|`__le__`|less than or equal|작거나 같다|"
   ],
   "metadata": {}
  },
  {
   "cell_type": "code",
   "execution_count": 19,
   "source": [
    "class Student:\r\n",
    "    def __init__(self, name, korean, math, english, science):\r\n",
    "        self.name = name\r\n",
    "        self.korean = korean\r\n",
    "        self.math = math\r\n",
    "        self.english = english\r\n",
    "        self.science = science\r\n",
    "    \r\n",
    "    def get_sum(self):\r\n",
    "        return self.korean + self.math + \\\r\n",
    "            self.english + self.science\r\n",
    "    \r\n",
    "    def __eq__(self, other):\r\n",
    "        return self.get_sum() == other.get_sum()\r\n",
    "    \r\n",
    "    def __ne__(self, other):\r\n",
    "        return self.get_sum() != other.get_sum()\r\n",
    "    \r\n",
    "    def __gt__(self, other):\r\n",
    "        return self.get_sum() > other.get_sum()\r\n",
    "    \r\n",
    "    def __ge__(self, other):\r\n",
    "        return self.get_sum() >= other.get_sum()\r\n",
    "    \r\n",
    "    def __lt__(self, other):\r\n",
    "        return self.get_sum() < other.get_sum()\r\n",
    "    \r\n",
    "    def __le__(self, other):\r\n",
    "        return self.get_sum() <= other.get_sum()"
   ],
   "outputs": [],
   "metadata": {}
  },
  {
   "cell_type": "code",
   "execution_count": 21,
   "source": [
    "michael = Student(\"Michael\", 80, 81, 82, 83)\r\n",
    "james = Student(\"James\", 70, 71, 72, 73)\r\n",
    "\r\n",
    "print(\"michael total ?\", michael.get_sum())\r\n",
    "print(\"james total ?\", james.get_sum())\r\n",
    "print(\"michael == james ?\", michael == james)\r\n",
    "print(\"michael != james ?\", michael != james)\r\n",
    "print(\"michael > james ?\", michael > james)\r\n",
    "print(\"michael >= james ?\", michael >= james)\r\n",
    "print(\"michael < james ?\", michael < james)\r\n",
    "print(\"michael <= james ?\", michael <= james)"
   ],
   "outputs": [
    {
     "output_type": "stream",
     "name": "stdout",
     "text": [
      "michael total ? 326\n",
      "james total ? 286\n",
      "michael == james ? False\n",
      "michael != james ? True\n",
      "michael > james ? True\n",
      "michael >= james ? True\n",
      "michael < james ? False\n",
      "michael <= james ? False\n"
     ]
    }
   ],
   "metadata": {}
  },
  {
   "cell_type": "markdown",
   "source": [
    "## Exception, isinstance(), 비교함수 활용"
   ],
   "metadata": {}
  },
  {
   "cell_type": "code",
   "execution_count": 24,
   "source": [
    "class Student:\r\n",
    "    def __init__(self, name, korean, math, english, science):\r\n",
    "        self.name = name\r\n",
    "        self.korean = korean\r\n",
    "        self.math = math\r\n",
    "        self.english = english\r\n",
    "        self.science = science\r\n",
    "    \r\n",
    "    def get_sum(self):\r\n",
    "        return self.korean + self.math + \\\r\n",
    "            self.english + self.science\r\n",
    "    \r\n",
    "    def __eq__(self, other):\r\n",
    "        if not isinstance(other, Student): # 인스턴스 확인\r\n",
    "            raise TypeError(\"Student 클래스의 인스턴스만 비교할 수 있습니다.\") # TypeError 예외 발생\r\n",
    "        return self.get_sum() == other.get_sum()"
   ],
   "outputs": [],
   "metadata": {}
  },
  {
   "cell_type": "code",
   "execution_count": 25,
   "source": [
    "student_a = Student(\"Michael\", 80, 81, 82, 83)\r\n",
    "\r\n",
    "student_a == 100"
   ],
   "outputs": [
    {
     "output_type": "error",
     "ename": "TypeError",
     "evalue": "Student 클래스의 인스턴스만 비교할 수 있습니다.",
     "traceback": [
      "\u001b[1;31m---------------------------------------------------------------------------\u001b[0m",
      "\u001b[1;31mTypeError\u001b[0m                                 Traceback (most recent call last)",
      "\u001b[1;32m~\\AppData\\Local\\Temp/ipykernel_37796/3573464191.py\u001b[0m in \u001b[0;36m<module>\u001b[1;34m\u001b[0m\n\u001b[0;32m      1\u001b[0m \u001b[0mstudent_a\u001b[0m \u001b[1;33m=\u001b[0m \u001b[0mStudent\u001b[0m\u001b[1;33m(\u001b[0m\u001b[1;34m\"Michael\"\u001b[0m\u001b[1;33m,\u001b[0m \u001b[1;36m80\u001b[0m\u001b[1;33m,\u001b[0m \u001b[1;36m81\u001b[0m\u001b[1;33m,\u001b[0m \u001b[1;36m82\u001b[0m\u001b[1;33m,\u001b[0m \u001b[1;36m83\u001b[0m\u001b[1;33m)\u001b[0m\u001b[1;33m\u001b[0m\u001b[1;33m\u001b[0m\u001b[0m\n\u001b[0;32m      2\u001b[0m \u001b[1;33m\u001b[0m\u001b[0m\n\u001b[1;32m----> 3\u001b[1;33m \u001b[0mstudent_a\u001b[0m \u001b[1;33m==\u001b[0m \u001b[1;36m100\u001b[0m\u001b[1;33m\u001b[0m\u001b[1;33m\u001b[0m\u001b[0m\n\u001b[0m",
      "\u001b[1;32m~\\AppData\\Local\\Temp/ipykernel_37796/3448494308.py\u001b[0m in \u001b[0;36m__eq__\u001b[1;34m(self, other)\u001b[0m\n\u001b[0;32m     13\u001b[0m     \u001b[1;32mdef\u001b[0m \u001b[0m__eq__\u001b[0m\u001b[1;33m(\u001b[0m\u001b[0mself\u001b[0m\u001b[1;33m,\u001b[0m \u001b[0mother\u001b[0m\u001b[1;33m)\u001b[0m\u001b[1;33m:\u001b[0m\u001b[1;33m\u001b[0m\u001b[1;33m\u001b[0m\u001b[0m\n\u001b[0;32m     14\u001b[0m         \u001b[1;32mif\u001b[0m \u001b[1;32mnot\u001b[0m \u001b[0misinstance\u001b[0m\u001b[1;33m(\u001b[0m\u001b[0mother\u001b[0m\u001b[1;33m,\u001b[0m \u001b[0mStudent\u001b[0m\u001b[1;33m)\u001b[0m\u001b[1;33m:\u001b[0m \u001b[1;31m# 인스턴스 확인\u001b[0m\u001b[1;33m\u001b[0m\u001b[1;33m\u001b[0m\u001b[0m\n\u001b[1;32m---> 15\u001b[1;33m             \u001b[1;32mraise\u001b[0m \u001b[0mTypeError\u001b[0m\u001b[1;33m(\u001b[0m\u001b[1;34m\"Student 클래스의 인스턴스만 비교할 수 있습니다.\"\u001b[0m\u001b[1;33m)\u001b[0m \u001b[1;31m# TypeError 예외 발생\u001b[0m\u001b[1;33m\u001b[0m\u001b[1;33m\u001b[0m\u001b[0m\n\u001b[0m\u001b[0;32m     16\u001b[0m         \u001b[1;32mreturn\u001b[0m \u001b[0mself\u001b[0m\u001b[1;33m.\u001b[0m\u001b[0mget_sum\u001b[0m\u001b[1;33m(\u001b[0m\u001b[1;33m)\u001b[0m \u001b[1;33m==\u001b[0m \u001b[0mother\u001b[0m\u001b[1;33m.\u001b[0m\u001b[0mget_sum\u001b[0m\u001b[1;33m(\u001b[0m\u001b[1;33m)\u001b[0m\u001b[1;33m\u001b[0m\u001b[1;33m\u001b[0m\u001b[0m\n",
      "\u001b[1;31mTypeError\u001b[0m: Student 클래스의 인스턴스만 비교할 수 있습니다."
     ]
    }
   ],
   "metadata": {}
  },
  {
   "cell_type": "markdown",
   "source": [
    "# Private 변수\r\n",
    "\r\n",
    "---\r\n",
    "\r\n",
    "클래스 내부에 변수를 private으로 만들면 외부에서 해당 변수에 접근 할 수 없다.  \r\n",
    "외부에서 private 변수를 접근하려고 할시 `AttributeError` 예외를 발생시킨다.\r\n",
    "\r\n",
    "        __<변수이름>"
   ],
   "metadata": {}
  },
  {
   "cell_type": "code",
   "execution_count": 1,
   "source": [
    "import math\r\n",
    "\r\n",
    "class Circle:\r\n",
    "    def __init__(self, radius):\r\n",
    "        self.__radius = radius\r\n",
    "    def get_circumference(self):\r\n",
    "        return 2 * math.pi * self.__radius\r\n",
    "    def get_area(self):\r\n",
    "        return math.pi * (self.__radius ** 2)"
   ],
   "outputs": [],
   "metadata": {}
  },
  {
   "cell_type": "code",
   "execution_count": 2,
   "source": [
    "# 원의 둘레와 넓이 구하기\r\n",
    "circle = Circle(10)\r\n",
    "print(\"원의 둘레 :\", circle.get_circumference())\r\n",
    "print(\"원의 넓이 :\", circle.get_area())\r\n",
    "circle.__radius"
   ],
   "outputs": [
    {
     "output_type": "stream",
     "name": "stdout",
     "text": [
      "원의 둘레 : 62.83185307179586\n",
      "원의 넓이 : 314.1592653589793\n"
     ]
    },
    {
     "output_type": "error",
     "ename": "AttributeError",
     "evalue": "'Circle' object has no attribute '__radius'",
     "traceback": [
      "\u001b[1;31m---------------------------------------------------------------------------\u001b[0m",
      "\u001b[1;31mAttributeError\u001b[0m                            Traceback (most recent call last)",
      "\u001b[1;32m~\\AppData\\Local\\Temp/ipykernel_15644/1146020685.py\u001b[0m in \u001b[0;36m<module>\u001b[1;34m\u001b[0m\n\u001b[0;32m      3\u001b[0m \u001b[0mprint\u001b[0m\u001b[1;33m(\u001b[0m\u001b[1;34m\"원의 둘레 :\"\u001b[0m\u001b[1;33m,\u001b[0m \u001b[0mcircle\u001b[0m\u001b[1;33m.\u001b[0m\u001b[0mget_circumference\u001b[0m\u001b[1;33m(\u001b[0m\u001b[1;33m)\u001b[0m\u001b[1;33m)\u001b[0m\u001b[1;33m\u001b[0m\u001b[1;33m\u001b[0m\u001b[0m\n\u001b[0;32m      4\u001b[0m \u001b[0mprint\u001b[0m\u001b[1;33m(\u001b[0m\u001b[1;34m\"원의 넓이 :\"\u001b[0m\u001b[1;33m,\u001b[0m \u001b[0mcircle\u001b[0m\u001b[1;33m.\u001b[0m\u001b[0mget_area\u001b[0m\u001b[1;33m(\u001b[0m\u001b[1;33m)\u001b[0m\u001b[1;33m)\u001b[0m\u001b[1;33m\u001b[0m\u001b[1;33m\u001b[0m\u001b[0m\n\u001b[1;32m----> 5\u001b[1;33m \u001b[0mcircle\u001b[0m\u001b[1;33m.\u001b[0m\u001b[0m__radius\u001b[0m\u001b[1;33m\u001b[0m\u001b[1;33m\u001b[0m\u001b[0m\n\u001b[0m",
      "\u001b[1;31mAttributeError\u001b[0m: 'Circle' object has no attribute '__radius'"
     ]
    }
   ],
   "metadata": {}
  },
  {
   "cell_type": "markdown",
   "source": [
    "# Getter AND Setter\r\n",
    "\r\n",
    "---\r\n",
    "\r\n",
    "## getter / setter\r\n",
    "\r\n",
    "getter와 settet는 만일 해당 private 변수를 접근하여  \r\n",
    "값을 추출(getter)하거나 값을 변경(setter)하고 싶을 때 사용되는 함수이다."
   ],
   "metadata": {}
  },
  {
   "cell_type": "code",
   "execution_count": 4,
   "source": [
    "import math\r\n",
    "\r\n",
    "class Circle:\r\n",
    "    def __init__(self, radius):\r\n",
    "        self.__radius = radius\r\n",
    "    def get_circumference(self):\r\n",
    "        return 2 * math.pi * self.__radius\r\n",
    "    def get_area(self):\r\n",
    "        return math.pi * (self.__radius ** 2)\r\n",
    "\r\n",
    "    # getter / setter 정의\r\n",
    "    def get_radius(self):\r\n",
    "        return self.__radius\r\n",
    "    def set_radius(self, value):\r\n",
    "        self.__radius =value"
   ],
   "outputs": [],
   "metadata": {}
  },
  {
   "cell_type": "code",
   "execution_count": 5,
   "source": [
    "# 원의 둘레와 넓이 구하기\r\n",
    "circle = Circle(10)\r\n",
    "print(\"원의 둘레 :\", circle.get_circumference())\r\n",
    "print(\"원의 넓이 :\", circle.get_area())\r\n",
    "print()\r\n",
    "\r\n",
    "# 간접적으로 __radius에 접근\r\n",
    "print(\"__radius 접근 :\", circle.get_radius())\r\n",
    "print()\r\n",
    "\r\n",
    "# 반지름 변경 후 둘레, 넓이 구하기\r\n",
    "circle.set_radius(2)\r\n",
    "print(\"__radius 변경 :\", circle.get_radius())\r\n",
    "print(\"원의 둘레 :\", circle.get_circumference())\r\n",
    "print(\"원의 넓이 :\", circle.get_area())"
   ],
   "outputs": [
    {
     "output_type": "stream",
     "name": "stdout",
     "text": [
      "원의 둘레 : 62.83185307179586\n",
      "원의 넓이 : 314.1592653589793\n",
      "\n",
      "__radius 접근 : 10\n",
      "\n",
      "__radius 변경 : 2\n",
      "원의 둘레 : 12.566370614359172\n",
      "원의 넓이 : 12.566370614359172\n"
     ]
    }
   ],
   "metadata": {}
  },
  {
   "cell_type": "markdown",
   "source": [
    "## 데코레이터를 사용한 getter / setter\r\n",
    "\r\n",
    "파이썬은 getter와 setter를 쉽게 만들고 사용할 수 있게 데코레이터 기능을 제공한다.\r\n",
    "\r\n",
    "        # getter\r\n",
    "        @property \r\n",
    "        \r\n",
    "        # setter\r\n",
    "        @변수이름.setter"
   ],
   "metadata": {}
  },
  {
   "cell_type": "code",
   "execution_count": 12,
   "source": [
    "import math\r\n",
    "\r\n",
    "class Circle_2:\r\n",
    "    def __init__(self, radius):\r\n",
    "        self.__radius = radius\r\n",
    "    def get_circumference(self):\r\n",
    "        return 2 * math.pi * self.__radius\r\n",
    "    def get_area(self):\r\n",
    "        return math.pi * (self.__radius ** 2)\r\n",
    "\r\n",
    "    # getter / setter 정의\r\n",
    "    @property\r\n",
    "    def radius(self):\r\n",
    "        return self.__radius\r\n",
    "    @radius.setter\r\n",
    "    def radius(self, value):\r\n",
    "        if value <= 0:\r\n",
    "            raise TypeError(\"길이는 양의 숫자여야 합니다.\")\r\n",
    "        self.__radius =value"
   ],
   "outputs": [],
   "metadata": {}
  },
  {
   "cell_type": "code",
   "execution_count": 14,
   "source": [
    "circle = Circle_2(20)\r\n",
    "print(\"원의 반지름 :\", circle.radius)\r\n",
    "circle.radius = 2\r\n",
    "print(\"변경된 원의 반지름 :\", circle.radius)\r\n",
    "\r\n",
    "print(\"\\n강제로 예외 발생\")\r\n",
    "circle.radius = -10"
   ],
   "outputs": [
    {
     "output_type": "stream",
     "name": "stdout",
     "text": [
      "원의 반지름 : 20\n",
      "변경된 원의 반지름 : 2\n",
      "\n",
      "강제로 예외 발생\n"
     ]
    },
    {
     "output_type": "error",
     "ename": "TypeError",
     "evalue": "길이는 양의 숫자여야 합니다.",
     "traceback": [
      "\u001b[1;31m---------------------------------------------------------------------------\u001b[0m",
      "\u001b[1;31mTypeError\u001b[0m                                 Traceback (most recent call last)",
      "\u001b[1;32m~\\AppData\\Local\\Temp/ipykernel_15644/3302665448.py\u001b[0m in \u001b[0;36m<module>\u001b[1;34m\u001b[0m\n\u001b[0;32m      5\u001b[0m \u001b[1;33m\u001b[0m\u001b[0m\n\u001b[0;32m      6\u001b[0m \u001b[0mprint\u001b[0m\u001b[1;33m(\u001b[0m\u001b[1;34m\"\\n강제로 예외 발생\"\u001b[0m\u001b[1;33m)\u001b[0m\u001b[1;33m\u001b[0m\u001b[1;33m\u001b[0m\u001b[0m\n\u001b[1;32m----> 7\u001b[1;33m \u001b[0mcircle\u001b[0m\u001b[1;33m.\u001b[0m\u001b[0mradius\u001b[0m \u001b[1;33m=\u001b[0m \u001b[1;33m-\u001b[0m\u001b[1;36m10\u001b[0m\u001b[1;33m\u001b[0m\u001b[1;33m\u001b[0m\u001b[0m\n\u001b[0m",
      "\u001b[1;32m~\\AppData\\Local\\Temp/ipykernel_15644/297385456.py\u001b[0m in \u001b[0;36mradius\u001b[1;34m(self, value)\u001b[0m\n\u001b[0;32m     16\u001b[0m     \u001b[1;32mdef\u001b[0m \u001b[0mradius\u001b[0m\u001b[1;33m(\u001b[0m\u001b[0mself\u001b[0m\u001b[1;33m,\u001b[0m \u001b[0mvalue\u001b[0m\u001b[1;33m)\u001b[0m\u001b[1;33m:\u001b[0m\u001b[1;33m\u001b[0m\u001b[1;33m\u001b[0m\u001b[0m\n\u001b[0;32m     17\u001b[0m         \u001b[1;32mif\u001b[0m \u001b[0mvalue\u001b[0m \u001b[1;33m<=\u001b[0m \u001b[1;36m0\u001b[0m\u001b[1;33m:\u001b[0m\u001b[1;33m\u001b[0m\u001b[1;33m\u001b[0m\u001b[0m\n\u001b[1;32m---> 18\u001b[1;33m             \u001b[1;32mraise\u001b[0m \u001b[0mTypeError\u001b[0m\u001b[1;33m(\u001b[0m\u001b[1;34m\"길이는 양의 숫자여야 합니다.\"\u001b[0m\u001b[1;33m)\u001b[0m\u001b[1;33m\u001b[0m\u001b[1;33m\u001b[0m\u001b[0m\n\u001b[0m\u001b[0;32m     19\u001b[0m         \u001b[0mself\u001b[0m\u001b[1;33m.\u001b[0m\u001b[0m__radius\u001b[0m \u001b[1;33m=\u001b[0m\u001b[0mvalue\u001b[0m\u001b[1;33m\u001b[0m\u001b[1;33m\u001b[0m\u001b[0m\n",
      "\u001b[1;31mTypeError\u001b[0m: 길이는 양의 숫자여야 합니다."
     ]
    }
   ],
   "metadata": {}
  },
  {
   "cell_type": "markdown",
   "source": [
    "# 상속\r\n",
    "\r\n",
    "---\r\n",
    "\r\n",
    "## 기본 상속\r\n",
    "\r\n",
    "기반이 되는 클래스를 부모(parent)라고 부르고,  \r\n",
    "이를 기반으로 생성된 클래스를 자식(child)이라고 부른다.  \r\n",
    "부모가 자식에게 자신의 기반을 물려주는 기능으로 '상속'이라고 부르는 것이다."
   ],
   "metadata": {}
  },
  {
   "cell_type": "code",
   "execution_count": 34,
   "source": [
    "class Parent:\r\n",
    "    def __init__(self, value):\r\n",
    "        self.value = value\r\n",
    "        print(\"Parent 클래스의 __init__() 메소드가 호출되었습니다.\")\r\n",
    "    def test(self):\r\n",
    "        print(\"Parent 클래스의 test() 메소드입니다.\")\r\n",
    "    def override(self):\r\n",
    "        print(\"Parent 클래스의 overrid() 메소드 입니다.\")\r\n",
    "class Child(Parent):\r\n",
    "    def __init__(self, value):\r\n",
    "        self.val = \"자식val\"\r\n",
    "        Parent.__init__(self, value)\r\n",
    "        print(\"Child 클래스의 __init__() 메소드가 호출되었습니다.\")\r\n",
    "    def override(self):\r\n",
    "        print(\"Child 클래스의 overrid() 메소드 입니다.\")"
   ],
   "outputs": [],
   "metadata": {}
  },
  {
   "cell_type": "code",
   "execution_count": 35,
   "source": [
    "child = Child(\"테스트\")"
   ],
   "outputs": [
    {
     "output_type": "stream",
     "name": "stdout",
     "text": [
      "Parent 클래스의 __init__() 메소드가 호출되었습니다.\n",
      "Child 클래스의 __init__() 메소드가 호출되었습니다.\n"
     ]
    }
   ],
   "metadata": {}
  },
  {
   "cell_type": "code",
   "execution_count": 36,
   "source": [
    "child.test()\r\n",
    "print(child.value)\r\n",
    "print(child.val)\r\n",
    "child.override()"
   ],
   "outputs": [
    {
     "output_type": "stream",
     "name": "stdout",
     "text": [
      "Parent 클래스의 test() 메소드입니다.\n",
      "테스트\n",
      "자식val\n",
      "Child 클래스의 overrid() 메소드 입니다.\n"
     ]
    }
   ],
   "metadata": {}
  },
  {
   "cell_type": "markdown",
   "source": [
    "## 예외 클래스 활용\r\n",
    "\r\n",
    "상속은 기종에 있는 클래스를 기반으로 조금 수정해서 내가 원하는 클래스를 만들 때 사용한다."
   ],
   "metadata": {}
  },
  {
   "cell_type": "code",
   "execution_count": 39,
   "source": [
    "class CustomException(Exception):\r\n",
    "    def __init__(self, messgae, value):\r\n",
    "        Exception.__init__(self)\r\n",
    "        self.message = messgae\r\n",
    "        self.value = value\r\n",
    "    \r\n",
    "    def __str__(self):\r\n",
    "        return self.message\r\n",
    "    \r\n",
    "    def print(self):\r\n",
    "        print(\"######  오류 정보 ######\")\r\n",
    "        print('메시지:', self.message)\r\n",
    "        print('값:', self.value)"
   ],
   "outputs": [],
   "metadata": {}
  },
  {
   "cell_type": "code",
   "execution_count": 40,
   "source": [
    "# 예외 발생\r\n",
    "try:\r\n",
    "  raise CustomException(\"딱히 이유 없음\", 273)\r\n",
    "except CustomException as e:\r\n",
    "  e.print()"
   ],
   "outputs": [
    {
     "output_type": "stream",
     "name": "stdout",
     "text": [
      "######  오류 정보 ######\n",
      "메시지: 딱히 이유 없음\n",
      "값: 273\n"
     ]
    }
   ],
   "metadata": {}
  }
 ],
 "metadata": {
  "kernelspec": {
   "name": "python3",
   "display_name": "Python 3.9.6 64-bit"
  },
  "language_info": {
   "codemirror_mode": {
    "name": "ipython",
    "version": 3
   },
   "file_extension": ".py",
   "mimetype": "text/x-python",
   "name": "python",
   "nbconvert_exporter": "python",
   "pygments_lexer": "ipython3",
   "version": "3.9.6"
  },
  "interpreter": {
   "hash": "ac59ebe37160ed0dfa835113d9b8498d9f09ceb179beaac4002f036b9467c963"
  }
 },
 "nbformat": 4,
 "nbformat_minor": 5
}
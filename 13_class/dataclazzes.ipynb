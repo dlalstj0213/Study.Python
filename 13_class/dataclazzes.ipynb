{
 "cells": [
  {
   "cell_type": "markdown",
   "source": [
    "# 데이터클래스 모듈\r\n",
    "\r\n",
    "---\r\n",
    "\r\n",
    "지금까지 클래스를 작성할때 해왔던 방식을 보다 더 편리하게 해주는 모듈이다.\r\n",
    "<br/>\r\n",
    "<br/>\r\n",
    "\r\n",
    "\r\n",
    "## 데이터클래스 적용 하지않은 예제\r\n"
   ],
   "metadata": {}
  },
  {
   "cell_type": "code",
   "execution_count": 25,
   "source": [
    "import random\r\n",
    "\r\n",
    "class Student:\r\n",
    "    kor_name: str\r\n",
    "    eng_name: str\r\n",
    "    height: float\r\n",
    "    grade: int\r\n",
    "    school: str\r\n",
    "    __STUDENT_ID: int\r\n",
    "\r\n",
    "    def __init__(self, kor_name: str, eng_name: str, height: float, grade: int, school: str = \"Python School\") -> None:\r\n",
    "        self.kor_name = kor_name\r\n",
    "        self.eng_name = eng_name\r\n",
    "        self.height = height\r\n",
    "        self.grade = grade\r\n",
    "        self.school = school\r\n",
    "        self.__STUDENT_ID = random.randrange(1, 9999999)\r\n",
    "\r\n",
    "    def __repr__(self) -> str:\r\n",
    "        return (\r\n",
    "            self.__class__.__name__ + f\"(kor_name={self.kor_name}, eng_name={self.eng_name}, \"\r\n",
    "            f\"height={self.height}, grade={self.grade}, school={self.school}, student_id={self.__STUDENT_ID})\"\r\n",
    "        )\r\n",
    "\r\n",
    "    def __eq__(self, other: object) -> bool:\r\n",
    "        if other.__class__ is self.__class__:\r\n",
    "            return (self.kor_name, self.eng_name, self.height, self.grade, self.school) == (\r\n",
    "                other.kor_name, other.eng_name, other.height, other.grade, other.school\r\n",
    "            )\r\n",
    "        return NotImplemented"
   ],
   "outputs": [],
   "metadata": {}
  },
  {
   "cell_type": "code",
   "execution_count": 26,
   "source": [
    "student1 = Student(\"민서\", \"Minseo\", 188.8, 1)\r\n",
    "student2 = Student(\"민서\", \"Minseo\", 188.8, 1)\r\n",
    "print(student1)\r\n",
    "print(student2)"
   ],
   "outputs": [
    {
     "output_type": "stream",
     "name": "stdout",
     "text": [
      "Student(kor_name=민서, eng_name=Minseo, height=188.8, grade=1, school=Python School, student_id=1222856)\n",
      "Student(kor_name=민서, eng_name=Minseo, height=188.8, grade=1, school=Python School, student_id=2291280)\n"
     ]
    }
   ],
   "metadata": {}
  },
  {
   "cell_type": "code",
   "execution_count": 27,
   "source": [
    "student1 == student2"
   ],
   "outputs": [
    {
     "output_type": "execute_result",
     "data": {
      "text/plain": [
       "True"
      ]
     },
     "metadata": {},
     "execution_count": 27
    }
   ],
   "metadata": {}
  },
  {
   "cell_type": "markdown",
   "source": [
    "## 데이터클래스 적용 예제"
   ],
   "metadata": {}
  },
  {
   "cell_type": "code",
   "execution_count": 28,
   "source": [
    "from dataclasses import dataclass, field\r\n",
    "import random\r\n",
    "\r\n",
    "@dataclass\r\n",
    "class Student:\r\n",
    "    kor_name: str\r\n",
    "    eng_name: str\r\n",
    "    height: float\r\n",
    "    grade: int\r\n",
    "    school: str = field(default=\"Python School\")\r\n",
    "    __STUDENT_ID: int = field(default=random.randrange(1, 9999999))"
   ],
   "outputs": [],
   "metadata": {}
  },
  {
   "cell_type": "code",
   "execution_count": 29,
   "source": [
    "student1 = Student(\"민서\", \"Minseo\", 188.8, 1)\r\n",
    "student2 = Student(\"민서\", \"Minseo\", 188.8, 1)\r\n",
    "print(student1)\r\n",
    "print(student2)"
   ],
   "outputs": [
    {
     "output_type": "stream",
     "name": "stdout",
     "text": [
      "Student(kor_name='민서', eng_name='Minseo', height=188.8, grade=1, school='Python School', _Student__STUDENT_ID=7088389)\n",
      "Student(kor_name='민서', eng_name='Minseo', height=188.8, grade=1, school='Python School', _Student__STUDENT_ID=7088389)\n"
     ]
    }
   ],
   "metadata": {}
  },
  {
   "cell_type": "code",
   "execution_count": 30,
   "source": [
    "student1 == student2"
   ],
   "outputs": [
    {
     "output_type": "execute_result",
     "data": {
      "text/plain": [
       "True"
      ]
     },
     "metadata": {},
     "execution_count": 30
    }
   ],
   "metadata": {}
  },
  {
   "cell_type": "code",
   "execution_count": 31,
   "source": [
    "student1.__STUDENT_ID"
   ],
   "outputs": [
    {
     "output_type": "error",
     "ename": "AttributeError",
     "evalue": "'Student' object has no attribute '__STUDENT_ID'",
     "traceback": [
      "\u001b[1;31m---------------------------------------------------------------------------\u001b[0m",
      "\u001b[1;31mAttributeError\u001b[0m                            Traceback (most recent call last)",
      "\u001b[1;32m~\\AppData\\Local\\Temp/ipykernel_24228/3951349608.py\u001b[0m in \u001b[0;36m<module>\u001b[1;34m\u001b[0m\n\u001b[1;32m----> 1\u001b[1;33m \u001b[0mstudent1\u001b[0m\u001b[1;33m.\u001b[0m\u001b[0m__STUDENT_ID\u001b[0m\u001b[1;33m\u001b[0m\u001b[1;33m\u001b[0m\u001b[0m\n\u001b[0m",
      "\u001b[1;31mAttributeError\u001b[0m: 'Student' object has no attribute '__STUDENT_ID'"
     ]
    }
   ],
   "metadata": {}
  },
  {
   "cell_type": "markdown",
   "source": [
    "# 불변 데이터 만들기\r\n",
    "\r\n",
    "---"
   ],
   "metadata": {}
  },
  {
   "cell_type": "code",
   "execution_count": 37,
   "source": [
    "from dataclasses import dataclass, field\r\n",
    "import random\r\n",
    "\r\n",
    "# option : frozen = True\r\n",
    "@dataclass(frozen=True)\r\n",
    "class Student:\r\n",
    "    kor_name: str\r\n",
    "    eng_name: str\r\n",
    "    height: float\r\n",
    "    grade: int\r\n",
    "    school: str = field(default=\"Python School\")\r\n",
    "    __STUDENT_ID: int = field(default=random.randrange(1, 9999999))"
   ],
   "outputs": [],
   "metadata": {}
  },
  {
   "cell_type": "code",
   "execution_count": 38,
   "source": [
    "student = Student(\"민서\", \"Minseo\", 188.8, 1)"
   ],
   "outputs": [],
   "metadata": {}
  },
  {
   "cell_type": "code",
   "execution_count": 39,
   "source": [
    "student.kor_name"
   ],
   "outputs": [
    {
     "output_type": "execute_result",
     "data": {
      "text/plain": [
       "'민서'"
      ]
     },
     "metadata": {},
     "execution_count": 39
    }
   ],
   "metadata": {}
  },
  {
   "cell_type": "code",
   "execution_count": 40,
   "source": [
    "student.kor_name = \"서민\""
   ],
   "outputs": [
    {
     "output_type": "error",
     "ename": "FrozenInstanceError",
     "evalue": "cannot assign to field 'kor_name'",
     "traceback": [
      "\u001b[1;31m---------------------------------------------------------------------------\u001b[0m",
      "\u001b[1;31mFrozenInstanceError\u001b[0m                       Traceback (most recent call last)",
      "\u001b[1;32m~\\AppData\\Local\\Temp/ipykernel_24228/1469507670.py\u001b[0m in \u001b[0;36m<module>\u001b[1;34m\u001b[0m\n\u001b[1;32m----> 1\u001b[1;33m \u001b[0mstudent\u001b[0m\u001b[1;33m.\u001b[0m\u001b[0mkor_name\u001b[0m \u001b[1;33m=\u001b[0m \u001b[1;34m\"서민\"\u001b[0m\u001b[1;33m\u001b[0m\u001b[1;33m\u001b[0m\u001b[0m\n\u001b[0m",
      "\u001b[1;32m<string>\u001b[0m in \u001b[0;36m__setattr__\u001b[1;34m(self, name, value)\u001b[0m\n",
      "\u001b[1;31mFrozenInstanceError\u001b[0m: cannot assign to field 'kor_name'"
     ]
    }
   ],
   "metadata": {}
  },
  {
   "cell_type": "markdown",
   "source": [
    "# 데이터 대소비교 및 정렬\r\n",
    "\r\n",
    "---"
   ],
   "metadata": {}
  },
  {
   "cell_type": "code",
   "execution_count": 50,
   "source": [
    "from dataclasses import dataclass, field\r\n",
    "import random\r\n",
    "\r\n",
    "# option : order = True\r\n",
    "@dataclass(order=True)\r\n",
    "class Student:\r\n",
    "    height: float # 키순 대소비교 설정\r\n",
    "    kor_name: str\r\n",
    "    eng_name: str\r\n",
    "    grade: int\r\n",
    "    school: str = field(default=\"Python School\")\r\n",
    "    __STUDENT_ID: int = field(default=random.randrange(1, 9999999))"
   ],
   "outputs": [],
   "metadata": {}
  },
  {
   "cell_type": "code",
   "execution_count": 53,
   "source": [
    "student1 = Student(158.8, \"이민서\", \"LeeMinseo\", 1)\r\n",
    "student2 = Student(200.8, \"박민서\", \"ParkMinseo\", 1)\r\n",
    "student3 = Student(180.8, \"김민서\", \"KimMinseo\", 1)\r\n",
    "print(student1 > student2)"
   ],
   "outputs": [
    {
     "output_type": "stream",
     "name": "stdout",
     "text": [
      "False\n"
     ]
    }
   ],
   "metadata": {}
  },
  {
   "cell_type": "code",
   "execution_count": 55,
   "source": [
    "sorted([student1, student2, student3], reverse=True)"
   ],
   "outputs": [
    {
     "output_type": "execute_result",
     "data": {
      "text/plain": [
       "[Student(height=200.8, kor_name='박민서', eng_name='ParkMinseo', grade=1, school='Python School', _Student__STUDENT_ID=2604039),\n",
       " Student(height=180.8, kor_name='김민서', eng_name='KimMinseo', grade=1, school='Python School', _Student__STUDENT_ID=2604039),\n",
       " Student(height=158.8, kor_name='이민서', eng_name='LeeMinseo', grade=1, school='Python School', _Student__STUDENT_ID=2604039)]"
      ]
     },
     "metadata": {},
     "execution_count": 55
    }
   ],
   "metadata": {}
  },
  {
   "cell_type": "markdown",
   "source": [
    "## 그외 필요한 자료는 문서를 통해 자세히 알아볼 것 : [docs.python.org [dataclasses]](https://docs.python.org/ko/3/library/dataclasses.html)"
   ],
   "metadata": {}
  },
  {
   "cell_type": "markdown",
   "source": [],
   "metadata": {}
  }
 ],
 "metadata": {
  "orig_nbformat": 4,
  "language_info": {
   "name": "python",
   "version": "3.9.6",
   "mimetype": "text/x-python",
   "codemirror_mode": {
    "name": "ipython",
    "version": 3
   },
   "pygments_lexer": "ipython3",
   "nbconvert_exporter": "python",
   "file_extension": ".py"
  },
  "kernelspec": {
   "name": "python3",
   "display_name": "Python 3.9.6 64-bit"
  },
  "interpreter": {
   "hash": "ac59ebe37160ed0dfa835113d9b8498d9f09ceb179beaac4002f036b9467c963"
  }
 },
 "nbformat": 4,
 "nbformat_minor": 2
}
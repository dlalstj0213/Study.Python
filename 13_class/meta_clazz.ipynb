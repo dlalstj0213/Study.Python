{
 "cells": [
  {
   "cell_type": "markdown",
   "source": [
    "깃허브 참고 링크 : [RHIE-coder](https://github.com/RHIE-coder/Playground.Python/blob/master/%5B03%5DAdvanced/03.%EB%A9%94%ED%83%80%ED%81%B4%EB%9E%98%EC%8A%A4.ipynb)\r\n",
    "\r\n",
    "# 메타 클래스\r\n",
    "\r\n",
    "---\r\n",
    "\r\n",
    "클래스를 만드는 클래스\r\n",
    "\r\n",
    "프레임워크나 모듈을 설계할 때 동적으로 클래스를 만들 수도 있을 것이다.\r\n",
    "\r\n",
    "# 1. type을 사용한 동적 클래스 생성\r\n",
    "\r\n",
    "---\r\n",
    "\r\n",
    "클래스 = type(\"클래스이름\", Tuple:부모클래스, Dict:속성과 메소드)\r\n",
    "\r\n",
    "```python\r\n",
    "Calc type('Calculator', (), {})\r\n",
    "```"
   ],
   "metadata": {}
  },
  {
   "cell_type": "code",
   "execution_count": 5,
   "source": [
    "attributes = dict(\r\n",
    "  name = \"계산기\",\r\n",
    "  add = lambda self, x, y : x + y,\r\n",
    "  mul = lambda self, x, y : x * y\r\n",
    ")\r\n",
    "\r\n",
    "Calculator = type(\"Calculator\", (), attributes)"
   ],
   "outputs": [],
   "metadata": {}
  },
  {
   "cell_type": "code",
   "execution_count": 6,
   "source": [
    "print(Calculator)\r\n"
   ],
   "outputs": [
    {
     "output_type": "stream",
     "name": "stdout",
     "text": [
      "<class '__main__.Calculator'>\n"
     ]
    }
   ],
   "metadata": {}
  },
  {
   "cell_type": "code",
   "execution_count": 9,
   "source": [
    "calc = Calculator()\r\n",
    "print(calc.name)\r\n",
    "print(calc.add(1, 2))\r\n",
    "print(calc.mul(3, 3))"
   ],
   "outputs": [
    {
     "output_type": "stream",
     "name": "stdout",
     "text": [
      "계산기\n",
      "3\n",
      "9\n"
     ]
    }
   ],
   "metadata": {}
  },
  {
   "cell_type": "markdown",
   "source": [
    "## 활용 list 클래스 상속"
   ],
   "metadata": {}
  },
  {
   "cell_type": "code",
   "execution_count": 49,
   "source": [
    "MyList = type(\"MyList\", (list, ), {\r\n",
    "  \"__str__\" : lambda self : list.__str__(self),\r\n",
    "  \"odd\" : lambda self : [num for num in self if num % 2],\r\n",
    "  \"even\" : lambda self : [num for num in self if not num % 2],\r\n",
    "})"
   ],
   "outputs": [],
   "metadata": {}
  },
  {
   "cell_type": "code",
   "execution_count": 51,
   "source": [
    "mylist = MyList([1, 2, 3, 4, 5, 6, 7, 8, 9, 10])\r\n",
    "print(mylist)\r\n",
    "print(mylist.odd())\r\n",
    "print(mylist.even())"
   ],
   "outputs": [
    {
     "output_type": "stream",
     "name": "stdout",
     "text": [
      "[1, 2, 3, 4, 5, 6, 7, 8, 9, 10]\n",
      "[1, 3, 5, 7, 9]\n",
      "[2, 4, 6, 8, 10]\n"
     ]
    }
   ],
   "metadata": {}
  },
  {
   "cell_type": "markdown",
   "source": [
    "# 2. `__new__`\r\n",
    "\r\n",
    "---\r\n",
    "\r\n",
    "지금까지 클래스의 인스턴스를 생성할 때 `__init__`을 통해 생성해봤기 때문에\r\n",
    "\r\n",
    "`__init__` 함수가 인스턴스를 생성하는 함수일 것이라 생각할 수도 있지만,\r\n",
    "\r\n",
    "사실은 `__new__` 함수가 인스턴스를 생성하는 함수다.\r\n",
    "\r\n",
    "또한, `__new__`가 먼저 실행되면 인스턴스는 생성되지만 인스턴스에 대한 정보가 아무것도 없다.\r\n",
    "\r\n",
    "즉, `__new__`는 해당 클래스의 객체(or 인스턴스)를 메모리에 할당을 해주고\r\n",
    "\r\n",
    "클래스의 정보를 객체에 작성해주는 녀석은 `__init__`인 것이다."
   ],
   "metadata": {}
  },
  {
   "cell_type": "code",
   "execution_count": 54,
   "source": [
    "class Student:\r\n",
    "    def __new__(cls):\r\n",
    "        print(\"CALL __new__()\")\r\n",
    "        student: Student = object.__new__(cls)\r\n",
    "        return student\r\n",
    "\r\n",
    "    def __init__(self):\r\n",
    "        print(\"CALL __init__()\")\r\n",
    "\r\n",
    "    def study(self):\r\n",
    "        print(\"공부중\")\r\n",
    "\r\n",
    "student = Student()\r\n",
    "print(type(student))\r\n",
    "student.study()"
   ],
   "outputs": [
    {
     "output_type": "stream",
     "name": "stdout",
     "text": [
      "CALL __new__()\n",
      "CALL __init__()\n",
      "<class '__main__.Student'>\n",
      "공부중\n"
     ]
    }
   ],
   "metadata": {}
  },
  {
   "cell_type": "markdown",
   "source": [
    "- __new__에 대한 오버라이딩의 목적은 클래스를 커스텀마이징하거나 클래스 생성 등에 대한 핸들링 등이 있다\r\n",
    "\r\n",
    "아래 클래스는 3개의 객체만 생성할 수 있게 제한을 걸어둔 클래스다.\r\n",
    "\r\n",
    "아래와 같은 기능이 필요한 때가 있다.\r\n",
    "\r\n",
    "서버와 데이터베이스를 연결한 connection 객체를 관리해주는 connection pool이라는 객체가 여러 개 있으면 안될 것이다.\r\n",
    "\r\n",
    "그래서 아래와 같은 방법으로 단 1개의 객체만 생성하도록 제한하는 하는 것을 사용한다.\r\n",
    "\r\n",
    "이를 프로그래밍 디자인패턴 기법 중 하나인 싱글톤 패턴(singleton pattern)이라고 한다."
   ],
   "metadata": {}
  },
  {
   "cell_type": "code",
   "execution_count": 59,
   "source": [
    "class LimitedInstances():\r\n",
    "    __instances = []  # Keep track of instance reference\r\n",
    "    limit = 3\r\n",
    "    def __new__(cls, *args, **kwargs):\r\n",
    "        print(\"---------인스턴스 생성 전 클래스 정보 확인---------\")\r\n",
    "        print(\"| 제한된 객체의 수 : \", cls.limit)\r\n",
    "        print(\"| 현재 생성된 객체 리스트 : \", cls.__instances)\r\n",
    "        if not len(cls.__instances) < cls.limit:\r\n",
    "            raise RuntimeError(\"Count not create instance. Limit {} reached\".format(cls.limit)) # 강제 에러 발생\r\n",
    "        instance = object.__new__(cls, *args, **kwargs)\r\n",
    "        cls.__instances.append(instance)\r\n",
    "        print(\"--------------------------------------------------\")\r\n",
    "        return instance\r\n",
    "    \r\n",
    "    def __del__(self):\r\n",
    "        # Remove instance from __instances\r\n",
    "        self.__instance.remove(self)\r\n",
    "\r\n",
    "    @property\r\n",
    "    def instances(self):\r\n",
    "        return self.__instances\r\n",
    "\r\n",
    "a = LimitedInstances()\r\n",
    "LimitedInstances()\r\n",
    "LimitedInstances()\r\n",
    "LimitedInstances()"
   ],
   "outputs": [
    {
     "output_type": "stream",
     "name": "stdout",
     "text": [
      "---------인스턴스 생성 전 클래스 정보 확인---------\n",
      "| 제한된 객체의 수 :  3\n",
      "| 현재 생성된 객체 리스트 :  []\n",
      "--------------------------------------------------\n",
      "---------인스턴스 생성 전 클래스 정보 확인---------\n",
      "| 제한된 객체의 수 :  3\n",
      "| 현재 생성된 객체 리스트 :  [<__main__.LimitedInstances object at 0x0000023658DE0DF0>]\n",
      "--------------------------------------------------\n",
      "---------인스턴스 생성 전 클래스 정보 확인---------\n",
      "| 제한된 객체의 수 :  3\n",
      "| 현재 생성된 객체 리스트 :  [<__main__.LimitedInstances object at 0x0000023658DE0DF0>, <__main__.LimitedInstances object at 0x0000023658DE0C10>]\n",
      "--------------------------------------------------\n",
      "---------인스턴스 생성 전 클래스 정보 확인---------\n",
      "| 제한된 객체의 수 :  3\n",
      "| 현재 생성된 객체 리스트 :  [<__main__.LimitedInstances object at 0x0000023658DE0DF0>, <__main__.LimitedInstances object at 0x0000023658DE0C10>, <__main__.LimitedInstances object at 0x0000023658DE0BB0>]\n"
     ]
    },
    {
     "output_type": "error",
     "ename": "RuntimeError",
     "evalue": "Count not create instance. Limit 3 reached",
     "traceback": [
      "\u001b[1;31m---------------------------------------------------------------------------\u001b[0m",
      "\u001b[1;31mRuntimeError\u001b[0m                              Traceback (most recent call last)",
      "\u001b[1;32m~\\AppData\\Local\\Temp/ipykernel_30700/4063578896.py\u001b[0m in \u001b[0;36m<module>\u001b[1;34m\u001b[0m\n\u001b[0;32m     24\u001b[0m \u001b[0mLimitedInstances\u001b[0m\u001b[1;33m(\u001b[0m\u001b[1;33m)\u001b[0m\u001b[1;33m\u001b[0m\u001b[1;33m\u001b[0m\u001b[0m\n\u001b[0;32m     25\u001b[0m \u001b[0mLimitedInstances\u001b[0m\u001b[1;33m(\u001b[0m\u001b[1;33m)\u001b[0m\u001b[1;33m\u001b[0m\u001b[1;33m\u001b[0m\u001b[0m\n\u001b[1;32m---> 26\u001b[1;33m \u001b[0mLimitedInstances\u001b[0m\u001b[1;33m(\u001b[0m\u001b[1;33m)\u001b[0m\u001b[1;33m\u001b[0m\u001b[1;33m\u001b[0m\u001b[0m\n\u001b[0m",
      "\u001b[1;32m~\\AppData\\Local\\Temp/ipykernel_30700/4063578896.py\u001b[0m in \u001b[0;36m__new__\u001b[1;34m(cls, *args, **kwargs)\u001b[0m\n\u001b[0;32m      7\u001b[0m         \u001b[0mprint\u001b[0m\u001b[1;33m(\u001b[0m\u001b[1;34m\"| 현재 생성된 객체 리스트 : \"\u001b[0m\u001b[1;33m,\u001b[0m \u001b[0mcls\u001b[0m\u001b[1;33m.\u001b[0m\u001b[0m__instances\u001b[0m\u001b[1;33m)\u001b[0m\u001b[1;33m\u001b[0m\u001b[1;33m\u001b[0m\u001b[0m\n\u001b[0;32m      8\u001b[0m         \u001b[1;32mif\u001b[0m \u001b[1;32mnot\u001b[0m \u001b[0mlen\u001b[0m\u001b[1;33m(\u001b[0m\u001b[0mcls\u001b[0m\u001b[1;33m.\u001b[0m\u001b[0m__instances\u001b[0m\u001b[1;33m)\u001b[0m \u001b[1;33m<\u001b[0m \u001b[0mcls\u001b[0m\u001b[1;33m.\u001b[0m\u001b[0mlimit\u001b[0m\u001b[1;33m:\u001b[0m\u001b[1;33m\u001b[0m\u001b[1;33m\u001b[0m\u001b[0m\n\u001b[1;32m----> 9\u001b[1;33m             \u001b[1;32mraise\u001b[0m \u001b[0mRuntimeError\u001b[0m\u001b[1;33m(\u001b[0m\u001b[1;34m\"Count not create instance. Limit {} reached\"\u001b[0m\u001b[1;33m.\u001b[0m\u001b[0mformat\u001b[0m\u001b[1;33m(\u001b[0m\u001b[0mcls\u001b[0m\u001b[1;33m.\u001b[0m\u001b[0mlimit\u001b[0m\u001b[1;33m)\u001b[0m\u001b[1;33m)\u001b[0m \u001b[1;31m# 강제 에러 발생\u001b[0m\u001b[1;33m\u001b[0m\u001b[1;33m\u001b[0m\u001b[0m\n\u001b[0m\u001b[0;32m     10\u001b[0m         \u001b[0minstance\u001b[0m \u001b[1;33m=\u001b[0m \u001b[0mobject\u001b[0m\u001b[1;33m.\u001b[0m\u001b[0m__new__\u001b[0m\u001b[1;33m(\u001b[0m\u001b[0mcls\u001b[0m\u001b[1;33m,\u001b[0m \u001b[1;33m*\u001b[0m\u001b[0margs\u001b[0m\u001b[1;33m,\u001b[0m \u001b[1;33m**\u001b[0m\u001b[0mkwargs\u001b[0m\u001b[1;33m)\u001b[0m\u001b[1;33m\u001b[0m\u001b[1;33m\u001b[0m\u001b[0m\n\u001b[0;32m     11\u001b[0m         \u001b[0mcls\u001b[0m\u001b[1;33m.\u001b[0m\u001b[0m__instances\u001b[0m\u001b[1;33m.\u001b[0m\u001b[0mappend\u001b[0m\u001b[1;33m(\u001b[0m\u001b[0minstance\u001b[0m\u001b[1;33m)\u001b[0m\u001b[1;33m\u001b[0m\u001b[1;33m\u001b[0m\u001b[0m\n",
      "\u001b[1;31mRuntimeError\u001b[0m: Count not create instance. Limit 3 reached"
     ]
    }
   ],
   "metadata": {}
  },
  {
   "cell_type": "code",
   "execution_count": 60,
   "source": [
    "a.limit"
   ],
   "outputs": [
    {
     "output_type": "execute_result",
     "data": {
      "text/plain": [
       "3"
      ]
     },
     "metadata": {},
     "execution_count": 60
    }
   ],
   "metadata": {}
  },
  {
   "cell_type": "code",
   "execution_count": 61,
   "source": [
    "a.instances"
   ],
   "outputs": [
    {
     "output_type": "execute_result",
     "data": {
      "text/plain": [
       "[<__main__.LimitedInstances at 0x23658de0df0>,\n",
       " <__main__.LimitedInstances at 0x23658de0c10>,\n",
       " <__main__.LimitedInstances at 0x23658de0bb0>]"
      ]
     },
     "metadata": {},
     "execution_count": 61
    }
   ],
   "metadata": {}
  },
  {
   "cell_type": "markdown",
   "source": [
    "# 3. `__call__`\r\n",
    "\r\n",
    "---\r\n",
    "\r\n",
    "\r\n",
    "`__new__`가 클래스 인스턴스를 생성해 메모리에 할당하고\r\n",
    "\r\n",
    "`__init__`이 인스턴스에 값들을 넣고 초기화하한다면\r\n",
    "\r\n",
    "`__call__`함수는 인스턴스 자체가 호출될 때 호출되는 함수다.\r\n",
    "\r\n",
    "`__new__` ==> `__init__` ==> `__call__`"
   ],
   "metadata": {}
  },
  {
   "cell_type": "code",
   "execution_count": 62,
   "source": [
    "class MyClass:\r\n",
    "    def __init__(self,msg):\r\n",
    "        self.__msg = msg\r\n",
    "        \r\n",
    "    def __call__(self):\r\n",
    "        print(len(self.__msg))\r\n",
    "        return [s for s in self.__msg]\r\n",
    "    \r\n",
    "mine = MyClass(\"Hello World\")\r\n",
    "mine() # 인스턴스 자체를 호출"
   ],
   "outputs": [
    {
     "output_type": "stream",
     "name": "stdout",
     "text": [
      "11\n"
     ]
    },
    {
     "output_type": "execute_result",
     "data": {
      "text/plain": [
       "['H', 'e', 'l', 'l', 'o', ' ', 'W', 'o', 'r', 'l', 'd']"
      ]
     },
     "metadata": {},
     "execution_count": 62
    }
   ],
   "metadata": {}
  },
  {
   "cell_type": "markdown",
   "source": [
    "# 4. type을 상속받아 클래스를 만드는 클래스인 메타클래스가 구현하는 방식을 정하기\r\n",
    "\r\n",
    "---\r\n",
    "\r\n",
    "```python\r\n",
    "class MetaClassName(type):\r\n",
    "    def __new__(metacls, name, bases, namespace):\r\n",
    "        #Statement\r\n",
    "```"
   ],
   "metadata": {}
  },
  {
   "cell_type": "code",
   "execution_count": 63,
   "source": [
    "class MakeCalc(type):\r\n",
    "    def __new__(matacls, name, bases, namespace):\r\n",
    "        namespace[\"add\"] = lambda self, *args : sum(args)\r\n",
    "        return type.__new__(matacls, name, bases, namespace)\r\n",
    "\r\n",
    "Calc = MakeCalc(\"Calculator\",(),{})\r\n",
    "c = Calc()\r\n",
    "print(c.add(1,2,3,4,5,6,7,8,9,10))"
   ],
   "outputs": [
    {
     "output_type": "stream",
     "name": "stdout",
     "text": [
      "55\n"
     ]
    }
   ],
   "metadata": {}
  },
  {
   "cell_type": "markdown",
   "source": [
    "# 5. 활용 CASE: 싱글톤(Singleton)\r\n",
    "\r\n",
    "---"
   ],
   "metadata": {}
  },
  {
   "cell_type": "code",
   "execution_count": 64,
   "source": [
    "class Singleton(type):\r\n",
    "    __instances = {}\r\n",
    "    def __call__(cls, *args, **kwargs):\r\n",
    "        if cls not in cls.__instances:\r\n",
    "            cls.__instances[cls] = super().__call__(*args, **kwargs)\r\n",
    "        return cls.__instances[cls]\r\n",
    "    \r\n",
    "class Hello(metaclass=Singleton): # 메타클래스로 Singleton을 지정\r\n",
    "    def __init__(self):\r\n",
    "        self.desc = \"Hello\"\r\n",
    "\r\n",
    "a = Hello()\r\n",
    "b = Hello()\r\n",
    "print(a is b) # 주소가 같음. 같은 객체임\r\n",
    "\r\n",
    "print(a.desc, \":\" ,b.desc)\r\n",
    "a.desc = \"Hello World\"\r\n",
    "print(a.desc, \":\" ,b.desc)"
   ],
   "outputs": [
    {
     "output_type": "stream",
     "name": "stdout",
     "text": [
      "True\n",
      "Hello : Hello\n",
      "Hello World : Hello World\n"
     ]
    }
   ],
   "metadata": {}
  },
  {
   "cell_type": "markdown",
   "source": [
    "- 메타클래스와 new, init, call의 관계를 정리하자면 아래와 같다\r\n",
    "- obj == MyClass() == (MyMetaClass())()"
   ],
   "metadata": {}
  },
  {
   "cell_type": "code",
   "execution_count": 66,
   "source": [
    "class MyMetaClass(type):\r\n",
    "    def __new__(cls, *args, **kwargs):\r\n",
    "        print(\"MyMetaClass   __new__\")\r\n",
    "        return super().__new__(cls,*args,**kwargs)\r\n",
    "    \r\n",
    "    def __init__(cls, *args, **kwargs):\r\n",
    "        print(\"MyMetaClass   __init__\")\r\n",
    "        return super().__init__(*args,**kwargs)  \r\n",
    "    \r\n",
    "    def __call__(cls, *args, **kwargs):\r\n",
    "        print(\"MyMetaClass   __call__\")\r\n",
    "        return super().__call__(*args,**kwargs)\r\n",
    "    \r\n",
    "class MyClass(metaclass=MyMetaClass):\r\n",
    "    def __new__(cls,*args, **kwargs):\r\n",
    "        print('__new__가 호출되었습니다')\r\n",
    "        mycls = object.__new__(cls,*args, **kwargs)\r\n",
    "        return mycls\r\n",
    "    \r\n",
    "    def __init__(self):\r\n",
    "        print('__init__가 호출되었습니다')\r\n",
    "    \r\n",
    "    def __call__(self):\r\n",
    "        print('__call__가 호출되었습니다')\r\n",
    "        \r\n",
    "    def hello(self):\r\n",
    "        print(\"hello world\")\r\n",
    "        \r\n",
    "print(\"=\"*20)\r\n",
    "obj = MyClass()\r\n",
    "obj.hello()\r\n",
    "obj()"
   ],
   "outputs": [
    {
     "output_type": "stream",
     "name": "stdout",
     "text": [
      "MyMetaClass   __new__\n",
      "MyMetaClass   __init__\n",
      "====================\n",
      "MyMetaClass   __call__\n",
      "__new__가 호출되었습니다\n",
      "__init__가 호출되었습니다\n",
      "hello world\n",
      "__call__가 호출되었습니다\n"
     ]
    }
   ],
   "metadata": {}
  },
  {
   "cell_type": "markdown",
   "source": [],
   "metadata": {}
  }
 ],
 "metadata": {
  "orig_nbformat": 4,
  "language_info": {
   "name": "python",
   "version": "3.9.6",
   "mimetype": "text/x-python",
   "codemirror_mode": {
    "name": "ipython",
    "version": 3
   },
   "pygments_lexer": "ipython3",
   "nbconvert_exporter": "python",
   "file_extension": ".py"
  },
  "kernelspec": {
   "name": "python3",
   "display_name": "Python 3.9.6 64-bit"
  },
  "interpreter": {
   "hash": "ac59ebe37160ed0dfa835113d9b8498d9f09ceb179beaac4002f036b9467c963"
  }
 },
 "nbformat": 4,
 "nbformat_minor": 2
}
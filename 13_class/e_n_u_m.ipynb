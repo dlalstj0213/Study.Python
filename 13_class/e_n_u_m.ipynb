{
 "cells": [
  {
   "cell_type": "markdown",
   "source": [
    "# Enum 모듈, 열거형\r\n",
    "\r\n",
    "---\r\n",
    "\r\n",
    "간단한 예로 색상을 나타내는 RED, BLUE, GREEN 을 가지고 enum 클래스를 아래와 같이 작성해봤다.\r\n",
    "\r\n",
    "- 파이썬 열거형을 사용하기 위해서는 enum을 임포트 해야한다.\r\n",
    "\r\n",
    "## > 클래스 타입 정의"
   ],
   "metadata": {}
  },
  {
   "cell_type": "code",
   "execution_count": 1,
   "source": [
    "# 클래스 타입 정의\r\n",
    "from enum import Enum\r\n",
    "\r\n",
    "class Color(Enum):\r\n",
    "    RED = 1\r\n",
    "    BLUE = 2\r\n",
    "    GREEN = 3"
   ],
   "outputs": [],
   "metadata": {}
  },
  {
   "cell_type": "code",
   "execution_count": 2,
   "source": [
    "print(Color.RED)\r\n",
    "print(Color.RED.name)\r\n",
    "print(Color.RED.value)"
   ],
   "outputs": [
    {
     "output_type": "stream",
     "name": "stdout",
     "text": [
      "Color.RED\n",
      "RED\n",
      "1\n"
     ]
    }
   ],
   "metadata": {}
  },
  {
   "cell_type": "markdown",
   "source": [
    "위의 결과를 보고 알 수 있드시 enum 타입의 상수 인스턴스들은 기본적으로 name과 value 속석을 가진다.  \r\n",
    "\r\n",
    "또한 enum 타입은 순회가 가능하기 때문에 for 문으로 모든 상수를 쉽게 확인할 수 있다."
   ],
   "metadata": {}
  },
  {
   "cell_type": "code",
   "execution_count": 3,
   "source": [
    "for color in Color:\r\n",
    "    print(color)"
   ],
   "outputs": [
    {
     "output_type": "stream",
     "name": "stdout",
     "text": [
      "Color.RED\n",
      "Color.BLUE\n",
      "Color.GREEN\n"
     ]
    }
   ],
   "metadata": {}
  },
  {
   "cell_type": "markdown",
   "source": [
    "## > 함수형 타입 정의"
   ],
   "metadata": {}
  },
  {
   "cell_type": "code",
   "execution_count": 5,
   "source": [
    "# 함수형 타입 정의\r\n",
    "Color = Enum(\"Color\", \"RED BLUE GREEN\")\r\n",
    "list(Color)"
   ],
   "outputs": [
    {
     "output_type": "execute_result",
     "data": {
      "text/plain": [
       "[<Color.RED: 1>, <Color.BLUE: 2>, <Color.GREEN: 3>]"
      ]
     },
     "metadata": {},
     "execution_count": 5
    }
   ],
   "metadata": {}
  },
  {
   "cell_type": "markdown",
   "source": [
    "## > 값 자동 할당"
   ],
   "metadata": {}
  },
  {
   "cell_type": "code",
   "execution_count": 6,
   "source": [
    "from enum import Enum, auto\r\n",
    "\r\n",
    "class FrontBasicSkill(Enum):\r\n",
    "    HTML = auto()\r\n",
    "    CSS = auto()\r\n",
    "    JS = auto()"
   ],
   "outputs": [],
   "metadata": {}
  },
  {
   "cell_type": "code",
   "execution_count": 7,
   "source": [
    "list(FrontBasicSkill)"
   ],
   "outputs": [
    {
     "output_type": "execute_result",
     "data": {
      "text/plain": [
       "[<FrontBasicSkill.HTML: 1>, <FrontBasicSkill.CSS: 2>, <FrontBasicSkill.JS: 3>]"
      ]
     },
     "metadata": {},
     "execution_count": 7
    }
   ],
   "metadata": {}
  },
  {
   "cell_type": "markdown",
   "source": [
    "Enum 클래스의 `_generate_next_value_()` 메서드를 오버라이드(override)하면 숫자가 아닌 다른 값을 자동 할당할 수 있다."
   ],
   "metadata": {}
  },
  {
   "cell_type": "code",
   "execution_count": 8,
   "source": [
    "from enum import Enum, auto\r\n",
    "\r\n",
    "class FrontBasicSkill(Enum):\r\n",
    "\r\n",
    "    def _generate_next_value_(name, start, count, last_values):\r\n",
    "        return name\r\n",
    "    \r\n",
    "    HTML = auto()\r\n",
    "    CSS = auto()\r\n",
    "    JS = auto()"
   ],
   "outputs": [],
   "metadata": {}
  },
  {
   "cell_type": "code",
   "execution_count": 9,
   "source": [
    "list(FrontBasicSkill)"
   ],
   "outputs": [
    {
     "output_type": "execute_result",
     "data": {
      "text/plain": [
       "[<FrontBasicSkill.HTML: 'HTML'>,\n",
       " <FrontBasicSkill.CSS: 'CSS'>,\n",
       " <FrontBasicSkill.JS: 'JS'>]"
      ]
     },
     "metadata": {},
     "execution_count": 9
    }
   ],
   "metadata": {}
  },
  {
   "cell_type": "markdown",
   "source": [
    "## > Enum 비교"
   ],
   "metadata": {}
  },
  {
   "cell_type": "code",
   "execution_count": 13,
   "source": [
    "from enum import Enum, auto\r\n",
    "\r\n",
    "class FrontBasicSkill(Enum):\r\n",
    "    HTML = auto()\r\n",
    "    CSS = auto()\r\n",
    "    JS = auto()\r\n",
    "\r\n",
    "class Color(Enum):\r\n",
    "    RED = auto()\r\n",
    "    GREEN = auto()\r\n",
    "    BLUE = auto()"
   ],
   "outputs": [],
   "metadata": {}
  },
  {
   "cell_type": "code",
   "execution_count": 14,
   "source": [
    "print(list(Color))\r\n",
    "print(list(FrontBasicSkill))"
   ],
   "outputs": [
    {
     "output_type": "stream",
     "name": "stdout",
     "text": [
      "[<Color.RED: 1>, <Color.GREEN: 2>, <Color.BLUE: 3>]\n",
      "[<FrontBasicSkill.HTML: 1>, <FrontBasicSkill.CSS: 2>, <FrontBasicSkill.JS: 3>]\n"
     ]
    }
   ],
   "metadata": {}
  },
  {
   "cell_type": "code",
   "execution_count": 15,
   "source": [
    "Color.RED == FrontBasicSkill.HTML"
   ],
   "outputs": [
    {
     "output_type": "execute_result",
     "data": {
      "text/plain": [
       "False"
      ]
     },
     "metadata": {},
     "execution_count": 15
    }
   ],
   "metadata": {}
  },
  {
   "cell_type": "code",
   "execution_count": 16,
   "source": [
    "Color.RED == Color.GREEN"
   ],
   "outputs": [
    {
     "output_type": "execute_result",
     "data": {
      "text/plain": [
       "False"
      ]
     },
     "metadata": {},
     "execution_count": 16
    }
   ],
   "metadata": {}
  },
  {
   "cell_type": "code",
   "execution_count": 17,
   "source": [
    "Color.RED is Color.GREEN"
   ],
   "outputs": [
    {
     "output_type": "execute_result",
     "data": {
      "text/plain": [
       "False"
      ]
     },
     "metadata": {},
     "execution_count": 17
    }
   ],
   "metadata": {}
  },
  {
   "cell_type": "code",
   "execution_count": 21,
   "source": [
    "isinstance(Color.RED, Color)"
   ],
   "outputs": [
    {
     "output_type": "execute_result",
     "data": {
      "text/plain": [
       "True"
      ]
     },
     "metadata": {},
     "execution_count": 21
    }
   ],
   "metadata": {}
  },
  {
   "cell_type": "code",
   "execution_count": 22,
   "source": [
    "isinstance(Color.RED, FrontBasicSkill)"
   ],
   "outputs": [
    {
     "output_type": "execute_result",
     "data": {
      "text/plain": [
       "False"
      ]
     },
     "metadata": {},
     "execution_count": 22
    }
   ],
   "metadata": {}
  },
  {
   "cell_type": "code",
   "execution_count": 25,
   "source": [
    "Color.RED == 1"
   ],
   "outputs": [
    {
     "output_type": "execute_result",
     "data": {
      "text/plain": [
       "False"
      ]
     },
     "metadata": {},
     "execution_count": 25
    }
   ],
   "metadata": {}
  },
  {
   "cell_type": "markdown",
   "source": [
    "## > enum mix-in\r\n",
    "\r\n",
    "enum mixin(믹스인) 기법을 활용하여 str을 확장"
   ],
   "metadata": {}
  },
  {
   "cell_type": "code",
   "execution_count": 26,
   "source": [
    "from enum import Enum, auto\r\n",
    "\r\n",
    "class strEnum(str, Enum):\r\n",
    "    def __repr__(self):\r\n",
    "        return self.value\r\n",
    "    \r\n",
    "    def __str__(self):\r\n",
    "        return self.value"
   ],
   "outputs": [],
   "metadata": {}
  },
  {
   "cell_type": "code",
   "execution_count": 27,
   "source": [
    "class Color(strEnum):\r\n",
    "    RED = auto()\r\n",
    "    BLUE = auto()\r\n",
    "    GREEN = auto()"
   ],
   "outputs": [],
   "metadata": {}
  },
  {
   "cell_type": "code",
   "execution_count": 44,
   "source": [
    "print(Color.BLUE)"
   ],
   "outputs": [
    {
     "output_type": "stream",
     "name": "stdout",
     "text": [
      "Color.BLUE\n"
     ]
    }
   ],
   "metadata": {}
  },
  {
   "cell_type": "code",
   "execution_count": 31,
   "source": [
    "# 주의 : mix-in 기법은 name이나 value 사용을 건너뛸 수 있기 때문에 편리해보이지만,\r\n",
    "# 아래의 코드와 같이 다른 객체와 비교시 값이 같으면 True를 반환한다.\r\n",
    "Color.BLUE == \"2\""
   ],
   "outputs": [
    {
     "output_type": "execute_result",
     "data": {
      "text/plain": [
       "True"
      ]
     },
     "metadata": {},
     "execution_count": 31
    }
   ],
   "metadata": {}
  },
  {
   "cell_type": "markdown",
   "source": [
    "## > Enum 확장\r\n",
    "\r\n",
    "Enum 클래스는 다른 일반 클래스처럼 다양하게 확장 가능하다."
   ],
   "metadata": {}
  },
  {
   "cell_type": "code",
   "execution_count": 94,
   "source": [
    "from enum import Enum, auto\r\n",
    "\r\n",
    "class Color(Enum):\r\n",
    "    RED = (\"RED\", \"#FF0000\")\r\n",
    "    BLUE = (\"BLUE\", \"#0000FF\")\r\n",
    "    GREEN = (\"GREEN\", \"#00FF00\")\r\n",
    "\r\n",
    "\r\n",
    "    def __init__(self, keyword, hex_code):\r\n",
    "        self.keyword = keyword\r\n",
    "        self.hex_code = hex_code\r\n",
    "\r\n",
    "    @classmethod\r\n",
    "    def get_most_popular(cls):\r\n",
    "        return cls.RED\r\n",
    "\r\n",
    "    def lower_hex(self):\r\n",
    "        return self.hex_code.lower()"
   ],
   "outputs": [],
   "metadata": {}
  },
  {
   "cell_type": "code",
   "execution_count": 95,
   "source": [
    "Color.RED.value"
   ],
   "outputs": [
    {
     "output_type": "execute_result",
     "data": {
      "text/plain": [
       "('RED', '#FF0000')"
      ]
     },
     "metadata": {},
     "execution_count": 95
    }
   ],
   "metadata": {}
  },
  {
   "cell_type": "code",
   "execution_count": 96,
   "source": [
    "Color.RED.keyword"
   ],
   "outputs": [
    {
     "output_type": "execute_result",
     "data": {
      "text/plain": [
       "'RED'"
      ]
     },
     "metadata": {},
     "execution_count": 96
    }
   ],
   "metadata": {}
  },
  {
   "cell_type": "code",
   "execution_count": 97,
   "source": [
    "Color.BLUE.hex_code"
   ],
   "outputs": [
    {
     "output_type": "execute_result",
     "data": {
      "text/plain": [
       "'#0000FF'"
      ]
     },
     "metadata": {},
     "execution_count": 97
    }
   ],
   "metadata": {}
  },
  {
   "cell_type": "code",
   "execution_count": 98,
   "source": [
    "Color.get_most_popular()"
   ],
   "outputs": [
    {
     "output_type": "execute_result",
     "data": {
      "text/plain": [
       "<Color.RED: ('RED', '#FF0000')>"
      ]
     },
     "metadata": {},
     "execution_count": 98
    }
   ],
   "metadata": {}
  },
  {
   "cell_type": "code",
   "execution_count": 99,
   "source": [
    "Color.GREEN.lower_hex()"
   ],
   "outputs": [
    {
     "output_type": "execute_result",
     "data": {
      "text/plain": [
       "'#00ff00'"
      ]
     },
     "metadata": {},
     "execution_count": 99
    }
   ],
   "metadata": {}
  },
  {
   "cell_type": "markdown",
   "source": [
    "# 그 외 필요한 내용은 파이썬 공식 문서를 통해 알아볼 것 : [docs.python.org [enum]](https://docs.python.org/ko/3/library/enum.html)"
   ],
   "metadata": {}
  }
 ],
 "metadata": {
  "orig_nbformat": 4,
  "language_info": {
   "name": "python",
   "version": "3.9.6",
   "mimetype": "text/x-python",
   "codemirror_mode": {
    "name": "ipython",
    "version": 3
   },
   "pygments_lexer": "ipython3",
   "nbconvert_exporter": "python",
   "file_extension": ".py"
  },
  "kernelspec": {
   "name": "python3",
   "display_name": "Python 3.9.6 64-bit"
  },
  "interpreter": {
   "hash": "ac59ebe37160ed0dfa835113d9b8498d9f09ceb179beaac4002f036b9467c963"
  }
 },
 "nbformat": 4,
 "nbformat_minor": 2
}
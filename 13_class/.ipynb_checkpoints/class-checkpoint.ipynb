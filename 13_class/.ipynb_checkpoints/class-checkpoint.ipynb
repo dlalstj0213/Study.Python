{
 "cells": [
  {
   "cell_type": "markdown",
   "id": "8a968a04-268e-4ca6-b64d-65d5936a9b2b",
   "metadata": {},
   "source": [
    "# 클래스 사용\n",
    "\n",
    "\n",
    "# 클래스 인스턴스 확인\n",
    "\n",
    "---\n",
    "\n",
    "## isinstance()\n",
    "\n",
    "isinstance(): 해당 객체가 어떤 클래스로부터 만들어졌는지 확인할 수 있는 함수\n",
    "\n",
    "사용법\n",
    "```\n",
    "isinstance(인스턴스, 클래스) # return True/False\n",
    "```"
   ]
  },
  {
   "cell_type": "code",
   "execution_count": 1,
   "id": "43fd96b4-adec-4ea9-a355-da673727e5b3",
   "metadata": {},
   "outputs": [],
   "source": [
    "class Student:\n",
    "    def __init__(self):\n",
    "        pass\n",
    "    \n",
    "class Teacher:\n",
    "    def __init__(self):\n",
    "        pass"
   ]
  },
  {
   "cell_type": "code",
   "execution_count": 3,
   "id": "896a0956-a839-4566-a578-71575478193e",
   "metadata": {},
   "outputs": [
    {
     "name": "stdout",
     "output_type": "stream",
     "text": [
      "isinstance(student, Student) ? True\n",
      "isinstance(teacher, Teacher) ? True\n",
      "isinstance(teacher, Student) ? False\n",
      "isinstance(student, Teacher) ? False\n"
     ]
    }
   ],
   "source": [
    "student = Student()\n",
    "teacher = Teacher()\n",
    "\n",
    "print('isinstance(student, Student) ?', isinstance(student, Student))\n",
    "print('isinstance(teacher, Teacher) ?', isinstance(teacher, Teacher))\n",
    "print('isinstance(teacher, Student) ?', isinstance(teacher, Student))\n",
    "print('isinstance(student, Teacher) ?', isinstance(student, Teacher))"
   ]
  },
  {
   "cell_type": "markdown",
   "id": "cc589fc3-b87f-4d9a-8791-b9561574be5f",
   "metadata": {},
   "source": [
    "## isinstance() AND type()\n",
    "\n",
    "단순한 인스턴스 확인 방법으로 `type() ==` 구문을 통해 확인이 가능하다.  \n",
    "\n",
    "        type(student) == Student  \n",
    "\n",
    "다만 상속의 개념에서는 이 구문의 차이가 발생한다."
   ]
  },
  {
   "cell_type": "code",
   "execution_count": 8,
   "id": "4abc3552-859d-4c91-9756-43ee9a2d96f5",
   "metadata": {},
   "outputs": [],
   "source": [
    "class Human:\n",
    "    def __init__(self):\n",
    "        pass\n",
    "class Student(Human): # Human 클래스 상속\n",
    "    def __init__(self):\n",
    "        pass\n",
    "    \n",
    "student = Student()"
   ]
  },
  {
   "cell_type": "markdown",
   "id": "7a474f62-4453-4130-8b26-0198741bcb2d",
   "metadata": {},
   "source": [
    "위의 코드에서 Student 클래스는 Human 클래스를 상속 받고 있다.  \n",
    "isinstance()로 인스턴스를 확인하면 상속관계까지 확인하는 것을 알 수 있다.  \n",
    "isinstance()와 반대로 `type() == `구문은 상속관계를 확인하지 않는다."
   ]
  },
  {
   "cell_type": "code",
   "execution_count": 9,
   "id": "2ddb3f61-1531-4670-8954-4376b3e3ae33",
   "metadata": {},
   "outputs": [
    {
     "name": "stdout",
     "output_type": "stream",
     "text": [
      "isinstance(student, Human) ? True\n"
     ]
    }
   ],
   "source": [
    "# isinstance()로 상속관계까지 확인\n",
    "print('isinstance(student, Human) ?', isinstance(student, Human))"
   ]
  },
  {
   "cell_type": "code",
   "execution_count": 10,
   "id": "765c6e28-5c18-4d41-b35a-e5362dec9280",
   "metadata": {},
   "outputs": [
    {
     "name": "stdout",
     "output_type": "stream",
     "text": [
      "type(student) == Human ? False\n"
     ]
    }
   ],
   "source": [
    "# type() == 은 상속관계까지 확인하지 않음\n",
    "print('type(student) == Human ?', type(student) == Human)"
   ]
  },
  {
   "cell_type": "markdown",
   "id": "18652235-9a26-4ebe-ac23-fd30d21be506",
   "metadata": {},
   "source": [
    "# 특수한 이름의 메소드\n",
    "\n",
    "---\n",
    "\n",
    "클래스는 기본적으로 내장되어 있는 특수한 이름의 메소드가 존재한다.  \n",
    "예를 들어 `__init_subclass__, __le__, __ne__, __new__, ...` 등 다양하게 있다.  \n",
    "이는 파이썬이 클래스를 사용할 때 기본적으로 제공해주는 보조 기능이다.  \n",
    "그리고 이러한 메소드는 특수한 상황에 자동으로 호출되도록 만들어졌다.\n",
    "\n",
    "## `__str__`과 `str()`"
   ]
  },
  {
   "cell_type": "code",
   "execution_count": 11,
   "id": "de873b28-ed81-4125-9464-40b1b1090192",
   "metadata": {},
   "outputs": [],
   "source": [
    "class Student:\n",
    "    def __init__(self, name, score):\n",
    "        self.name = name\n",
    "        self.score = score\n",
    "    def __str__(self):\n",
    "        return '{}\\t{}'.format(self.name, self.score)\n",
    "\n",
    "students = [\n",
    "    Student(\"김길동\", 80),\n",
    "    Student(\"이길동\", 85),\n",
    "    Student(\"박길동\", 75),\n",
    "    Student(\"최길동\", 90),\n",
    "    Student(\"방길동\", 95),\n",
    "    Student(\"정길동\", 70)\n",
    "]"
   ]
  },
  {
   "cell_type": "code",
   "execution_count": 12,
   "id": "3bc269fe-2eec-4180-9132-14a0aafb3df6",
   "metadata": {},
   "outputs": [
    {
     "name": "stdout",
     "output_type": "stream",
     "text": [
      "이름\t점수\n",
      "김길동\t80\n",
      "이길동\t85\n",
      "박길동\t75\n",
      "최길동\t90\n",
      "방길동\t95\n",
      "정길동\t70\n"
     ]
    }
   ],
   "source": [
    "print(\"이름\", \"점수\", sep=\"\\t\")\n",
    "for student in students:\n",
    "    print(str(student))"
   ]
  },
  {
   "cell_type": "markdown",
   "id": "52557281-3c06-4738-9666-8db9d3859ebb",
   "metadata": {},
   "source": [
    "## 특수한 메소드: 크기 비교 함수\n",
    "\n",
    "|이름|영어|설명|\n",
    "|---|---|---|\n",
    "|`__eq__`|equal|같다|\n",
    "|`__ne__`|not equal|다르다|\n",
    "|`__gt__`|greater than|크다|\n",
    "|`__ge__`|greater than or equal|크거나 같다|\n",
    "|`__lt__`|less than|작다|\n",
    "|`__le__`|less than or equal|작거나 같다|"
   ]
  },
  {
   "cell_type": "code",
   "execution_count": 19,
   "id": "4c5cb81b-2eb2-4892-a5bc-19615cd8b31d",
   "metadata": {},
   "outputs": [],
   "source": [
    "class Student:\n",
    "    def __init__(self, name, korean, math, english, science):\n",
    "        self.name = name\n",
    "        self.korean = korean\n",
    "        self.math = math\n",
    "        self.english = english\n",
    "        self.science = science\n",
    "    \n",
    "    def get_sum(self):\n",
    "        return self.korean + self.math + \\\n",
    "            self.english + self.science\n",
    "    \n",
    "    def __eq__(self, other):\n",
    "        return self.get_sum() == other.get_sum()\n",
    "    \n",
    "    def __ne__(self, other):\n",
    "        return self.get_sum() != other.get_sum()\n",
    "    \n",
    "    def __gt__(self, other):\n",
    "        return self.get_sum() > other.get_sum()\n",
    "    \n",
    "    def __ge__(self, other):\n",
    "        return self.get_sum() >= other.get_sum()\n",
    "    \n",
    "    def __lt__(self, other):\n",
    "        return self.get_sum() < other.get_sum()\n",
    "    \n",
    "    def __le__(self, other):\n",
    "        return self.get_sum() <= other.get_sum()"
   ]
  },
  {
   "cell_type": "code",
   "execution_count": 20,
   "id": "ccfc4662-8547-469d-9698-88c494bce58b",
   "metadata": {},
   "outputs": [
    {
     "name": "stdout",
     "output_type": "stream",
     "text": [
      "michael == james ? False\n",
      "michael != james ? True\n",
      "michael > james ? True\n",
      "michael >= james ? True\n",
      "michael < james ? False\n",
      "michael <= james ? False\n"
     ]
    }
   ],
   "source": [
    "michael = Student(\"Michael\", 80, 81, 82, 83)\n",
    "james = Student(\"James\", 70, 71, 72, 73)\n",
    "\n",
    "print(\"michael total ?\", michael.get_sum())\n",
    "print(\"james total ?\", james.get_sum())\n",
    "print(\"michael == james ?\", michael == james)\n",
    "print(\"michael != james ?\", michael != james)\n",
    "print(\"michael > james ?\", michael > james)\n",
    "print(\"michael >= james ?\", michael >= james)\n",
    "print(\"michael < james ?\", michael < james)\n",
    "print(\"michael <= james ?\", michael <= james)"
   ]
  },
  {
   "cell_type": "code",
   "execution_count": null,
   "id": "05427647-124a-4604-a0cf-8901ad8f85da",
   "metadata": {},
   "outputs": [],
   "source": []
  }
 ],
 "metadata": {
  "kernelspec": {
   "display_name": "Python 3 (ipykernel)",
   "language": "python",
   "name": "python3"
  },
  "language_info": {
   "codemirror_mode": {
    "name": "ipython",
    "version": 3
   },
   "file_extension": ".py",
   "mimetype": "text/x-python",
   "name": "python",
   "nbconvert_exporter": "python",
   "pygments_lexer": "ipython3",
   "version": "3.9.6"
  }
 },
 "nbformat": 4,
 "nbformat_minor": 5
}

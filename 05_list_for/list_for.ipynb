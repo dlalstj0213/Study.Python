{
 "cells": [
  {
   "cell_type": "markdown",
   "id": "e7291830-7613-434c-8ab9-e7999c597d53",
   "metadata": {},
   "source": [
    "## 목차\n",
    "\n",
    "- [리스트와 반복문]()\n",
    "    - [선언]()\n",
    "    - [인덱스]()\n",
    "    - [다차원 리스트]()\n",
    "    - [리스트 연산자]()\n",
    "    - [리스트 요소 추가]()\n",
    "    - [리스트 요소 제거]()\n",
    "    - [`in`/`not in` 연산자]()\n",
    "    - [for 반복문과 함께 리스트 사용해보기]()\n",
    "- [딕셔너리와 반복문]()\n",
    "    - [선언]()\n",
    "    - [접근 방법]()\n",
    "    - [딕셔너리 값 추가/제거]()\n",
    "    - [KeyError 예외]()\n",
    "    - [딕셔너리 내부의 키 확인]()\n",
    "    - [for 반복문과 함께 딕셔너리 사용해보기]()\n",
    "- [반복문과 while 반복문]()\n",
    "    - [범위 `range()`]()\n",
    "    - [for 반복문: 리스트와 범위 조합 (오름차순 반복)]()\n",
    "    - [for 반복문: 리스트와 범위 조합 (내림차순 반복)]()\n",
    "    - [while 반복문]()\n",
    "        - [상태를 기반으로 반복]()\n",
    "        - [시간을 기반으로 반복]()\n",
    "    - [`break` 키워드 / `continue` 키워드]()\n",
    "    - [삼항 연산식 활용]()\n",
    "- [문자열, 리스트, 딕셔너리와 관련된 기본 함수]()\n",
    "    - [리스트에 적용할 수 있는 기본 함수: `min()`, `max()`, `sum()`]()\n",
    "    - [리스트 뒤집기: `reversed()`]()\n",
    "    - [리스트 뒤집기: 확장 슬라이싱 `[::-1]`]()\n",
    "    - [`enumerate()` 함수와 반복문 조합]()\n",
    "    - [딕셔너리 items() 함수와 반복문 조합]()\n",
    "    - [구문 내부에 여러 줄 문자열을 사용했을 때의 문제점]()\n",
    "    - [이터레이터 `iterator`]()\n",
    "\n",
    "---\n",
    "\n",
    "# 리스트와 반복문\n",
    "\n",
    "---\n",
    "\n",
    "- '자료를 저장 할 수 있는 자료'\n",
    "\n",
    "## 선언\n",
    "\n",
    "- 숫자만으로 구성된 리스트"
   ]
  },
  {
   "cell_type": "code",
   "execution_count": 41,
   "id": "2a3c755f-939c-4f21-a43b-4a859b4eae50",
   "metadata": {},
   "outputs": [
    {
     "data": {
      "text/plain": [
       "[1, 2, 3, 4, 5]"
      ]
     },
     "execution_count": 41,
     "metadata": {},
     "output_type": "execute_result"
    }
   ],
   "source": [
    "list_a = [1, 2, 3, 4, 5]\n",
    "list_a"
   ]
  },
  {
   "cell_type": "markdown",
   "id": "14703e41-c2aa-42aa-a30a-f46fd9658ad5",
   "metadata": {},
   "source": [
    "- 문자열만으로 구성된 리스트"
   ]
  },
  {
   "cell_type": "code",
   "execution_count": 42,
   "id": "a951f01f-e425-4075-919d-baf28cb552a7",
   "metadata": {},
   "outputs": [
    {
     "data": {
      "text/plain": [
       "['A', 'B', 'C', 'D', 'E']"
      ]
     },
     "execution_count": 42,
     "metadata": {},
     "output_type": "execute_result"
    }
   ],
   "source": [
    "list_b = ['A', 'B', 'C', 'D', 'E']\n",
    "list_b"
   ]
  },
  {
   "cell_type": "markdown",
   "id": "b569cffc-16ad-446b-8f52-63f5dfa848a4",
   "metadata": {},
   "source": [
    "- 여러 자료형으로 구성된 리스트"
   ]
  },
  {
   "cell_type": "code",
   "execution_count": 43,
   "id": "8d617f4d-4657-4550-8968-de0afdbb80c3",
   "metadata": {},
   "outputs": [
    {
     "data": {
      "text/plain": [
       "[1, 2, 'A', 'B', True, False]"
      ]
     },
     "execution_count": 43,
     "metadata": {},
     "output_type": "execute_result"
    }
   ],
   "source": [
    "list_c = [1, 2, 'A', 'B', True, False]\n",
    "list_c"
   ]
  },
  {
   "cell_type": "markdown",
   "id": "940df35c-3604-4488-ba81-ca15e8285d5d",
   "metadata": {},
   "source": [
    "## 인덱스(Index)\n",
    "\n",
    "- 해당 인덱스의 요소 선택하기"
   ]
  },
  {
   "cell_type": "code",
   "execution_count": 44,
   "id": "4e197d3c-d2d7-421a-bb03-beb1c4570630",
   "metadata": {},
   "outputs": [
    {
     "data": {
      "text/plain": [
       "123"
      ]
     },
     "execution_count": 44,
     "metadata": {},
     "output_type": "execute_result"
    }
   ],
   "source": [
    "list_idx = [123, 456, 789, 1000]\n",
    "list_idx[0]"
   ]
  },
  {
   "cell_type": "code",
   "execution_count": 45,
   "id": "6ecf814e-623f-4e0f-8b9f-20c4516e59e0",
   "metadata": {},
   "outputs": [
    {
     "data": {
      "text/plain": [
       "456"
      ]
     },
     "execution_count": 45,
     "metadata": {},
     "output_type": "execute_result"
    }
   ],
   "source": [
    "list_idx[1]"
   ]
  },
  {
   "cell_type": "code",
   "execution_count": 46,
   "id": "fa2b75fe-b305-461f-b400-ef6da622d7d3",
   "metadata": {},
   "outputs": [
    {
     "data": {
      "text/plain": [
       "789"
      ]
     },
     "execution_count": 46,
     "metadata": {},
     "output_type": "execute_result"
    }
   ],
   "source": [
    "list_idx[2]"
   ]
  },
  {
   "cell_type": "code",
   "execution_count": 47,
   "id": "340cbc8d-0c3c-4894-bbf7-aca4161fb439",
   "metadata": {},
   "outputs": [
    {
     "data": {
      "text/plain": [
       "[456, 789]"
      ]
     },
     "execution_count": 47,
     "metadata": {},
     "output_type": "execute_result"
    }
   ],
   "source": [
    "list_idx[1:3]"
   ]
  },
  {
   "cell_type": "code",
   "execution_count": 48,
   "id": "d2c2b56d-4b0f-4d4c-8ee1-c237dfa4e6b7",
   "metadata": {},
   "outputs": [
    {
     "data": {
      "text/plain": [
       "1000"
      ]
     },
     "execution_count": 48,
     "metadata": {},
     "output_type": "execute_result"
    }
   ],
   "source": [
    "list_idx[-1]"
   ]
  },
  {
   "cell_type": "code",
   "execution_count": 49,
   "id": "a3912260-e48e-4430-ab2b-d6d5a517cf9a",
   "metadata": {},
   "outputs": [
    {
     "data": {
      "text/plain": [
       "789"
      ]
     },
     "execution_count": 49,
     "metadata": {},
     "output_type": "execute_result"
    }
   ],
   "source": [
    "list_idx[-2]"
   ]
  },
  {
   "cell_type": "markdown",
   "id": "2e9bdeb9-0019-44bf-85ed-a0b98a7fee09",
   "metadata": {},
   "source": [
    "- 해당 인덱스의 요소 변경하기"
   ]
  },
  {
   "cell_type": "code",
   "execution_count": 50,
   "id": "4ed550e6-9f64-466a-90ab-b0d7cbb2ea1c",
   "metadata": {},
   "outputs": [
    {
     "data": {
      "text/plain": [
       "[123, 456, 789, 1000]"
      ]
     },
     "execution_count": 50,
     "metadata": {},
     "output_type": "execute_result"
    }
   ],
   "source": [
    "list_idx"
   ]
  },
  {
   "cell_type": "code",
   "execution_count": 51,
   "id": "536175c4-b57e-4680-89d1-db5eac6fc813",
   "metadata": {},
   "outputs": [
    {
     "data": {
      "text/plain": [
       "[123, '변경', 789, 1000]"
      ]
     },
     "execution_count": 51,
     "metadata": {},
     "output_type": "execute_result"
    }
   ],
   "source": [
    "list_idx[1] = '변경'\n",
    "list_idx"
   ]
  },
  {
   "cell_type": "code",
   "execution_count": 52,
   "id": "ff6d4f66-2254-4190-b423-3357b09bc0dc",
   "metadata": {},
   "outputs": [
    {
     "data": {
      "text/plain": [
       "[123, '변경', '변경-1', '변경-2']"
      ]
     },
     "execution_count": 52,
     "metadata": {},
     "output_type": "execute_result"
    }
   ],
   "source": [
    "list_idx[2:4] = ['변경-1', '변경-2']\n",
    "list_idx"
   ]
  },
  {
   "cell_type": "code",
   "execution_count": 59,
   "id": "e320f859-6ef7-4b3d-b56c-3d224f5f1a2d",
   "metadata": {},
   "outputs": [
    {
     "data": {
      "text/plain": [
       "'경'"
      ]
     },
     "execution_count": 59,
     "metadata": {},
     "output_type": "execute_result"
    }
   ],
   "source": [
    "list_idx[2][1]"
   ]
  },
  {
   "cell_type": "markdown",
   "id": "28c24202-b453-477d-9272-fdfe88628c08",
   "metadata": {},
   "source": [
    "## 다차원 리스트"
   ]
  },
  {
   "cell_type": "code",
   "execution_count": 58,
   "id": "236e947e-e2d4-47a0-8eaf-9395e429913a",
   "metadata": {},
   "outputs": [
    {
     "data": {
      "text/plain": [
       "[[1, 2, 3], [4, 5, 6], [7, 8, 9]]"
      ]
     },
     "execution_count": 58,
     "metadata": {},
     "output_type": "execute_result"
    }
   ],
   "source": [
    "list_a = [[1, 2, 3], [4, 5, 6], [7, 8, 9]]\n",
    "list_a"
   ]
  },
  {
   "cell_type": "code",
   "execution_count": 60,
   "id": "8fd94ebc-2a3c-4a63-8376-f986f90cc5d2",
   "metadata": {},
   "outputs": [
    {
     "data": {
      "text/plain": [
       "[4, 5, 6]"
      ]
     },
     "execution_count": 60,
     "metadata": {},
     "output_type": "execute_result"
    }
   ],
   "source": [
    "list_a[1]"
   ]
  },
  {
   "cell_type": "code",
   "execution_count": 61,
   "id": "6366ca6b-be0d-4664-b160-7f2038a03ca6",
   "metadata": {},
   "outputs": [
    {
     "data": {
      "text/plain": [
       "5"
      ]
     },
     "execution_count": 61,
     "metadata": {},
     "output_type": "execute_result"
    }
   ],
   "source": [
    "list_a[1][1]"
   ]
  },
  {
   "cell_type": "markdown",
   "id": "a35f4fa7-1104-4ec7-90c9-72f091a6b8c5",
   "metadata": {},
   "source": [
    "## 리스트 연산자"
   ]
  },
  {
   "cell_type": "code",
   "execution_count": 70,
   "id": "cf139711-f54e-494e-a736-c01548f73427",
   "metadata": {},
   "outputs": [],
   "source": [
    "list_a = [1, 2, 3]\n",
    "list_b = [4, 5, 6]"
   ]
  },
  {
   "cell_type": "markdown",
   "id": "abfe5b86-84f3-4635-8f67-dd91a842abf7",
   "metadata": {},
   "source": [
    "- 연결 (+)"
   ]
  },
  {
   "cell_type": "code",
   "execution_count": 71,
   "id": "d2ff92ab-2d93-425e-b187-99b75ed627f8",
   "metadata": {},
   "outputs": [
    {
     "data": {
      "text/plain": [
       "[1, 2, 3, 4, 5, 6]"
      ]
     },
     "execution_count": 71,
     "metadata": {},
     "output_type": "execute_result"
    }
   ],
   "source": [
    "list_a + list_b"
   ]
  },
  {
   "cell_type": "markdown",
   "id": "94d436f7-e23f-499c-a6b3-3c5d0a5d3307",
   "metadata": {},
   "source": [
    "- 반복(*)"
   ]
  },
  {
   "cell_type": "code",
   "execution_count": 72,
   "id": "952610a6-2fd3-4d2e-8691-01fc5b957ad0",
   "metadata": {},
   "outputs": [
    {
     "data": {
      "text/plain": [
       "[1, 2, 3, 1, 2, 3, 1, 2, 3]"
      ]
     },
     "execution_count": 72,
     "metadata": {},
     "output_type": "execute_result"
    }
   ],
   "source": [
    "list_a * 3"
   ]
  },
  {
   "cell_type": "markdown",
   "id": "429e055b-605a-4e1d-93c1-f738820b334f",
   "metadata": {},
   "source": [
    "- len()"
   ]
  },
  {
   "cell_type": "code",
   "execution_count": 74,
   "id": "00d6a08d-000e-4a7f-8371-4bef467790a9",
   "metadata": {},
   "outputs": [
    {
     "data": {
      "text/plain": [
       "3"
      ]
     },
     "execution_count": 74,
     "metadata": {},
     "output_type": "execute_result"
    }
   ],
   "source": [
    "len(list_a)"
   ]
  },
  {
   "cell_type": "markdown",
   "id": "a4166998-c083-426c-a31a-3c8a0bb0b9ca",
   "metadata": {},
   "source": [
    "## 리스트 요소 추가\n",
    "\n",
    "- **append()**\n",
    "    - ex) `변수.append(추가할 요소)`\n",
    "\n",
    "리스트 뒤에 요소를 추가"
   ]
  },
  {
   "cell_type": "code",
   "execution_count": 82,
   "id": "95426f4d-a0d3-4d9c-98cf-4c5e7d5fe48d",
   "metadata": {},
   "outputs": [
    {
     "data": {
      "text/plain": [
       "[1, 2, 3, 4, 5, 6]"
      ]
     },
     "execution_count": 82,
     "metadata": {},
     "output_type": "execute_result"
    }
   ],
   "source": [
    "len_a = [1, 2, 3, 4, 5]\n",
    "len_a.append(6)\n",
    "len_a"
   ]
  },
  {
   "cell_type": "markdown",
   "id": "6c2e02ac-4dc7-4956-8d92-36df5254c0f0",
   "metadata": {},
   "source": [
    "- **insert()**\n",
    "    - ex) `변수.insert(위치, 추가할 요소)`\n",
    "\n",
    "리스트 중간에 요소를 추가"
   ]
  },
  {
   "cell_type": "code",
   "execution_count": 83,
   "id": "ee508c35-7d3a-4def-8f4c-c5b1f0f55569",
   "metadata": {},
   "outputs": [
    {
     "data": {
      "text/plain": [
       "[1, 'A', 2, 3, 4, 5]"
      ]
     },
     "execution_count": 83,
     "metadata": {},
     "output_type": "execute_result"
    }
   ],
   "source": [
    "len_a = [1, 2, 3, 4, 5]\n",
    "len_a.insert(1, 'A')\n",
    "len_a"
   ]
  },
  {
   "cell_type": "markdown",
   "id": "d27e3332-1e1a-4b28-8d52-7d819ffaf210",
   "metadata": {},
   "source": [
    "- **extend()**\n",
    "    - ex) `변수.extend(추가할 리스트)`\n",
    "\n",
    "한 번에 여러 요소를 추가"
   ]
  },
  {
   "cell_type": "code",
   "execution_count": 85,
   "id": "c381e495-7f08-4118-beaa-ef1495f1413c",
   "metadata": {},
   "outputs": [
    {
     "data": {
      "text/plain": [
       "[1, 2, 3, 4, 5, 6]"
      ]
     },
     "execution_count": 85,
     "metadata": {},
     "output_type": "execute_result"
    }
   ],
   "source": [
    "len_a = [1, 2, 3]\n",
    "len_a.extend([4, 5, 6])\n",
    "len_a"
   ]
  },
  {
   "cell_type": "markdown",
   "id": "7346c710-0e91-4a63-9b71-001b9cd00e4a",
   "metadata": {},
   "source": [
    "## 리스트 요소 제거\n",
    "\n",
    "### 인덱스로 제거 `del, pop`\n",
    "\n",
    "- **del 키워드**\n",
    "    - ex) `del 리스트명[인덱스]`"
   ]
  },
  {
   "cell_type": "code",
   "execution_count": 86,
   "id": "c3883c9d-f307-4c4c-b3dc-115991eb36d7",
   "metadata": {},
   "outputs": [
    {
     "data": {
      "text/plain": [
       "[1, 3, 4, 5]"
      ]
     },
     "execution_count": 86,
     "metadata": {},
     "output_type": "execute_result"
    }
   ],
   "source": [
    "list_a = [1, 2, 3, 4, 5]\n",
    "del list_a[1]\n",
    "list_a"
   ]
  },
  {
   "cell_type": "markdown",
   "id": "efa5ffe6-fc5a-42d3-bca5-67dbcb0d19fd",
   "metadata": {},
   "source": [
    "- **pop()**\n",
    "    - ex) `리스트명.pop(인덱스)`"
   ]
  },
  {
   "cell_type": "code",
   "execution_count": 87,
   "id": "1794fd97-02ec-47f9-ad6b-044d74b30c86",
   "metadata": {},
   "outputs": [
    {
     "data": {
      "text/plain": [
       "[1, 3, 4, 5]"
      ]
     },
     "execution_count": 87,
     "metadata": {},
     "output_type": "execute_result"
    }
   ],
   "source": [
    "list_a = [1, 2, 3, 4, 5]\n",
    "list_a.pop(1)\n",
    "list_a"
   ]
  },
  {
   "cell_type": "markdown",
   "id": "6b84ff51-12a8-4dc8-80f4-0e9dd8d6c805",
   "metadata": {},
   "source": [
    "> `pop()`은 매개변수에 아무 것도 입력되지 않으면 자동으로 -1으로 들어가는 것으로 취급해서 마지막 요소를 제거한다."
   ]
  },
  {
   "cell_type": "markdown",
   "id": "3d127e6a-2312-48a1-b9d0-962a51604210",
   "metadata": {},
   "source": [
    "### 값으로 제거 `remove`\n",
    "\n",
    "- remove()\n",
    "    - ex) `리스트명.remove(값)`"
   ]
  },
  {
   "cell_type": "code",
   "execution_count": 90,
   "id": "2d330233-cbf9-41f9-9580-47a87a264c87",
   "metadata": {},
   "outputs": [
    {
     "data": {
      "text/plain": [
       "[1, 2, 4, 5]"
      ]
     },
     "execution_count": 90,
     "metadata": {},
     "output_type": "execute_result"
    }
   ],
   "source": [
    "list_a = [1, 2, 3, 4, 5]\n",
    "list_a.remove(3)\n",
    "list_a"
   ]
  },
  {
   "cell_type": "markdown",
   "id": "5a1d34b2-97d7-4749-959f-21f508ad18a4",
   "metadata": {},
   "source": [
    "> remove() 함수는 지저한 값이 리스트 내부에 여러 개 있어도 가장 먼저 발견되는 하나만 제거한다."
   ]
  },
  {
   "cell_type": "code",
   "execution_count": 93,
   "id": "c84256a7-d1ec-4733-be82-f89de2734114",
   "metadata": {},
   "outputs": [
    {
     "data": {
      "text/plain": [
       "[1, 1, 2]"
      ]
     },
     "execution_count": 93,
     "metadata": {},
     "output_type": "execute_result"
    }
   ],
   "source": [
    "list_a = [1, 2, 1, 2]\n",
    "list_a.remove(2)\n",
    "list_a"
   ]
  },
  {
   "cell_type": "markdown",
   "id": "ee9545bc-c4d5-4c37-9d17-66ecd1ad82a4",
   "metadata": {},
   "source": [
    "> 매개변수 값이 해당 리스트 요소 값이랑 매치되는게 없다면 `ValueError`를 발생시킨다."
   ]
  },
  {
   "cell_type": "code",
   "execution_count": 96,
   "id": "9fea5e57-baff-4d64-8699-3b7e715c86ae",
   "metadata": {},
   "outputs": [
    {
     "ename": "ValueError",
     "evalue": "list.remove(x): x not in list",
     "output_type": "error",
     "traceback": [
      "\u001b[1;31m---------------------------------------------------------------------------\u001b[0m",
      "\u001b[1;31mValueError\u001b[0m                                Traceback (most recent call last)",
      "\u001b[1;32m~\\AppData\\Local\\Temp/ipykernel_27424/1079770346.py\u001b[0m in \u001b[0;36m<module>\u001b[1;34m\u001b[0m\n\u001b[0;32m      1\u001b[0m \u001b[0mlist_a\u001b[0m \u001b[1;33m=\u001b[0m \u001b[1;33m[\u001b[0m\u001b[1;36m1\u001b[0m\u001b[1;33m,\u001b[0m \u001b[1;36m2\u001b[0m\u001b[1;33m,\u001b[0m \u001b[1;36m3\u001b[0m\u001b[1;33m]\u001b[0m\u001b[1;33m\u001b[0m\u001b[1;33m\u001b[0m\u001b[0m\n\u001b[1;32m----> 2\u001b[1;33m \u001b[0mlist_a\u001b[0m\u001b[1;33m.\u001b[0m\u001b[0mremove\u001b[0m\u001b[1;33m(\u001b[0m\u001b[1;36m4\u001b[0m\u001b[1;33m)\u001b[0m\u001b[1;33m\u001b[0m\u001b[1;33m\u001b[0m\u001b[0m\n\u001b[0m",
      "\u001b[1;31mValueError\u001b[0m: list.remove(x): x not in list"
     ]
    }
   ],
   "source": [
    "list_a = [1, 2, 3]\n",
    "list_a.remove(4)"
   ]
  },
  {
   "cell_type": "markdown",
   "id": "c160bfb3-8fce-4fb5-b968-a39ac366a7f9",
   "metadata": {},
   "source": [
    "### 모두 제거 `clear`\n",
    "\n",
    "- clear()\n",
    "    - ex) `리스트명.clear()`"
   ]
  },
  {
   "cell_type": "code",
   "execution_count": 97,
   "id": "c60964a9-5ad5-4678-be84-4d74c583cb3b",
   "metadata": {},
   "outputs": [
    {
     "data": {
      "text/plain": [
       "[]"
      ]
     },
     "execution_count": 97,
     "metadata": {},
     "output_type": "execute_result"
    }
   ],
   "source": [
    "list_a = [1, 2, 3, 4, 5]\n",
    "list_a.clear()\n",
    "list_a"
   ]
  },
  {
   "cell_type": "markdown",
   "id": "f487d1ab-f116-4d38-bdc2-d6c64f0b60b7",
   "metadata": {},
   "source": [
    "## `in`/`not in` 연산자\n",
    "\n",
    "특정 값이 리스트 내부에 있는지 확인하는 방법\n",
    "\n",
    "- **in**\n",
    "    - ex) `값 in 리스트`"
   ]
  },
  {
   "cell_type": "code",
   "execution_count": 101,
   "id": "5d78f83a-d762-4da8-b26d-b863c1f72679",
   "metadata": {},
   "outputs": [
    {
     "name": "stdout",
     "output_type": "stream",
     "text": [
      "True\n",
      "False\n"
     ]
    }
   ],
   "source": [
    "list_a = [1, 2, 3, 4, 5, 6, 7, 8, 9, 10]\n",
    "result = 5 in list_a\n",
    "print(result)\n",
    "result = 15 in list_a\n",
    "print(result)"
   ]
  },
  {
   "cell_type": "markdown",
   "id": "0f6141bb-699a-4fb9-b44a-fb1fa5e185da",
   "metadata": {},
   "source": [
    "- **not in**\n",
    "    - ex) `값 not in 리스트`"
   ]
  },
  {
   "cell_type": "code",
   "execution_count": 100,
   "id": "b2a9cfc0-9f7f-49ee-91df-177bc22b6f53",
   "metadata": {},
   "outputs": [
    {
     "name": "stdout",
     "output_type": "stream",
     "text": [
      "False\n",
      "True\n"
     ]
    }
   ],
   "source": [
    "list_a = [1, 2, 3, 4, 5, 6, 7, 8, 9, 10]\n",
    "result = 5 not in list_a\n",
    "print(result)\n",
    "result = 15 not in list_a\n",
    "print(result)"
   ]
  },
  {
   "cell_type": "markdown",
   "id": "c460fca7-4add-4052-8d97-6bdbc65b0916",
   "metadata": {},
   "source": [
    "## for 반복문과 함께 리스트 사용해보기\n",
    "\n",
    "    for 반복자 in 반복할 수 있는 것:\n",
    "        코드"
   ]
  },
  {
   "cell_type": "code",
   "execution_count": 103,
   "id": "36a30aef-5183-450e-ae34-c8b71a848097",
   "metadata": {},
   "outputs": [
    {
     "name": "stdout",
     "output_type": "stream",
     "text": [
      "1\n",
      "2\n",
      "3\n",
      "4\n",
      "5\n",
      "6\n",
      "7\n",
      "8\n",
      "9\n",
      "10\n"
     ]
    }
   ],
   "source": [
    "arr = [1, 2, 3, 4, 5, 6, 7, 8, 9, 10]\n",
    "for element in arr:\n",
    "    print(element)"
   ]
  },
  {
   "cell_type": "code",
   "execution_count": 104,
   "id": "bee0eb76-6aa1-4f12-a834-e9628d03c28a",
   "metadata": {},
   "outputs": [
    {
     "name": "stdout",
     "output_type": "stream",
     "text": [
      "A\n",
      "B\n",
      "C\n",
      "D\n",
      "E\n"
     ]
    }
   ],
   "source": [
    "for char in \"ABCDE\":\n",
    "    print(char)"
   ]
  },
  {
   "cell_type": "markdown",
   "id": "1f9e1216-f350-47ef-9e99-50fd0fa9e91e",
   "metadata": {},
   "source": [
    "# 딕셔너리와 반복문\n",
    "\n",
    "---\n",
    "\n",
    "리스트가 '인덱스를 기반으로 값을 저장하는 것'이라면  \n",
    "`딕셔너리(Dictionary)`는 `'키를 기반으로 값을 저장하는 것'` 이라고 할 수 있다.\n",
    "\n",
    "## 선언"
   ]
  },
  {
   "cell_type": "markdown",
   "id": "0317206f-3f8e-4cde-b5c2-d9e974f6dce5",
   "metadata": {},
   "source": [
    "```\n",
    "변수 = {\n",
    "    키: 값,\n",
    "    키: 값,\n",
    "    키: 값,\n",
    "    ...\n",
    "    키: 값\n",
    "}\n",
    "```"
   ]
  },
  {
   "cell_type": "code",
   "execution_count": 107,
   "id": "cf48bc6d-500b-4d14-8cf7-92b5f3b2dfa9",
   "metadata": {},
   "outputs": [
    {
     "data": {
      "text/plain": [
       "{'name': 'Steve', 'age': 25}"
      ]
     },
     "execution_count": 107,
     "metadata": {},
     "output_type": "execute_result"
    }
   ],
   "source": [
    "dict_a = {\n",
    "    \"name\": \"Steve\",\n",
    "    \"age\": 25\n",
    "}\n",
    "dict_a"
   ]
  },
  {
   "cell_type": "markdown",
   "id": "0f55268a-4769-4078-9b6c-a3608d554f87",
   "metadata": {},
   "source": [
    "## 접근방법"
   ]
  },
  {
   "cell_type": "code",
   "execution_count": 110,
   "id": "16616467-8eea-44b9-9d06-ab212d6cd03f",
   "metadata": {},
   "outputs": [],
   "source": [
    "dict_a = {\n",
    "    \"name\": \"Steve\",\n",
    "    \"age\": 25\n",
    "}"
   ]
  },
  {
   "cell_type": "code",
   "execution_count": 111,
   "id": "3f2b88b3-fba3-4286-901b-31e4ddb5845e",
   "metadata": {},
   "outputs": [
    {
     "data": {
      "text/plain": [
       "'Steve'"
      ]
     },
     "execution_count": 111,
     "metadata": {},
     "output_type": "execute_result"
    }
   ],
   "source": [
    "dict_a[\"name\"]"
   ]
  },
  {
   "cell_type": "code",
   "execution_count": 112,
   "id": "43ac72a9-62e5-41d1-b77e-b5536953697d",
   "metadata": {},
   "outputs": [
    {
     "data": {
      "text/plain": [
       "25"
      ]
     },
     "execution_count": 112,
     "metadata": {},
     "output_type": "execute_result"
    }
   ],
   "source": [
    "dic_a[\"age\"]"
   ]
  },
  {
   "cell_type": "code",
   "execution_count": 113,
   "id": "e9b5a3ee-4769-4b16-8279-2bcfa68a721b",
   "metadata": {},
   "outputs": [],
   "source": [
    "dict_b = {\n",
    "    \"name\": \"Steve\",\n",
    "    \"parents\": [\"James\", \"Jully\"],\n",
    "    \"children\": [\"child 1\", \"child 2\", \"child 3\"]\n",
    "}"
   ]
  },
  {
   "cell_type": "code",
   "execution_count": 115,
   "id": "075a6003-e9ff-41f1-854e-cdee36443e38",
   "metadata": {},
   "outputs": [
    {
     "data": {
      "text/plain": [
       "['James', 'Jully']"
      ]
     },
     "execution_count": 115,
     "metadata": {},
     "output_type": "execute_result"
    }
   ],
   "source": [
    "dict_b[\"parents\"]"
   ]
  },
  {
   "cell_type": "code",
   "execution_count": 117,
   "id": "462650d7-e70c-4a3b-9c86-9fd6983516dc",
   "metadata": {},
   "outputs": [
    {
     "data": {
      "text/plain": [
       "'child 3'"
      ]
     },
     "execution_count": 117,
     "metadata": {},
     "output_type": "execute_result"
    }
   ],
   "source": [
    "dict_b[\"children\"][2]"
   ]
  },
  {
   "cell_type": "markdown",
   "id": "8a85f575-4695-4056-8694-eb1d1a4373b5",
   "metadata": {},
   "source": [
    "## 딕셔너리 값 추가/제거\n",
    "\n",
    "`딕셔너리[새로운 키] = 새로운 값`"
   ]
  },
  {
   "cell_type": "code",
   "execution_count": 124,
   "id": "3fb7e0c7-ee45-4fd5-b0c4-2119decaa998",
   "metadata": {},
   "outputs": [],
   "source": [
    "dictionary = {\n",
    "    \"name\": \"Steve\",\n",
    "    \"parents\": [\"James\", \"Jully\"],\n",
    "    \"children\": [\"child 1\", \"child 2\", \"child 3\"]\n",
    "}"
   ]
  },
  {
   "cell_type": "code",
   "execution_count": 128,
   "id": "caa9fc12-50cf-41f7-923a-207afc70d249",
   "metadata": {},
   "outputs": [
    {
     "data": {
      "text/plain": [
       "{'name': 'Steve',\n",
       " 'parents': ['James', 'Jully'],\n",
       " 'children': ['child 1', 'child 2', 'child 3'],\n",
       " 'age': 50}"
      ]
     },
     "execution_count": 128,
     "metadata": {},
     "output_type": "execute_result"
    }
   ],
   "source": [
    "# 새로운 키/값 추가\n",
    "dictionary[\"age\"] = 50\n",
    "dictionary"
   ]
  },
  {
   "cell_type": "code",
   "execution_count": 129,
   "id": "6e660f82-404f-4b9d-a079-f30ada1098f1",
   "metadata": {},
   "outputs": [
    {
     "data": {
      "text/plain": [
       "{'name': 'John',\n",
       " 'parents': ['James', 'Jully'],\n",
       " 'children': ['child 1', 'child 2', 'child 3'],\n",
       " 'age': 50}"
      ]
     },
     "execution_count": 129,
     "metadata": {},
     "output_type": "execute_result"
    }
   ],
   "source": [
    "# 기존의 키의 값을 새로운 값으로 대치\n",
    "dictionary[\"name\"] = \"John\"\n",
    "dictionary"
   ]
  },
  {
   "cell_type": "code",
   "execution_count": 130,
   "id": "9c400aa5-4236-4736-a874-8878ada437d4",
   "metadata": {},
   "outputs": [
    {
     "data": {
      "text/plain": [
       "{'name': 'John', 'parents': ['James', 'Jully'], 'age': 50}"
      ]
     },
     "execution_count": 130,
     "metadata": {},
     "output_type": "execute_result"
    }
   ],
   "source": [
    "# 키/값 삭제\n",
    "del dictionary[\"children\"]\n",
    "dictionary"
   ]
  },
  {
   "cell_type": "markdown",
   "id": "b309d4e7-a915-44d7-99d1-00e339861992",
   "metadata": {},
   "source": [
    "## KeyError 예외\n",
    "\n",
    "존재하지 않는 키에 접근시 발생하는 예외"
   ]
  },
  {
   "cell_type": "code",
   "execution_count": 133,
   "id": "4afc90a0-2ac7-4937-bc1f-0ea10f963633",
   "metadata": {},
   "outputs": [],
   "source": [
    "dict_a = {\n",
    "    \"a\": 1,\n",
    "    \"b\": 2,\n",
    "    \"c\": 3,\n",
    "}"
   ]
  },
  {
   "cell_type": "code",
   "execution_count": 134,
   "id": "93f0ec53-b365-4fe1-94f9-ab02190a0381",
   "metadata": {},
   "outputs": [
    {
     "ename": "KeyError",
     "evalue": "'d'",
     "output_type": "error",
     "traceback": [
      "\u001b[1;31m---------------------------------------------------------------------------\u001b[0m",
      "\u001b[1;31mKeyError\u001b[0m                                  Traceback (most recent call last)",
      "\u001b[1;32m~\\AppData\\Local\\Temp/ipykernel_27424/2142791231.py\u001b[0m in \u001b[0;36m<module>\u001b[1;34m\u001b[0m\n\u001b[1;32m----> 1\u001b[1;33m \u001b[0mdict_a\u001b[0m\u001b[1;33m[\u001b[0m\u001b[1;34m\"d\"\u001b[0m\u001b[1;33m]\u001b[0m\u001b[1;33m\u001b[0m\u001b[1;33m\u001b[0m\u001b[0m\n\u001b[0m",
      "\u001b[1;31mKeyError\u001b[0m: 'd'"
     ]
    }
   ],
   "source": [
    "dict_a[\"d\"]"
   ]
  },
  {
   "cell_type": "markdown",
   "id": "34c2927f-c96c-4aea-9546-485d24e4d131",
   "metadata": {},
   "source": [
    "## 딕셔너리 내부의 키 확인\n",
    "\n",
    "- in 키워드"
   ]
  },
  {
   "cell_type": "code",
   "execution_count": 135,
   "id": "58e88610-735e-4a2e-ac52-bd367843bd53",
   "metadata": {},
   "outputs": [],
   "source": [
    "dict_a = {\n",
    "    \"name\": \"Steve\",\n",
    "    \"age\": 25,\n",
    "    \"nation\": \"Korea\"\n",
    "}"
   ]
  },
  {
   "cell_type": "code",
   "execution_count": 136,
   "id": "5b51e716-3bcb-4bff-8af4-83fb2d4100b6",
   "metadata": {},
   "outputs": [
    {
     "data": {
      "text/plain": [
       "True"
      ]
     },
     "execution_count": 136,
     "metadata": {},
     "output_type": "execute_result"
    }
   ],
   "source": [
    "\"name\" in dict_a"
   ]
  },
  {
   "cell_type": "code",
   "execution_count": 137,
   "id": "494dfca3-c9b6-4429-9863-48acc20dfdcb",
   "metadata": {},
   "outputs": [
    {
     "data": {
      "text/plain": [
       "False"
      ]
     },
     "execution_count": 137,
     "metadata": {},
     "output_type": "execute_result"
    }
   ],
   "source": [
    "\"abcd\" in dict_a"
   ]
  },
  {
   "cell_type": "markdown",
   "id": "729f368e-5794-42cd-86d7-cb304bc46bbd",
   "metadata": {},
   "source": [
    "- get()"
   ]
  },
  {
   "cell_type": "code",
   "execution_count": 139,
   "id": "a95bbe68-2c17-448f-a5c7-54257f6819ae",
   "metadata": {},
   "outputs": [
    {
     "data": {
      "text/plain": [
       "'Korea'"
      ]
     },
     "execution_count": 139,
     "metadata": {},
     "output_type": "execute_result"
    }
   ],
   "source": [
    "dict_a.get(\"nation\")"
   ]
  },
  {
   "cell_type": "code",
   "execution_count": 141,
   "id": "cd3865fb-4b51-4670-b652-62475f21f410",
   "metadata": {},
   "outputs": [],
   "source": [
    "val = dict_a.get(\"abcd\")"
   ]
  },
  {
   "cell_type": "code",
   "execution_count": 143,
   "id": "d444b049-4a96-497c-b0c5-bd426da94234",
   "metadata": {},
   "outputs": [
    {
     "data": {
      "text/plain": [
       "True"
      ]
     },
     "execution_count": 143,
     "metadata": {},
     "output_type": "execute_result"
    }
   ],
   "source": [
    "val == None"
   ]
  },
  {
   "cell_type": "markdown",
   "id": "61d7c30c-1695-4955-b10f-a37df03dd6a4",
   "metadata": {},
   "source": [
    "> None = 존재하지 않는 키에 접근시 나오는 값"
   ]
  },
  {
   "cell_type": "markdown",
   "id": "0c8673d1-cf41-48b9-b660-83302f93454e",
   "metadata": {},
   "source": [
    "## for 반복문과 함께 딕셔너리 사용해보기"
   ]
  },
  {
   "cell_type": "markdown",
   "id": "b1f9e110-0c5e-4597-92d8-42fb65ff9299",
   "metadata": {},
   "source": [
    "```\n",
    "for 키 변수 in 딕셔너리:\n",
    "    코드\n",
    "```"
   ]
  },
  {
   "cell_type": "code",
   "execution_count": 145,
   "id": "d20ca007-a61b-48f2-9be5-f4394aee2a26",
   "metadata": {},
   "outputs": [
    {
     "name": "stdout",
     "output_type": "stream",
     "text": [
      "A : a\n",
      "B : b\n",
      "C : c\n",
      "D : d\n"
     ]
    }
   ],
   "source": [
    "dictionary = {\n",
    "    \"A\": \"a\",\n",
    "    \"B\": \"b\",\n",
    "    \"C\": \"c\",\n",
    "    \"D\": \"d\"\n",
    "}\n",
    "for key in dictionary:\n",
    "    print(key, \":\", dictionary[key])"
   ]
  },
  {
   "cell_type": "markdown",
   "id": "e2e4c2de-c0df-4e8c-81e9-fd8824f626b4",
   "metadata": {},
   "source": [
    "# 반복문과 while 반복문\n",
    "\n",
    "---"
   ]
  },
  {
   "cell_type": "code",
   "execution_count": 159,
   "id": "1716082d-a309-4bbd-a6e7-eb60619b7fb7",
   "metadata": {},
   "outputs": [
    {
     "name": "stdout",
     "output_type": "stream",
     "text": [
      "['ArithmeticError', 'AssertionError', 'AttributeError', 'BaseException', 'BlockingIOError', 'BrokenPipeError', 'BufferError', 'BytesWarning', 'ChildProcessError', 'ConnectionAbortedError', 'ConnectionError', 'ConnectionRefusedError', 'ConnectionResetError', 'DeprecationWarning', 'EOFError', 'Ellipsis', 'EnvironmentError', 'Exception', 'False', 'FileExistsError', 'FileNotFoundError', 'FloatingPointError', 'FutureWarning', 'GeneratorExit', 'IOError', 'ImportError', 'ImportWarning', 'IndentationError', 'IndexError', 'InterruptedError', 'IsADirectoryError', 'KeyError', 'KeyboardInterrupt', 'LookupError', 'MemoryError', 'ModuleNotFoundError', 'NameError', 'None', 'NotADirectoryError', 'NotImplemented', 'NotImplementedError', 'OSError', 'OverflowError', 'PendingDeprecationWarning', 'PermissionError', 'ProcessLookupError', 'RecursionError', 'ReferenceError', 'ResourceWarning', 'RuntimeError', 'RuntimeWarning', 'StopAsyncIteration', 'StopIteration', 'SyntaxError', 'SyntaxWarning', 'SystemError', 'SystemExit', 'TabError', 'TimeoutError', 'True', 'TypeError', 'UnboundLocalError', 'UnicodeDecodeError', 'UnicodeEncodeError', 'UnicodeError', 'UnicodeTranslateError', 'UnicodeWarning', 'UserWarning', 'ValueError', 'Warning', 'WindowsError', 'ZeroDivisionError', '__IPYTHON__', '__build_class__', '__debug__', '__doc__', '__import__', '__loader__', '__name__', '__package__', '__spec__', 'abs', 'all', 'any', 'ascii', 'bin', 'bool', 'breakpoint', 'bytearray', 'bytes', 'callable', 'chr', 'classmethod', 'compile', 'complex', 'copyright', 'credits', 'delattr', 'dict', 'dir', 'display', 'divmod', 'enumerate', 'eval', 'exec', 'filter', 'float', 'format', 'frozenset', 'get_ipython', 'getattr', 'globals', 'hasattr', 'hash', 'help', 'hex', 'id', 'input', 'int', 'isinstance', 'issubclass', 'iter', 'len', 'license', 'list', 'locals', 'map', 'max', 'memoryview', 'min', 'next', 'object', 'oct', 'open', 'ord', 'pow', 'print', 'property', 'range', 'repr', 'reversed', 'round', 'set', 'setattr', 'slice', 'sorted', 'staticmethod', 'str', 'sum', 'super', 'tuple', 'type', 'vars', 'zip']\n"
     ]
    }
   ],
   "source": [
    "import builtins\n",
    "print(dir(builtins))"
   ]
  },
  {
   "cell_type": "markdown",
   "id": "9a4bfe65-8871-4fd0-9f59-d774d1895b7c",
   "metadata": {},
   "source": [
    "## 범위 `range()`\n",
    "\n",
    "- 매개변수에 숫자를 한 개 넣는 방법"
   ]
  },
  {
   "cell_type": "code",
   "execution_count": 167,
   "id": "d1d5d24b-3b38-4aa3-8ccc-0c1e6688ccf8",
   "metadata": {},
   "outputs": [
    {
     "data": {
      "text/plain": [
       "range(0, 5)"
      ]
     },
     "execution_count": 167,
     "metadata": {},
     "output_type": "execute_result"
    }
   ],
   "source": [
    "# range(n)\n",
    "# 0부터 n-1가지의 정수로 범위를 만든다\n",
    "range(5)"
   ]
  },
  {
   "cell_type": "code",
   "execution_count": 172,
   "id": "8ac281be-a04b-491f-b151-e36e930e5f00",
   "metadata": {
    "tags": []
   },
   "outputs": [
    {
     "data": {
      "text/plain": [
       "[0, 1, 2, 3, 4]"
      ]
     },
     "execution_count": 172,
     "metadata": {},
     "output_type": "execute_result"
    }
   ],
   "source": [
    "list(range(0, 5))"
   ]
  },
  {
   "cell_type": "markdown",
   "id": "174c0898-be43-4a08-b537-4a3d5cc95ed4",
   "metadata": {},
   "source": [
    "> list() : 가변배열 생성하기"
   ]
  },
  {
   "cell_type": "markdown",
   "id": "52bcd86e-cf95-44b5-b4c7-c44bd00ccdce",
   "metadata": {},
   "source": [
    "- 매개변수에 숫자를 두 개 넣는 방법"
   ]
  },
  {
   "cell_type": "code",
   "execution_count": 168,
   "id": "cd430a8a-6296-44ba-ba55-f9304494b3b9",
   "metadata": {},
   "outputs": [
    {
     "data": {
      "text/plain": [
       "range(2, 5)"
      ]
     },
     "execution_count": 168,
     "metadata": {},
     "output_type": "execute_result"
    }
   ],
   "source": [
    "# range(n1, n2)\n",
    "# n1부터 n2-1 까지의 정수로 범위를 만든다\n",
    "range(2, 5)"
   ]
  },
  {
   "cell_type": "code",
   "execution_count": 173,
   "id": "508dc76b-b17b-46f4-a693-654df3413663",
   "metadata": {},
   "outputs": [
    {
     "data": {
      "text/plain": [
       "[2, 3, 4]"
      ]
     },
     "execution_count": 173,
     "metadata": {},
     "output_type": "execute_result"
    }
   ],
   "source": [
    "list(range(2, 5))"
   ]
  },
  {
   "cell_type": "markdown",
   "id": "a8bc4882-6ab1-4954-bcd7-bc80d6e1fb4d",
   "metadata": {},
   "source": [
    "- 매개변수에 숫자를 세 개 넣는 방법"
   ]
  },
  {
   "cell_type": "code",
   "execution_count": 166,
   "id": "f724e2ff-b0ea-41a5-a6ef-395d5d232ccf",
   "metadata": {},
   "outputs": [
    {
     "data": {
      "text/plain": [
       "range(1, 5, 2)"
      ]
     },
     "execution_count": 166,
     "metadata": {},
     "output_type": "execute_result"
    }
   ],
   "source": [
    "# range(n1, n2, n3)\n",
    "# n1부터 n2-1까지 정수로 범위를 만드는데, 앞뒤의 숫자가 n3 만큼의 차이를 가진다\n",
    "range(1, 5, 2)"
   ]
  },
  {
   "cell_type": "code",
   "execution_count": 174,
   "id": "0eabc23d-e9a8-4025-9484-0f85266ce0bd",
   "metadata": {},
   "outputs": [
    {
     "data": {
      "text/plain": [
       "[1, 3]"
      ]
     },
     "execution_count": 174,
     "metadata": {},
     "output_type": "execute_result"
    }
   ],
   "source": [
    "list(range(1, 5, 2))"
   ]
  },
  {
   "cell_type": "code",
   "execution_count": 175,
   "id": "681ae5e3-133e-4df7-8a21-f87098303f11",
   "metadata": {},
   "outputs": [
    {
     "data": {
      "text/plain": [
       "5.0"
      ]
     },
     "execution_count": 175,
     "metadata": {},
     "output_type": "execute_result"
    }
   ],
   "source": [
    "10 / 2"
   ]
  },
  {
   "cell_type": "markdown",
   "id": "dad5b500-ac86-4321-899b-18590214bfdb",
   "metadata": {},
   "source": [
    "- for 반복문 활용 :"
   ]
  },
  {
   "cell_type": "code",
   "execution_count": 181,
   "id": "8be7f5cf-305f-4c4b-8188-8373567d6caa",
   "metadata": {},
   "outputs": [
    {
     "name": "stdout",
     "output_type": "stream",
     "text": [
      "10\n",
      "20\n",
      "30\n",
      "40\n",
      "50\n",
      "60\n",
      "70\n",
      "80\n",
      "90\n",
      "100\n"
     ]
    }
   ],
   "source": [
    "for i in range(10, 101, 10):\n",
    "    print(i)"
   ]
  },
  {
   "cell_type": "markdown",
   "id": "27fa3c3c-6da9-4b82-be77-fa37b2d49d97",
   "metadata": {},
   "source": [
    "## for 반복문: 리스트와 범위 조합 (오름차순 반복)"
   ]
  },
  {
   "cell_type": "code",
   "execution_count": 182,
   "id": "09558ac3-5cfb-4ef7-bbc9-32bbe26e8965",
   "metadata": {},
   "outputs": [
    {
     "name": "stdout",
     "output_type": "stream",
     "text": [
      "0번째 반복: a\n",
      "1번째 반복: b\n",
      "2번째 반복: c\n",
      "3번째 반복: d\n"
     ]
    }
   ],
   "source": [
    "arr = [\"a\", \"b\", \"c\", \"d\"]\n",
    "for i in range(len(arr)):\n",
    "    print(\"{}번째 반복: {}\".format(i, arr[i]))"
   ]
  },
  {
   "cell_type": "markdown",
   "id": "0c0b6b46-604f-40b4-b867-0d1e264edd39",
   "metadata": {},
   "source": [
    "## for 반복문: 반대로 반복 (내림차순 반복)"
   ]
  },
  {
   "cell_type": "code",
   "execution_count": 186,
   "id": "4fa1fcd9-b619-4f74-97fd-0c0fdc8d1f3f",
   "metadata": {},
   "outputs": [
    {
     "name": "stdout",
     "output_type": "stream",
     "text": [
      "3번째 반복: d\n",
      "2번째 반복: c\n",
      "1번째 반복: b\n",
      "0번째 반복: a\n"
     ]
    }
   ],
   "source": [
    "arr = [\"a\", \"b\", \"c\", \"d\"]\n",
    "for i in range(len(arr)-1, 0-1, -1):\n",
    "    print(\"{}번째 반복: {}\".format(i, arr[i]))"
   ]
  },
  {
   "cell_type": "code",
   "execution_count": 188,
   "id": "a7517d9b-a291-433e-834d-246fada99c6f",
   "metadata": {},
   "outputs": [
    {
     "name": "stdout",
     "output_type": "stream",
     "text": [
      "3번째 반복: d\n",
      "2번째 반복: c\n",
      "1번째 반복: b\n",
      "0번째 반복: a\n"
     ]
    }
   ],
   "source": [
    "arr = [\"a\", \"b\", \"c\", \"d\"]\n",
    "for i in reversed(range(len(arr))):\n",
    "    print(\"{}번째 반복: {}\".format(i, arr[i]))"
   ]
  },
  {
   "cell_type": "markdown",
   "id": "1c8aeae3-4297-40c9-8f9e-9dc05f0ea2a0",
   "metadata": {},
   "source": [
    "## while 반복문\n",
    "\n",
    "```\n",
    "while 조건명제:\n",
    "    코드\n",
    "```"
   ]
  },
  {
   "cell_type": "code",
   "execution_count": 2,
   "id": "e02c6fba-4cc5-4121-a9b8-a5ac8f00dedd",
   "metadata": {},
   "outputs": [
    {
     "name": "stdout",
     "output_type": "stream",
     "text": [
      "0번째 반복\n",
      "1번째 반복\n",
      "2번째 반복\n",
      "3번째 반복\n",
      "4번째 반복\n",
      "5번째 반복\n",
      "6번째 반복\n",
      "7번째 반복\n",
      "8번째 반복\n",
      "9번째 반복\n"
     ]
    }
   ],
   "source": [
    "i = 0\n",
    "while i < 10:\n",
    "    print(\"{}번째 반복\".format(i))\n",
    "    i+=1"
   ]
  },
  {
   "cell_type": "markdown",
   "id": "3f0b4ee8-68b6-46c1-8d4c-286c99727199",
   "metadata": {},
   "source": [
    "### 상태를 기반으로 반복"
   ]
  },
  {
   "cell_type": "code",
   "execution_count": 1,
   "id": "17fb831c-810c-4a5b-afea-c0dc97863edc",
   "metadata": {},
   "outputs": [
    {
     "data": {
      "text/plain": [
       "[1, 1]"
      ]
     },
     "execution_count": 1,
     "metadata": {},
     "output_type": "execute_result"
    }
   ],
   "source": [
    "arr = [1, 2, 1, 2]\n",
    "val = 2\n",
    "while val in arr:\n",
    "    arr.remove(val)\n",
    "arr"
   ]
  },
  {
   "cell_type": "markdown",
   "id": "d5e112a0-78b1-498a-9719-3ae309ba8297",
   "metadata": {},
   "source": [
    "### 시간을 기반으로 반복"
   ]
  },
  {
   "cell_type": "code",
   "execution_count": 6,
   "id": "faa85a34-61d6-4366-b376-a02301e41e8a",
   "metadata": {},
   "outputs": [
    {
     "name": "stdout",
     "output_type": "stream",
     "text": [
      "5초 동안 22862513번 반복\n"
     ]
    }
   ],
   "source": [
    "# 시간 모듈 import\n",
    "import time\n",
    "\n",
    "number = 0\n",
    "\n",
    "# 5초 동안 반복\n",
    "target_tick = time.time() + 5\n",
    "while time.time() < target_tick:\n",
    "    number+=1\n",
    "print(\"5초 동안 {}번 반복\".format(number))"
   ]
  },
  {
   "cell_type": "markdown",
   "id": "261b4447-ae21-4d53-849c-44e8731caafd",
   "metadata": {},
   "source": [
    "## `break` 키워드 / `continue` 키워드\n",
    "\n",
    "- `break` 키워드"
   ]
  },
  {
   "cell_type": "code",
   "execution_count": 7,
   "id": "ca32bde6-473b-482c-945f-68bb62b2854b",
   "metadata": {},
   "outputs": [
    {
     "name": "stdout",
     "output_type": "stream",
     "text": [
      "0번째 반복\n",
      "1번째 반복\n",
      "2번째 반복\n",
      "3번째 반복\n",
      "4번째 반복\n"
     ]
    }
   ],
   "source": [
    "i = 0\n",
    "while True:\n",
    "    print(\"{}번째 반복\".format(i))\n",
    "    i += 1\n",
    "    if i == 5:\n",
    "        break"
   ]
  },
  {
   "cell_type": "markdown",
   "id": "cfc7bd30-46d6-4828-a352-a49c8239c341",
   "metadata": {},
   "source": [
    "- `continue` 키워드"
   ]
  },
  {
   "cell_type": "code",
   "execution_count": 9,
   "id": "2e1cd64f-06b4-4444-8905-a941a080b18c",
   "metadata": {},
   "outputs": [
    {
     "name": "stdout",
     "output_type": "stream",
     "text": [
      "1\n",
      "3\n",
      "5\n",
      "7\n",
      "9\n"
     ]
    }
   ],
   "source": [
    "arr = [1, 2, 3, 4, 5, 6, 7, 8, 9, 10]\n",
    "for el in arr:\n",
    "    if el % 2 == 0:\n",
    "        continue\n",
    "    print(el)"
   ]
  },
  {
   "cell_type": "markdown",
   "id": "883951ff-251e-4a90-bf8f-1b375ad3bc74",
   "metadata": {},
   "source": [
    "## 삼항 연산식 활용"
   ]
  },
  {
   "cell_type": "code",
   "execution_count": 11,
   "id": "052b94aa-5dc8-48ef-80fe-5b12c8ff8a2f",
   "metadata": {},
   "outputs": [
    {
     "data": {
      "text/plain": [
       "[1, 3, 5, 7, 9]"
      ]
     },
     "execution_count": 11,
     "metadata": {},
     "output_type": "execute_result"
    }
   ],
   "source": [
    "arr = [x for x in range(10) if x % 2]\n",
    "arr"
   ]
  },
  {
   "cell_type": "code",
   "execution_count": 12,
   "id": "47ca9605-97d8-4824-917d-bc221d78ee3f",
   "metadata": {},
   "outputs": [
    {
     "data": {
      "text/plain": [
       "['짝수', 1, '짝수', 3, '짝수', 5, '짝수', 7, '짝수', 9]"
      ]
     },
     "execution_count": 12,
     "metadata": {},
     "output_type": "execute_result"
    }
   ],
   "source": [
    "arr = [x if x % 2 else \"짝수\" for x in range(10)]\n",
    "arr"
   ]
  },
  {
   "cell_type": "markdown",
   "id": "7ed4fb20-703f-49a5-b5ca-1d24ca7356ff",
   "metadata": {},
   "source": [
    "# 문자열, 리스트, 딕셔너리와 관련된 기본 함수\n",
    "\n",
    "---\n",
    "\n",
    "## 리스트에 적용할 수 있는 기본 함수: `min()`, `max()`, `sum()`"
   ]
  },
  {
   "cell_type": "markdown",
   "id": "50ff0f1b-2d2b-4e0e-bf33-d404f20a2377",
   "metadata": {},
   "source": [
    "|함수|설명|\n",
    "|---|---|\n",
    "|`min()`|리스트 내부에서 최솟값 찾기|\n",
    "|`max()`|리스트 내부에서 최댓값 찾기|\n",
    "|`sum()`|리스트 내부에서 값을 모두 더하기|"
   ]
  },
  {
   "cell_type": "code",
   "execution_count": 14,
   "id": "c9c0892f-e032-4c7f-83bc-763d07b720ea",
   "metadata": {},
   "outputs": [],
   "source": [
    "arr = [100, 200, 300, 400, 500]"
   ]
  },
  {
   "cell_type": "code",
   "execution_count": 15,
   "id": "60f067bd-d666-4fa1-8297-61ee86d9e4bc",
   "metadata": {},
   "outputs": [
    {
     "data": {
      "text/plain": [
       "100"
      ]
     },
     "execution_count": 15,
     "metadata": {},
     "output_type": "execute_result"
    }
   ],
   "source": [
    "min(arr)"
   ]
  },
  {
   "cell_type": "code",
   "execution_count": 16,
   "id": "c61e1e9d-4c9c-46b7-a852-3c37949de8a3",
   "metadata": {},
   "outputs": [
    {
     "data": {
      "text/plain": [
       "500"
      ]
     },
     "execution_count": 16,
     "metadata": {},
     "output_type": "execute_result"
    }
   ],
   "source": [
    "max(arr)"
   ]
  },
  {
   "cell_type": "code",
   "execution_count": 17,
   "id": "15f10e13-9f66-4f44-b7e4-2461e1a0b8f9",
   "metadata": {},
   "outputs": [
    {
     "data": {
      "text/plain": [
       "1500"
      ]
     },
     "execution_count": 17,
     "metadata": {},
     "output_type": "execute_result"
    }
   ],
   "source": [
    "sum(arr)"
   ]
  },
  {
   "cell_type": "code",
   "execution_count": 19,
   "id": "4447ad40-a2d5-4fd4-bc1d-a0e88bcf12c1",
   "metadata": {},
   "outputs": [
    {
     "data": {
      "text/plain": [
       "1"
      ]
     },
     "execution_count": 19,
     "metadata": {},
     "output_type": "execute_result"
    }
   ],
   "source": [
    "min(3, 1, 2, 5, 6, 4)"
   ]
  },
  {
   "cell_type": "code",
   "execution_count": 20,
   "id": "88135732-a671-4598-b0df-3d8ffd09a897",
   "metadata": {},
   "outputs": [
    {
     "data": {
      "text/plain": [
       "6"
      ]
     },
     "execution_count": 20,
     "metadata": {},
     "output_type": "execute_result"
    }
   ],
   "source": [
    "max(3, 1, 2, 5, 6, 4)"
   ]
  },
  {
   "cell_type": "markdown",
   "id": "29e4df28-e53c-4037-87ef-73a3dd3c9720",
   "metadata": {},
   "source": [
    "## 리스트 뒤집기: `reversed()`"
   ]
  },
  {
   "cell_type": "code",
   "execution_count": 24,
   "id": "13e413df-48bd-4dbb-b294-4772d0484db1",
   "metadata": {},
   "outputs": [
    {
     "name": "stdout",
     "output_type": "stream",
     "text": [
      "reversed() 함수\n",
      "reversed(arr): <list_reverseiterator object at 0x0000027DDBA72D30>\n",
      "list(reversed(arr)): [5, 4, 3, 2, 1]\n"
     ]
    }
   ],
   "source": [
    "arr = [1, 2, 3, 4, 5]\n",
    "arr_reversed = reversed(arr)\n",
    "\n",
    "print('reversed() 함수')\n",
    "print('reversed(arr):', arr_reversed)\n",
    "print('list(reversed(arr)):', list(arr_reversed))"
   ]
  },
  {
   "cell_type": "markdown",
   "id": "48b75de8-88de-4377-b8ea-cc57bd784ce2",
   "metadata": {},
   "source": [
    "- 결과가 `reversed(arr): <list_reverseiterator object at 0x0000027DDBA72D30>` 인 이유:  "
   ]
  },
  {
   "cell_type": "code",
   "execution_count": 25,
   "id": "dc2950c0-65c1-4676-88d3-dc705a611670",
   "metadata": {},
   "outputs": [
    {
     "data": {
      "text/plain": [
       "list"
      ]
     },
     "execution_count": 25,
     "metadata": {},
     "output_type": "execute_result"
    }
   ],
   "source": [
    "type(arr)"
   ]
  },
  {
   "cell_type": "code",
   "execution_count": 26,
   "id": "a986e86c-aeab-4885-ab6b-8c62714aac6d",
   "metadata": {},
   "outputs": [
    {
     "data": {
      "text/plain": [
       "list_reverseiterator"
      ]
     },
     "execution_count": 26,
     "metadata": {},
     "output_type": "execute_result"
    }
   ],
   "source": [
    "type(arr_reversed)"
   ]
  },
  {
   "cell_type": "code",
   "execution_count": 31,
   "id": "6e3f0b1e-4267-46cd-969b-9ff2991788f4",
   "metadata": {},
   "outputs": [
    {
     "name": "stdout",
     "output_type": "stream",
     "text": [
      "첫번째 반복:  5\n",
      "첫번째 반복:  4\n",
      "첫번째 반복:  3\n",
      "첫번째 반복:  2\n",
      "첫번째 반복:  1\n"
     ]
    }
   ],
   "source": [
    "temp = reversed(arr)\n",
    "for i in temp:\n",
    "    print(\"첫번째 반복: \", i)\n",
    "for i in temp:\n",
    "    print(\"두번째 반복: \", i)"
   ]
  },
  {
   "cell_type": "markdown",
   "id": "1801d9bc-8117-4f68-a4d5-58b2fe6e2d3e",
   "metadata": {},
   "source": [
    "즉, `reversed()`의 함수의 결과값은 `제너레이터`로 제너레이터는 한 번 활용(실행) 후 두 번 이상 활용할 수 없다."
   ]
  },
  {
   "cell_type": "code",
   "execution_count": 33,
   "id": "668614d2-0385-4b37-a660-66b1b6a154b9",
   "metadata": {},
   "outputs": [
    {
     "name": "stdout",
     "output_type": "stream",
     "text": [
      "첫번째 반복:  5\n",
      "첫번째 반복:  4\n",
      "첫번째 반복:  3\n",
      "첫번째 반복:  2\n",
      "첫번째 반복:  1\n",
      "두번째 반복:  5\n",
      "두번째 반복:  4\n",
      "두번째 반복:  3\n",
      "두번째 반복:  2\n",
      "두번째 반복:  1\n"
     ]
    }
   ],
   "source": [
    "for i in reversed(arr):\n",
    "    print(\"첫번째 반복: \", i)\n",
    "for i in reversed(arr):\n",
    "    print(\"두번째 반복: \", i)"
   ]
  },
  {
   "cell_type": "markdown",
   "id": "b5e1800c-3808-4b51-af40-ca828d6dd0c8",
   "metadata": {},
   "source": [
    "## 리스트 뒤집기: 확장 슬라이싱 `[::-1]`\n",
    "\n",
    "비파괴적 함수"
   ]
  },
  {
   "cell_type": "code",
   "execution_count": 34,
   "id": "fafa9242-773b-450a-845b-c4ffc7f8dc6c",
   "metadata": {},
   "outputs": [
    {
     "data": {
      "text/plain": [
       "[5, 4, 3, 2, 1]"
      ]
     },
     "execution_count": 34,
     "metadata": {},
     "output_type": "execute_result"
    }
   ],
   "source": [
    "arr = [1, 2, 3, 4, 5]\n",
    "arr[::-1]"
   ]
  },
  {
   "cell_type": "code",
   "execution_count": 36,
   "id": "55fb6d25-73b1-4118-89cc-25ff15906480",
   "metadata": {},
   "outputs": [
    {
     "data": {
      "text/plain": [
       "list"
      ]
     },
     "execution_count": 36,
     "metadata": {},
     "output_type": "execute_result"
    }
   ],
   "source": [
    "temp = arr[::-1]\n",
    "type(temp)"
   ]
  },
  {
   "cell_type": "markdown",
   "id": "83c3c509-7356-40e9-ac19-b8b6efc8a63f",
   "metadata": {},
   "source": [
    "## `enumerate()` 함수와 반복문 조합"
   ]
  },
  {
   "cell_type": "code",
   "execution_count": 14,
   "id": "43b868bb-8b2e-4aec-bcee-870bdbf799b4",
   "metadata": {},
   "outputs": [
    {
     "data": {
      "text/plain": [
       "<enumerate at 0x2cec56a3380>"
      ]
     },
     "execution_count": 14,
     "metadata": {},
     "output_type": "execute_result"
    }
   ],
   "source": [
    "arr = [1, 2, 3, 4, 5]\n",
    "enumerate_arr = enumerate(arr)\n",
    "enumerate_arr"
   ]
  },
  {
   "cell_type": "code",
   "execution_count": 15,
   "id": "11cb4c36-1cf1-461c-8942-04f487012765",
   "metadata": {},
   "outputs": [
    {
     "name": "stdout",
     "output_type": "stream",
     "text": [
      "첫번째 반복 > 0번째 요소: 1\n",
      "첫번째 반복 > 1번째 요소: 2\n",
      "첫번째 반복 > 2번째 요소: 3\n",
      "첫번째 반복 > 3번째 요소: 4\n",
      "첫번째 반복 > 4번째 요소: 5\n"
     ]
    }
   ],
   "source": [
    "for idx, value in enumerate_arr:\n",
    "    print(\"첫번째 반복 > {}번째 요소: {}\".format(idx, value))\n",
    "for idx, value in enumerate_arr:\n",
    "    print(\"두번째 반복 > {}번째 요소: {}\".format(idx, value))"
   ]
  },
  {
   "cell_type": "markdown",
   "id": "3fe2d260-12bb-49cf-9936-67c451fbffa4",
   "metadata": {},
   "source": [
    "> `enumerate`도 `reversed()` 함수의 `iterator`와 같이 제너레이터 자료형으로 재활용되지 않음"
   ]
  },
  {
   "cell_type": "markdown",
   "id": "e1afcc46-9d4e-4d96-9d06-6bde381f41ba",
   "metadata": {},
   "source": [
    "## 딕셔너리 `items()` 함수와 반복문 조합"
   ]
  },
  {
   "cell_type": "code",
   "execution_count": 16,
   "id": "f773da86-f430-4cbe-b02f-197bd012e86a",
   "metadata": {},
   "outputs": [],
   "source": [
    "ex_dict = {\n",
    "    \"keyA\" : \"valA\",\n",
    "    \"keyB\" : \"valB\",\n",
    "    \"keyC\" : \"valC\",\n",
    "    \"keyD\" : \"valD\"\n",
    "}"
   ]
  },
  {
   "cell_type": "code",
   "execution_count": 17,
   "id": "94e0ebe6-e8e9-4d40-b608-6ad85efe3f55",
   "metadata": {},
   "outputs": [
    {
     "data": {
      "text/plain": [
       "dict_items([('keyA', 'valA'), ('keyB', 'valB'), ('keyC', 'valC'), ('keyD', 'valD')])"
      ]
     },
     "execution_count": 17,
     "metadata": {},
     "output_type": "execute_result"
    }
   ],
   "source": [
    "ex_dict.items()"
   ]
  },
  {
   "cell_type": "code",
   "execution_count": 18,
   "id": "bf330030-7604-4696-921f-96278d5af70b",
   "metadata": {},
   "outputs": [
    {
     "data": {
      "text/plain": [
       "dict"
      ]
     },
     "execution_count": 18,
     "metadata": {},
     "output_type": "execute_result"
    }
   ],
   "source": [
    "type(ex_dict)"
   ]
  },
  {
   "cell_type": "code",
   "execution_count": 19,
   "id": "d8b011f7-a39a-411a-8fe3-8f0155f51b56",
   "metadata": {},
   "outputs": [
    {
     "data": {
      "text/plain": [
       "dict_items"
      ]
     },
     "execution_count": 19,
     "metadata": {},
     "output_type": "execute_result"
    }
   ],
   "source": [
    "type(ex_dict.items())"
   ]
  },
  {
   "cell_type": "code",
   "execution_count": 20,
   "id": "37b61fde-dcc8-4896-85d8-fcb1d8372303",
   "metadata": {},
   "outputs": [
    {
     "name": "stdout",
     "output_type": "stream",
     "text": [
      "dictionary[keyA] = valA\n",
      "dictionary[keyB] = valB\n",
      "dictionary[keyC] = valC\n",
      "dictionary[keyD] = valD\n"
     ]
    }
   ],
   "source": [
    "for key, value in ex_dict.items():\n",
    "    print(\"dictionary[{}] = {}\".format(key, value))"
   ]
  },
  {
   "cell_type": "markdown",
   "id": "322f9649-78a2-4476-af0b-8b5c509a8105",
   "metadata": {},
   "source": [
    "## 리스트 내포"
   ]
  },
  {
   "cell_type": "markdown",
   "id": "0885c96e-ec72-4edd-95ea-dc27c12bd6be",
   "metadata": {},
   "source": [
    "- 리스트 안에 for문 사용하기  \n",
    "\n",
    "```\n",
    "리스트변수명 = [표현식 for 반복자 in 반복할 수 있는 것]\n",
    "```\n",
    "\n",
    "range(0, 20, 2)로 0부터 20 사이의 짝수를 구한 뒤, 제곱해서 새로운 리스트 선언"
   ]
  },
  {
   "cell_type": "code",
   "execution_count": 22,
   "id": "4e399878-59b3-4703-b5ed-48704aa4925c",
   "metadata": {},
   "outputs": [
    {
     "data": {
      "text/plain": [
       "[0, 4, 16, 36, 64, 100, 144, 196, 256, 324]"
      ]
     },
     "execution_count": 22,
     "metadata": {},
     "output_type": "execute_result"
    }
   ],
   "source": [
    "arr = [i * i for i in range(0, 20, 2)]\n",
    "arr"
   ]
  },
  {
   "cell_type": "markdown",
   "id": "f731caee-6e10-4e0a-906d-3c5755a46f5c",
   "metadata": {},
   "source": [
    "- 조건을 활용한 리스트 내포\n",
    "\n",
    "```\n",
    "리스트변수명 = [표현식 for 반복자 in 반복할 수 있는 것 if 조건문]\n",
    "```"
   ]
  },
  {
   "cell_type": "code",
   "execution_count": 23,
   "id": "7fb553be-cf8e-4158-850b-827b4ecab6e6",
   "metadata": {},
   "outputs": [
    {
     "data": {
      "text/plain": [
       "['A', 'B', 'D', 'E']"
      ]
     },
     "execution_count": 23,
     "metadata": {},
     "output_type": "execute_result"
    }
   ],
   "source": [
    "arr = [\"A\", \"B\", \"C\", \"D\", \"E\"]\n",
    "output = [alph for alph in arr if alph != \"C\"]\n",
    "output"
   ]
  },
  {
   "cell_type": "markdown",
   "id": "f424ad1e-e961-4ffb-bbe4-9fd5f18606e8",
   "metadata": {},
   "source": [
    "## 구문 내부에 여러 줄 문자열을 사용했을 때의 문제점\n",
    "\n",
    "- if 조건문과 여러 줄 문자열(1)"
   ]
  },
  {
   "cell_type": "code",
   "execution_count": 25,
   "id": "e8917b4f-d267-4fed-afde-0d0365bd9e7d",
   "metadata": {},
   "outputs": [
    {
     "name": "stdout",
     "output_type": "stream",
     "text": [
      "        첫째줄 문자열 입니다.\n",
      "        둘째줄 문자열 입니다.\n"
     ]
    }
   ],
   "source": [
    "number = True\n",
    "if number :\n",
    "    print(\"\"\"\\\n",
    "        첫째줄 문자열 입니다.\n",
    "        둘째줄 문자열 입니다.\"\"\")\n"
   ]
  },
  {
   "cell_type": "markdown",
   "id": "e0054a2d-2919-4cff-9c0a-c8d6a9e285a6",
   "metadata": {},
   "source": [
    "> 예상치 못한 들여쓰기(indent) 발생"
   ]
  },
  {
   "cell_type": "markdown",
   "id": "0bd476a9-0621-4aaf-9f9e-c513d4a61c36",
   "metadata": {},
   "source": [
    "- 괄호로 문자열 연결"
   ]
  },
  {
   "cell_type": "code",
   "execution_count": 27,
   "id": "bda711ed-2a31-442d-b770-a3ffbc500692",
   "metadata": {},
   "outputs": [
    {
     "name": "stdout",
     "output_type": "stream",
     "text": [
      "첫째줄 문자열 입니다.\n",
      "둘째줄 문자열 입니다.\n"
     ]
    }
   ],
   "source": [
    "number = True\n",
    "text = (\n",
    "    \"첫째줄 문자열 입니다.\\n\"\n",
    "    \"둘째줄 문자열 입니다.\")\n",
    "if number :\n",
    "    print(text)"
   ]
  },
  {
   "cell_type": "markdown",
   "id": "b5e5df6b-3708-4b1d-8f02-44dbd780f137",
   "metadata": {},
   "source": [
    "> 나쁘지 않은 방법이지만 `\\n`을 입력하지 않는 실수 발생 가능"
   ]
  },
  {
   "cell_type": "markdown",
   "id": "e23d2239-90d2-489f-8e37-3b10630fa540",
   "metadata": {},
   "source": [
    "- 문자열의 `join()` 함수\n",
    "\n",
    "```\n",
    "문자열.join(문자열로 구성된 리스트)\n",
    "```"
   ]
  },
  {
   "cell_type": "code",
   "execution_count": 33,
   "id": "80dc9d66-37fe-4950-9a2a-7a68afbda9bc",
   "metadata": {},
   "outputs": [
    {
     "name": "stdout",
     "output_type": "stream",
     "text": [
      "1,2,3,4,5\n"
     ]
    }
   ],
   "source": [
    "print(\",\".join([\"1\", \"2\", \"3\", \"4\", \"5\"]))"
   ]
  },
  {
   "cell_type": "code",
   "execution_count": 32,
   "id": "cfa78874-2353-4b65-bd4e-215fdd257ad3",
   "metadata": {},
   "outputs": [
    {
     "name": "stdout",
     "output_type": "stream",
     "text": [
      "1\n",
      "2\n",
      "3\n",
      "4\n",
      "5\n"
     ]
    }
   ],
   "source": [
    "print(\"\\n\".join([\"1\", \"2\", \"3\", \"4\", \"5\"]))"
   ]
  },
  {
   "cell_type": "markdown",
   "id": "15271fe7-455c-4d03-9078-a0d779b4a21d",
   "metadata": {},
   "source": [
    "## 이터레이터 `iterator`\n",
    "\n",
    "- `reversed()` 함수와 이터레이터"
   ]
  },
  {
   "cell_type": "code",
   "execution_count": 34,
   "id": "79daa9ba-cb4e-48ed-8647-e9c65cb0383a",
   "metadata": {},
   "outputs": [
    {
     "data": {
      "text/plain": [
       "<list_reverseiterator at 0x2cec567d460>"
      ]
     },
     "execution_count": 34,
     "metadata": {},
     "output_type": "execute_result"
    }
   ],
   "source": [
    "arr = [1, 2, 3, 4, 5]\n",
    "r_arr = reversed(arr)\n",
    "r_arr"
   ]
  },
  {
   "cell_type": "code",
   "execution_count": 35,
   "id": "9d0e4202-ceee-4f5a-9119-dcef6f604f94",
   "metadata": {},
   "outputs": [
    {
     "data": {
      "text/plain": [
       "5"
      ]
     },
     "execution_count": 35,
     "metadata": {},
     "output_type": "execute_result"
    }
   ],
   "source": [
    "next(r_arr)"
   ]
  },
  {
   "cell_type": "code",
   "execution_count": 36,
   "id": "c3a72c84-ea55-43d5-a1e2-0ce13589b32a",
   "metadata": {},
   "outputs": [
    {
     "data": {
      "text/plain": [
       "4"
      ]
     },
     "execution_count": 36,
     "metadata": {},
     "output_type": "execute_result"
    }
   ],
   "source": [
    "next(r_arr)"
   ]
  },
  {
   "cell_type": "code",
   "execution_count": 37,
   "id": "84e89bac-f5da-4312-b245-5b01875d588a",
   "metadata": {},
   "outputs": [
    {
     "data": {
      "text/plain": [
       "3"
      ]
     },
     "execution_count": 37,
     "metadata": {},
     "output_type": "execute_result"
    }
   ],
   "source": [
    "next(r_arr)"
   ]
  },
  {
   "cell_type": "code",
   "execution_count": 38,
   "id": "03f50676-df7c-4fb7-bc82-dbb44cb85f28",
   "metadata": {},
   "outputs": [
    {
     "data": {
      "text/plain": [
       "2"
      ]
     },
     "execution_count": 38,
     "metadata": {},
     "output_type": "execute_result"
    }
   ],
   "source": [
    "next(r_arr)"
   ]
  },
  {
   "cell_type": "code",
   "execution_count": 39,
   "id": "5d60f842-0897-4f47-abac-8a0a1f6f58d2",
   "metadata": {},
   "outputs": [
    {
     "data": {
      "text/plain": [
       "1"
      ]
     },
     "execution_count": 39,
     "metadata": {},
     "output_type": "execute_result"
    }
   ],
   "source": [
    "next(r_arr)"
   ]
  },
  {
   "cell_type": "code",
   "execution_count": 40,
   "id": "362961ba-2474-492a-b2c0-02d613ca82e1",
   "metadata": {},
   "outputs": [
    {
     "ename": "StopIteration",
     "evalue": "",
     "output_type": "error",
     "traceback": [
      "\u001b[1;31m---------------------------------------------------------------------------\u001b[0m",
      "\u001b[1;31mStopIteration\u001b[0m                             Traceback (most recent call last)",
      "\u001b[1;32m~\\AppData\\Local\\Temp/ipykernel_24968/1410547273.py\u001b[0m in \u001b[0;36m<module>\u001b[1;34m\u001b[0m\n\u001b[1;32m----> 1\u001b[1;33m \u001b[0mnext\u001b[0m\u001b[1;33m(\u001b[0m\u001b[0mr_arr\u001b[0m\u001b[1;33m)\u001b[0m\u001b[1;33m\u001b[0m\u001b[1;33m\u001b[0m\u001b[0m\n\u001b[0m",
      "\u001b[1;31mStopIteration\u001b[0m: "
     ]
    }
   ],
   "source": [
    "next(r_arr)"
   ]
  },
  {
   "cell_type": "markdown",
   "id": "aa0b7ab1-0613-4650-9c81-12b4340c8c0a",
   "metadata": {},
   "source": [
    "`iterator`는 반복문의 매개변수로 전달될 수 있으며, 위의 코드처럼 next() 함수로 내부의 요소를 하나하나 꺼낼 수 있다.  \n",
    "그래서 for반복문의 매개변수에 넣으면 반복할 때마다 내부적으로 next() 함수를 사용해서 요소를 하나하나 꺼내서 사용 할 수 있었던 것.\n",
    "\n",
    "> 왜 reversed() 함수는 리스트를 리턴하지 않고 iterator를 리턴할까?  \n",
    "> 1만개의 요소가 들어있는 리스트를 복제한 뒤 뒤집어서 리턴하는 것보다 기존에 있던 리스트를 활용해 작업하는 것이 훨씬 효율적이라고 판단하기 때문이다.  \n",
    "> 즉, 이는 메모리의 효율성을 위함이다.  "
   ]
  }
 ],
 "metadata": {
  "kernelspec": {
   "display_name": "Python 3 (ipykernel)",
   "language": "python",
   "name": "python3"
  },
  "language_info": {
   "codemirror_mode": {
    "name": "ipython",
    "version": 3
   },
   "file_extension": ".py",
   "mimetype": "text/x-python",
   "name": "python",
   "nbconvert_exporter": "python",
   "pygments_lexer": "ipython3",
   "version": "3.9.6"
  }
 },
 "nbformat": 4,
 "nbformat_minor": 5
}

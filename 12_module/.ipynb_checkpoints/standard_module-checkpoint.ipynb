{
 "cells": [
  {
   "cell_type": "markdown",
   "id": "616794bb-03d5-45b6-830a-a6a2bca44d95",
   "metadata": {},
   "source": [
    "# 표준 모듈\n",
    "\n",
    "- [math 모듈]()\n",
    "- [random 모듈]()\n",
    "- [sys 모듈]()\n",
    "- [datetime 모듈]()\n",
    "- [time 모듈]()\n",
    "- [urllib 모듈]()\n",
    "\n",
    "# math 모듈\n",
    "\n",
    "---\n",
    "\n",
    "math 모듈은 수학과 관련된 기능을 가지고 있다.\n",
    "\n",
    "|변수 또는 함수|설명|\n",
    "|---|---|\n",
    "|sin(x)|사인값을 구한다.|\n",
    "|cos(x)|코사인값을 구한다.|\n",
    "|tan(x)|탄젠트값을 구한다.|\n",
    "|log(x[, base])|로그값을 구한다.|\n",
    "|ceil(x)|올림한다.|\n",
    "|floor(x)|내림한다.|\n",
    "|...|...|"
   ]
  },
  {
   "cell_type": "code",
   "execution_count": 4,
   "id": "7e0f3e4b-23d8-4aa4-952e-c8a398e7b52c",
   "metadata": {},
   "outputs": [
    {
     "name": "stdout",
     "output_type": "stream",
     "text": [
      "math.sin(1) ? 0.8414709848078965\n",
      "math.cos(1) ? 0.5403023058681398\n",
      "math.tan(1) ? 1.5574077246549023\n",
      "math.floor(2.5) ? 2\n",
      "math.ceil(2.5) ? 3\n"
     ]
    }
   ],
   "source": [
    "import math\n",
    "\n",
    "print(f\"math.sin(1) ? {math.sin(1)}\") # 사인\n",
    "print(f\"math.cos(1) ? {math.cos(1)}\") # 코사인\n",
    "print(f\"math.tan(1) ? {math.tan(1)}\") # 탄젠트\n",
    "print(f\"math.floor(2.5) ? {math.floor(2.5)}\") # 내림\n",
    "print(f\"math.ceil(2.5) ? {math.ceil(2.5)}\") # 올림"
   ]
  },
  {
   "cell_type": "markdown",
   "id": "6ed59ec1-edda-4bd4-a3db-a35d15ed3d28",
   "metadata": {
    "tags": []
   },
   "source": [
    "> 잠깐!  round() 반올림 함수에 대한 오해"
   ]
  },
  {
   "cell_type": "code",
   "execution_count": 8,
   "id": "448d030c-5a05-414d-a8b1-7f3aa6185a90",
   "metadata": {},
   "outputs": [
    {
     "name": "stdout",
     "output_type": "stream",
     "text": [
      "round(1.5) ? 2\n",
      "round(2.5) ? 2\n",
      "round(3.5) ? 4\n",
      "round(4.5) ? 4\n"
     ]
    }
   ],
   "source": [
    "print(f'round(1.5) ? {round(1.5)}')\n",
    "print(f'round(2.5) ? {round(2.5)}')\n",
    "print(f'round(3.5) ? {round(3.5)}')\n",
    "print(f'round(4.5) ? {round(4.5)}')"
   ]
  },
  {
   "cell_type": "markdown",
   "id": "2c2ad7a0-856c-4fe0-97d4-16c79971931e",
   "metadata": {},
   "source": [
    "> 위의 코드 결과로 알 수 있듯이 round() 함수는 반올림을 하는 함수임에도 불구하고  \n",
    "> 우리가 알고 있는 반올림과 다르게 작동하고 있다는 것을 알 수 있다.  \n",
    "> 정수 부분이 짝수일 때 소수점이 5라면 내리고, 홀수일 때 소수점이 5라면 올리는 방식이다.  \n",
    "> round()함수가 단순히 반올림한다고 생각하지 말자"
   ]
  },
  {
   "cell_type": "markdown",
   "id": "c1253ab0-d4a0-45b5-a3a1-7f9609a098e3",
   "metadata": {},
   "source": [
    "# random 모듈\n",
    "\n",
    "---\n",
    "\n",
    "random 모듈은 랜덤한 값을 생성할 때 사용되는 모듈이다.\n",
    "\n",
    "|변수 또는 함수|설명|\n",
    "|---|---|\n",
    "|random()|0.0 <= x < 1.0 사이의 float를 리턴한다.|\n",
    "|uniform(min, max)|지정한 범위 사이의 float를 리턴한다.|\n",
    "|randrange()|지정한 범위의 int를 리턴한다.|\n",
    "|randrange(max)|0부터 max 사이의 값을 리턴한다.|\n",
    "|randrange(min, max)|min부터 max 사이의 값을 리턴한다.|\n",
    "|choice(list)|리스트의 요소들을 랜덤하게 선택한다.|\n",
    "|shuffle(list)|리스트의 요소들을 랜덤하게 섞는다.|\n",
    "|sample(list, k=<숫자>)|리스트의 요소 중에 k개를 뽑는다.|\n",
    "|...|...|"
   ]
  },
  {
   "cell_type": "code",
   "execution_count": 9,
   "id": "52a02d22-aad4-434f-8489-df42e2fc4365",
   "metadata": {},
   "outputs": [
    {
     "name": "stdout",
     "output_type": "stream",
     "text": [
      "random.random() ? 0.061869885312180295\n",
      "random.uniform(10, 20) ? 11.511473481265094\n",
      "random.randrange(10) ? 2\n",
      "random.choice([\"A\", \"B\", \"C\", \"D\"]) ? B\n",
      "random.shuffle([\"A\", \"B\", \"C\", \"D\"]) ? None\n",
      "random.sample([\"A\", \"B\", \"C\", \"D\"], k=2) ? ['B', 'D']\n"
     ]
    }
   ],
   "source": [
    "import random\n",
    "\n",
    "print(\"random.random() ?\", random.random())\n",
    "print(\"random.uniform(10, 20) ?\", random.uniform(10, 20))\n",
    "print(\"random.randrange(10) ?\", random.randrange(10))\n",
    "print('random.choice([\"A\", \"B\", \"C\", \"D\"]) ?', random.choice([\"A\", \"B\", \"C\", \"D\"]))\n",
    "print('random.shuffle([\"A\", \"B\", \"C\", \"D\"]) ?', random.shuffle([\"A\", \"B\", \"C\", \"D\"]))\n",
    "print('random.sample([\"A\", \"B\", \"C\", \"D\"], k=2) ?', random.sample([\"A\", \"B\", \"C\", \"D\"], k=2))"
   ]
  },
  {
   "cell_type": "markdown",
   "id": "0c63b4c1-aa56-49a6-a05c-34a4395cba95",
   "metadata": {},
   "source": [
    "# sys 모듈\n",
    "\n",
    "---\n",
    "\n",
    "sys 모듈은 시스템과 관련된 정보를 가지고 있는 모듈이다.\n",
    "\n",
    "|변수 또는 함수|설명|\n",
    "|---|---|\n",
    "|argv|명령 매개변수, 프로그램을 실행할 때 추가로 입력하는 값을 의미|\n",
    "|getwindowsversion()||\n",
    "|copyright||\n",
    "|version||\n",
    "|...|...|"
   ]
  },
  {
   "cell_type": "code",
   "execution_count": 26,
   "id": "55cbab33-2cb6-4ea4-97ca-15a4a188dd27",
   "metadata": {},
   "outputs": [
    {
     "name": "stdout",
     "output_type": "stream",
     "text": [
      "---명령 매개변수 출력---\n",
      "sys.argv ? ['c:\\\\program files\\\\python39\\\\lib\\\\site-packages\\\\ipykernel_launcher.py', '-f', 'C:\\\\Users\\\\dlals\\\\AppData\\\\Roaming\\\\jupyter\\\\runtime\\\\kernel-6c092b44-f337-4151-bf2d-67c020f1c31a.json']\n",
      "\n",
      "---컴퓨터 환경과 관련된 정보 출력---\n",
      "sys.getwindowsversion() ? sys.getwindowsversion(major=10, minor=0, build=19043, platform=2, service_pack='')\n",
      "sys.version ? 3.9.6 (tags/v3.9.6:db3ff76, Jun 28 2021, 15:26:21) [MSC v.1929 64 bit (AMD64)]\n",
      "sys.copyright ?\n",
      "Copyright (c) 2001-2021 Python Software Foundation.\n",
      "All Rights Reserved.\n",
      "\n",
      "Copyright (c) 2000 BeOpen.com.\n",
      "All Rights Reserved.\n",
      "\n",
      "Copyright (c) 1995-2001 Corporation for National Research Initiatives.\n",
      "All Rights Reserved.\n",
      "\n",
      "Copyright (c) 1991-1995 Stichting Mathematisch Centrum, Amsterdam.\n",
      "All Rights Reserved.\n"
     ]
    }
   ],
   "source": [
    "import sys\n",
    "\n",
    "print('---명령 매개변수 출력---')\n",
    "print('sys.argv ?',sys.argv)\n",
    "print('\\n---컴퓨터 환경과 관련된 정보 출력---')\n",
    "print('sys.getwindowsversion() ?', sys.getwindowsversion())\n",
    "print('sys.version ?', sys.version)\n",
    "print('sys.copyright ?', sys.copyright, sep=\"\\n\")"
   ]
  },
  {
   "cell_type": "markdown",
   "id": "a87770c4-5bd0-4ae4-b441-f4426ae1c5a1",
   "metadata": {},
   "source": [
    "# os 모듈\n",
    "\n",
    "---\n",
    "\n",
    "os 모듈은 운영체제와 관련된 기능을 가진 모듈이다.  \n",
    "새로운 폴더를 만들거나 폴더 내부의 파일 목록을 보는 일도 모두 os 모듈을 활용해서 처리한다.\n",
    "\n",
    "|변수 또는 함수|설명|\n",
    "|---|---|\n",
    "|name|현재 운영체제|\n",
    "|getcwd()|현재 폴더|\n",
    "|listdir()|현재 폴더 내부의 요소|\n",
    "|mkdir(폴더명)|폴더를 생성한다.|\n",
    "|rmdir(폴더명)|폴더를 제거한다.(폴더가 비어있을 때만 제거 가능)|\n",
    "|rename(원본파일명, 변경할파일명)|파일 이름을 변경한다.|\n",
    "|remove(파일명)|파일을 제거한다.|\n",
    "|system()|시스템 명령어를 실행한다.|\n",
    "|...|...|"
   ]
  },
  {
   "cell_type": "code",
   "execution_count": 30,
   "id": "1e51c89e-51ac-4517-a476-26968191c6ee",
   "metadata": {},
   "outputs": [
    {
     "name": "stdout",
     "output_type": "stream",
     "text": [
      "현재 운영체제 ? nt\n",
      "현재 폴더 ? C:\\RHIE\\workspaces\\studies-workspace\\Study.Python\\12_module\n",
      "현재 폴더 내부의 요소 ? ['.ipynb_checkpoints', 'README.md', 'standard_module.ipynb']\n"
     ]
    }
   ],
   "source": [
    "import os\n",
    "\n",
    "# 기본 정보 출력\n",
    "print('현재 운영체제 ?', os.name)\n",
    "print('현재 폴더 ?', os.getcwd())\n",
    "print('현재 폴더 내부의 요소 ?', os.listdir())"
   ]
  },
  {
   "cell_type": "code",
   "execution_count": 34,
   "id": "f0c0ea19-0dd4-4568-93d3-d489a140638f",
   "metadata": {},
   "outputs": [],
   "source": [
    "# 폴더를 만들고 제거\n",
    "os.mkdir(\"testDir\")"
   ]
  },
  {
   "cell_type": "code",
   "execution_count": 35,
   "id": "3462029d-245c-47f7-90c1-8afd9aefe51c",
   "metadata": {},
   "outputs": [],
   "source": [
    "os.rmdir(\"testDir\")"
   ]
  },
  {
   "cell_type": "code",
   "execution_count": 46,
   "id": "979785a5-81b0-4f88-b6c3-7898c7798e97",
   "metadata": {},
   "outputs": [],
   "source": [
    "# 파일을 생성하고 파일 이름 변경\n",
    "with open('origin_test.txt', \"w\") as file:\n",
    "    file.write(\"test test\")"
   ]
  },
  {
   "cell_type": "code",
   "execution_count": 47,
   "id": "98f72b9e-caf0-4f2e-b379-9386f76e1a17",
   "metadata": {},
   "outputs": [],
   "source": [
    "os.rename(\"origin_test.txt\", \"renamed_test.txt\")"
   ]
  },
  {
   "cell_type": "code",
   "execution_count": 48,
   "id": "2fe23c29-3b42-4cdd-995a-0db1a6581f40",
   "metadata": {},
   "outputs": [],
   "source": [
    "# 파일 제거\n",
    "os.remove(\"renamed_test.txt\")\n",
    "#os.unlink(\"renamed_test.txt\")"
   ]
  },
  {
   "cell_type": "code",
   "execution_count": 56,
   "id": "3bf0691c-bcf0-4a23-a41e-3c80885db33a",
   "metadata": {},
   "outputs": [
    {
     "data": {
      "text/plain": [
       "0"
      ]
     },
     "execution_count": 56,
     "metadata": {},
     "output_type": "execute_result"
    }
   ],
   "source": [
    "# 시스템 명령어 실행\n",
    "os.system(\"python --version\") # 이 함수는 권한을 따로 관리하지 않으면 보안문제로 문제가 생길수 있어 매우 위함한 함수이다. 적합한 상황에서만 사용하자"
   ]
  },
  {
   "cell_type": "markdown",
   "id": "12995152-fb02-4f63-a031-d77d702b6b75",
   "metadata": {},
   "source": [
    "# datetime 모듈\n",
    "\n",
    "---\n",
    "\n",
    "datetime 모듈은 date(날짜), time(시간)과 관련된 모듈로, 날짜 형식을 만들 때 자주 사용되는 코드들로 구성되어 있다.\n",
    "\n",
    "|변수 또는 함수|설명|\n",
    "|---|---|\n",
    "|datetime.now()|현재 시간 리턴하기|\n",
    "|datetime.now().year|년|\n",
    "|datetime.now().month|월|\n",
    "|datetime.now().day|일|\n",
    "|datetime.now().hour|시|\n",
    "|datetime.now().minute|분|\n",
    "|datetime.now().second|초|\n",
    "|datetime.now().strftime('%Y{} %m{} %d{} %H{} %M{} %S{}').format(*\"년월일시분초\")|날짜시간 형식에 맞춰 출력하기|\n",
    "|timedelta(weeks:int, days:int, hours:int, minutes:int, seconds:int)|특정 날짜 만들기|\n",
    "|datetime.now().replace(key:value)|특정 시간 요소 교체하기|\n",
    "|...|...|"
   ]
  },
  {
   "cell_type": "code",
   "execution_count": 66,
   "id": "f8d37b90-8950-4fb2-a4d6-2630be048725",
   "metadata": {},
   "outputs": [
    {
     "name": "stdout",
     "output_type": "stream",
     "text": [
      "2021 년\n",
      "8 월\n",
      "7 일\n",
      "1 시\n",
      "26 분\n",
      "57 초\n",
      "2021년 08월 07일 01시 26분 57초\n",
      "2021년 08월 15일 02시 27분 58초\n",
      "2022년 09월 07일 01시 26분 57초\n"
     ]
    }
   ],
   "source": [
    "import datetime\n",
    "\n",
    "now = datetime.datetime.now()\n",
    "\n",
    "print(now.year, \"년\")\n",
    "print(now.month, \"월\")\n",
    "print(now.day, \"일\")\n",
    "print(now.hour, \"시\")\n",
    "print(now.minute, \"분\")\n",
    "print(now.second, \"초\")\n",
    "\n",
    "print(now.strftime('%Y{} %m{} %d{} %H{} %M{} %S{}').format(*\"년월일시분초\"))\n",
    "\n",
    "# 현재 날짜시간에 특정 날찌시간 더하기\n",
    "after = now + datetime.timedelta(weeks=1, days=1, hours=1, minutes=1, seconds=1)\n",
    "print(after.strftime('%Y{} %m{} %d{} %H{} %M{} %S{}').format(*\"년월일시분초\"))\n",
    "\n",
    "# 현재 날찌시간 요소 교체하기\n",
    "output = now.replace(year=(now.year + 1), month=(now.month + 1))\n",
    "print(output.strftime('%Y{} %m{} %d{} %H{} %M{} %S{}').format(*\"년월일시분초\"))"
   ]
  },
  {
   "cell_type": "markdown",
   "id": "31d141f0-ac71-4f53-b14e-7753e85e9dd1",
   "metadata": {},
   "source": [
    "# time 모듈\n",
    "\n",
    "---\n",
    "\n",
    "시간과 관련된 기능을 다룰 때 time 모듈을 사용한다.  \n",
    "보통 특정 시간동안 코드 진행을 정지할 때 많이 사용한다."
   ]
  },
  {
   "cell_type": "code",
   "execution_count": 68,
   "id": "dec3de42-9330-4082-8d8b-1f5a16ae61cc",
   "metadata": {},
   "outputs": [
    {
     "name": "stdout",
     "output_type": "stream",
     "text": [
      "5초 동안 정지 시작\n",
      "실행 종료\n"
     ]
    }
   ],
   "source": [
    "import time\n",
    "\n",
    "print('5초 동안 정지 시작')\n",
    "time.sleep(5)\n",
    "print('실행 종료')"
   ]
  },
  {
   "cell_type": "markdown",
   "id": "d536cbb5-5c18-4b8e-9549-0c3d62c9a781",
   "metadata": {},
   "source": [
    "# urllib 모듈\n",
    "\n",
    "---\n",
    "\n",
    "urllib 모듈은 URL을 다루는 라이브러리이다."
   ]
  },
  {
   "cell_type": "code",
   "execution_count": 71,
   "id": "5bf9b218-8a78-4f95-98e4-676a536365b3",
   "metadata": {},
   "outputs": [
    {
     "name": "stdout",
     "output_type": "stream",
     "text": [
      "b'<!doctype html><html itemscope=\"\" itemtype=\"http://schema.org/WebPage\" lang=\"ko\"><head><meta content=\"text/html; charset=UTF-8\" http-equiv=\"Content-Type\"><meta content=\"/images/branding/googleg/1x/googleg_standard_color_128dp.png\" itemprop=\"image\"><title>Google</title><script nonce=\"rW8T0v04EW0q+eGtdNf9Yg==\">(function(){window.google={kEI:\\'CGQNYf-eCpPN-Qatgp24AQ\\',kEXPI:\\'0,772215,1,530320,56873,954,5104,207,1699,3105,2316,383,246,5,1354,5250,6386,1116130,1197718,564,93,12,328880,51224,16114,28684,893,16679,4859,1361,9291,3028,4745,12835,4020,978,13228,3847,4192,6430,7432,7096,4516,2778,919,5081,1593,1279,2212,530,149,1103,840,2196,4102,3513,606,2023,1777,520,14670,3227,2847,5,4774,825,6755,5096,7876,5037,3407,908,2,941,2614,3424,359,9359,3,346,230,6459,149,13975,4,3821,11,1236,5803,4684,1661,353,4067,14308,2658,872,3371,2458,656,30,13628,2305,638,1494,5586,10535,665,2521,3291,2545,992,3102,19,3119,7,907,3,3541,1,14710,1814,283,912,5992,13922,2806,1344,371,2,3037,20,10965,1931,627,905,2377,1680,129,614,1275,1076,3502,2050,1819,5457,1137,1160,1269,17,2109,708,2010,3,293,291,1531,849,2719,4545,3,125,1476,3617,255,1460,87,3088,1049,164,2373,2,6,1698,603,118,395,2000,125,898,1510,338,87,555,51,516,295,358,158,190,569,47,280,86,1,833,629,1055,330,1043,1503,1779,365,181,6,579,273,667,56,2779,68,888,55,1316,299,499,236,758,6,165,223,261,59,18,570,527,452,535,318,378,2,898,14,286,234,26,308,531,4,1560,551,30,5600323,102,124,220,5996868,2800697,882,444,1,2,80,1,1796,1,9,2553,1,748,141,795,563,1,4265,1,1,2,1331,4142,2609,155,17,13,72,139,4,2,20,2,169,13,19,46,5,39,96,548,29,2,2,1,2,1,2,2,7,4,1,2,2,2,2,2,2,353,513,186,1,1,158,3,2,2,2,2,2,4,2,3,3,235,34,10,83,23,50,8,4,2,1,23954542,4041351,338,3,1454,960,1085,1493,470,931,7,625,53\\',kBL:\\'rOg0\\'};google.sn=\\'webhp\\';google.kHL=\\'ko\\';})();(function(){\\nvar f=this||self;var h,k=[];function l(a){for(var b;a&&(!a.getAttribute||!(b=a.getAttribute(\"eid\")));)a=a.parentNode;return b||h}function m(a){for(var b=null;a&&(!a.getAttribute||!(b=a.getAttribute(\"leid\")));)a=a.parentNode;return b}\\nfunction n(a,b,c,d,g){var e=\"\";c||-1!==b.search(\"&ei=\")||(e=\"&ei=\"+l(d),-1===b.search(\"&lei=\")&&(d=m(d))&&(e+=\"&lei=\"+d));d=\"\";!c&&f._cshid&&-1===b.search(\"&cshid=\")&&\"slh\"!==a&&(d=\"&cshid=\"+f._cshid);c=c||\"/\"+(g||\"gen_204\")+\"?atyp=i&ct=\"+a+\"&cad=\"+b+e+\"&zx=\"+Date.now()+d;/^http:/i.test(c)&&\"https:\"===window.location.protocol&&(google.ml&&google.ml(Error(\"a\"),!1,{src:c,glmm:1}),c=\"\");return c};h=google.kEI;google.getEI=l;google.getLEI=m;google.ml=function(){return null};google.log=function(a,b,c,d,g){if(c=n(a,b,c,d,g)){a=new Image;var e=k.length;k[e]=a;a.onerror=a.onload=a.onabort=function(){delete k[e]};a.src=c}};google.logUrl=n;}).call(this);(function(){\\ngoogle.y={};google.sy=[];google.x=function(a,b){if(a)var c=a.id;else{do c=Math.random();while(google.y[c])}google.y[c]=[a,b];return!1};google.sx=function(a){google.sy.push(a)};google.lm=[];google.plm=function(a){google.lm.push.apply(google.lm,a)};google.lq=[];google.load=function(a,b,c){google.lq.push([[a],b,c])};google.loadAll=function(a,b){google.lq.push([a,b])};google.bx=!1;google.lx=function(){};}).call(this);google.f={};(function(){\\ndocument.documentElement.addEventListener(\"submit\",function(b){var a;if(a=b.target){var c=a.getAttribute(\"data-submitfalse\");a=\"1\"==c||\"q\"==c&&!a.elements.q.value?!0:!1}else a=!1;a&&(b.preventDefault(),b.stopPropagation())},!0);document.documentElement.addEventListener(\"click\",function(b){var a;a:{for(a=b.target;a&&a!=document.documentElement;a=a.parentElement)if(\"A\"==a.tagName){a=\"1\"==a.getAttribute(\"data-nohref\");break a}a=!1}a&&b.preventDefault()},!0);}).call(this);</script><style>#gbar,#guser{font-size:13px;padding-top:1px !important;}#gbar{height:22px}#guser{padding-bottom:7px !important;text-align:right}.gbh,.gbd{border-top:1px solid #c9d7f1;font-size:1px}.gbh{height:0;position:absolute;top:24px;width:100%}@media all{.gb1{height:22px;margin-right:.5em;vertical-align:top}#gbar{float:left}}a.gb1,a.gb4{text-decoration:underline !important}a.gb1,a.gb4{color:#00c !important}.gbi .gb4{color:#dd8e27 !important}.gbf .gb4{color:#900 !important}\\n</style><style>body,td,a,p,.h{font-family:&#44404;&#47548;,&#46027;&#50880;,arial,sans-serif}.ko{font-size:9pt}body{margin:0;overflow-y:scroll}#gog{padding:3px 8px 0}td{line-height:.8em}.gac_m td{line-height:17px}form{margin-bottom:20px}.h{color:#1558d6}em{font-weight:bold;font-style:normal}.lst{height:25px;width:496px}.gsfi,.lst{font:18px arial,sans-serif}.gsfs{font:17px arial,sans-serif}.ds{display:inline-box;display:inline-block;margin:3px 0 4px;margin-left:4px}input{font-family:inherit}body{background:#fff;color:#000}a{color:#4b11a8;text-decoration:none}a:hover,a:active{text-decoration:underline}.fl a{color:#1558d6}a:visited{color:#4b11a8}.sblc{padding-top:5px}.sblc a{display:block;margin:2px 0;margin-left:13px;font-size:11px}.lsbb{background:#f8f9fa;border:solid 1px;border-color:#dadce0 #70757a #70757a #dadce0;height:30px}.lsbb{display:block}#WqQANb a{display:inline-block;margin:0 12px}.lsb{background:url(/images/nav_logo229.png) 0 -261px repeat-x;border:none;color:#000;cursor:pointer;height:30px;margin:0;outline:0;font:15px arial,sans-serif;vertical-align:top}.lsb:active{background:#dadce0}.lst:focus{outline:none}.tiah{width:458px}</style><script nonce=\"rW8T0v04EW0q+eGtdNf9Yg==\"></script></head><body bgcolor=\"#fff\"><script nonce=\"rW8T0v04EW0q+eGtdNf9Yg==\">(function(){var src=\\'/images/nav_logo229.png\\';var iesg=false;document.body.onload = function(){window.n && window.n();if (document.images){new Image().src=src;}\\nif (!iesg){document.f&&document.f.q.focus();document.gbqf&&document.gbqf.q.focus();}\\n}\\n})();</script><div id=\"mngb\"><div id=gbar><nobr><b class=gb1>&#44160;&#49353;</b> <a class=gb1 href=\"https://www.google.co.kr/imghp?hl=ko&tab=wi\">&#51060;&#48120;&#51648;</a> <a class=gb1 href=\"https://maps.google.co.kr/maps?hl=ko&tab=wl\">&#51648;&#46020;</a> <a class=gb1 href=\"https://play.google.com/?hl=ko&tab=w8\">Play</a> <a class=gb1 href=\"https://www.youtube.com/?gl=KR&tab=w1\">YouTube</a> <a class=gb1 href=\"https://news.google.com/?tab=wn\">&#45684;&#49828;</a> <a class=gb1 href=\"https://mail.google.com/mail/?tab=wm\">Gmail</a> <a class=gb1 href=\"https://drive.google.com/?tab=wo\">&#46300;&#46972;&#51060;&#48652;</a> <a class=gb1 style=\"text-decoration:none\" href=\"https://www.google.co.kr/intl/ko/about/products?tab=wh\"><u>&#45908;&#48372;&#44592;</u> &raquo;</a></nobr></div><div id=guser width=100%><nobr><span id=gbn class=gbi></span><span id=gbf class=gbf></span><span id=gbe></span><a href=\"http://www.google.co.kr/history/optout?hl=ko\" class=gb4>&#50937; &#44592;&#47197;</a> | <a  href=\"/preferences?hl=ko\" class=gb4>&#49444;&#51221;</a> | <a target=_top id=gb_70 href=\"https://accounts.google.com/ServiceLogin?hl=ko&passive=true&continue=https://www.google.com/&ec=GAZAAQ\" class=gb4>&#47196;&#44536;&#51064;</a></nobr></div><div class=gbh style=left:0></div><div class=gbh style=right:0></div></div><center><br clear=\"all\" id=\"lgpd\"><div id=\"lga\"><img alt=\"Google\" height=\"92\" src=\"/images/branding/googlelogo/1x/googlelogo_white_background_color_272x92dp.png\" style=\"padding:28px 0 14px\" width=\"272\" id=\"hplogo\"><br><br></div><form action=\"/search\" name=\"f\"><table cellpadding=\"0\" cellspacing=\"0\"><tr valign=\"top\"><td width=\"25%\">&nbsp;</td><td align=\"center\" nowrap=\"\"><input name=\"ie\" value=\"ISO-8859-1\" type=\"hidden\"><input value=\"ko\" name=\"hl\" type=\"hidden\"><input name=\"source\" type=\"hidden\" value=\"hp\"><input name=\"biw\" type=\"hidden\"><input name=\"bih\" type=\"hidden\"><div class=\"ds\" style=\"height:32px;margin:4px 0\"><div style=\"position:relative;zoom:1\"><input class=\"lst tiah\" style=\"margin:0;padding:5px 8px 0 6px;vertical-align:top;color:#000;padding-right:38px\" autocomplete=\"off\" value=\"\" title=\"Google &#44160;&#49353;\" maxlength=\"2048\" name=\"q\" size=\"57\"><img src=\"/textinputassistant/tia.png\" style=\"position:absolute;cursor:pointer;right:5px;top:4px;z-index:300\" data-script-url=\"/textinputassistant/11/ko_tia.js\" id=\"tsuid1\" alt=\"\" height=\"23\" width=\"27\"><script nonce=\"rW8T0v04EW0q+eGtdNf9Yg==\">(function(){var id=\\'tsuid1\\';document.getElementById(id).onclick = function(){var s = document.createElement(\\'script\\');s.src = this.getAttribute(\\'data-script-url\\');(document.getElementById(\\'xjsc\\')||document.body).appendChild(s);};})();</script></div></div><br style=\"line-height:0\"><span class=\"ds\"><span class=\"lsbb\"><input class=\"lsb\" value=\"Google &#44160;&#49353;\" name=\"btnG\" type=\"submit\"></span></span><span class=\"ds\"><span class=\"lsbb\"><input class=\"lsb\" id=\"tsuid2\" value=\"I&#8217;m Feeling Lucky\" name=\"btnI\" type=\"submit\"><script nonce=\"rW8T0v04EW0q+eGtdNf9Yg==\">(function(){var id=\\'tsuid2\\';document.getElementById(id).onclick = function(){if (this.form.q.value){this.checked = 1;if (this.form.iflsig)this.form.iflsig.disabled = false;}\\nelse top.location=\\'/doodles/\\';};})();</script><input value=\"AINFCbYAAAAAYQ1yGGdPInD2Qr7WwJ9eQ86X4T6X_E_B\" name=\"iflsig\" type=\"hidden\"></span></span></td><td class=\"fl sblc\" align=\"left\" nowrap=\"\" width=\"25%\"><a href=\"/advanced_search?hl=ko&amp;authuser=0\">&#44256;&#44553;&#44160;&#49353;</a></td></tr></table><input id=\"gbv\" name=\"gbv\" type=\"hidden\" value=\"1\"><script nonce=\"rW8T0v04EW0q+eGtdNf9Yg==\">(function(){\\nvar a,b=\"1\";if(document&&document.getElementById)if(\"undefined\"!=typeof XMLHttpRequest)b=\"2\";else if(\"undefined\"!=typeof ActiveXObject){var c,d,e=[\"MSXML2.XMLHTTP.6.0\",\"MSXML2.XMLHTTP.3.0\",\"MSXML2.XMLHTTP\",\"Microsoft.XMLHTTP\"];for(c=0;d=e[c++];)try{new ActiveXObject(d),b=\"2\"}catch(h){}}a=b;if(\"2\"==a&&-1==location.search.indexOf(\"&gbv=2\")){var f=google.gbvu,g=document.getElementById(\"gbv\");g&&(g.value=a);f&&window.setTimeout(function(){location.href=f},0)};}).call(this);</script></form><div id=\"gac_scont\"></div><div style=\"font-size:83%;min-height:3.5em\"><br></div><span id=\"footer\"><div style=\"font-size:10pt\"><div style=\"margin:19px auto;text-align:center\" id=\"WqQANb\"><a href=\"/intl/ko/ads/\">&#44305;&#44256; &#54532;&#47196;&#44536;&#47016;</a><a href=\"http://www.google.co.kr/intl/ko/services/\">&#48708;&#51592;&#45768;&#49828; &#49556;&#47336;&#49496;</a><a href=\"/intl/ko/about.html\">Google &#51221;&#48372;</a><a href=\"https://www.google.com/setprefdomain?prefdom=KR&amp;prev=https://www.google.co.kr/&amp;sig=K_o33n9Ygty46k2y_tLXxvSRrQUc0%3D\">Google.co.kr</a></div></div><p style=\"font-size:8pt;color:#70757a\">&copy; 2021 - <a href=\"/intl/ko/policies/privacy/\">&#44060;&#51064;&#51221;&#48372;&#52376;&#47532;&#48169;&#52840;</a> - <a href=\"/intl/ko/policies/terms/\">&#50557;&#44288;</a></p></span></center><script nonce=\"rW8T0v04EW0q+eGtdNf9Yg==\">(function(){window.google.cdo={height:757,width:1440};(function(){\\nvar a=window.innerWidth,b=window.innerHeight;if(!a||!b){var c=window.document,d=\"CSS1Compat\"==c.compatMode?c.documentElement:c.body;a=d.clientWidth;b=d.clientHeight}a&&b&&(a!=google.cdo.width||b!=google.cdo.height)&&google.log(\"\",\"\",\"/client_204?&atyp=i&biw=\"+a+\"&bih=\"+b+\"&ei=\"+google.kEI);}).call(this);})();</script> <script nonce=\"rW8T0v04EW0q+eGtdNf9Yg==\">(function(){google.xjs={ck:\\'\\',cs:\\'\\',excm:[]};})();</script>  <script nonce=\"rW8T0v04EW0q+eGtdNf9Yg==\">(function(){var u=\\'/xjs/_/js/k\\\\x3dxjs.hp.en.5DwT0IWhOhI.O/am\\\\x3dAPgEmA/d\\\\x3d1/ed\\\\x3d1/rs\\\\x3dACT90oGgFnWjQDLoo7w9dyAXUIUD-ZmvyA/m\\\\x3dsb_he,d\\';\\nvar e=this||self,f=function(a){return a};var g;var l=function(a,b){this.g=b===h?a:\"\"};l.prototype.toString=function(){return this.g+\"\"};var h={};function m(){var a=u;google.lx=function(){n(a);google.lx=function(){}};google.bx||google.lx()}\\nfunction n(a){google.timers&&google.timers.load&&google.tick&&google.tick(\"load\",\"xjsls\");var b=document;var c=\"SCRIPT\";\"application/xhtml+xml\"===b.contentType&&(c=c.toLowerCase());c=b.createElement(c);if(void 0===g){b=null;var k=e.trustedTypes;if(k&&k.createPolicy){try{b=k.createPolicy(\"goog#html\",{createHTML:f,createScript:f,createScriptURL:f})}catch(p){e.console&&e.console.error(p.message)}g=b}else g=b}a=(b=g)?b.createScriptURL(a):a;a=new l(a,h);c.src=a instanceof l&&a.constructor===l?a.g:\"type_error:TrustedResourceUrl\";var d;a=(c.ownerDocument&&c.ownerDocument.defaultView||window).document;(d=(a=null===(d=a.querySelector)||void 0===d?void 0:d.call(a,\"script[nonce]\"))?a.nonce||a.getAttribute(\"nonce\")||\"\":\"\")&&c.setAttribute(\"nonce\",d);document.body.appendChild(c);google.psa=!0};setTimeout(function(){m()},0);})();(function(){window.google.xjsu=\\'/xjs/_/js/k\\\\x3dxjs.hp.en.5DwT0IWhOhI.O/am\\\\x3dAPgEmA/d\\\\x3d1/ed\\\\x3d1/rs\\\\x3dACT90oGgFnWjQDLoo7w9dyAXUIUD-ZmvyA/m\\\\x3dsb_he,d\\';})();function _DumpException(e){throw e;}\\nfunction _F_installCss(c){}\\n(function(){google.jl={attn:false,blt:\\'none\\',chnk:0,dw:false,emtn:0,end:0,ine:false,lls:\\'default\\',pdt:0,rep:0,sif:false,snet:true,strt:0,ubm:false,uwp:true};})();(function(){var pmc=\\'{\\\\x22d\\\\x22:{},\\\\x22sb_he\\\\x22:{\\\\x22agen\\\\x22:true,\\\\x22cgen\\\\x22:true,\\\\x22client\\\\x22:\\\\x22heirloom-hp\\\\x22,\\\\x22dh\\\\x22:true,\\\\x22dhqt\\\\x22:true,\\\\x22ds\\\\x22:\\\\x22\\\\x22,\\\\x22ffql\\\\x22:\\\\x22ko\\\\x22,\\\\x22fl\\\\x22:true,\\\\x22host\\\\x22:\\\\x22google.com\\\\x22,\\\\x22isbh\\\\x22:28,\\\\x22jsonp\\\\x22:true,\\\\x22msgs\\\\x22:{\\\\x22cibl\\\\x22:\\\\x22&#44160;&#49353;&#50612; &#51648;&#50864;&#44592;\\\\x22,\\\\x22dym\\\\x22:\\\\x22&#51060;&#44163;&#51012; &#52286;&#51004;&#49512;&#45208;&#50836;?\\\\x22,\\\\x22lcky\\\\x22:\\\\x22I&#8217;m Feeling Lucky\\\\x22,\\\\x22lml\\\\x22:\\\\x22&#51088;&#49464;&#55176; &#50508;&#50500;&#48372;&#44592;\\\\x22,\\\\x22oskt\\\\x22:\\\\x22&#51077;&#47141; &#46020;&#44396;\\\\x22,\\\\x22psrc\\\\x22:\\\\x22&#44160;&#49353;&#50612;&#44032; \\\\\\\\u003Ca href\\\\x3d\\\\\\\\\\\\x22/history\\\\\\\\\\\\x22\\\\\\\\u003E&#50937; &#44592;&#47197;\\\\\\\\u003C/a\\\\\\\\u003E&#50640;&#49436; &#49325;&#51228;&#46104;&#50632;&#49845;&#45768;&#45796;.\\\\x22,\\\\x22psrl\\\\x22:\\\\x22&#49325;&#51228;\\\\x22,\\\\x22sbit\\\\x22:\\\\x22&#51060;&#48120;&#51648;&#47196; &#44160;&#49353;\\\\x22,\\\\x22srch\\\\x22:\\\\x22Google &#44160;&#49353;\\\\x22},\\\\x22ovr\\\\x22:{},\\\\x22pq\\\\x22:\\\\x22\\\\x22,\\\\x22refpd\\\\x22:true,\\\\x22refspre\\\\x22:true,\\\\x22rfs\\\\x22:[],\\\\x22sbas\\\\x22:\\\\x220 3px 8px 0 rgba(0,0,0,0.2),0 0 0 1px rgba(0,0,0,0.08)\\\\x22,\\\\x22sbpl\\\\x22:16,\\\\x22sbpr\\\\x22:16,\\\\x22scd\\\\x22:10,\\\\x22stok\\\\x22:\\\\x22mkc-6z9ll31ziaN1SfM9kTZNO-U\\\\x22,\\\\x22uhde\\\\x22:false}}\\';google.pmc=JSON.parse(pmc);})();</script>        </body></html>'\n"
     ]
    }
   ],
   "source": [
    "from urllib import request\n",
    "\n",
    "target = request.urlopen(\"https://google.com\")\n",
    "output = target.read() # binary data로 리턴\n",
    "print(output) "
   ]
  }
 ],
 "metadata": {
  "kernelspec": {
   "display_name": "Python 3 (ipykernel)",
   "language": "python",
   "name": "python3"
  },
  "language_info": {
   "codemirror_mode": {
    "name": "ipython",
    "version": 3
   },
   "file_extension": ".py",
   "mimetype": "text/x-python",
   "name": "python",
   "nbconvert_exporter": "python",
   "pygments_lexer": "ipython3",
   "version": "3.9.6"
  }
 },
 "nbformat": 4,
 "nbformat_minor": 5
}

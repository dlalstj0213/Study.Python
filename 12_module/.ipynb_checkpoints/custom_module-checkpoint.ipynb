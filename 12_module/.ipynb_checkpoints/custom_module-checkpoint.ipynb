{
 "cells": [
  {
   "cell_type": "markdown",
   "id": "8a59a11b-00bf-4361-b1d6-9f21d225b291",
   "metadata": {},
   "source": [
    "# 커스텀 모듈\n",
    "\n",
    "# 모듈 만들기\n",
    "\n",
    "---\n",
    "\n",
    "- [module_basic/main.py](./module_basic/main.py)"
   ]
  },
  {
   "cell_type": "code",
   "execution_count": 2,
   "id": "41133b2e-2ce0-4137-a5a2-ddc4388af21f",
   "metadata": {},
   "outputs": [],
   "source": [
    "PI = 3.141592\n",
    "\n",
    "\n",
    "def number_input():\n",
    "    output = input(\"숫자 입력> \")\n",
    "    return float(output)\n",
    "\n",
    "\n",
    "def get_circumference(radius):\n",
    "    return 2 * PI * radius\n",
    "\n",
    "\n",
    "def get_circle_area(radius):\n",
    "    return PI * radius * radius"
   ]
  },
  {
   "cell_type": "markdown",
   "id": "662ac025-14a6-4dc1-b4fd-8b5300f15416",
   "metadata": {},
   "source": [
    "- [module_basic/test_module.py](./module_basic/test_module.py)"
   ]
  },
  {
   "cell_type": "code",
   "execution_count": 3,
   "id": "d42567f3-185d-46eb-8a24-806f5e713ceb",
   "metadata": {},
   "outputs": [
    {
     "name": "stdin",
     "output_type": "stream",
     "text": [
      "숫자 입력>  5\n"
     ]
    },
    {
     "name": "stdout",
     "output_type": "stream",
     "text": [
      "31.41592\n",
      "78.5398\n"
     ]
    }
   ],
   "source": [
    "import test_module as test\n",
    "\n",
    "radius = test.number_input()\n",
    "print(test.get_circumference(radius))\n",
    "print(test.get_circle_area(radius))"
   ]
  },
  {
   "cell_type": "markdown",
   "id": "f2989584-2e5d-4877-840b-b63f1316b41c",
   "metadata": {},
   "source": [
    "# `__name__` == `\"__main__\"`\n",
    "\n",
    "---\n",
    "\n",
    "## `__name__`"
   ]
  },
  {
   "cell_type": "code",
   "execution_count": 4,
   "id": "2a01a489-8168-4bd7-96b9-25b0eba616ad",
   "metadata": {},
   "outputs": [
    {
     "data": {
      "text/plain": [
       "'__main__'"
      ]
     },
     "execution_count": 4,
     "metadata": {},
     "output_type": "execute_result"
    }
   ],
   "source": [
    "__name__"
   ]
  },
  {
   "cell_type": "markdown",
   "id": "b27d1055-5c93-42f1-97e2-9e1832b0a366",
   "metadata": {},
   "source": [
    "파이썬 코드 내부네서 `__name__`이라는 변수를 사용할 수 있다.  \n",
    "`__name__` 변수 안의 값을 확인해보면 `'__main__'`이라는 값을 확인할 수 있다.  \n",
    "\n",
    "프로그래밍 언어에서 프로그램 진입점을 엔트리 포인트(entry point) 또는 메인(main)이라고 부른다.  \n",
    "그리고 이러한 엔트리 포인트 또는 메인 내부에서의 `__name__` 은 `__main__`이다.\n",
    "\n",
    "- [module_main/main.py](./module_main/main.py)\n",
    "- [module_main/test_module.py](./module_main/test_module.py)"
   ]
  },
  {
   "cell_type": "code",
   "execution_count": 18,
   "id": "03527200-88fe-47cd-a229-93e5a0bbdfaf",
   "metadata": {},
   "outputs": [
    {
     "name": "stdout",
     "output_type": "stream",
     "text": [
      "main.py __name__ :  __main__\n"
     ]
    }
   ],
   "source": [
    "import module_main.test_module\n",
    "\n",
    "print(\"main.py __name__ : \", __name__) #주피터에서는 test_module의 기본 코드 안읽음... Why?? vscode 터미널 정상작동\n",
    "# 아마 주피터에서 해당 py 파일의 캐시(.cpython)를 생성하거나 읽지 못해서 그런것 같음"
   ]
  },
  {
   "cell_type": "markdown",
   "id": "c227a4a7-a4a3-46a8-b8e4-dd29be321b72",
   "metadata": {},
   "source": [
    "실행 결과 엔트리 포인트 파일에서는 `'__main__'`을 출력하지만 모듈 파일에서는 모듈 이름이 출력되는 것을 볼 수 있다."
   ]
  },
  {
   "cell_type": "markdown",
   "id": "7f77d37c-bb9f-4a9a-9bda-c6675705766f",
   "metadata": {},
   "source": [
    "## `__name__` 활용\n",
    "\n",
    "- [module_example/main.py](./module_example/main.py)\n",
    "- [module_example/test_module.py](./module_example/test_module.py)"
   ]
  },
  {
   "cell_type": "code",
   "execution_count": 19,
   "id": "6978df71-95b7-481d-ab34-59cbb423fe0a",
   "metadata": {},
   "outputs": [
    {
     "name": "stdout",
     "output_type": "stream",
     "text": [
      "example: get_circumference(10) ? 62.83184\n",
      "example: get_circle_area(10) ? 314.1592\n"
     ]
    }
   ],
   "source": [
    "# test_module.py\n",
    "\n",
    "PI = 3.141592\n",
    "\n",
    "def number_input():\n",
    "    output = input(\"숫자 입력> \")\n",
    "    return float(output)\n",
    "\n",
    "def get_circumference(radius):\n",
    "    return 2 * PI * radius\n",
    "\n",
    "def get_circle_area(radius):\n",
    "    return PI * radius * radius\n",
    "\n",
    "# 활용 예\n",
    "if __name__ == \"__main__\":\n",
    "    print(\"example: get_circumference(10) ?\", get_circumference(10))\n",
    "    print(\"example: get_circle_area(10) ?\", get_circle_area(10))"
   ]
  },
  {
   "cell_type": "code",
   "execution_count": 21,
   "id": "e1ac41de-9203-43d1-99ed-d246079e0a8a",
   "metadata": {},
   "outputs": [
    {
     "name": "stdin",
     "output_type": "stream",
     "text": [
      "숫자 입력>  5\n"
     ]
    },
    {
     "name": "stdout",
     "output_type": "stream",
     "text": [
      "31.41592\n",
      "78.5398\n"
     ]
    }
   ],
   "source": [
    "import module_example.test_module as test\n",
    "\n",
    "radius = test.number_input()\n",
    "print(test.get_circumference(radius))\n",
    "print(test.get_circle_area(radius))"
   ]
  },
  {
   "cell_type": "markdown",
   "id": "ed08ae84-20ae-47d0-b9d0-8cf2b7edeedf",
   "metadata": {},
   "source": [
    "test_module 모듈을 import 하게 되면 모듈을 읽으면서 print() 의 출력이 발생할 수 있어 if 조건문으로 `__name__`을 활용함"
   ]
  },
  {
   "cell_type": "markdown",
   "id": "85915fcb-9912-4923-b6c9-ff95b7b7db7c",
   "metadata": {},
   "source": [
    "# 패키지 `__init__.py` 파일\n",
    "\n",
    "패키지를 읽을 때 어떤 처리를 수행해야 하거나 패키지 모듈들을 한꺼번에 가져오고 싶을 때가 있다.  \n",
    "그때 패키지 폴더 내부에 `__init__.py` 파일을 만들어 사용한다.\n",
    "\n",
    "패키지를 읽어 들일 때 __init__.py를 가장 먼저 실행한다.  \n",
    "따라서 패키지와 관련된 초기화 처리 등을 할 수 있다.  \n",
    "__init__.py 에서는 __all__ 이라는 이름의 리스트를 만드는데,  \n",
    "이 리스트에 지정한 모듈들이 from <패키지이름> import * 를 할 때 전부 읽어 들인다.\n",
    "\n",
    "- 패키지 `__init__` 예제\n",
    "    - module_package\n",
    "        - `main.py`  [#](./module_package/main.py)\n",
    "        - test_package\n",
    "            - `module_a.py`  [#](./module_package/test_package/module_a.py)\n",
    "            - `module_b.py`  [#](./module_package/test_package/module_b.py)\n",
    "            - `__init__.py`  [#](./module_package/test_package/__init__.py)"
   ]
  },
  {
   "cell_type": "code",
   "execution_count": 32,
   "id": "aea71e24-38d9-4afa-a2f3-c6a650689c1c",
   "metadata": {},
   "outputs": [],
   "source": [
    "# test_package/module_a.py\n",
    "val_a = \"모듈 a의 변수\""
   ]
  },
  {
   "cell_type": "code",
   "execution_count": 31,
   "id": "57593d73-2b62-499e-ae86-05953ff5c404",
   "metadata": {},
   "outputs": [],
   "source": [
    "# test_package/module_b.py\n",
    "val_b = \"모듈 b의 변수\""
   ]
  },
  {
   "cell_type": "code",
   "execution_count": 33,
   "id": "7f92d7c1-b0ea-44ba-b0cd-d9c5612ff38f",
   "metadata": {},
   "outputs": [
    {
     "name": "stdout",
     "output_type": "stream",
     "text": [
      "test_package를 읽어 들였습니다.\n"
     ]
    }
   ],
   "source": [
    "# test_package/__init__.py\n",
    "\n",
    "__all__ = [\"module_a\", \"module_b\"] \n",
    "\n",
    "print(\"test_package를 읽어 들였습니다.\")"
   ]
  },
  {
   "cell_type": "code",
   "execution_count": 34,
   "id": "61092465-88f3-4080-8e04-750fd77d0b07",
   "metadata": {},
   "outputs": [
    {
     "name": "stdout",
     "output_type": "stream",
     "text": [
      "모듈 a의 변수\n",
      "모듈 b의 변수\n"
     ]
    }
   ],
   "source": [
    "# main.py\n",
    "from module_package.test_package import *\n",
    "\n",
    "print(module_a.val_a)\n",
    "print(module_b.val_b)"
   ]
  },
  {
   "cell_type": "code",
   "execution_count": null,
   "id": "ce356df9-bdb1-46d0-86ce-82ae18b37cbf",
   "metadata": {},
   "outputs": [],
   "source": []
  }
 ],
 "metadata": {
  "kernelspec": {
   "display_name": "Python 3 (ipykernel)",
   "language": "python",
   "name": "python3"
  },
  "language_info": {
   "codemirror_mode": {
    "name": "ipython",
    "version": 3
   },
   "file_extension": ".py",
   "mimetype": "text/x-python",
   "name": "python",
   "nbconvert_exporter": "python",
   "pygments_lexer": "ipython3",
   "version": "3.9.6"
  }
 },
 "nbformat": 4,
 "nbformat_minor": 5
}

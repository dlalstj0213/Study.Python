{
 "cells": [
  {
   "cell_type": "markdown",
   "id": "31c36a18-a85d-47b8-a335-6ca27cd19095",
   "metadata": {},
   "source": [
    "# 외부 모듈\n",
    "\n",
    "사이킷-런(scikit-learn), 텐서플로우(Tensorflow), 장고(Django), 플라스크(Flask), 넘파이(NumPy) 등이 대표적인 외부 모듈이다.\n",
    "\n",
    "- [외부 모듈 설치]()\n",
    "- [BeautifulSoup 모듈]()\n",
    "- [Flask 모듈]()\n",
    "    - [Flask 실행 방법 1]()\n",
    "    - [Flask 실행 방법 2]()\n",
    "- [Flask, Beautiful 활용]()\n",
    "- [라이브러리와 프레임워크]()\n",
    "- [함수 데코레이터]()\n",
    "\n",
    "\n",
    "# 외부 모듈 설치\n",
    "\n",
    "---\n",
    "\n",
    "외부 모듈을 설치하기 위해서는 아래와 같이 cmd를 입력해줘야한다.\n",
    "\n",
    "```bash\n",
    "$ pip install 모듈 이름\n",
    "```\n",
    "\n",
    "# BeautifulSoup 모듈\n",
    "\n",
    "---\n",
    "\n",
    "BeautifulSoup은 웹 페이지 분석 모듈이다.\n",
    "\n",
    "설치\n",
    "```\n",
    "pip install beautifulsoup\n",
    "```"
   ]
  },
  {
   "cell_type": "code",
   "execution_count": 4,
   "id": "91a349a5-c767-4d94-b75a-4002a8b07542",
   "metadata": {
    "tags": []
   },
   "outputs": [
    {
     "name": "stdout",
     "output_type": "stream",
     "text": [
      "도시: 서울, 날씨: 구름많음 / 기온 <최저:24> <최고:31>\n",
      "도시: 인천, 날씨: 구름많음 / 기온 <최저:24> <최고:29>\n",
      "도시: 수원, 날씨: 구름많음 / 기온 <최저:24> <최고:32>\n",
      "도시: 파주, 날씨: 구름많음 / 기온 <최저:22> <최고:30>\n",
      "도시: 이천, 날씨: 구름많음 / 기온 <최저:22> <최고:31>\n",
      "도시: 평택, 날씨: 구름많음 / 기온 <최저:23> <최고:31>\n",
      "도시: 춘천, 날씨: 구름많음 / 기온 <최저:22> <최고:31>\n",
      "도시: 원주, 날씨: 구름많음 / 기온 <최저:22> <최고:30>\n",
      "도시: 강릉, 날씨: 구름많고 비 / 기온 <최저:23> <최고:29>\n",
      "도시: 대전, 날씨: 구름많음 / 기온 <최저:24> <최고:32>\n",
      "도시: 세종, 날씨: 구름많음 / 기온 <최저:23> <최고:31>\n",
      "도시: 홍성, 날씨: 구름많음 / 기온 <최저:23> <최고:31>\n",
      "도시: 청주, 날씨: 구름많음 / 기온 <최저:24> <최고:32>\n",
      "도시: 충주, 날씨: 구름많음 / 기온 <최저:22> <최고:30>\n",
      "도시: 영동, 날씨: 구름많음 / 기온 <최저:22> <최고:31>\n",
      "도시: 광주, 날씨: 구름많음 / 기온 <최저:24> <최고:32>\n",
      "도시: 목포, 날씨: 구름많음 / 기온 <최저:25> <최고:31>\n",
      "도시: 여수, 날씨: 구름많음 / 기온 <최저:26> <최고:30>\n",
      "도시: 순천, 날씨: 구름많음 / 기온 <최저:24> <최고:33>\n",
      "도시: 광양, 날씨: 구름많음 / 기온 <최저:25> <최고:31>\n",
      "도시: 나주, 날씨: 구름많음 / 기온 <최저:23> <최고:33>\n",
      "도시: 전주, 날씨: 구름많음 / 기온 <최저:24> <최고:32>\n",
      "도시: 군산, 날씨: 구름많음 / 기온 <최저:24> <최고:31>\n",
      "도시: 정읍, 날씨: 구름많음 / 기온 <최저:23> <최고:31>\n",
      "도시: 남원, 날씨: 구름많음 / 기온 <최저:23> <최고:31>\n",
      "도시: 고창, 날씨: 구름많음 / 기온 <최저:23> <최고:31>\n",
      "도시: 무주, 날씨: 구름많음 / 기온 <최저:22> <최고:30>\n",
      "도시: 부산, 날씨: 구름많음 / 기온 <최저:25> <최고:28>\n",
      "도시: 울산, 날씨: 구름많음 / 기온 <최저:23> <최고:30>\n",
      "도시: 창원, 날씨: 구름많음 / 기온 <최저:24> <최고:30>\n",
      "도시: 진주, 날씨: 구름많음 / 기온 <최저:23> <최고:31>\n",
      "도시: 거창, 날씨: 구름많음 / 기온 <최저:22> <최고:30>\n",
      "도시: 통영, 날씨: 구름많음 / 기온 <최저:25> <최고:29>\n",
      "도시: 대구, 날씨: 구름많음 / 기온 <최저:24> <최고:32>\n",
      "도시: 안동, 날씨: 구름많음 / 기온 <최저:22> <최고:31>\n",
      "도시: 포항, 날씨: 구름많음 / 기온 <최저:24> <최고:30>\n",
      "도시: 경주, 날씨: 구름많음 / 기온 <최저:22> <최고:29>\n",
      "도시: 울진, 날씨: 구름많음 / 기온 <최저:22> <최고:27>\n",
      "도시: 울릉도, 날씨: 구름많음 / 기온 <최저:23> <최고:27>\n",
      "도시: 제주, 날씨: 구름많고 비 / 기온 <최저:26> <최고:31>\n",
      "도시: 서귀포, 날씨: 구름많고 비 / 기온 <최저:25> <최고:30>\n"
     ]
    }
   ],
   "source": [
    "from urllib import request\n",
    "from bs4 import BeautifulSoup\n",
    "\n",
    "# urlopen() 함수로 기상청의 전국 날씨를 읽는다.\n",
    "target = request.urlopen('https://www.weather.go.kr/weather/forecast/mid-term-rss3.jsp?stnId=108')\n",
    "\n",
    "# BeautifulSoup을 사용해 웹 페이지를 분석한다.\n",
    "soup = BeautifulSoup(target, \"html.parser\")\n",
    "\n",
    "# location 태그를 찾는다.\n",
    "for location in soup.select(\"location\"):\n",
    "    print('도시: {}, 날씨: {} / 기온 <최저:{}> <최고:{}>'.format(\n",
    "        location.select_one('city').string,\n",
    "        location.select_one('wf').string,\n",
    "        location.select_one('tmn').string,\n",
    "        location.select_one('tmx').string\n",
    "    ))"
   ]
  },
  {
   "cell_type": "markdown",
   "id": "52ebc552-123c-4e31-84bd-74773d20c0a3",
   "metadata": {},
   "source": [
    "# Flask 모듈\n",
    "\n",
    "---\n",
    "\n",
    "웹 개발 프레임워크로 Django와 Flask가 있는데, Django는 보다 더 다양한 기능을 제공하는 웹 개발 프레임워크이고,  \n",
    "Flask는 작은 기능만을 제공하는 웹 개발 프레임워크이다.\n",
    "\n",
    "설치\n",
    "```bash\n",
    "$ pip install flask\n",
    "```\n",
    "\n",
    "- [flask_test.py](./flask_test.py)"
   ]
  },
  {
   "cell_type": "code",
   "execution_count": 2,
   "id": "e0ab3f26-eb0b-4a77-8ecd-ed4fe0965914",
   "metadata": {},
   "outputs": [],
   "source": [
    "# flask_test.py\n",
    "from flask import Flask\n",
    "app = Flask(__name__)\n",
    "\n",
    "@app.route('/') #데코레이터(decorator)\n",
    "def hello():\n",
    "    return 'Hello'"
   ]
  },
  {
   "cell_type": "markdown",
   "id": "da66ac24-01de-4b0e-8b07-14057de887b7",
   "metadata": {},
   "source": [
    "## Flask 실행 방법 1\n",
    "\n",
    "Flask의 실행 방식은 좀 특이한것 같다.  \n",
    "구글 검색에 블로그나 '혼자 공부하는 파이썬'이라는 책에서는 Flask를 방법을 다음과 같이 실행 시킬 수 있다고 한다.\n",
    "\n",
    "```bash\n",
    "# 명령창, Powershell\n",
    "$ set FLASK_APP=파일이름.py\n",
    "$ flask run\n",
    "```\n",
    "\n",
    "```bash\n",
    "# Mac, Linux\n",
    "$ export FLASK_APP=파일이름.py (맥, 리눅스)\n",
    "$ flask run\n",
    "```\n",
    "\n",
    "하지만 나는 마지막에 `flask run`을 하게 되면 `command not found 에러가 자꾸 떴다.  \n",
    "그래서 스택오버플로우의 글을 통해서 이를 해결했다.  \n",
    "\n",
    "```bash\n",
    "$ set FLASK_APP=flask_test.py\n",
    "$ python -m flask run  # <- 파이썬 커맨드를 활용해 flask run 실행\n",
    " * Serving Flask app 'flask_test.py' (lazy loading)\n",
    " * Environment: production\n",
    " ...\n",
    "```\n",
    "\n",
    "왜 나는 저게 되지 않을까에 대한 글을 계속 찾아보려고 했지만 명확한 글을 아직까지 찾지 못했다.  \n",
    "파이참 IDE로 한 번 더 테스트 해볼 예정이다.\n",
    "\n",
    "## Flask 실행 방법 2\n",
    "\n",
    "방법1과는 다르게 파이썬 스크립트에 코드 한줄을 추가함으로써  \n",
    "파이썬 파일 실행시 자동으로 Flask가 실행되도록 할 수 있다."
   ]
  },
  {
   "cell_type": "code",
   "execution_count": null,
   "id": "724ca40e-0192-4779-a41e-e87a54e7fc2b",
   "metadata": {},
   "outputs": [
    {
     "name": "stdout",
     "output_type": "stream",
     "text": [
      " * Serving Flask app '__main__' (lazy loading)\n",
      " * Environment: production\n",
      "\u001b[31m   WARNING: This is a development server. Do not use it in a production deployment.\u001b[0m\n",
      "\u001b[2m   Use a production WSGI server instead.\u001b[0m\n",
      " * Debug mode: off\n"
     ]
    },
    {
     "name": "stderr",
     "output_type": "stream",
     "text": [
      " * Running on http://127.0.0.1:8282/ (Press CTRL+C to quit)\n"
     ]
    }
   ],
   "source": [
    "# flask_test.py\n",
    "from flask import Flask\n",
    "app = Flask(__name__)\n",
    "\n",
    "@app.route('/') #데코레이터(decorator)\n",
    "def hello():\n",
    "    return 'Hello'\n",
    "\n",
    "if __name__ == \"__main__\":\n",
    "    app.run(port=8282) # <- Flask 실행 (매개변수를 통해서 실행 옵션을 세팅할 수 있다.)"
   ]
  },
  {
   "cell_type": "markdown",
   "id": "fc6e8654-5276-40da-bedf-567407e7c0aa",
   "metadata": {},
   "source": [
    "# Flask, Beautiful 활용\n",
    "\n",
    "---"
   ]
  },
  {
   "cell_type": "code",
   "execution_count": null,
   "id": "be984269-e352-4bba-82aa-df24b6c41f58",
   "metadata": {},
   "outputs": [
    {
     "name": "stdout",
     "output_type": "stream",
     "text": [
      " * Serving Flask app '__main__' (lazy loading)\n",
      " * Environment: production\n",
      "\u001b[31m   WARNING: This is a development server. Do not use it in a production deployment.\u001b[0m\n",
      "\u001b[2m   Use a production WSGI server instead.\u001b[0m\n",
      " * Debug mode: off\n"
     ]
    },
    {
     "name": "stderr",
     "output_type": "stream",
     "text": [
      " * Running on http://127.0.0.1:8282/ (Press CTRL+C to quit)\n",
      "127.0.0.1 - - [07/Aug/2021 17:54:10] \"GET / HTTP/1.1\" 404 -\n",
      "127.0.0.1 - - [07/Aug/2021 17:54:17] \"GET /weather HTTP/1.1\" 200 -\n"
     ]
    }
   ],
   "source": [
    "from flask import Flask\n",
    "from urllib import request\n",
    "from bs4 import BeautifulSoup\n",
    "\n",
    "app = Flask(__name__)\n",
    "@app.route(\"/weather\", methods=['GET']) # Http Method 기본값은 GET 이다.\n",
    "\n",
    "def show_weather():\n",
    "    target = request.urlopen('https://www.weather.go.kr/weather/forecast/mid-term-rss3.jsp?stnId=108')\n",
    "    soup = BeautifulSoup(target, \"html.parser\")\n",
    "    \n",
    "    output = ''\n",
    "    for location in soup.select(\"location\"):\n",
    "        output += f'<h1>{location.select_one(\"city\").string}</h1>'\n",
    "        output += f'<h3>날씨: {location.select_one(\"wf\").string}</h3>'\n",
    "        output += f'<p>최저: {location.select_one(\"tmn\").string}</p>'\n",
    "        output += f'<p>최고: {location.select_one(\"tmx\").string}</p>'\n",
    "        output += '<hr/>'\n",
    "    return output\n",
    "\n",
    "if __name__ == \"__main__\":\n",
    "    app.run(port=8282)"
   ]
  },
  {
   "cell_type": "markdown",
   "id": "b3590307-d632-4471-8cf2-f1a0807004a2",
   "metadata": {},
   "source": [
    "# 라이브러리와 프레임워크\n",
    "\n",
    "---\n",
    "\n",
    "요즘에는 큰 구분 없이 라이브러리와 프레임워크를 사용하지만  \n",
    "가장 큰 구분점은 제어 역전(IoC: Inversion of Control) 여부에 따라 달라진다.\n",
    "\n",
    "|구분|설명|\n",
    "|---|---|\n",
    "|라이브러리(library)|정상적인 제어를 하는 모듈|\n",
    "|프레임워크(framework)|제어 역전이 발생하는 모듈|\n",
    "\n",
    "## 제어 역전\n",
    "\n",
    "제어 역전이란 말그대로 제어가 역전되어 있다는 뜻으로  \n",
    "'역전되지 않은 정상적인 제어'를 알아야 제어 역전을 쉽게 이해할 수 있다.\n",
    "\n",
    "즉, 개발자가 모듈의 함수를 호출하는 것이 일반적인 제어 흐름이라면  \n",
    "개발자가 만든 함수를 모듈이 실행하는 것은 제어가 역전되었다 할 수 있다.  \n",
    "이것이 제어 역전이고 이 여부에 따라 라이브러리와 프레임워크로 구분된다."
   ]
  },
  {
   "cell_type": "markdown",
   "id": "bf63901a-124c-4104-81d6-01c9235140e3",
   "metadata": {},
   "source": [
    "# 함수 데코레이터\n",
    "\n",
    "---\n",
    "\n",
    "파이썬의 데코레이터는 크게 함수 데코레이터와 클래스 데코레이터로 나뉜다.  \n",
    "\n",
    "함수 데코레이터는 함수에 사용되는 데코레이터로 대상 함수의 앞뒤에 꾸밀 부가적인 내용을,  \n",
    "혹은 반복할 내용을 데코레이터로 정의해서 손쉽게 사용할 수 있도록 한 것을 말한다.\n",
    "\n",
    "## 간단한 함수 데코레이터 사용\n",
    "\n",
    "\"hello\"를 출력하는 함수 정의"
   ]
  },
  {
   "cell_type": "code",
   "execution_count": 2,
   "id": "d87fce94-3205-46ef-8e2c-7fe55f741d56",
   "metadata": {},
   "outputs": [],
   "source": [
    "def hello():\n",
    "    print(\"hello\")"
   ]
  },
  {
   "cell_type": "markdown",
   "id": "cca8ea9e-8906-4e98-b191-0a7e81aaee51",
   "metadata": {},
   "source": [
    "\"hello\" 앞에 \"인사가 시작되었습니다.\"를 뒤에 \"인사가 종료되었습니다.\"를 출력하는 예제"
   ]
  },
  {
   "cell_type": "code",
   "execution_count": 3,
   "id": "2804830e-2c96-4f6f-a181-58b7129451d1",
   "metadata": {},
   "outputs": [
    {
     "name": "stdout",
     "output_type": "stream",
     "text": [
      "인사가 시작되었습니다.\n",
      "hello\n",
      "인사가 종료되었습니다.\n"
     ]
    }
   ],
   "source": [
    "# 함수 데코레이터 생성\n",
    "def deco_test(function):\n",
    "    def wrapper():\n",
    "        print(\"인사가 시작되었습니다.\")\n",
    "        function()\n",
    "        print(\"인사가 종료되었습니다.\")\n",
    "    return wrapper\n",
    "\n",
    "# 데코레이터를 붙여 함수 생성\n",
    "\n",
    "@deco_test\n",
    "def hello():\n",
    "    print(\"hello\")\n",
    "    \n",
    "# 함수 호출\n",
    "hello()"
   ]
  },
  {
   "cell_type": "code",
   "execution_count": 33,
   "id": "0fd6e0b1-b508-45b3-8405-494994bbf4f9",
   "metadata": {},
   "outputs": [],
   "source": [
    "from functools import wraps\n",
    "def my_decorator(f):\n",
    "    @wraps(f)\n",
    "    def wrapper(*args, **kwds):\n",
    "        print('wrapper() ? ', args, kwds)\n",
    "        print('wrapper() ? ', type(f))\n",
    "        print('Calling decorated function')\n",
    "        return f(*args, **kwds)\n",
    "    return wrapper\n",
    "\n",
    "@my_decorator\n",
    "def example(*x, **y):\n",
    "    \"\"\"Docstring\"\"\"\n",
    "    print(x, y)\n",
    "    print('Called example function')"
   ]
  },
  {
   "cell_type": "code",
   "execution_count": 34,
   "id": "d75867de-2d20-4f0b-89e2-16cd9c4a78df",
   "metadata": {},
   "outputs": [
    {
     "name": "stdout",
     "output_type": "stream",
     "text": [
      "wrapper() ?  (1, 2, 3, 4) {'b': 5, 'c': 6}\n",
      "wrapper() ?  <class 'function'>\n",
      "Calling decorated function\n",
      "(1, 2, 3, 4) {'b': 5, 'c': 6}\n",
      "Called example function\n"
     ]
    }
   ],
   "source": [
    "example(1, 2, 3, 4, b=5, c=6)"
   ]
  },
  {
   "cell_type": "code",
   "execution_count": 35,
   "id": "7b24e8db-67d1-4d44-aaaa-111bf51a8e75",
   "metadata": {},
   "outputs": [
    {
     "data": {
      "text/plain": [
       "'example'"
      ]
     },
     "execution_count": 35,
     "metadata": {},
     "output_type": "execute_result"
    }
   ],
   "source": [
    "example.__name__"
   ]
  },
  {
   "cell_type": "code",
   "execution_count": 36,
   "id": "73c822cb-7a1a-4bec-a507-708878cfba17",
   "metadata": {},
   "outputs": [
    {
     "data": {
      "text/plain": [
       "'Docstring'"
      ]
     },
     "execution_count": 36,
     "metadata": {},
     "output_type": "execute_result"
    }
   ],
   "source": [
    "example.__doc__"
   ]
  }
 ],
 "metadata": {
  "kernelspec": {
   "display_name": "Python 3 (ipykernel)",
   "language": "python",
   "name": "python3"
  },
  "language_info": {
   "codemirror_mode": {
    "name": "ipython",
    "version": 3
   },
   "file_extension": ".py",
   "mimetype": "text/x-python",
   "name": "python",
   "nbconvert_exporter": "python",
   "pygments_lexer": "ipython3",
   "version": "3.9.6"
  }
 },
 "nbformat": 4,
 "nbformat_minor": 5
}
